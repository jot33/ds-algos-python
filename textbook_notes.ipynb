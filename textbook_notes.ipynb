{
 "cells": [
  {
   "cell_type": "markdown",
   "id": "f4cabed6-723c-4f1f-93ae-13bfcf4826d0",
   "metadata": {},
   "source": [
    "<a id=\"top\"></a>\n",
    "# Data Structures and Algorithms in Python\n",
    "\n",
    "by Goodrich, Tamassia, Goldwasser\n",
    "\n",
    "- [Buy it on Amazon](https://www.amazon.com/Structures-Algorithms-Python-Michael-Goodrich-ebook/dp/B00CTZ290I) or\n",
    "- [Rent from Wiley](https://www.wiley.com/en-us/Data+Structures+and+Algorithms+in+Python-p-9781118549582#companion-sites-section)\n",
    "\n",
    "- [Wiley Source Code Files](https://bcs.wiley.com/he-bcs/Books?action=resource&bcsId=8029&itemId=1118290275&resourceId=31281)\n",
    "- [Wiley Exercise Hints](https://bcs.wiley.com/he-bcs/Books?action=resource&bcsId=8029&itemId=1118290275&resourceId=35782)"
   ]
  },
  {
   "cell_type": "markdown",
   "id": "286cb6b8-41ff-4bd1-8747-4b253ff7192f",
   "metadata": {},
   "source": [
    "<a id=\"toc\"></a>\n",
    "# Table of Contents"
   ]
  },
  {
   "cell_type": "markdown",
   "id": "2ebe71f3",
   "metadata": {},
   "source": [
    "<ol>\n",
    "    <li type=1>\n",
    "        <a href=\"#1\">Python Primer</a>\n",
    "        <ol>\n",
    "            <li type=1>\n",
    "                <a href=\"#1.1\">Python Overview</a> &check;\n",
    "            </li>\n",
    "            <li type=1>\n",
    "                <a href=\"#1.2\">Object in Python</a> &check;\n",
    "            </li>\n",
    "            <li type=1>\n",
    "                <a href=\"#1.3\">Expressions, Operators, and Precedence</a> &check;\n",
    "            </li>\n",
    "            <li type=1>\n",
    "                <a href=\"#1.4\">Control Flow</a> &check;\n",
    "            </li>\n",
    "            <li type=1>\n",
    "                <a href=\"#1.5\">Functions</a> &check;\n",
    "            </li>\n",
    "            <li type=1>\n",
    "                <a href=\"#1.6\">Simple I/O</a> &check;\n",
    "            </li>\n",
    "            <li type=1>\n",
    "                <a href=\"#1.7\">Exception Handling</a> &check;\n",
    "            </li>\n",
    "            <li type=1>\n",
    "                <a href=\"#1.8\">Iterators and Generators</a> &check;\n",
    "            </li>\n",
    "            <li type=1>\n",
    "                <a href=\"#1.9\">Additional Python Conveniences</a> &check;\n",
    "            </li>\n",
    "            <li type=1>\n",
    "                <a href=\"#1.10\">Scopes and Namespaces</a> &check;\n",
    "            </li>\n",
    "            <li type=1>\n",
    "                <a href=\"#1.11\">Modules and the Import Statement</a> &check;\n",
    "            </li>\n",
    "            <li type=1>\n",
    "                <a href=\"#1.12\">Exercises</a>\n",
    "            </li>\n",
    "        </ol>\n",
    "    </li>\n",
    "    <li type=1>\n",
    "        <a href=\"#2\">Object-Oriented Programming</a>\n",
    "        <ol>\n",
    "            <li type=1>\n",
    "                <a href=\"#2.1\">Goals, Principles, and Patterns</a> &check;\n",
    "            </li>\n",
    "            <li type=1>\n",
    "                <a href=\"#2.2\">Software Development</a> &check;\n",
    "            </li>\n",
    "            <li type=1>\n",
    "                <a href=\"#2.3\">Class Definitions</a> &check;\n",
    "            </li>\n",
    "            <li type=1>\n",
    "                <a href=\"#2.4\">Inheritance</a> &check;\n",
    "            </li>\n",
    "            <li type=1>\n",
    "                <a href=\"#2.5\">Namespaces and Object-Orientation</a> &check;\n",
    "            </li>\n",
    "            <li type=1>\n",
    "                <a href=\"#2.6\">Shallow and Deep Copying</a> &check;\n",
    "            </li>\n",
    "            <li type=1>\n",
    "                <a href=\"#2.7\">Exercises</a>\n",
    "            </li>\n",
    "        </ol>\n",
    "    </li>\n",
    "    <li type=1>\n",
    "        <a href=\"#3\">Algorithm Analysis</a>\n",
    "        <ol>\n",
    "            <li type=1>\n",
    "                <a href=\"#3.1\">Experimental Studies</a> &check;\n",
    "            </li>\n",
    "            <li type=1>\n",
    "                <a href=\"#3.2\">The 7 Functions Used in This Book</a> &check;\n",
    "            </li>\n",
    "            <li type=1>\n",
    "                <a href=\"#3.3\">Asymptotic Analysis</a> &check;\n",
    "            </li>\n",
    "            <li type=1>\n",
    "                <a href=\"#3.4\">Simple Justification Techniques</a> &check;\n",
    "            </li>\n",
    "            <li type=1>\n",
    "                <a href=\"#3.5\">Exercises</a>\n",
    "            </li>\n",
    "        </ol>\n",
    "    </li>\n",
    "    <li type=1>\n",
    "        <a href=\"#4\">Recursion</a>\n",
    "        <ol>\n",
    "            <li type=1>\n",
    "                <a href=\"#4.1\">Illustrative Examples</a> &check;\n",
    "            </li>\n",
    "            <li type=1>\n",
    "                <a href=\"#4.2\">Analyzing Recursive Algorithms</a> &check;\n",
    "            </li>\n",
    "            <li type=1>\n",
    "                <a href=\"#4.3\">Recursion Run Amok</a> &check;\n",
    "            </li>\n",
    "            <li type=1>\n",
    "                <a href=\"#4.4\">Further Examples of Recursion</a> &check;\n",
    "            </li>\n",
    "            <li type=1>\n",
    "                <a href=\"#4.5\">Designing Recursive Algorithms</a> &check;\n",
    "            </li>\n",
    "            <li type=1>\n",
    "                <a href=\"#4.6\">Eliminating Tail Recursion</a> &check;\n",
    "            </li>\n",
    "            <li type=1>\n",
    "                <a href=\"#4.7\">Exercises</a>\n",
    "            </li>\n",
    "        </ol>\n",
    "    </li>\n",
    "    <li type=1>\n",
    "        <a href=\"#5\">Array-Based Sequences</a>\n",
    "        <ol>\n",
    "            <li type=1>\n",
    "                <a href=\"#5.1\">Python's Sequence Types</a>\n",
    "            </li>\n",
    "            <li type=1>\n",
    "                <a href=\"#5.2\">Low-Level Arrays</a>\n",
    "            </li>\n",
    "            <li type=1>\n",
    "                <a href=\"#5.3\">Dynamic Arrays and Amortization</a>\n",
    "            </li>\n",
    "            <li type=1>\n",
    "                <a href=\"#5.4\">Efficiency of Python's Sequence Types</a>\n",
    "            </li>\n",
    "            <li type=1>\n",
    "                <a href=\"#5.5\">Using Array-Based Sequences</a>\n",
    "            </li>\n",
    "            <li type=1>\n",
    "                <a href=\"#5.6\">Multidimensional Data Sets</a>\n",
    "            </li>\n",
    "            <li type=1>\n",
    "                <a href=\"#5.7\">Exercises</a>\n",
    "            </li>\n",
    "        </ol>\n",
    "    </li>\n",
    "    <li type=1>\n",
    "        <a href=\"#6\">Stacks, Queues, and Deques</a>\n",
    "        <ol>\n",
    "            <li type=1>\n",
    "                <a href=\"#6.1\">Stacks</a>\n",
    "            </li>\n",
    "            <li type=1>\n",
    "                <a href=\"#6.2\">Queues</a>\n",
    "            </li>\n",
    "            <li type=1>\n",
    "                <a href=\"#6.3\">Double-Ended Queues</a>\n",
    "            </li>\n",
    "            <li type=1>\n",
    "                <a href=\"#6.4\">Exercises</a>\n",
    "            </li>\n",
    "        </ol>\n",
    "    </li>\n",
    "    <li type=1>\n",
    "        <a href=\"#7\">Linked Lists</a>\n",
    "        <ol>\n",
    "            <li type=1>\n",
    "                <a href=\"#7.1\">Singly Linked Lists</a>\n",
    "            </li>\n",
    "            <li type=1>\n",
    "                <a href=\"#7.2\">Circularly Linked Lists</a>\n",
    "            </li>\n",
    "            <li type=1>\n",
    "                <a href=\"#7.3\">Doubly Linked Lists</a>\n",
    "            </li>\n",
    "            <li type=1>\n",
    "                <a href=\"#7.4\">The Positional List ADT</a>\n",
    "            </li>\n",
    "            <li type=1>\n",
    "                <a href=\"#7.5\">Sorting a Positional List</a>\n",
    "            </li>\n",
    "            <li type=1>\n",
    "                <a href=\"#7.6\">Case Study: Maintaining Access Frequencies</a>\n",
    "            </li>\n",
    "            <li type=1>\n",
    "                <a href=\"#7.7\">Exercises</a>\n",
    "            </li>\n",
    "        </ol>\n",
    "    </li>\n",
    "    <li type=1>\n",
    "        <a href=\"#8\">Trees</a>\n",
    "        <ol>\n",
    "            <li type=1>\n",
    "                <a href=\"#8.1\">General Trees</a>\n",
    "            </li>\n",
    "            <li type=1>\n",
    "                <a href=\"#8.2\">Binary Trees</a>\n",
    "            </li>\n",
    "            <li type=1>\n",
    "                <a href=\"#8.3\">Implementing Trees</a>\n",
    "            </li>\n",
    "            <li type=1>\n",
    "                <a href=\"#8.4\">Tree Traversal Algorithms</a>\n",
    "            </li>\n",
    "            <li type=1>\n",
    "                <a href=\"#8.5\">Case Study: An Expression Tree</a>\n",
    "            </li>\n",
    "            <li type=1>\n",
    "                <a href=\"#8.6\">Exercises</a>\n",
    "            </li>\n",
    "        </ol>\n",
    "    </li>\n",
    "    <li type=1>\n",
    "        <a href=\"#9\">Priority Queues</a>\n",
    "        <ol>\n",
    "            <li type=1>\n",
    "                <a href=\"#9.1\">The Priority Queue Abstract Data Type</a>\n",
    "            </li>\n",
    "            <li type=1>\n",
    "                <a href=\"#9.2\">Implementing a Priority Queue</a>\n",
    "            </li>\n",
    "            <li type=1>\n",
    "                <a href=\"#9.3\">Heaps</a>\n",
    "            </li>\n",
    "            <li type=1>\n",
    "                <a href=\"#9.4\">Sorting with a Priority Queue</a>\n",
    "            </li>\n",
    "            <li type=1>\n",
    "                <a href=\"#9.5\">Adaptable Priority Queues</a>\n",
    "            </li>\n",
    "            <li type=1>\n",
    "                <a href=\"#9.6\">Exercises</a>\n",
    "            </li>\n",
    "        </ol>\n",
    "    </li>\n",
    "    <li type=1>\n",
    "        <a href=\"#10\">Maps, Hash Tables, and Skip Lists</a>\n",
    "        <ol>\n",
    "            <li type=1>\n",
    "                <a href=\"#10.1\">Maps and Dictionaries</a>\n",
    "            </li>\n",
    "            <li type=1>\n",
    "                <a href=\"#10.2\">Hash Tables</a>\n",
    "            </li>\n",
    "            <li type=1>\n",
    "                <a href=\"#10.3\">Sorted Maps</a>\n",
    "            </li>\n",
    "            <li type=1>\n",
    "                <a href=\"#10.4\">Skip Lists</a>\n",
    "            </li>\n",
    "            <li type=1>\n",
    "                <a href=\"#10.5\">Sets, Multisets, and Multimaps</a>\n",
    "            </li>\n",
    "            <li type=1>\n",
    "                <a href=\"#10.6\">Exercises</a>\n",
    "            </li>\n",
    "        </ol>\n",
    "    </li>\n",
    "    <li type=1>\n",
    "        <a href=\"#11\">Search Trees</a>\n",
    "        <ol>\n",
    "            <li type=1>\n",
    "                <a href=\"#11.1\">Binary Search Trees</a>\n",
    "            </li>\n",
    "            <li type=1>\n",
    "                <a href=\"#11.2\">AVL Trees</a>\n",
    "            </li>\n",
    "            <li type=1>\n",
    "                <a href=\"#11.3\">Splay Trees</a>\n",
    "            </li>\n",
    "            <li type=1>\n",
    "                <a href=\"#11.4\">(2,4) Trees</a>\n",
    "            </li>\n",
    "            <li type=1>\n",
    "                <a href=\"#11.5\">Red-Black Trees</a>\n",
    "            </li>\n",
    "            <li type=1>\n",
    "                <a href=\"#11.6\">Exercises</a>\n",
    "            </li>\n",
    "        </ol>\n",
    "    </li>\n",
    "    <li type=1>\n",
    "        <a href=\"#12\">Sorting and Selection</a>\n",
    "        <ol>\n",
    "            <li type=1>\n",
    "                <a href=\"#12.1\">Why Study Sorting Algorithms?</a>\n",
    "            </li>\n",
    "            <li type=1>\n",
    "                <a href=\"#12.2\">Merge Sort</a>\n",
    "            </li>\n",
    "            <li type=1>\n",
    "                <a href=\"#12.3\">Quick Sort</a>\n",
    "            </li>\n",
    "            <li type=1>\n",
    "                <a href=\"#12.4\">Studying Sorting through an Algorithmic Lens</a>\n",
    "            </li>\n",
    "            <li type=1>\n",
    "                <a href=\"#12.5\">Comparing Sorting Algorithms</a>\n",
    "            </li>\n",
    "            <li type=1>\n",
    "                <a href=\"#12.6\">Python's Built-In Sorting Functions</a>\n",
    "            </li>\n",
    "            <li type=1>\n",
    "                <a href=\"#12.7\">Selection</a>\n",
    "            </li>\n",
    "            <li type=1>\n",
    "                <a href=\"#12.8\">Exercises</a>\n",
    "            </li>\n",
    "        </ol>\n",
    "    </li>\n",
    "    <li type=1>\n",
    "        <a href=\"#13\">Text Processing</a>\n",
    "        <ol>\n",
    "            <li type=1>\n",
    "                <a href=\"#13.1\">Abundance of Digitized Text</a>\n",
    "            </li>\n",
    "            <li type=1>\n",
    "                <a href=\"#13.2\">Pattern-Matching Algorithms</a>\n",
    "            </li>\n",
    "            <li type=1>\n",
    "                <a href=\"#13.3\">Dynamic Programming</a>\n",
    "            </li>\n",
    "            <li type=1>\n",
    "                <a href=\"#13.4\">Text Compression and the Greedy Method</a>\n",
    "            </li>\n",
    "            <li type=1>\n",
    "                <a href=\"#13.5\">Tries</a>\n",
    "            </li>\n",
    "            <li type=1>\n",
    "                <a href=\"#13.6\">Exercises</a>\n",
    "            </li>\n",
    "        </ol>\n",
    "    </li>\n",
    "    <li type=1>\n",
    "        <a href=\"#14\">Graph Algorithms</a>\n",
    "        <ol>\n",
    "            <li type=1>\n",
    "                <a href=\"#14.1\">Graphs</a>\n",
    "            </li>\n",
    "            <li type=1>\n",
    "                <a href=\"#14.2\">Data Structures for Graphs</a>\n",
    "            </li>\n",
    "            <li type=1>\n",
    "                <a href=\"#14.3\">Graph Traversals</a>\n",
    "            </li>\n",
    "            <li type=1>\n",
    "                <a href=\"#14.4\">Transitive Closure</a>\n",
    "            </li>\n",
    "            <li type=1>\n",
    "                <a href=\"#14.5\">Directed Acyclic Graphs</a>\n",
    "            </li>\n",
    "            <li type=1>\n",
    "                <a href=\"#14.6\">Shortest Paths</a>\n",
    "            </li>\n",
    "            <li type=1>\n",
    "                <a href=\"#14.7\">Minimum Spanning Trees</a>\n",
    "            </li>\n",
    "            <li type=1>\n",
    "                <a href=\"#14.8\">Exercises</a>\n",
    "            </li>\n",
    "        </ol>\n",
    "    </li>\n",
    "    <li type=1>\n",
    "        <a href=\"#15\">Memory Management and B-Trees</a>\n",
    "        <ol>\n",
    "            <li type=1>\n",
    "                <a href=\"#15.1\">Memory Management</a>\n",
    "            </li>\n",
    "            <li type=1>\n",
    "                <a href=\"#15.2\">Memory Hierachies and Caching</a>\n",
    "            </li>\n",
    "            <li type=1>\n",
    "                <a href=\"#15.3\">External Searching and B-Trees</a>\n",
    "            </li>\n",
    "            <li type=1>\n",
    "                <a href=\"#15.4\">External-Memory Sorting</a>\n",
    "            </li>\n",
    "            <li type=1>\n",
    "                <a href=\"#15.5\">Exercises</a>\n",
    "            </li>\n",
    "        </ol>\n",
    "    </li>\n",
    "</ol>"
   ]
  },
  {
   "cell_type": "markdown",
   "id": "aaa2f54c",
   "metadata": {},
   "source": [
    "<a id=\"1\"></a>\n",
    "# 1 Python Primer\n",
    "\n",
    "<a href=\"#toc\">Table of Contents</a>"
   ]
  },
  {
   "cell_type": "markdown",
   "id": "fe7b4137",
   "metadata": {},
   "source": [
    "<a id=\"1.1\"></a>\n",
    "## 1.1 Python Overview\n",
    "\n",
    "<a href=\"#toc\">Table of Contents</a>"
   ]
  },
  {
   "cell_type": "markdown",
   "id": "3931573c",
   "metadata": {},
   "source": [
    "- python is ***interpreter***\n",
    "    - converts language to machine code line by line (uses less memory, but slower)\n",
    "- C++, Java are use ***compilers***\n",
    "    - compiles whole program first, then executes\n",
    "    - more memory, faster\n",
    "- interactive mode\n",
    "    - in command line `python -i example.py`\n",
    "- Python download includes IDE `IDLE`"
   ]
  },
  {
   "cell_type": "markdown",
   "id": "3f72fd54",
   "metadata": {},
   "source": [
    "- conclude commands on another line with `\\`\n",
    "    - or if open deliminter such as `{` not yet closed"
   ]
  },
  {
   "cell_type": "code",
   "execution_count": 1,
   "id": "24bd4a2d",
   "metadata": {},
   "outputs": [
    {
     "name": "stdout",
     "output_type": "stream",
     "text": [
      "hello\n",
      "{1, 2, 3, 4}\n"
     ]
    }
   ],
   "source": [
    "print\\\n",
    "    ('hello')\n",
    "set1 = {1,2,\n",
    "        3,4}\n",
    "print(\n",
    "    set1\n",
    ")"
   ]
  },
  {
   "cell_type": "markdown",
   "id": "320d1e37",
   "metadata": {},
   "source": [
    "<a id=\"1.2\"></a>\n",
    "## 1.2 Object in Python\n",
    "\n",
    "<a href=\"#toc\">Table of Contents</a>"
   ]
  },
  {
   "cell_type": "markdown",
   "id": "5e73b0c8",
   "metadata": {},
   "source": [
    "- ***assignment statements*** use syntax:\n",
    "    - `identifier = object`\n",
    "    - ***identifier*** aka ***name***\n",
    "    "
   ]
  },
  {
   "cell_type": "markdown",
   "id": "27e9610d",
   "metadata": {},
   "source": [
    "- ***identifiers***\n",
    "    - case-sensitive\n",
    "    - **cannot**\n",
    "        1. start with number\n",
    "        2. contain `-`\n",
    "        3. use reserved words"
   ]
  },
  {
   "cell_type": "code",
   "execution_count": 2,
   "id": "58b47d83",
   "metadata": {},
   "outputs": [],
   "source": [
    "# 1test = 3 #  invalid case 1\n",
    "# test-1 = 3 # invalid case 2\n",
    "# except = 3 # invalid case 3"
   ]
  },
  {
   "cell_type": "markdown",
   "id": "3a57e519",
   "metadata": {},
   "source": [
    "- ***alias***\n",
    "    - assigning another ***identifier*** to same object\n",
    "    - reassigning is also a form of aliasing\n",
    "        - right-hand side is evaluated before assignment"
   ]
  },
  {
   "cell_type": "code",
   "execution_count": 3,
   "id": "2c7ab37e",
   "metadata": {},
   "outputs": [
    {
     "name": "stdout",
     "output_type": "stream",
     "text": [
      "0x17ce0719b60 {1, 2, 3, 4}\n",
      "0x17ce0719b60 {1, 2, 3, 4}\n",
      "0x17ce0719b60 set()\n",
      "0x17ce0719b60 set()\n",
      "0x17ce0719fc0 {1}\n",
      "0x17ce0719b60 set()\n"
     ]
    }
   ],
   "source": [
    "a = {1,2,3,4}\n",
    "b = a\n",
    "print(hex(id(a)),a) # memory id, value\n",
    "print(hex(id(b)),b)\n",
    "b.clear() # clears object\n",
    "# method returning a copy would reassign memory obj\n",
    "print(hex(id(a)),a)\n",
    "print(hex(id(b)),b)\n",
    "a = {1}\n",
    "print(hex(id(a)),a)\n",
    "print(hex(id(b)),b)\n"
   ]
  },
  {
   "cell_type": "markdown",
   "id": "4a2eae80",
   "metadata": {},
   "source": [
    "- ***instantiation*** = creating new instance of a class\n",
    "    - Instantiating will invoke the ***constructor***"
   ]
  },
  {
   "cell_type": "code",
   "execution_count": 4,
   "id": "3c4aa519",
   "metadata": {},
   "outputs": [
    {
     "name": "stdout",
     "output_type": "stream",
     "text": [
      "('hi',)\n",
      "newword\n",
      "okay\n"
     ]
    }
   ],
   "source": [
    "# MyClass is the class name\n",
    "class MyClass:\n",
    "\n",
    "    def __init__(self, *word):\n",
    "        self.word = word\n",
    "\n",
    "    def setword(self,word):\n",
    "        self.word = word\n",
    "\n",
    "    def printword(self):\n",
    "        print(self.word)\n",
    "\n",
    "# MyClass() is an empty constructor\n",
    "# Myclass(word) is a constructor req parameters\n",
    "m1 = MyClass('hi')\n",
    "m1.printword()\n",
    "m1.setword('newword')\n",
    "m1.printword()\n",
    "m2 = MyClass()\n",
    "m2.setword('okay')\n",
    "m2.printword()"
   ]
  },
  {
   "cell_type": "markdown",
   "id": "99005055",
   "metadata": {},
   "source": [
    "- ***literal*** instances are created from ***built-in*** classes\n",
    "    - `temp = 98.6` is a literal an instance of `float` class\n",
    "- methods defined with `def` and called with `()`\n",
    "    - `def myfun():`\n",
    "    - `myfun()`\n",
    "    - methods within a class called on instance with `.`\n",
    "        - `MyClass.printword()`\n",
    "    - left of dot is object on which function(method) operates\n",
    "- **Two Types of Methods**\n",
    "    - ***Accessor*** - returns information about state of object, but **doesn't change object state**\n",
    "        - example: `str.strip()` *returns* a copy\n",
    "    - ***Mutator (aka update method)*** - These methods ***will change object state***\n",
    "        - example: `set.clear()` clears object set"
   ]
  },
  {
   "cell_type": "code",
   "execution_count": 5,
   "id": "7f8f1487",
   "metadata": {},
   "outputs": [
    {
     "name": "stdout",
     "output_type": "stream",
     "text": [
      "hi |     hi    \n",
      "{1, 2}\n",
      "set()\n"
     ]
    }
   ],
   "source": [
    "str1 = '    hi    '\n",
    "print(str1.strip(),'|',str1)\n",
    "set1 = {1,2}\n",
    "print(set1)\n",
    "set1.clear()\n",
    "print(set1)"
   ]
  },
  {
   "cell_type": "markdown",
   "id": "393fa5b9",
   "metadata": {},
   "source": [
    "- ***immutable class*** - instance of class ***cannot be changed***\n",
    "\n",
    "| Class | Description | Immutable? |\n",
    "| --- | --- | --- |\n",
    "| `bool` | Boolean val | y |\n",
    "| `int` | integer | y |\n",
    "| ` float` | floating-point num | y |\n",
    "| `list` | mutable sequence of obj | n |\n",
    "| `tuple` | immutable sequence of obj | y |\n",
    "| `str` | char string | y |\n",
    "| `set` | unordered set of distinct objects | n |\n",
    "| `frozenset` | immutable form of set | y |\n",
    "| `dict` | associative mapping  | n |"
   ]
  },
  {
   "cell_type": "markdown",
   "id": "3a58f4c0",
   "metadata": {},
   "source": [
    "- `int` class\n",
    "    - python chooses internal representation of integer\n",
    "    - `int` has no memory limit\n",
    "    - Java, C++ have various representations `int`, `long`, `short`\n",
    "- binary, octal, and hexadecimal can be represented using prefix:\n",
    "    - `0b` = binary\n",
    "    - `0o` = octal\n",
    "    - `0x` = hexadecimal\n",
    "- `int()` constructor casts int or returns `ValueError`"
   ]
  },
  {
   "cell_type": "code",
   "execution_count": 6,
   "id": "614fa415",
   "metadata": {},
   "outputs": [
    {
     "name": "stdout",
     "output_type": "stream",
     "text": [
      "<class 'int'> 13\n",
      "<class 'int'> 243\n",
      "<class 'int'> 465\n",
      "92\n",
      "ValueError\n"
     ]
    }
   ],
   "source": [
    "intlist = [0b1101, 0xF3, 0o721]\n",
    "for i in intlist:\n",
    "    print(type(i),i)\n",
    "print(int('92'))\n",
    "try:\n",
    "    print(int('test'))\n",
    "except ValueError:\n",
    "    print('ValueError')"
   ]
  },
  {
   "cell_type": "markdown",
   "id": "2dea4804",
   "metadata": {},
   "source": [
    "- `float` class\n",
    "    - similar to `double` in Java or C++\n",
    "    - use `e` to represent $10^n$\n",
    "- similary cast or get `ValueError` with `float()`"
   ]
  },
  {
   "cell_type": "code",
   "execution_count": 7,
   "id": "4ca8e71a",
   "metadata": {},
   "outputs": [
    {
     "name": "stdout",
     "output_type": "stream",
     "text": [
      "300.0\n"
     ]
    }
   ],
   "source": [
    "a = 3e2 # 3*10^2\n",
    "print(a)"
   ]
  },
  {
   "cell_type": "markdown",
   "id": "30ea8184",
   "metadata": {},
   "source": [
    "- [String formatting with modulo operators](https://realpython.com/python-modulo-string-formatting/)\n",
    "- [String format with built-in `format` method](https://www.w3schools.com/python/python_strings_format.asp)"
   ]
  },
  {
   "cell_type": "code",
   "execution_count": 8,
   "id": "f8feea98",
   "metadata": {},
   "outputs": [
    {
     "name": "stdout",
     "output_type": "stream",
     "text": [
      "My name is Snoop Dogg.\n",
      "I'm 1e+10 year's old.\n",
      "I have 99 problems...\n",
      "You know the rest\n",
      "\n",
      "My name is Snoop Dogg.\n",
      "I'm 10000000000 year's old.\n",
      "I have 99 problems...\n",
      "You know the rest\n",
      "\n",
      "My name is Snoop Dogg.\n",
      "I'm 10000000000 year's old.\n",
      "I have 99 problems...\n",
      "You know the rest\n"
     ]
    }
   ],
   "source": [
    "name = 'Snoop Dogg'\n",
    "age = 10000000000\n",
    "prob = 99\n",
    "str1 = '''My name is %s.\n",
    "I'm %g year's old.\n",
    "I have %i problems...\n",
    "You know the rest''' %(name, age, prob)\n",
    "\n",
    "str2 = '''My name is {n}.\n",
    "I'm {a} year's old.\n",
    "I have {p} problems...\n",
    "You know the rest'''\n",
    "\n",
    "str3 = '''My name is {2}.\n",
    "I'm {1} year's old.\n",
    "I have {0} problems...\n",
    "You know the rest'''\n",
    "print(str1)\n",
    "print()\n",
    "print(str2.format(n=name,a=age,p=prob))\n",
    "print()\n",
    "print(str3.format(prob,age,name))"
   ]
  },
  {
   "cell_type": "code",
   "execution_count": 9,
   "id": "ad834b98",
   "metadata": {},
   "outputs": [
    {
     "name": "stdout",
     "output_type": "stream",
     "text": [
      "a <class 'str'>\n"
     ]
    }
   ],
   "source": [
    "l1 = list('abcd')\n",
    "print(l1[0],type(l1[0]))"
   ]
  },
  {
   "cell_type": "markdown",
   "id": "521d50ae",
   "metadata": {},
   "source": [
    "- common `str` escape characters\n",
    "    - `\\n` - new line\n",
    "    - `\\t` - tab\n",
    "    - unicode characters such as `\\u20AC`\n",
    "        - `u` =  unicode\n",
    "        - `20AC` = unicode identifier\n",
    "- `str` literals can be enclosed with `\"\"\"`, `'''`, or prefixed with `r` for raw string"
   ]
  },
  {
   "cell_type": "code",
   "execution_count": 10,
   "id": "49c94d9f",
   "metadata": {},
   "outputs": [
    {
     "name": "stdout",
     "output_type": "stream",
     "text": [
      "€\n",
      "type whatever\n",
      "on as many lines as you want\n",
      "who cares\n",
      "C:\\dir1\\dir2\\etc doesn't need escapes for each \\ \n"
     ]
    }
   ],
   "source": [
    "print('\\u20AC')\n",
    "literalstr = '''type whatever\n",
    "on as many lines as you want\n",
    "who cares'''\n",
    "print(literalstr)\n",
    "rawstr = r\"C:\\dir1\\dir2\\etc doesn't need escapes for each \\ \"\n",
    "print(rawstr)"
   ]
  },
  {
   "cell_type": "markdown",
   "id": "daf51f18",
   "metadata": {},
   "source": [
    "- ***sets*** are unique, unordered versions of lists\n",
    "    - optimized for searching for unique values\n",
    "    - `{}` encloses a set\n",
    "        - empty `{}` instantiates a `dict` class"
   ]
  },
  {
   "cell_type": "code",
   "execution_count": 11,
   "id": "96256940",
   "metadata": {},
   "outputs": [
    {
     "name": "stdout",
     "output_type": "stream",
     "text": [
      "<class 'set'>\n",
      "{'t', 'e', 'r', ' ', 'q', 'a', 'n', 's', 'u', 'i', 'g', 'c', 'h'}\n",
      "13 30\n"
     ]
    }
   ],
   "source": [
    "set1 = {1,2,'test'} # holds multiple data types\n",
    "print(type(set1))\n",
    "str1 = 'get unique char in this string'\n",
    "set2 = set(str1)\n",
    "print(set2)\n",
    "print(len(set2),len(str1))"
   ]
  },
  {
   "cell_type": "markdown",
   "id": "035f0b33",
   "metadata": {},
   "source": [
    "- `dict` maps unique keys to values\n",
    "    - `{key:value, key2:value2}`"
   ]
  },
  {
   "cell_type": "code",
   "execution_count": 12,
   "id": "4e3cc9d7",
   "metadata": {},
   "outputs": [
    {
     "name": "stdout",
     "output_type": "stream",
     "text": [
      "{0: 'a', 1: 'b'}\n",
      "a\n",
      "None\n",
      "different default\n"
     ]
    }
   ],
   "source": [
    "d1 = {0:'a',1:'b'}\n",
    "print(d1)\n",
    "print(d1[0])\n",
    "print(d1.get(3))\n",
    "print(d1.get(3,'different default'))"
   ]
  },
  {
   "cell_type": "markdown",
   "id": "138a3c05",
   "metadata": {},
   "source": [
    "<a id=\"1.3\"></a>\n",
    "## 1.3 Expressions, Operators, and Precedence\n",
    "\n",
    "<a href=\"#toc\">Table of Contents</a>"
   ]
  },
  {
   "cell_type": "markdown",
   "id": "bf5e22b8",
   "metadata": {},
   "source": [
    "- ***expressions*** - combo values and operators\n",
    "    - ***compound expression*** example: `a + b * c`\n",
    "- ***operators*** - symbols & keywords\n",
    "    - `+`, `*`, etc.\n",
    "- ***logical operators*** - `not`, `and`, `or`\n",
    "    - *short-circuit* -> don't eval second if first `False`\n",
    "    - ex: `10 < 3 or 5 > 2` exits at `10 < 3`\n",
    "- ***equality operators***\n",
    "    - `is` - same **identity** (same obj type, val)\n",
    "    - `is not` - *not* same **identity**\n",
    "    - `==` - equivalent\n",
    "    - `!=` - not equivalent"
   ]
  },
  {
   "cell_type": "code",
   "execution_count": 13,
   "id": "7a8d291f",
   "metadata": {},
   "outputs": [
    {
     "name": "stdout",
     "output_type": "stream",
     "text": [
      "a is b False\n",
      "a == b True\n"
     ]
    }
   ],
   "source": [
    "a = 3\n",
    "b = 3.0\n",
    "print('a is b',a is b)\n",
    "print('a == b',a==b)"
   ]
  },
  {
   "cell_type": "markdown",
   "id": "17358ab1",
   "metadata": {},
   "source": [
    "- ***comparison operators*** - `<`, `>`, `<=`,`>=`"
   ]
  },
  {
   "cell_type": "markdown",
   "id": "c39a835f",
   "metadata": {},
   "source": [
    "- ***arithmetic operators***\n",
    "    - `+`,`-`,`*`,`/` - add,sub,mult,div\n",
    "    - `//` - integer division (returns quotient)\n",
    "    - `%` - modulo (return remainder)\n",
    "    - `**` - power"
   ]
  },
  {
   "cell_type": "code",
   "execution_count": 14,
   "id": "c01aa29a",
   "metadata": {},
   "outputs": [
    {
     "name": "stdout",
     "output_type": "stream",
     "text": [
      "34 1\n",
      "137\n"
     ]
    }
   ],
   "source": [
    "val = 137\n",
    "divisor = 4\n",
    "quotient = val // divisor\n",
    "remainder = val % divisor\n",
    "print(quotient,remainder)\n",
    "print(quotient * divisor + remainder)"
   ]
  },
  {
   "cell_type": "markdown",
   "id": "216acd92",
   "metadata": {},
   "source": [
    "- ***bitwise operators*** - similar to SystemVerilog\n",
    "    - [Python.org explanation](https://wiki.python.org/moin/BitwiseOperators)\n",
    "    - `~ x` - complement\n",
    "        - python switched to infinite number of bits\n",
    "        - `-2` would be `inf...1111111111110`\n",
    "        - so for `x`, `~x` is just `-(x + 1)`\n",
    "        - ex: `0b011` = `3` so `~0b011` = `-(3+1)` = `-4` = `-0b100`\n",
    "    - `x & y` - `x` and `y`\n",
    "    - `x | y` - `x` or `y`\n",
    "    - `x ^ y` - `x` xor `y`\n",
    "    - `x << y` - shift `x` left `y` places (fill zeros)\n",
    "        - equivalent to `x*2**y`\n",
    "    - `x >> y` - shift `x` right `y` places (i.e. drop `y`-LSB)\n",
    "        - equivalent to `x//2**y`"
   ]
  },
  {
   "cell_type": "code",
   "execution_count": 15,
   "id": "277466b9",
   "metadata": {},
   "outputs": [
    {
     "name": "stdout",
     "output_type": "stream",
     "text": [
      "0b11\n",
      "-0b100\n"
     ]
    }
   ],
   "source": [
    "# compliment\n",
    "n1 = 0b011\n",
    "print(bin(n1))\n",
    "print(bin(~n1)) # returns 2's compliment\n",
    "# 2's compliment is -(n+1)"
   ]
  },
  {
   "cell_type": "code",
   "execution_count": 16,
   "id": "a6fad592",
   "metadata": {},
   "outputs": [
    {
     "name": "stdout",
     "output_type": "stream",
     "text": [
      "0b1001\n",
      "0b1101\n",
      "0b1001\n"
     ]
    }
   ],
   "source": [
    "# and\n",
    "n1 = 0b01001\n",
    "n2 = 0b01101\n",
    "print(bin(n1))\n",
    "print(bin(n2))\n",
    "print(bin(n1&n2))"
   ]
  },
  {
   "cell_type": "code",
   "execution_count": 17,
   "id": "ccedc7e6",
   "metadata": {},
   "outputs": [
    {
     "name": "stdout",
     "output_type": "stream",
     "text": [
      "0b1001\n",
      "0b1101\n",
      "0b1101\n"
     ]
    }
   ],
   "source": [
    "# or\n",
    "n1 = 0b01001\n",
    "n2 = 0b01101\n",
    "print(bin(n1))\n",
    "print(bin(n2))\n",
    "print(bin(n1|n2))\n"
   ]
  },
  {
   "cell_type": "code",
   "execution_count": 18,
   "id": "c896abc0",
   "metadata": {},
   "outputs": [
    {
     "name": "stdout",
     "output_type": "stream",
     "text": [
      "0b1001\n",
      "0b1101\n",
      "0b100\n"
     ]
    }
   ],
   "source": [
    "# xor\n",
    "n1 = 0b01001\n",
    "n2 = 0b01101\n",
    "print(bin(n1))\n",
    "print(bin(n2))\n",
    "print(bin(n1^n2)) # eval to 0b0100, truncates to 0b100"
   ]
  },
  {
   "cell_type": "code",
   "execution_count": 19,
   "id": "0b17d471",
   "metadata": {},
   "outputs": [
    {
     "name": "stdout",
     "output_type": "stream",
     "text": [
      "9\n",
      "0b1001\n",
      "0b100100\n",
      "True\n"
     ]
    }
   ],
   "source": [
    "# shift left, fill zeros\n",
    "x = 0b01001\n",
    "y = 2\n",
    "print(x)\n",
    "print(bin(x))\n",
    "print(bin(x<<y)) # shift 2 places to left, fill zeros\n",
    "print(x*2**y == x<<y)"
   ]
  },
  {
   "cell_type": "code",
   "execution_count": 20,
   "id": "0cdb1e5b",
   "metadata": {},
   "outputs": [
    {
     "name": "stdout",
     "output_type": "stream",
     "text": [
      "345\n",
      "0b101011001\n",
      "0b1010110\n",
      "True\n"
     ]
    }
   ],
   "source": [
    "# shift x right by y places (drop right-most y bits)\n",
    "x = 0b101011001\n",
    "y = 2\n",
    "print(x)\n",
    "print(bin(x))\n",
    "print(bin(x>>2))\n",
    "print(x//2**y == x>>2)"
   ]
  },
  {
   "cell_type": "markdown",
   "id": "7ca176e9",
   "metadata": {},
   "source": [
    "- ***sequence operators***\n",
    "    - supported by `str`,`list`,`tuple`\n",
    "    \n",
    "| operator | description |\n",
    "| --- | --- |\n",
    "| `s[j]` | element at index `j` |\n",
    "| `s[start:stop]` | slice including indices `[start,stop)` |\n",
    "| `s[start:stop:step]` | slice including indices `start, start + step, start + 2 * step, . . .,` up to but not equalling `stop` |\n",
    "| `s + t` | concatenation of sequences |\n",
    "| `k * s` | shorthand for `s + s + s + . . . (k times)` |\n",
    "| `val in s` | containment check |\n",
    "| `val not in s` | non-containment check |"
   ]
  },
  {
   "cell_type": "code",
   "execution_count": 21,
   "id": "23c233c7",
   "metadata": {},
   "outputs": [
    {
     "name": "stdout",
     "output_type": "stream",
     "text": [
      "c\n",
      "heck\n",
      "ybab gnirts siht tuo kcehc\n",
      "check out this string baby concat with this one\n",
      "check out this string baby!\n",
      "check out this string baby!\n",
      "check out this string baby!\n",
      "\n",
      "'baby' in s1? True\n",
      "'your mom' not in s1? True\n"
     ]
    }
   ],
   "source": [
    "s1 = 'check out this string baby'\n",
    "print(s1[0])\n",
    "print(s1[1:5])\n",
    "print(s1[::-1]) # print entire string, step of 1 in rev\n",
    "print(s1+' concat with this one')\n",
    "print((s1+'!\\n')*3) # print three times, three lines\n",
    "print(\"'baby' in s1?\", 'baby' in s1)\n",
    "print(\"'your mom' not in s1?\", 'your mom' not in s1)"
   ]
  },
  {
   "cell_type": "markdown",
   "id": "4c742790",
   "metadata": {},
   "source": [
    "- ***lexographic order*** and operators for strings\n",
    "    - strings can be compared\n",
    "    - ordered is in lexographic order\n",
    "        - `a=0`, `b=1`, etc.\n",
    "    - lower case > upper case"
   ]
  },
  {
   "cell_type": "code",
   "execution_count": 22,
   "id": "c2227351",
   "metadata": {},
   "outputs": [
    {
     "name": "stdout",
     "output_type": "stream",
     "text": [
      "a > z False\n",
      "a > Z True\n"
     ]
    }
   ],
   "source": [
    "a = 'a'\n",
    "z = 'z'\n",
    "Z = 'Z'\n",
    "print('a > z', a > z)\n",
    "print('a > Z', a > Z)"
   ]
  },
  {
   "cell_type": "markdown",
   "id": "7b4cf9ee",
   "metadata": {},
   "source": [
    "- ***operators for `set` and `dict`***\n",
    "\n",
    "| operator | description |\n",
    "| --- | --- |\n",
    "| `key in s` | containment check |\n",
    "| `key not in s` | non-containment check |\n",
    "| `s1 == s2` | `s1` is equivalent to `s2` |\n",
    "| `s1 != s2` | `s1` is not equivalent to `s2` |\n",
    "| `s1 <= s2` | `s1` is subset of `s2` |\n",
    "| `s1 < s2` | `s1` is proper subset of `s2` |\n",
    "| `s1 >= s2` | `s1` is superset of `s2` |\n",
    "| `s1 > s2` | `s1` is proper superset of `s2` |\n",
    "| `s1 \\| s2` | the union of `s1` and `s2` |\n",
    "| `s1 & s2` | the intersection of `s1` and `s2` |\n",
    "| `s1 − s2` | the set of elements in `s1` but not `s2` |\n",
    "| `s1 ^ s2` | the set of elements in precisely one of `s1` or `s2` |"
   ]
  },
  {
   "cell_type": "code",
   "execution_count": 23,
   "id": "04760224",
   "metadata": {},
   "outputs": [
    {
     "name": "stdout",
     "output_type": "stream",
     "text": [
      "True\n"
     ]
    }
   ],
   "source": [
    "# containment check\n",
    "s1 = {1,2,3,4}\n",
    "s2 = {1,2,3,4,5,6,7,8}\n",
    "print(3 in s1)"
   ]
  },
  {
   "cell_type": "code",
   "execution_count": 24,
   "id": "1ae946c9",
   "metadata": {},
   "outputs": [
    {
     "name": "stdout",
     "output_type": "stream",
     "text": [
      "False\n"
     ]
    }
   ],
   "source": [
    "# non-containment check\n",
    "s1 = {1,2,3,4}\n",
    "s2 = {1,2,3,4,5,6,7,8}\n",
    "print(3 not in s1)"
   ]
  },
  {
   "cell_type": "code",
   "execution_count": 25,
   "id": "df001478",
   "metadata": {},
   "outputs": [
    {
     "name": "stdout",
     "output_type": "stream",
     "text": [
      "False\n"
     ]
    }
   ],
   "source": [
    "# equivalent\n",
    "s1 = {1,2,3,4}\n",
    "s2 = {1,2,3,4,5,6,7,8}\n",
    "print(s1 == s2)"
   ]
  },
  {
   "cell_type": "code",
   "execution_count": 26,
   "id": "8331b4c7",
   "metadata": {},
   "outputs": [
    {
     "name": "stdout",
     "output_type": "stream",
     "text": [
      "True\n"
     ]
    }
   ],
   "source": [
    "# not equivalent\n",
    "s1 = {1,2,3,4}\n",
    "s2 = {1,2,3,4,5,6,7,8}\n",
    "print(s1 != s2)"
   ]
  },
  {
   "cell_type": "code",
   "execution_count": 27,
   "id": "2065cc4e",
   "metadata": {},
   "outputs": [
    {
     "name": "stdout",
     "output_type": "stream",
     "text": [
      "True\n"
     ]
    }
   ],
   "source": [
    "# subset\n",
    "s1 = {1,2,3,4}\n",
    "s2 = {1,2,3,4,5,6,7,8}\n",
    "print(s1 <= s2)"
   ]
  },
  {
   "cell_type": "code",
   "execution_count": 28,
   "id": "6de01176",
   "metadata": {},
   "outputs": [
    {
     "name": "stdout",
     "output_type": "stream",
     "text": [
      "True\n"
     ]
    }
   ],
   "source": [
    "# proper subset\n",
    "s1 = {1,2,3,4}\n",
    "s2 = {1,2,3,4,5,6,7,8}\n",
    "print(s1 < s2)"
   ]
  },
  {
   "cell_type": "code",
   "execution_count": 29,
   "id": "2b5ddde6",
   "metadata": {},
   "outputs": [
    {
     "name": "stdout",
     "output_type": "stream",
     "text": [
      "False\n"
     ]
    }
   ],
   "source": [
    "# superset\n",
    "s1 = {1,2,3,4}\n",
    "s2 = {1,2,3,4,5,6,7,8}\n",
    "print(s1 >= s2)"
   ]
  },
  {
   "cell_type": "code",
   "execution_count": 30,
   "id": "60939726",
   "metadata": {},
   "outputs": [
    {
     "name": "stdout",
     "output_type": "stream",
     "text": [
      "False\n"
     ]
    }
   ],
   "source": [
    "# proper superset\n",
    "s1 = {1,2,3,4}\n",
    "s2 = {1,2,3,4,5,6,7,8}\n",
    "print(s1 > s2)"
   ]
  },
  {
   "cell_type": "code",
   "execution_count": 31,
   "id": "ddf85434",
   "metadata": {},
   "outputs": [
    {
     "name": "stdout",
     "output_type": "stream",
     "text": [
      "{1, 2, 3, 4, 5, 6, 7, 8}\n"
     ]
    }
   ],
   "source": [
    "# union\n",
    "s1 = {1,2,3,4}\n",
    "s2 = {1,2,3,4,5,6,7,8}\n",
    "print(s1 | s2)"
   ]
  },
  {
   "cell_type": "code",
   "execution_count": 32,
   "id": "e7ba9080",
   "metadata": {},
   "outputs": [
    {
     "name": "stdout",
     "output_type": "stream",
     "text": [
      "{1, 2, 3, 4}\n"
     ]
    }
   ],
   "source": [
    "# intersection\n",
    "s1 = {1,2,3,4}\n",
    "s2 = {1,2,3,4,5,6,7,8}\n",
    "print(s1 & s2)"
   ]
  },
  {
   "cell_type": "code",
   "execution_count": 33,
   "id": "ba4213d9",
   "metadata": {},
   "outputs": [
    {
     "name": "stdout",
     "output_type": "stream",
     "text": [
      "{8, 5, 6, 7}\n"
     ]
    }
   ],
   "source": [
    "# set of elements in s2, not s1\n",
    "s1 = {1,2,3,4,395934}\n",
    "s2 = {1,2,3,4,5,6,7,8}\n",
    "print(s2 - s1)"
   ]
  },
  {
   "cell_type": "code",
   "execution_count": 34,
   "id": "f91ac35b",
   "metadata": {},
   "outputs": [
    {
     "name": "stdout",
     "output_type": "stream",
     "text": [
      "{5, 6, 7, 8, 395934}\n"
     ]
    }
   ],
   "source": [
    "# set of elements precisely in only one set\n",
    "s1 = {1,2,3,4,395934}\n",
    "s2 = {1,2,3,4,5,6,7,8}\n",
    "print(s1 ^ s2)"
   ]
  },
  {
   "cell_type": "markdown",
   "id": "5fbcbf71",
   "metadata": {},
   "source": [
    "- ***operators for `dict` class***\n",
    "\n",
    "| operator | description |\n",
    "| --- | --- |\n",
    "| `d[key]` | `value` associated with given `key` |\n",
    "| `d[key] = value` | set (or reset) the `value` associated with given key |\n",
    "| `del d[key]` | remove `key` and its associated `value` from dictionary |\n",
    "| `key in d` | containment check |\n",
    "| `key not in d` | non-containment check |\n",
    "| `d1 == d2` | `d1` is equivalent to `d2` |\n",
    "| `d1 != d2` | `d1` is not equivalent to `d2` |"
   ]
  },
  {
   "cell_type": "code",
   "execution_count": 35,
   "id": "0d7cc6f1",
   "metadata": {},
   "outputs": [
    {
     "name": "stdout",
     "output_type": "stream",
     "text": [
      "a\n",
      "A\n",
      "{1: 'b', 2: 'c'}\n"
     ]
    }
   ],
   "source": [
    "# basic addition/del of dict key:value pairs\n",
    "d1 = {0:'a',1:'b',2:'c'}\n",
    "print(d1[0])\n",
    "d1[0] = 'A'\n",
    "print(d1[0])\n",
    "del d1[0]\n",
    "print(d1)"
   ]
  },
  {
   "cell_type": "code",
   "execution_count": 36,
   "id": "7cd442fa",
   "metadata": {},
   "outputs": [
    {
     "name": "stdout",
     "output_type": "stream",
     "text": [
      "False\n",
      "True\n"
     ]
    }
   ],
   "source": [
    "# (non)containment checks\n",
    "d1 = {0:'a',1:'b',2:'c'}\n",
    "print(9 in d1) # checks all keys for 9\n",
    "print(9 not in d1)"
   ]
  },
  {
   "cell_type": "code",
   "execution_count": 37,
   "id": "03d9290f",
   "metadata": {},
   "outputs": [
    {
     "name": "stdout",
     "output_type": "stream",
     "text": [
      "False\n",
      "True\n"
     ]
    }
   ],
   "source": [
    "d1 = {0:'a',1:'b',2:'c'}\n",
    "d2 = {0:'A',1:'B',2:'C'}\n",
    "print(d1 == d2) # False, not same key:value pairs\n",
    "print(d1 != d2) # True"
   ]
  },
  {
   "cell_type": "markdown",
   "id": "b11d0768",
   "metadata": {},
   "source": [
    "- ***Extended Assignment Operators***\n",
    "    - `+=`, `-=`, `*=`,`/=`,`//=`\n",
    "    - For ***immutable*** objects (e.g. int, str, etc.)\n",
    "        - since object immutable,\n",
    "        - `identifier += value` same as\n",
    "        - `identifier = identifier + value`\n",
    "    - For ***mutable*** list\n",
    "        - `identifier += value` mutates *original object*\n",
    "        - `identifier = identifier + value` *reassigns* to new object\n",
    "        - `dict` and `set` do not support `+=` operand"
   ]
  },
  {
   "cell_type": "code",
   "execution_count": 38,
   "id": "0eb96178",
   "metadata": {},
   "outputs": [
    {
     "name": "stdout",
     "output_type": "stream",
     "text": [
      "[1, 2, 3]\n",
      "[1, 2, 3]\n",
      "True\n",
      "[1, 2, 3, 4, 5, 6]\n",
      "[1, 2, 3, 4, 5, 6]\n",
      "True\n",
      "[1, 2, 3, 4, 5, 6]\n",
      "[1, 2, 3, 4, 5, 6, 7, 8, 9]\n",
      "False\n"
     ]
    }
   ],
   "source": [
    "d1 = [1,2,3]\n",
    "d2 = d1\n",
    "print(d1)\n",
    "print(d2)\n",
    "print(id(d1)==id(d2))\n",
    "d2 += [4,5,6] # mutates original object\n",
    "print(d1)\n",
    "print(d2)\n",
    "print(id(d1)==id(d2))\n",
    "d2 = d2 + [7,8,9] # reassigns d2 to new object\n",
    "print(d1)\n",
    "print(d2)\n",
    "print(id(d1)==id(d2))"
   ]
  },
  {
   "cell_type": "markdown",
   "id": "15f47ce4",
   "metadata": {},
   "source": [
    "- ***chained assignment***\n",
    "    - `x = y = 0`\n",
    "- ***chained comparison***\n",
    "    - `1 <= x + y <= 3` evaluates as\n",
    "    - `(1 <= x + y) and (x + y <= 3)`"
   ]
  },
  {
   "cell_type": "code",
   "execution_count": 39,
   "id": "8999c6b9",
   "metadata": {},
   "outputs": [
    {
     "name": "stdout",
     "output_type": "stream",
     "text": [
      "2 2\n",
      "False\n"
     ]
    }
   ],
   "source": [
    "x = y = 2\n",
    "print(x,y)\n",
    "print(1 <= x + y <= 3)"
   ]
  },
  {
   "cell_type": "markdown",
   "id": "d7ba3f1f",
   "metadata": {},
   "source": [
    "<a id=\"1.4\"></a>\n",
    "## 1.4 Control Flow\n",
    "\n",
    "<a href=\"#toc\">Table of Contents</a>"
   ]
  },
  {
   "cell_type": "markdown",
   "id": "8cf23441",
   "metadata": {},
   "source": [
    "- ***block code***\n",
    "    - python uses indentation to designate hierarch of code blocks\n",
    "    - statements with colons can be on one line if desired"
   ]
  },
  {
   "cell_type": "code",
   "execution_count": 40,
   "id": "fa98b2be",
   "metadata": {},
   "outputs": [
    {
     "name": "stdout",
     "output_type": "stream",
     "text": [
      "x > 2\n",
      "x > 2\n"
     ]
    }
   ],
   "source": [
    "x = 3\n",
    "if x > 2: print('x > 2')\n",
    "\n",
    "if x > 2:\n",
    "    print('x > 2')"
   ]
  },
  {
   "cell_type": "markdown",
   "id": "18fa0703",
   "metadata": {},
   "source": [
    "- ***conditional execution***\n",
    "    - hierarchy with indentation\n",
    "    - uses `if`,`elif`,`else` combinations\n",
    "    - can use **flowcharts** to traverse conditional execution"
   ]
  },
  {
   "cell_type": "markdown",
   "id": "be5f56f4",
   "metadata": {},
   "source": [
    "- ***loops***\n",
    "    - `while` loops indefinititely until given condition evaluates `False`\n",
    "    - `for` repeats for all given instances of given `iterable`\n",
    "        - use `range(len(data))` to loop over indices of `data`\n",
    "- ***exit statements***\n",
    "    - `break` - terminates `while` and `for` loops\n",
    "    - `continue` - skips remaining statements in current iteration and goes to next iteration"
   ]
  },
  {
   "cell_type": "code",
   "execution_count": 41,
   "id": "c7f0dc3d",
   "metadata": {},
   "outputs": [
    {
     "name": "stdout",
     "output_type": "stream",
     "text": [
      "1\n",
      "2\n",
      "3\n",
      "5\n"
     ]
    }
   ],
   "source": [
    "l1 = [1,2,3]\n",
    "for i in l1:\n",
    "    if i == 4:\n",
    "        continue\n",
    "    print(i)\n",
    "    if i == 3:\n",
    "        l1 += [4,5,6]\n",
    "    elif i == 5:\n",
    "        break\n",
    "    # before end of list, mutates iterable\n",
    "    # which allows loop to extend\n",
    "    "
   ]
  },
  {
   "cell_type": "markdown",
   "id": "662fca6f",
   "metadata": {},
   "source": [
    "<a id=\"1.5\"></a>\n",
    "## 1.5 Functions\n",
    "\n",
    "<a href=\"#toc\">Table of Contents</a>"
   ]
  },
  {
   "cell_type": "markdown",
   "id": "a0684c6d",
   "metadata": {},
   "source": [
    "- ***\"function\" vs. \"method\"***\n",
    "    - **function** = stateless function invoked without context of class or instance\n",
    "        - ex `showexample(data)`\n",
    "    - **method** = member function of a specified object\n",
    "        - ex `ex.showexample(data)`"
   ]
  },
  {
   "cell_type": "code",
   "execution_count": 42,
   "id": "e2433cac",
   "metadata": {},
   "outputs": [
    {
     "name": "stdout",
     "output_type": "stream",
     "text": [
      "example\n"
     ]
    }
   ],
   "source": [
    "def showexample(data):\n",
    "    return data\n",
    "\n",
    "data = 'example'\n",
    "print(showexample(data)) # stateless \"function\""
   ]
  },
  {
   "cell_type": "code",
   "execution_count": 43,
   "id": "7b0f52da",
   "metadata": {},
   "outputs": [
    {
     "name": "stdout",
     "output_type": "stream",
     "text": [
      "example\n"
     ]
    }
   ],
   "source": [
    "class example:\n",
    "    def __init__(self,data):\n",
    "        self.data = data\n",
    "    def showexample(self):\n",
    "        return self.data\n",
    "\n",
    "data = 'example'\n",
    "ex = example(data)\n",
    "print(ex.showexample()) # invoking a class \"method\""
   ]
  },
  {
   "cell_type": "markdown",
   "id": "0c8e5fe9",
   "metadata": {},
   "source": [
    "- ***function structure***\n",
    "```\n",
    "def function_name(param1, param2): # \"function signature\" line\n",
    "    # body of function is subsequent indented lines\n",
    "    # like this one\n",
    "    # and this one\n",
    "# not part of body\n",
    "```\n",
    "- parameters don't have to be designated, but can be\n",
    "    - `def fun(param1):` expects `param1` when called, but can be any type\n",
    "    - `def fun(param11:list)` expects `param1` and indicates it should be list, but ***still accepts any type***\n",
    "        - use `isinstance()` keyword with `raise TypeError` to enforce type\n",
    "        - [`isinstance()` tutorial](https://www.w3schools.com/python/ref_func_isinstance.asp)\n",
    "        - [`raise` tutorial](https://www.w3schools.com/python/ref_keyword_raise.asp)\n",
    "- `return` is used to return a value back from the caller\n",
    "    - function will ***cease execution*** after `return` statement executed\n",
    "    - if `return` never executed, function returns `None` to caller"
   ]
  },
  {
   "cell_type": "code",
   "execution_count": 44,
   "id": "a1779526",
   "metadata": {},
   "outputs": [
    {
     "name": "stdout",
     "output_type": "stream",
     "text": [
      "a\n"
     ]
    }
   ],
   "source": [
    "def fun(param1):\n",
    "    print(param1)\n",
    "\n",
    "a = 'a'\n",
    "\n",
    "fun(a)"
   ]
  },
  {
   "cell_type": "code",
   "execution_count": 45,
   "id": "110e0139",
   "metadata": {},
   "outputs": [
    {
     "name": "stdout",
     "output_type": "stream",
     "text": [
      "abcde\n"
     ]
    }
   ],
   "source": [
    "def fun(param1:int) -> int:\n",
    "    return(param1)\n",
    "\n",
    "a = 'abcde'\n",
    "\n",
    "print(fun(a))"
   ]
  },
  {
   "cell_type": "code",
   "execution_count": 46,
   "id": "4b5b51dc",
   "metadata": {},
   "outputs": [
    {
     "name": "stdout",
     "output_type": "stream",
     "text": [
      "1\n",
      "TypeError\n"
     ]
    }
   ],
   "source": [
    "def fun(param1:int) -> int:\n",
    "    if not isinstance(param1,int):\n",
    "        raise TypeError\n",
    "    return(param1)\n",
    "\n",
    "a = 'abcde'\n",
    "\n",
    "try:\n",
    "    print(fun(1))\n",
    "    print(fun(a)) # raises error here\n",
    "except TypeError:\n",
    "    print('TypeError')"
   ]
  },
  {
   "cell_type": "markdown",
   "id": "fffba971",
   "metadata": {},
   "source": [
    "- ***information passing***\n",
    "    - **formal parameters** - identifiers used to describe the *expected* parameters\n",
    "    - **actual parameters** - objects sent by the caller\n",
    "- actual assignments to formal parameters can assign an ***alias for same object***\n",
    "    - this means function can update original object"
   ]
  },
  {
   "cell_type": "code",
   "execution_count": 47,
   "id": "17011bb7",
   "metadata": {},
   "outputs": [
    {
     "name": "stdout",
     "output_type": "stream",
     "text": [
      "0x17ce08b7b40\n",
      "0x17ce08b7b40\n",
      "[1, 2, 3, 4, 5, 6]\n"
     ]
    }
   ],
   "source": [
    "l1 = [1,2,3]\n",
    "print(hex(id(l1)))\n",
    "def growlist(a): # a is the actual parameter passed in\n",
    "    data = a\n",
    "    data += [4,5,6]\n",
    "\n",
    "growlist(l1)\n",
    "print(hex(id(l1)))\n",
    "print(l1)"
   ]
  },
  {
   "cell_type": "markdown",
   "id": "73a74f19",
   "metadata": {},
   "source": [
    "- ***polymorphism*** - functions can support *more than one* calling signature\n",
    "    - default parameters are preassigned in the function signature\n",
    "        - `def fun(param1, param2 = 2)`\n",
    "    - cannot follow default parameter with unassigned parameter\n",
    "        - X `def fun(param1, param2 = 2, param3)`"
   ]
  },
  {
   "cell_type": "markdown",
   "id": "af7f31ef",
   "metadata": {},
   "source": [
    "- ***keyword parameters***\n",
    "    - ***positional arguments*** - calling parameters in order given in function signature\n",
    "        - `def fun(a=1,b=2,c=3):` with call `fun(5)` means `a=5`, `b=2` and `c=3`\n",
    "    - ***keyword arguments*** - calling parameters specifically in the function call\n",
    "        - `def fun(a=1,b=2,c=3):` with call `fun(c=5)` means `a=1`, `b=2` and `c=5`\n",
    "    "
   ]
  },
  {
   "cell_type": "markdown",
   "id": "89a0851b",
   "metadata": {},
   "source": [
    "- ***built-in functions***\n",
    "\n",
    "[Python Built-in Functions Doc](https://docs.python.org/3/library/functions.html)"
   ]
  },
  {
   "cell_type": "markdown",
   "id": "cb965394",
   "metadata": {},
   "source": [
    "<a id=\"1.6\"></a>\n",
    "## 1.6 Simple I/O\n",
    "\n",
    "<a href=\"#toc\">Table of Contents</a>"
   ]
  },
  {
   "cell_type": "markdown",
   "id": "58fef81a",
   "metadata": {},
   "source": [
    "- ***print function***\n",
    "    - `sep` - keyword to customize separating string contents\n",
    "    - `end` - keyword to replace default `\\n` character\n",
    "    - default output is `stdout`\n",
    "        - `file` - keyword to direct output to file stream instead of `stdout`"
   ]
  },
  {
   "cell_type": "code",
   "execution_count": 48,
   "id": "dca94b01",
   "metadata": {},
   "outputs": [
    {
     "name": "stdout",
     "output_type": "stream",
     "text": [
      "hi | world | and | whateverthe end"
     ]
    }
   ],
   "source": [
    "print('hi','world','and','whatever', sep=' | ', end='the end')"
   ]
  },
  {
   "cell_type": "markdown",
   "id": "75dc33d9",
   "metadata": {},
   "source": [
    "- ***input()***\n",
    "    - `input()` is built-in function to get user information from `stdin`\n",
    "    - can give a prompt as parameter (prompt written to `stdout` w/o `\\n`)\n",
    "    - returns a string\n",
    "\n",
    "```\n",
    "(__prompt: object = ..., /) -> str\n",
    "Read a string from standard input. The trailing newline is stripped.\n",
    "\n",
    "The prompt string, if given, is printed to standard output without a trailing newline before reading input.\n",
    "\n",
    "If the user hits EOF (*nix: Ctrl-D, Windows: Ctrl-Z+Return), raise EOFError. On *nix systems, readline is used if available.\n",
    "```"
   ]
  },
  {
   "cell_type": "markdown",
   "id": "0f6141df",
   "metadata": {},
   "source": [
    "- ***files***\n",
    "    - `open()` - built-in function for opening files\n",
    "    - https://docs.python.org/3/library/functions.html#open\n",
    "    - raises `OSError` if can't be opened\n",
    "- default option for opening is read mode `r`\n",
    "- write to file by opening with `w`\n",
    "    - ex: `f = open(filepath, 'w')`\n",
    "    - `f.write('write this. go 2 new line\\n')`\n",
    "- to open *and* update use `r+` (overwrites lines)\n",
    "- to append, use `a`"
   ]
  },
  {
   "cell_type": "code",
   "execution_count": 49,
   "id": "b3d0c9e5",
   "metadata": {},
   "outputs": [
    {
     "name": "stdout",
     "output_type": "stream",
     "text": [
      "line1\n",
      "line2\n",
      "line3\n",
      "test line\n",
      "\n",
      "line1\n",
      "line2\n",
      "line3\n",
      "test line\n",
      "test line\n",
      "\n"
     ]
    }
   ],
   "source": [
    "filepath = './example.txt'\n",
    "f = open(filepath)\n",
    "print(f.read())\n",
    "f = open(filepath, 'a')\n",
    "f.write('test line\\n')\n",
    "f = open(filepath)\n",
    "print(f.read())"
   ]
  },
  {
   "cell_type": "markdown",
   "id": "a1bb9213",
   "metadata": {},
   "source": [
    "<a id=\"1.7\"></a>\n",
    "## 1.7 Exception Handling\n",
    "\n",
    "<a href=\"#toc\">Table of Contents</a>"
   ]
  },
  {
   "cell_type": "markdown",
   "id": "56450863",
   "metadata": {},
   "source": [
    "**Raising an Exception**\n",
    "\n",
    "- ***Exceptions***\n",
    "    - https://docs.python.org/3/library/exceptions.html\n",
    "    - `Exception` class is base class for most errors\n",
    "- for error condition\n",
    "    - python will `raise` exception (i.e. throw error)\n",
    "    - `raise` keyword can be used to manually raise error\n",
    "- `if not isinstance()` and `raise` are useful for errors when defining functions\n",
    "\n",
    "```\n",
    "def sum(values):\n",
    "    if not isinstance(values, collections.Iterable):\n",
    "        raise TypeError(‘parameter must be an iterable type’)\n",
    "    total = 0\n",
    "    for v in values:\n",
    "        if not isinstance(v, (int, float)):\n",
    "            raise TypeError(‘elements must be numeric’)\n",
    "        total = total+ v\n",
    "    return total\n",
    "```"
   ]
  },
  {
   "cell_type": "markdown",
   "id": "0641ec1d",
   "metadata": {},
   "source": [
    "- for python 3.9+, use `collections.abc.Iterable` instead"
   ]
  },
  {
   "cell_type": "code",
   "execution_count": 50,
   "id": "a1db7917",
   "metadata": {},
   "outputs": [
    {
     "name": "stdout",
     "output_type": "stream",
     "text": [
      "3\n",
      "parameter must be an iterable type\n"
     ]
    }
   ],
   "source": [
    "import collections\n",
    "def customsum(values):\n",
    "    if not isinstance(values, collections.abc.Iterable):\n",
    "        raise TypeError('parameter must be an iterable type')\n",
    "    total = 0\n",
    "    for v in values:\n",
    "        if not isinstance(v, (int, float)):\n",
    "            raise TypeError('elements must be numeric')\n",
    "        total = total+ v\n",
    "    return total\n",
    "\n",
    "try:\n",
    "    print(customsum([1,2]))\n",
    "    customsum(False) # not an iterable\n",
    "except TypeError:\n",
    "    print('parameter must be an iterable type')"
   ]
  },
  {
   "cell_type": "markdown",
   "id": "58424f25",
   "metadata": {},
   "source": [
    "- ***try/except*** (like Java try/catch)"
   ]
  },
  {
   "cell_type": "code",
   "execution_count": 51,
   "id": "c9cef49e",
   "metadata": {},
   "outputs": [
    {
     "name": "stdout",
     "output_type": "stream",
     "text": [
      "Unable to open the file due to following error\n",
      " [Errno 2] No such file or directory: 'doesnotexist. txt'\n"
     ]
    }
   ],
   "source": [
    "try:\n",
    "    fp = open('doesnotexist. txt')\n",
    "except IOError as e:\n",
    "    print('Unable to open the file due to following error\\n', e)"
   ]
  },
  {
   "cell_type": "markdown",
   "id": "0e73ba09-7de1-4659-ac9d-dc884845aed3",
   "metadata": {},
   "source": [
    "**Catching an exception**\n",
    "\n",
    "- \"look before you leap\" philosophy\n",
    "    - use `if`/`else` to try and avoid raising exceptions in first place\n",
    "- \"it's easier to ask for forgiveness than get permission\"\n",
    "    - can't safeguard against every possible case\n",
    "    - use `try`-`except` to guard against unknown inputs\n",
    "- `pass` keyword - catch exception, then do nothing, but allows program to continue executing statements\n",
    "\n",
    "```\n",
    "except (ValueError, EOFError):\n",
    "    pass\n",
    "```"
   ]
  },
  {
   "cell_type": "markdown",
   "id": "2a6b32f7",
   "metadata": {},
   "source": [
    "<a id=\"1.8\"></a>\n",
    "## 1.8 Iterators and Generators\n",
    "\n",
    "<a href=\"#toc\">Table of Contents</a>"
   ]
  },
  {
   "cell_type": "markdown",
   "id": "864c6a65-5c3d-483a-b134-bfec157d6d01",
   "metadata": {},
   "source": [
    "### **Iterators**\n",
    "\n",
    "https://docs.python.org/3/glossary.html#term-iterable"
   ]
  },
  {
   "cell_type": "markdown",
   "id": "3bb67cfa-213e-44a6-8a82-d4f8120bd51d",
   "metadata": {},
   "source": [
    "- Container types such as `list`,`tuple`,`set` inherit `object` class"
   ]
  },
  {
   "cell_type": "code",
   "execution_count": 52,
   "id": "d1310e8e-1895-45d8-bfd0-6a6aeef4ae6d",
   "metadata": {},
   "outputs": [
    {
     "name": "stdout",
     "output_type": "stream",
     "text": [
      "(<class 'object'>,)\n"
     ]
    }
   ],
   "source": [
    "print(list.__bases__)"
   ]
  },
  {
   "cell_type": "code",
   "execution_count": 53,
   "id": "d459d740-b6da-469e-836c-abfc2ea3bf98",
   "metadata": {},
   "outputs": [
    {
     "name": "stdout",
     "output_type": "stream",
     "text": [
      "1\n",
      "2\n",
      "3\n",
      "4\n",
      "StopIteration\n"
     ]
    }
   ],
   "source": [
    "list1 = [1,2,3,4]\n",
    "i = iter(list1) # iter() is a required method iterable\n",
    "try:\n",
    "    while True:\n",
    "        print(next(i)) # iterator obj has next() method\n",
    "except StopIteration:\n",
    "    print('StopIteration') # iter obj throws StopIteration at end"
   ]
  },
  {
   "cell_type": "markdown",
   "id": "e37c6546-fee5-4dc5-838a-8038f23aaa98",
   "metadata": {},
   "source": [
    "- **iterator** - `obj` that manages iteration through a series of values  \n",
    "    - has built-in function `next()` that can be called until `StopIteration` exception\n",
    "    - can call `obj`'s `__next__()` method or pass to built-in function `next()`\n",
    "    - required to have an `__iter__()` method that returns  iterator object itself"
   ]
  },
  {
   "cell_type": "markdown",
   "id": "c07b9e08-6b8d-437e-998d-ec977333a7ec",
   "metadata": {},
   "source": [
    "- **iterable** - `obj` that produces an *iterator* via syntax `iter(obj)`\n",
    "    - `list`, `str`, `tuple`, `str`, `dict` are all ***iterable classes***\n",
    "    - can be used in `for` loop and with `zip()` and `map()`"
   ]
  },
  {
   "cell_type": "markdown",
   "id": "2339214a-96b1-4c95-bfb4-a58386771fc3",
   "metadata": {},
   "source": [
    "- ***iterator vs iterable***\n",
    "\n",
    ">```\n",
    "list1 = [1,2,3,4]\n",
    "i = iter(list1)\n",
    ">```\n",
    "\n",
    "- `i` is the *iterator*, but doesn't need to be explicitly declared\n",
    "    - when using a `for` loop with an *iterable*, the *iterator* is automatically created\n",
    "- `list1` is the iterable"
   ]
  },
  {
   "cell_type": "markdown",
   "id": "c52f9a64-b3df-472b-a7db-5d6c8cca8bf3",
   "metadata": {},
   "source": [
    "### **Generators**"
   ]
  },
  {
   "cell_type": "code",
   "execution_count": 54,
   "id": "9072ca6e-e58f-4ebc-82c3-67a1afa03fe9",
   "metadata": {},
   "outputs": [
    {
     "name": "stdout",
     "output_type": "stream",
     "text": [
      "1\n",
      "2\n",
      "4\n",
      "5\n",
      "10\n",
      "20\n",
      "25\n",
      "50\n",
      "100\n"
     ]
    }
   ],
   "source": [
    "def factors(n): # generator that computes factors\n",
    "    for k in range(1,n+1):\n",
    "        if n % k == 0: # divides evenly, thus k is a factor\n",
    "            yield k # yield this factor as next result\n",
    "            \n",
    "for factor in factors(100):\n",
    "    print(factor)"
   ]
  },
  {
   "cell_type": "markdown",
   "id": "aaaeb9e2-9fd0-4a56-b60a-6437e8c1f1c9",
   "metadata": {},
   "source": [
    "- **generator** - executes with `yield` statement\n",
    "    - used in place of `return` for a `def` to indicate creation of a *generator*\n",
    "    - illegal to use both `return` and `yield`\n",
    "    - for each iteration in a loop, Python executes procedure until `yield` indicates next value\n",
    "    - Generator procedure temporarily interrupted ntil another value is requested\n",
    "- Difference between generator and traditional function\n",
    "    - Generator uses *\"lazy evaluation\"*\n",
    "    - Results of generator only computed if requested\n",
    "    - Entire series of iterable doesn't need to reside in memory\n",
    "    - Generator can produce infinite series of values"
   ]
  },
  {
   "cell_type": "markdown",
   "id": "f338c26a",
   "metadata": {},
   "source": [
    "<a id=\"1.9\"></a>\n",
    "## 1.9 Additional Python Conveniences\n",
    "\n",
    "<a href=\"#toc\">Table of Contents</a>"
   ]
  },
  {
   "cell_type": "markdown",
   "id": "72f3d102-54af-4332-8905-c94e578e01cc",
   "metadata": {},
   "source": [
    "### Conditional Expressions"
   ]
  },
  {
   "cell_type": "markdown",
   "id": "b010abab-e1d7-4784-bff9-7561da2255cd",
   "metadata": {},
   "source": [
    "- ***conditional expression*** syntax\n",
    "    - `expr1 if condition else expr2`\n",
    "    - equivalent to Java syntax `condition? expr1 : expr2`"
   ]
  },
  {
   "cell_type": "code",
   "execution_count": 55,
   "id": "6f7ca4e4-7b5c-43ee-b171-fa14ac5797c9",
   "metadata": {},
   "outputs": [
    {
     "name": "stdout",
     "output_type": "stream",
     "text": [
      "2\n",
      "1\n",
      "0\n",
      "1\n",
      "2\n"
     ]
    }
   ],
   "source": [
    "def abs_test(n):\n",
    "    if n >= 0:\n",
    "        param = n\n",
    "    else:\n",
    "        param = -n\n",
    "    return param\n",
    "\n",
    "for i in range(-2,3):\n",
    "    print(abs_test(i))"
   ]
  },
  {
   "cell_type": "code",
   "execution_count": 56,
   "id": "3aa57e9d-8900-4bf9-b601-6109d2bc6834",
   "metadata": {},
   "outputs": [
    {
     "name": "stdout",
     "output_type": "stream",
     "text": [
      "2\n",
      "1\n",
      "0\n",
      "1\n",
      "2\n"
     ]
    }
   ],
   "source": [
    "def abs_test(n):\n",
    "    param = n if n >= 0 else -n # only one line\n",
    "    return param\n",
    "\n",
    "for i in range(-2,3):\n",
    "    print(abs_test(i))"
   ]
  },
  {
   "cell_type": "code",
   "execution_count": 57,
   "id": "b7dea237-2c1d-4ad3-bd5c-ecaf51c13fef",
   "metadata": {},
   "outputs": [
    {
     "name": "stdout",
     "output_type": "stream",
     "text": [
      "2\n",
      "1\n",
      "0\n",
      "1\n",
      "2\n"
     ]
    }
   ],
   "source": [
    "for i in range(-2,3):\n",
    "    print(i if i >= 0 else -i) # can put directly as param in call"
   ]
  },
  {
   "cell_type": "markdown",
   "id": "025524d1-5d60-4f96-ab04-240041c0e6ba",
   "metadata": {},
   "source": [
    "### Comprehension Syntax"
   ]
  },
  {
   "cell_type": "markdown",
   "id": "fb69cfce-051a-46be-b2ec-500ec4bb5ec9",
   "metadata": {},
   "source": [
    "- ***comprehension syntax***\n",
    "    - **list comprehension** - `expression for val in iterable if condition`"
   ]
  },
  {
   "cell_type": "code",
   "execution_count": 58,
   "id": "cdec16cf-23f0-4be5-8bc0-88f25451030a",
   "metadata": {},
   "outputs": [
    {
     "name": "stdout",
     "output_type": "stream",
     "text": [
      "[1, 2, 4, 5, 10]\n"
     ]
    }
   ],
   "source": [
    "factors = [k for k in range(1,20) if 20 % k == 0] # factors of 20\n",
    "print(factors)"
   ]
  },
  {
   "cell_type": "markdown",
   "id": "1745a2d6-d865-424b-b950-76c5c22c6e2c",
   "metadata": {},
   "source": [
    "| Syntax | Comprehension Type |\n",
    "| --- | --- |\n",
    "| `[ k*k for k in range(l, n+1) ]` | list comprehension `[]` |\n",
    "| `{ k*k for k in range(l, n+1) }` | set comprehension `{}` |\n",
    "| `( k*k for k in range(l, n+1) )` | generator comprehension `()` |\n",
    "| `{ k : k*k for k in range(l, n+1) }` | dictionary comprehension `{:}` |"
   ]
  },
  {
   "cell_type": "code",
   "execution_count": 59,
   "id": "784d48aa-56be-4ec2-8185-6f8c63b98b1e",
   "metadata": {},
   "outputs": [
    {
     "name": "stdout",
     "output_type": "stream",
     "text": [
      "{0: 0, 2: 4, 4: 16}\n"
     ]
    }
   ],
   "source": [
    "# store dict of even root/square pairs\n",
    "mydic = { k : k*k for k in range(0,6) if k % 2 == 0 }\n",
    "print(mydic)"
   ]
  },
  {
   "cell_type": "markdown",
   "id": "88624267-fd9b-4374-bea6-506356cbc8c6",
   "metadata": {},
   "source": [
    "### Packing and Unpacking Sequences"
   ]
  },
  {
   "cell_type": "markdown",
   "id": "cf047333-7720-4563-a698-5a1404fa7e5a",
   "metadata": {},
   "source": [
    "- ***automatic tuple assignment***\n",
    "    - when given series of comma-separated expressions\n",
    "        - `data = 2,4,6,8`\n",
    "- behavior called ***\"automatic packing\"***\n",
    "- common use case is for `return` multiple vals in function\n",
    "- can ***unpack*** by writing comma-separated identifiers\n",
    "    - when unpacking, number of declared variables must match `len(tuple)`"
   ]
  },
  {
   "cell_type": "code",
   "execution_count": 60,
   "id": "74589f27-5eba-43b6-8a94-c41ca0173a61",
   "metadata": {},
   "outputs": [
    {
     "name": "stdout",
     "output_type": "stream",
     "text": [
      "(1, 2, 3) <class 'tuple'>\n",
      "1 2 3\n"
     ]
    }
   ],
   "source": [
    "def autotest():\n",
    "    return 1,2,3\n",
    "\n",
    "packed = autotest()\n",
    "print(packed,type(packed))\n",
    "\n",
    "# unpacked\n",
    "a,b,c = autotest()\n",
    "print(a,b,c)"
   ]
  },
  {
   "cell_type": "code",
   "execution_count": 61,
   "id": "63d938a8-7bce-4647-a953-3178afc6156a",
   "metadata": {},
   "outputs": [
    {
     "name": "stdout",
     "output_type": "stream",
     "text": [
      "1 2\n",
      "3 4\n"
     ]
    }
   ],
   "source": [
    "# unpacking works in a loop as well\n",
    "for x,y in [(1,2), (3,4)]:\n",
    "    print(x,y)"
   ]
  },
  {
   "cell_type": "code",
   "execution_count": 62,
   "id": "98597e45-ff21-4d5e-9991-7596ec3970cd",
   "metadata": {},
   "outputs": [
    {
     "name": "stdout",
     "output_type": "stream",
     "text": [
      "dict_items([(0, 0), (1, 1), (2, 4), (3, 9)])\n",
      "0^2 = 0\n",
      "1^2 = 1\n",
      "2^2 = 4\n",
      "3^2 = 9\n"
     ]
    }
   ],
   "source": [
    "mydic = { n: n**2 for n in range(0,4)}\n",
    "print(mydic.items()) # returns list of tuple key,value pairs\n",
    "for key,val in mydic.items():\n",
    "    print('%i^2 = %i' % (key,val))"
   ]
  },
  {
   "cell_type": "markdown",
   "id": "3967342f-5882-4be2-a890-9c8daee5f4b0",
   "metadata": {},
   "source": [
    "- ***simultaneous assignments***\n",
    "    - instead of pack/unpack, assign multiple at once\n",
    "    - `x,y,z = 1,2,3`"
   ]
  },
  {
   "cell_type": "code",
   "execution_count": 63,
   "id": "3056f3f0-52b0-4142-b97b-537872c5bf51",
   "metadata": {},
   "outputs": [
    {
     "name": "stdout",
     "output_type": "stream",
     "text": [
      "3\n",
      "1\n",
      "2\n"
     ]
    }
   ],
   "source": [
    "x,y,z = 1,2,3\n",
    "x,y,z = z,x,y # RHS eval first, then assigned LHS\n",
    "print(x)\n",
    "print(y)\n",
    "print(z)"
   ]
  },
  {
   "cell_type": "markdown",
   "id": "9f42a243",
   "metadata": {},
   "source": [
    "<a id=\"1.10\"></a>\n",
    "## 1.10 Scopes and Namespaces\n",
    "\n",
    "<a href=\"#toc\">Table of Contents</a>"
   ]
  },
  {
   "cell_type": "markdown",
   "id": "6582f0b1-bc81-47a8-9ee1-9264b5649bfa",
   "metadata": {},
   "source": [
    "- ***name resolution***\n",
    "    - `NameError` thrown if trying to use a variable that's not assigned yet\n",
    "- ***scope***\n",
    "    - Top-level assignments are in `global` scope\n",
    "    - assignments inside a function are `local` scope\n",
    "    - use `global` keyword to assign to top-level from inside function\n",
    "    - each distinct level of scope is called a ***namespace***\n",
    "- ***first-class objects***\n",
    "    - instances of a type that can be:\n",
    "        - assigned to an identifier,\n",
    "        - passed as a parameter,\n",
    "        - or returned by a function\n",
    "    - ex: `int`, `list` or other data type\n",
    "    - can be aliased"
   ]
  },
  {
   "cell_type": "code",
   "execution_count": 64,
   "id": "5e1a6893-03ce-4314-b954-c9d899b8e08a",
   "metadata": {},
   "outputs": [
    {
     "name": "stdout",
     "output_type": "stream",
     "text": [
      "NameError\n"
     ]
    }
   ],
   "source": [
    "try:\n",
    "    print(undefinedval)\n",
    "except NameError:\n",
    "    print('NameError')"
   ]
  },
  {
   "cell_type": "code",
   "execution_count": 65,
   "id": "3cfc8c24-8816-4c06-81fb-de7e554c916c",
   "metadata": {},
   "outputs": [
    {
     "name": "stdout",
     "output_type": "stream",
     "text": [
      "hello\n"
     ]
    }
   ],
   "source": [
    "scream = print # assign name ‘scream’ to the function denoted as print\n",
    "scream(\"hello\") # call that function"
   ]
  },
  {
   "cell_type": "markdown",
   "id": "00429241",
   "metadata": {},
   "source": [
    "<a id=\"1.11\"></a>\n",
    "## 1.11 Modules and the Import Statement\n",
    "\n",
    "<a href=\"#toc\">Table of Contents</a>"
   ]
  },
  {
   "cell_type": "markdown",
   "id": "3a20ff9e-51fb-4b11-9ea7-a61ddf1de535",
   "metadata": {},
   "source": [
    "- ***importing***\n",
    "    - `from math import *` imports ***all*** methods in `math` module\n",
    "    - use this sparingly because it overrides any functions with same name\n",
    "- ***Creating a module***\n",
    "    - use `if __name__ == '__main__':` for methods you don't want executed when importing\n",
    "        - if you create a module `mymod.py` with this statement,\n",
    "            - `python3 mymod.py` will execute all these statements\n",
    "        - if you import using `import mymod` in another module,\n",
    "            - will ***not*** execute statements in this block\n",
    "    - similar to `public static void main(string[] args) {` in Java"
   ]
  },
  {
   "cell_type": "code",
   "execution_count": 66,
   "id": "7ad11a9f-edf9-4da9-84eb-52799a6a3745",
   "metadata": {},
   "outputs": [
    {
     "name": "stdout",
     "output_type": "stream",
     "text": [
      "this works only because it's not imported\n"
     ]
    }
   ],
   "source": [
    "if __name__ == '__main__':\n",
    "    print(\"this works only because it's not imported\")"
   ]
  },
  {
   "cell_type": "markdown",
   "id": "07308920-11bb-4bf0-83df-532cce48a7bf",
   "metadata": {},
   "source": [
    "- ***existing modules inherently available in python***\n",
    "\n",
    "![](./notebookimg/existing-modules.jpg)"
   ]
  },
  {
   "cell_type": "markdown",
   "id": "436d343e",
   "metadata": {},
   "source": [
    "<a id=\"1.12\"></a>\n",
    "## 1.12 Exercises\n",
    "\n",
    "<a href=\"#toc\">Table of Contents</a>"
   ]
  },
  {
   "cell_type": "markdown",
   "id": "f478d02f-97e7-455d-9b39-a2b6e8ca0643",
   "metadata": {},
   "source": [
    "### R1.1\n",
    "\n",
    "- Write a short Python function, `is_multiple(n, m)`, that takes two integer values and\n",
    "    - returns `True` if `n` is a multiple of `m`,\n",
    "    - that is, `n = mi` for some integer `i`,\n",
    "    - and `False` otherwise"
   ]
  },
  {
   "cell_type": "code",
   "execution_count": 67,
   "id": "4a82c865-1f93-424f-988c-3a38dc9b4cc1",
   "metadata": {},
   "outputs": [
    {
     "name": "stdout",
     "output_type": "stream",
     "text": [
      "is_multiple(-2,-2)? True\n",
      "is_multiple(-2,-1)? True\n",
      "is_multiple(-2,0)? False\n",
      "is_multiple(-2,1)? True\n",
      "is_multiple(-2,2)? True\n",
      "is_multiple(-1,-2)? False\n",
      "is_multiple(-1,-1)? True\n",
      "is_multiple(-1,0)? False\n",
      "is_multiple(-1,1)? True\n",
      "is_multiple(-1,2)? False\n",
      "is_multiple(0,-2)? False\n",
      "is_multiple(0,-1)? False\n",
      "is_multiple(0,0)? True\n",
      "is_multiple(0,1)? False\n",
      "is_multiple(0,2)? False\n",
      "is_multiple(1,-2)? False\n",
      "is_multiple(1,-1)? True\n",
      "is_multiple(1,0)? False\n",
      "is_multiple(1,1)? True\n",
      "is_multiple(1,2)? False\n",
      "is_multiple(2,-2)? True\n",
      "is_multiple(2,-1)? True\n",
      "is_multiple(2,0)? False\n",
      "is_multiple(2,1)? True\n",
      "is_multiple(2,2)? True\n"
     ]
    }
   ],
   "source": [
    "def is_multiple(n,m):\n",
    "    n,m = abs(n),abs(m)\n",
    "    if m > n:\n",
    "        return False\n",
    "    elif m == n or m == 1:\n",
    "        return True\n",
    "    \n",
    "    check = False\n",
    "    for i in range(n):\n",
    "        if m*i == n:\n",
    "            check = True\n",
    "    return check\n",
    "\n",
    "for i in range(-2,3):\n",
    "    for j in range(-2,3):\n",
    "        print('is_multiple(%i,%i)?' %(i,j), is_multiple(i,j))"
   ]
  },
  {
   "cell_type": "markdown",
   "id": "33fc2cf4-6911-431b-bb79-56831f02d174",
   "metadata": {},
   "source": [
    "### R1.2\n",
    "\n",
    "- Write a short Python function, `is_even(k)`, that\n",
    "    - takes an `int` value and \n",
    "    - returns `True` if `k` is even, and \n",
    "    - `False` otherwise.\n",
    "    \n",
    "- **constraints**\n",
    "    - your function cannot use the multiplication, modulo, or division operators."
   ]
  },
  {
   "cell_type": "code",
   "execution_count": 68,
   "id": "9c5a8d62-7373-43fb-b48d-ebac7a635381",
   "metadata": {},
   "outputs": [
    {
     "name": "stdout",
     "output_type": "stream",
     "text": [
      "0 True\n",
      "1 False\n",
      "2 True\n",
      "3 False\n",
      "4 True\n",
      "5 False\n"
     ]
    }
   ],
   "source": [
    "def is_even( k: int ) -> bool:\n",
    "    lsb = int(bin(k)[len(bin(k)) - 1])\n",
    "    return False if lsb != 0 else True\n",
    "\n",
    "for i in range(6):\n",
    "    print(i,is_even(i))"
   ]
  },
  {
   "cell_type": "markdown",
   "id": "800d69e3-a618-4a03-b59a-9fd7fdcfcea8",
   "metadata": {},
   "source": [
    "### R1.3\n",
    "\n",
    "- Write a short Python function, `minmax(data)`,\n",
    "    - that takes a sequence of one or more numbers, and \n",
    "    - returns the smallest and largest numbers, in the form of a tuple of length two.\n",
    "- **constraints**\n",
    "    - Do not use the built-in functions min or max in implementing your solution"
   ]
  },
  {
   "cell_type": "code",
   "execution_count": 69,
   "id": "ff4b30e3-e14a-4812-b883-0c0097122456",
   "metadata": {},
   "outputs": [
    {
     "name": "stdout",
     "output_type": "stream",
     "text": [
      "(-2, 99)\n",
      "(-2, 99)\n",
      "(-2, 99)\n",
      "(-2, 99)\n"
     ]
    }
   ],
   "source": [
    "def minmax(data):\n",
    "    if len(data) == 0:\n",
    "        return (None,None)\n",
    "    elif len(data) == 1:\n",
    "        return (data[0],data[0])\n",
    "    # using built-in sorted method\n",
    "    sdata = list(data)\n",
    "    sdata.sort()\n",
    "    return sdata[0],sdata[len(sdata)-1]\n",
    "\n",
    "print(minmax([52,2,1,-2,5,99]))\n",
    "print(minmax((52,2,1,-2,5,99)))\n",
    "print(minmax({52:0,2:0,1:0,-2:0,5:0,99:0}))\n",
    "print(minmax({52,2,1,-2,5,99}))"
   ]
  },
  {
   "cell_type": "code",
   "execution_count": 70,
   "id": "cccb01cc-088e-4866-8748-0049348f9762",
   "metadata": {},
   "outputs": [
    {
     "name": "stdout",
     "output_type": "stream",
     "text": [
      "(-2, 99)\n"
     ]
    }
   ],
   "source": [
    "def minmax(data):\n",
    "    if len(data) == 0:\n",
    "        return (None,None)\n",
    "    elif len(data) == 1:\n",
    "        return (data[0],data[0])\n",
    "    mindata = data[0]\n",
    "    maxdata = data[0]\n",
    "    for i in data:\n",
    "        mindata = i if i < mindata else mindata\n",
    "        maxdata = i if i > mindata else maxdata\n",
    "    return mindata, maxdata\n",
    "\n",
    "print(minmax([52,2,1,-2,5,99]))"
   ]
  },
  {
   "cell_type": "markdown",
   "id": "9036b3e3-f2ad-4677-a638-f24735a86108",
   "metadata": {},
   "source": [
    "### R1.4\n",
    "\n",
    "- Write a short Python function that,\n",
    "    - takes a positive integer `n`, and \n",
    "    - returns the `sum` of the squares of all the positive integers smaller than `n`."
   ]
  },
  {
   "cell_type": "markdown",
   "id": "b7d49997-c4d6-44ad-8105-38c2ee309a74",
   "metadata": {},
   "source": [
    "Thought process...\n",
    "\n",
    "for given $n$, find a sum following pattern\n",
    "$$\n",
    "0^2 + 1^2 + 2^2 + 3^2 + 4^2 \\ + \\ ... \\ + \\ (n-1)^2\\\\\n",
    "= \\\\\n",
    "0 + 1 + 4 + 9 + 16  \\ + \\ ... \\ + \\ (n-1)^2\n",
    "$$"
   ]
  },
  {
   "cell_type": "code",
   "execution_count": 71,
   "id": "5323a633-87ad-4056-ad81-53f982d4bab9",
   "metadata": {},
   "outputs": [
    {
     "name": "stdout",
     "output_type": "stream",
     "text": [
      "n | sum of squares\n",
      "0 | 0\n",
      "1 | 0\n",
      "2 | 1\n",
      "3 | 5\n",
      "4 | 14\n",
      "5 | 30\n",
      "6 | 55\n",
      "7 | 91\n",
      "8 | 140\n",
      "9 | 204\n",
      "10 | 285\n",
      "11 | 385\n",
      "12 | 506\n",
      "13 | 650\n",
      "14 | 819\n"
     ]
    }
   ],
   "source": [
    "# looking for pattern\n",
    "print('n | sum of squares')\n",
    "for i in range(15):\n",
    "    print(i,'| ', end='')\n",
    "    total = 0\n",
    "    for j in range(i):\n",
    "        total += j**2\n",
    "    print(total)"
   ]
  },
  {
   "cell_type": "code",
   "execution_count": 72,
   "id": "0d1bb26f-f2ce-435d-a723-66661b6f73a7",
   "metadata": {},
   "outputs": [
    {
     "name": "stdout",
     "output_type": "stream",
     "text": [
      "30\n"
     ]
    }
   ],
   "source": [
    "def sum_squares(n:int) -> int:\n",
    "    total = 0\n",
    "    for i in range(1,n):\n",
    "        total += i**2\n",
    "    return total\n",
    "\n",
    "print(sum_squares(5))"
   ]
  },
  {
   "cell_type": "markdown",
   "id": "b3129ee5-e28c-42eb-b503-c08dfe3acbe2",
   "metadata": {},
   "source": [
    "### R1.5\n",
    "\n",
    "- Give a single command that\n",
    "    - computes the sum from Exercise R-1.4, \n",
    "    - relying on Python's comprehension syntax and the builtin `sum` function."
   ]
  },
  {
   "cell_type": "code",
   "execution_count": 73,
   "id": "0e99c866-29a5-4bf5-8587-91c06605c50f",
   "metadata": {},
   "outputs": [
    {
     "name": "stdout",
     "output_type": "stream",
     "text": [
      "n | sum of squares\n",
      "0 |  0\n",
      "1 |  0\n",
      "2 |  1\n",
      "3 |  5\n",
      "4 |  14\n",
      "5 |  30\n",
      "6 |  55\n",
      "7 |  91\n",
      "8 |  140\n",
      "9 |  204\n"
     ]
    }
   ],
   "source": [
    "def sum_squares(n:int) -> int:\n",
    "    # Set should be faster I think than ordered list\n",
    "    return sum({k**2 for k in range(1,n)})\n",
    "\n",
    "\n",
    "print('n | sum of squares')\n",
    "for i in range(10):\n",
    "    print(i, '| ',sum_squares(i))"
   ]
  },
  {
   "cell_type": "markdown",
   "id": "78c5328d-ab49-452d-988d-9a4684f6e82e",
   "metadata": {},
   "source": [
    "### R1.6\n",
    "\n",
    "- Write a short Python function that\n",
    "    - takes a positive integer `n` and \n",
    "    - returns the `sum` of the squares of all the odd positive integers smaller than `n`."
   ]
  },
  {
   "cell_type": "code",
   "execution_count": 74,
   "id": "549f8367-065e-4c0f-8a4a-c7315223084f",
   "metadata": {},
   "outputs": [
    {
     "name": "stdout",
     "output_type": "stream",
     "text": [
      "n | sum of odd squares\n",
      "0 |  0\n",
      "1 |  0\n",
      "2 |  1\n",
      "3 |  5\n",
      "4 |  14\n",
      "5 |  30\n",
      "6 |  55\n",
      "7 |  91\n",
      "8 |  140\n",
      "9 |  204\n"
     ]
    }
   ],
   "source": [
    "def sum_odd_squares(n:int) -> int:\n",
    "    total = 0\n",
    "    for i in range(1,n):\n",
    "        if i % 2 != 0:\n",
    "            total += i**2\n",
    "    return total\n",
    "\n",
    "print('n | sum of odd squares')\n",
    "for i in range(10):\n",
    "    print(i, '| ',sum_squares(i))"
   ]
  },
  {
   "cell_type": "markdown",
   "id": "f0063b08-35e4-4c33-abc0-c4662db656a6",
   "metadata": {},
   "source": [
    "### R1.7\n",
    "\n",
    "- Give a single command that computes\n",
    "    - the sum from Exercise R-1.6,\n",
    "    - relying on Python's comprehension syntax and the builtin sum function."
   ]
  },
  {
   "cell_type": "code",
   "execution_count": 75,
   "id": "7182e855-5677-4aaf-93a8-f07f398fa67b",
   "metadata": {},
   "outputs": [
    {
     "name": "stdout",
     "output_type": "stream",
     "text": [
      "n | sum of odd squares\n",
      "0 |  0\n",
      "1 |  0\n",
      "2 |  1\n",
      "3 |  5\n",
      "4 |  14\n",
      "5 |  30\n",
      "6 |  55\n",
      "7 |  91\n",
      "8 |  140\n",
      "9 |  204\n"
     ]
    }
   ],
   "source": [
    "def sum_odd_squares(n:int) -> int:\n",
    "    return sum({k**2 for k in range(1,n) if k % 2 != 0})\n",
    "\n",
    "print('n | sum of odd squares')\n",
    "for i in range(10):\n",
    "    print(i, '| ',sum_squares(i))"
   ]
  },
  {
   "cell_type": "markdown",
   "id": "c3794b01-e6ce-4a56-b183-fdfddb3de911",
   "metadata": {},
   "source": [
    "### R1.8\n",
    "\n",
    "Python allows negative integers to be used as indices into a sequence, such as a string.\n",
    "\n",
    "- If string `s` has length `n`, and \n",
    "- expression `s[k]` is used for index `−n ≤ k < 0`,\n",
    "- what is the equivalent index `j ≥ 0` such that\n",
    "- `s[j]` references the same element?"
   ]
  },
  {
   "cell_type": "markdown",
   "id": "ea31f646-f7e4-445c-9241-5e0306b2ab31",
   "metadata": {},
   "source": [
    "Answer: `k = -(n - j) = -n + j` or `j = k + n`"
   ]
  },
  {
   "cell_type": "code",
   "execution_count": 76,
   "id": "f91bbc97-f4d0-4ee1-b85e-53fe0704ac76",
   "metadata": {},
   "outputs": [
    {
     "name": "stdout",
     "output_type": "stream",
     "text": [
      "j: 0  k: -4\n",
      "s[j]==s[k]? True\n",
      "j: 1  k: -3\n",
      "s[j]==s[k]? True\n",
      "j: 2  k: -2\n",
      "s[j]==s[k]? True\n",
      "j: 3  k: -1\n",
      "s[j]==s[k]? True\n"
     ]
    }
   ],
   "source": [
    "s = 'abcd'\n",
    "n = len(s)\n",
    "for j in range(len(s)):\n",
    "    k = -n + j\n",
    "    print('j:',j,' k:',k)\n",
    "    print('s[j]==s[k]?',s[j]==s[k])"
   ]
  },
  {
   "cell_type": "markdown",
   "id": "2aabc2cc-15f2-44de-9a97-29c52dd684ed",
   "metadata": {},
   "source": [
    "### R1.9\n",
    "\n",
    "- What parameters should be sent to the range constructor, to\n",
    "    - produce a range with values 50, 60, 70, 80?"
   ]
  },
  {
   "cell_type": "markdown",
   "id": "1693ec10-3628-40f5-891d-4defe7340a67",
   "metadata": {},
   "source": [
    "Answer: `range(50,90,10)`\n",
    "\n",
    "`end` can be any `int` between `81 <= n <= 90`"
   ]
  },
  {
   "cell_type": "code",
   "execution_count": 77,
   "id": "d47f8988-0269-4dd7-a9a1-f56f080e98c8",
   "metadata": {},
   "outputs": [
    {
     "name": "stdout",
     "output_type": "stream",
     "text": [
      "[50, 60, 70, 80]\n"
     ]
    }
   ],
   "source": [
    "print(list(range(50,90,10)))"
   ]
  },
  {
   "cell_type": "markdown",
   "id": "700a9fe0-eba1-4144-8fb9-d1fc8f802a41",
   "metadata": {},
   "source": [
    "### R1.10\n",
    "\n",
    "What parameters should be sent to the `range` constructor, to\n",
    "\n",
    "produce a range with values `8, 6, 4, 2, 0, −2, −4, −6, −8`?"
   ]
  },
  {
   "cell_type": "markdown",
   "id": "50432132-e6a2-4a75-a979-e3c20a8678b1",
   "metadata": {},
   "source": [
    "Answer: `range(8,-9,-2)`"
   ]
  },
  {
   "cell_type": "code",
   "execution_count": 78,
   "id": "ec84e451-d5a1-4679-b276-a49de74eeba4",
   "metadata": {},
   "outputs": [
    {
     "name": "stdout",
     "output_type": "stream",
     "text": [
      "[8, 6, 4, 2, 0, -2, -4, -6, -8]\n"
     ]
    }
   ],
   "source": [
    "print(list(range(8,-9,-2)))"
   ]
  },
  {
   "cell_type": "markdown",
   "id": "269cc90a-7214-4c5c-89d2-25fc27aa4f6c",
   "metadata": {},
   "source": [
    "### R1.11\n",
    "\n",
    "Demonstrate how to use Python's list comprehension syntax to\n",
    "\n",
    "produce the `list` `[1, 2, 4, 8, 16, 32, 64, 128, 256]`."
   ]
  },
  {
   "cell_type": "code",
   "execution_count": 79,
   "id": "46acb098-78e8-4f0a-b859-1faa77eb45f5",
   "metadata": {},
   "outputs": [
    {
     "name": "stdout",
     "output_type": "stream",
     "text": [
      "[1, 2, 4, 8, 16, 32, 64, 128, 256]\n"
     ]
    }
   ],
   "source": [
    "print([2**k for k in range(9)])"
   ]
  },
  {
   "cell_type": "markdown",
   "id": "95e190bf-05ce-467e-a759-ca7aec60c33d",
   "metadata": {},
   "source": [
    "### R1.12"
   ]
  },
  {
   "cell_type": "markdown",
   "id": "df7c9e18-a8e2-4c1b-8e4c-15d8d45a5c71",
   "metadata": {},
   "source": [
    "Python's `random` module includes a function `choice(data)` that returns a random element from a non-empty sequence.\n",
    "\n",
    "The `random` module includes a more basic function `randrange`, with parameterization similar to the built-in `range` function, that returns a random choice from the given range.\n",
    "\n",
    "Using only the `randrange` function, implement your own version of the `choice` function."
   ]
  },
  {
   "cell_type": "markdown",
   "id": "31f4f077-192d-4a3d-aef9-324bb1adea35",
   "metadata": {},
   "source": [
    "```\n",
    "Signature: random.randrange(start, stop=None, step=1)\n",
    "Docstring:\n",
    "Choose a random item from range(start, stop[, step]).\n",
    "\n",
    "This fixes the problem with randint() which includes the\n",
    "endpoint; in Python this is usually not what you want.\n",
    "```"
   ]
  },
  {
   "cell_type": "code",
   "execution_count": 80,
   "id": "9bf49a2e-9aba-48d7-9ba6-207f513ee2f1",
   "metadata": {},
   "outputs": [
    {
     "name": "stdout",
     "output_type": "stream",
     "text": [
      "d c f e g a h c d "
     ]
    }
   ],
   "source": [
    "import random\n",
    "\n",
    "def mychoice(data):\n",
    "    return data[random.randrange(len(data))]\n",
    "\n",
    "teststr = 'abcdefgh'\n",
    "for i in range(9):\n",
    "    print(mychoice(teststr), '', end='')"
   ]
  },
  {
   "cell_type": "markdown",
   "id": "b941d922-a145-41fb-95f4-9a90f5bdbed9",
   "metadata": {},
   "source": [
    "### C1.1\n",
    "\n",
    "Write a pseudo-code description of a function that reverses a\n",
    "list of n integers, so that the numbers are listed in the opposite\n",
    "order than they were before, and compare this method to an\n",
    "equivalent Python function for doing the same thing."
   ]
  },
  {
   "cell_type": "code",
   "execution_count": 81,
   "id": "a2f4fe75-ba38-4c86-a53f-c76f8ee24c56",
   "metadata": {},
   "outputs": [
    {
     "name": "stdout",
     "output_type": "stream",
     "text": [
      "[0, 1, 2, 3, 4, 5, 6]\n",
      "[6, 5, 4, 3, 2, 1, 0]\n",
      "[6, 5, 4, 3, 2, 1, 0]\n"
     ]
    }
   ],
   "source": [
    "def revlist(listin):\n",
    "    list1 = listin\n",
    "    list2 = []\n",
    "    while list1:\n",
    "        list2.append(list1.pop())\n",
    "    return list2\n",
    "\n",
    "listin = list(range(7))\n",
    "print(listin)\n",
    "print(revlist(listin))\n",
    "\n",
    "# built-in functions\n",
    "print(list(reversed(range(7))))"
   ]
  },
  {
   "cell_type": "markdown",
   "id": "d2bed2d0",
   "metadata": {},
   "source": [
    "<a id=\"2\"></a>\n",
    "# 2 Object-Oriented Programming\n",
    "\n",
    "<a href=\"#toc\">Table of Contents</a>"
   ]
  },
  {
   "cell_type": "markdown",
   "id": "d8784a8d-c488-454a-9795-cc6d7251c68a",
   "metadata": {},
   "source": [
    "- Each ***object*** is an ***instance*** of a ***class***\n",
    "- Class definitions specify\n",
    "    - ***instance variables*** aka ***data members***\n",
    "    - ***methods*** aka ***member functions***"
   ]
  },
  {
   "cell_type": "markdown",
   "id": "db207fec-f8ec-45f3-aec9-9e05a67c0e50",
   "metadata": {},
   "source": [
    "<a id=\"2.1\"></a>\n",
    "## 2.1 Goals, Principles, and Patterns\n",
    "\n",
    "<a href=\"#toc\">Table of Contents</a>"
   ]
  },
  {
   "cell_type": "markdown",
   "id": "528b9d35-b3c1-41a9-b6d8-95dce018ef4c",
   "metadata": {},
   "source": [
    "### Design Goals\n",
    "- Software implementations should achieve\n",
    "    1. ***Robustness***\n",
    "        - Produces correct output for all inputs\n",
    "    2. ***Adaptability***\n",
    "        - Easily configured as requirements change\n",
    "        - **portability** = ability to run with minimal change on different hardware/os\n",
    "    3. ***Reusability***\n",
    "        - Designed in a way that the code can be used in other applications and systems"
   ]
  },
  {
   "cell_type": "markdown",
   "id": "e127be5e-c62f-4392-a6a7-3e348180f48a",
   "metadata": {},
   "source": [
    "### Design Principles\n",
    "\n",
    "1. ***Modularity***\n",
    "    - Organization principle - system divided into different functional units\n",
    "    - **Module** = collection of closely related functions and classes; defined together in single file\n",
    "2. ***Abstraction***\n",
    "    - Distill complicated system down to its most fundamental parts\n",
    "    - **Abstract Data Types (ADT)** = math model of data structures specifying type of data stored\n",
    "        - specifies *what*, but not *how*\n",
    "        - collective set of behaviors supported by ADT is **public interface**\n",
    "    - **duck typing** = treating ADT implicitly \n",
    "        - no need for declarations of abstract base classes\n",
    "        - i.e. `i = 1` instead of `i = int(1)`\n",
    "    - **abstract base class (ABC)**\n",
    "        - cannot directly create instance\n",
    "        - defines one or more common methods\n",
    "        - ABC realized by one ore more **concrete classes** that inherit from ABC\n",
    "        - `abc` module provides formal support for ABCs\n",
    "        - `collections.abc` has many common ABC definitions\n",
    "3. ***Encapsulation***\n",
    "    - internals workings of part of the system not revealed\n",
    "        - ex: getters and setters\n",
    "    - ensures other programmers won't intricately depend on internal decisions\n",
    "    - ***convention for designating nonpublic data and functions***\n",
    "        - leading underscore for non-public\n",
    "        - ex `_secret`"
   ]
  },
  {
   "cell_type": "markdown",
   "id": "a6597b29-d57a-4fa8-aa1c-89542de9d4f6",
   "metadata": {},
   "source": [
    "### Design Patterns\n",
    "\n",
    "- Algorithm Design patterns in this book\n",
    "    - Recursion\n",
    "    - Amortization\n",
    "    - Divide-and-conquer\n",
    "    - Prune-and-search (decrease-and-conquer)\n",
    "    - Brute force\n",
    "    - Dynamic programming\n",
    "    - Greedy Method\n",
    "- Software Engineering design patterns in this book\n",
    "    - Iterator\n",
    "    - Adapter\n",
    "    - Position\n",
    "    - Composition\n",
    "    - Template method\n",
    "    - Locator\n",
    "    - Factory method"
   ]
  },
  {
   "cell_type": "markdown",
   "id": "2c8f6207-26f9-4410-a5f4-0a3473b1e9ab",
   "metadata": {},
   "source": [
    "<a id=\"2.2\"></a>\n",
    "## 2.2 Software Development\n",
    "\n",
    "<a href=\"#toc\">Table of Contents</a>"
   ]
  },
  {
   "cell_type": "markdown",
   "id": "f314aa6e-62a0-4a14-9317-b67606895568",
   "metadata": {},
   "source": [
    "**Major Phases of Software Development**\n",
    "\n",
    "1. Design\n",
    "2. Implementation\n",
    "3. Testing and Debugging"
   ]
  },
  {
   "cell_type": "markdown",
   "id": "aadf1398-f752-444e-8320-8a274278aa49",
   "metadata": {},
   "source": [
    "### Design\n",
    "\n",
    "Rules of thumb for designing classes\n",
    "\n",
    "- **Responsibilities**\n",
    "    - divide work into different *actors*\n",
    "    - describe responsibilities using *action verbs*\n",
    "- **Independence**\n",
    "    - work for each class on the same level should be independent of others\n",
    "- **Behaviors**\n",
    "    - *Interface* is the set of behaviors (methods) that other pieces of code interact with\n",
    "    - These should be well-defined, well-understood and precise\n",
    "    \n",
    "***CRC cards***\n",
    "- Class-Responsibility-Collaboarator cards are simple index cards that subdivide work for a program\n",
    "- Used for initial high-level design\n",
    "- LHS = methods that describe what responsibilities are for the actor\n",
    "- RHS = interactions required in order to perform its duties\n",
    "- Iterate through action/actor cycle\n",
    "    1. Identify action (responsibility)\n",
    "    2. Determine actor (component best suited to perform responsibility)\n",
    "- Using small cards forces small number of responsibilites (keeps things manageable)\n",
    "\n",
    "Example CRC\n",
    "\n",
    "<div align=\"center\"><b>Name of Class</b></div>\n",
    "\n",
    "| Responsibilities | Collaborators |\n",
    "| --- | --- |\n",
    "| method1 description | interaction1 description |\n",
    "| method2 description | interaction2 description |\n",
    "\n",
    "**Class Diagram**\n",
    "\n",
    "- *Unified Modeling Language (UML)* diagram used to express organization of a program\n",
    "- Class Diagram is one form of a UML\n",
    "- Example class diagram for `Class: CreditCard`\n",
    "\n",
    "<div align=\"center\"><b>Class: CreditCard</b></div>\n",
    "\n",
    "| Fields | Behaviors |\n",
    "| --- | --- |\n",
    "| `_customer` | `get_customer()` |\n",
    "| `_bank` | `get_bank()` |\n",
    "| `_account` | `get_account()` |\n",
    "| `_balance` | `get_balance()` |"
   ]
  },
  {
   "cell_type": "markdown",
   "id": "6eb66b49-dc44-497b-a1c3-b8af90e4f97a",
   "metadata": {},
   "source": [
    "### Pseudo-code\n",
    "\n",
    "- **Pseudo-code** = description of algorithm for human eyes only\n",
    "- mixes natural language and high-level programming constructs\n",
    "- generic (not specific to a language)"
   ]
  },
  {
   "cell_type": "markdown",
   "id": "940cea3c-b315-4ebc-9bd8-9cf9860ff23d",
   "metadata": {},
   "source": [
    "### Coding style and documentation\n",
    "\n",
    "**[Python Style Guide](https://peps.python.org/pep-0008/)**\n",
    "\n",
    "- Code blocks typically ***indented 4 spaces***\n",
    "    - avoid tabs (ensure spaces automaticall put in place of tabs in editor)\n",
    "        - tabs display different width across systems\n",
    "        - tabs and spaces not viewed identical by Python interpreter\n",
    "- Use meaningful names for identifiers\n",
    "    - Classes:\n",
    "        - Should be **capitalized** (e.g. `class Date` not `class date`)\n",
    "        - multiple words should have each new word capitalized (e.g. `class CreditCard`)\n",
    "    - Functions:\n",
    "        - Should be **lower-case**\n",
    "        - multiple words separated by underscore (e.g. `make_payment`)\n",
    "        - if purpose is solely to return a value, use noun that describes value\n",
    "            - (e.g. `sqrt(data)` not `calculate_sqrt(data)`)\n",
    "    - Individual object (e.g. paramater, instance variable, local variable):\n",
    "        - Should be **lower-case** noun\n",
    "    - Constant values:\n",
    "        - **ALL CAPITAL LETTERS** with underscores (e.g. `MAX_SIZE`\n",
    "    - Comments\n",
    "        - Simple comments inline with `# comment` style\n",
    "        - Long explanation with multiline comment block `\"\"\" ... \"\"\"`\n",
    "            \n",
    "**Documentation**\n",
    "\n",
    "- ***docstring*** - any string literal that appears as the *first* statement in module, class or function\n",
    "    - First line general description\n",
    "    - Space\n",
    "    - Following details\n",
    "- [docstring authoring guide](http://www.python.org/dev/peps/pep-0257/)\n",
    "\n",
    "Example:\n",
    "\n",
    "```\n",
    "def scale(data, factor):\n",
    "    \"\"\" Multiply all entries of numeric data list by the given factor.\n",
    "    \n",
    "    data: an instance of any mutable sequence type (such as a\n",
    "    list) containing numeric elements\n",
    "    \n",
    "    factor: a number that serves as the multiplicative factor\n",
    "    for scaling\n",
    "    \"\"\"\n",
    "    \n",
    "    for j in range(len(data)):\n",
    "        data[j] *= factor\n",
    "```"
   ]
  },
  {
   "cell_type": "markdown",
   "id": "6776fe09-8870-4e58-8b93-8079cbc293fb",
   "metadata": {},
   "source": [
    "### Testing and Debugging\n",
    "\n",
    "**Testing**\n",
    "\n",
    "- Execute program on representative subset of inputs\n",
    "- At minimum, every method of class should be tested at least once\n",
    "- *Special cases* of input tend to cause failures. Examples include:\n",
    "    - Empty or zero-length sequence\n",
    "    - sequence with 1 element\n",
    "    - all elements same\n",
    "    - sequence already in desired form\n",
    "    - sequence is in reverse of desired form\n",
    "- Additional input considerations:\n",
    "    - very large\n",
    "    - very small\n",
    "    - zeros\n",
    "    - ones\n",
    "    - negatives\n",
    "- *Top-down* vs. *Bottom-up*\n",
    "    - *Top-down* - Start at *highest* level of abstraction (most generic) and work down in class hierarchy\n",
    "        - Used with *\"stubbing\"* - replacing lower-level component with *stub*\n",
    "        - *stub* can be fixed string of expected input\n",
    "    - *Bottom-up* - Start at *lowest* level of abstraction (most specific) and work up in class hierarchy\n",
    "        - aka *unit testing* - functionality of specific component tested in isolation\n",
    "        - use `if __name__ = '__main__':` to invoke module ***only*** when called ***directly***\n",
    "            - if imported, this section of module will not execute\n",
    "        - `unittest` module is a more robust Python module for automation unit testing\n",
    "        - *regression testing* - all previous tests are re-executed after change to check for new bugs\n",
    "        \n",
    "**Debugging**\n",
    "\n",
    "- `print` statements are simple and useful tool for debugging\n",
    "- **debugger** - specialized environment for controlling and monitoring the execution\n",
    "    - **breakpoints** - designated point to stop execution within code and check for correct execution\n",
    "        - while stopped, inspect current value of variables\n",
    "    - `pdb` module provides debugging support directly within interpreter\n",
    "    - IDEs such as IDLE provide debug with GUI"
   ]
  },
  {
   "cell_type": "markdown",
   "id": "7847edce-b947-4b01-8179-da9cc459b0d4",
   "metadata": {},
   "source": [
    "<a id=\"2.3\"></a>\n",
    "## 2.3 Class Definitions\n",
    "\n",
    "<a href=\"#toc\">Table of Contents</a>"
   ]
  },
  {
   "cell_type": "markdown",
   "id": "0c88b3fe-ac26-463d-894b-144e26cb586b",
   "metadata": {},
   "source": [
    "- **member functions** - aka **methods**\n",
    "- **attributes** - aka **fields**, **instance variables**, **data members**"
   ]
  },
  {
   "cell_type": "markdown",
   "id": "2004845c-3b3a-4c18-8874-f89a038497db",
   "metadata": {},
   "source": [
    "### basic class\n",
    "\n",
    "declare class with keyword `class`\n",
    "\n",
    "```\n",
    "class MyClass:\n",
    "    def my_class_function1(self, param1, param2):\n",
    "        # some definition\n",
    "```\n",
    "\n",
    "**`self` identifier**\n",
    "\n",
    "- `self` identifies particular instance upon which member is invoked"
   ]
  },
  {
   "cell_type": "code",
   "execution_count": 82,
   "id": "71acc9b7-816b-4a53-8fe8-98e7c731f701",
   "metadata": {},
   "outputs": [
    {
     "name": "stdout",
     "output_type": "stream",
     "text": [
      "John Doe\n",
      "Evil Bank\n",
      "1000\n",
      "0\n",
      "True\n",
      "50\n",
      "False\n",
      "50\n",
      "None\n",
      "0\n"
     ]
    }
   ],
   "source": [
    "# example class\n",
    "class CreditCard:\n",
    "    \"\"\"A consumer credit card\"\"\"\n",
    "    \n",
    "    def __init__(self, customer, bank, acnt, limit):\n",
    "        \"\"\"Create a new credit card instance\n",
    "        \n",
    "        Initial balance zero\n",
    "        \n",
    "        customer: the name of customer\n",
    "        bank:     the name of the bank\n",
    "        accnt:    the account identifier\n",
    "        limit:    credit limit (measured in USD)\n",
    "        \"\"\"\n",
    "        \n",
    "        self._customer = customer\n",
    "        self._bank = bank\n",
    "        self._account = acnt\n",
    "        self._limit = limit\n",
    "        self._balance = 0\n",
    "        \n",
    "    def get_customer(self):\n",
    "        \"\"\"Return name of customer\"\"\"\n",
    "        return self._customer\n",
    "    \n",
    "    def get_bank(self):\n",
    "        \"\"\"Return bank's name\"\"\"\n",
    "        return self._bank\n",
    "    \n",
    "    def get_account(self):\n",
    "        \"\"\"Return card number (stored as string)\"\"\"\n",
    "        return self._account\n",
    "    \n",
    "    def get_limit(self):\n",
    "        \"\"\"Return credit limit\"\"\"\n",
    "        return self._limit\n",
    "    \n",
    "    def get_balance(self):\n",
    "        \"\"\"Return current balance\"\"\"\n",
    "        return self._balance\n",
    "    \n",
    "    def charge(self, price):\n",
    "        \"\"\"Charge given price to the card, assuming sufficient credit limit\n",
    "        \n",
    "        Return True if charge processed; False if charge denied\"\"\"\n",
    "        \n",
    "        if price + self._balance > self._limit:   # charge exeeds limit\n",
    "            return False                          # deny charge\n",
    "        else:\n",
    "            self._balance += price\n",
    "            return True\n",
    "        \n",
    "    def make_payment(self,amount):\n",
    "        \"\"\"Process customer payment that reduces balance\"\"\"\n",
    "        self._balance -= amount\n",
    "        \n",
    "# Example instance of class CreditCard\n",
    "cc = CreditCard('John Doe', 'Evil Bank', '0123456789', 1000)\n",
    "print(cc.get_customer())\n",
    "print(cc.get_bank())\n",
    "print(cc.get_limit())\n",
    "print(cc.get_balance())\n",
    "print(cc.charge(50))\n",
    "print(cc.get_balance())\n",
    "print(cc.charge(10e6))\n",
    "print(cc.get_balance())\n",
    "print(cc.make_payment(50))\n",
    "print(cc.get_balance())"
   ]
  },
  {
   "cell_type": "markdown",
   "id": "24ca968b-5bc3-4438-aaa5-7ba2765e759b",
   "metadata": {},
   "source": [
    "**The Constructor**\n",
    "\n",
    "- constructor declaration: `__init__`\n",
    "    - Declares how class should be instantiated (with what parameters)\n",
    "\n",
    "**Encapsulation**\n",
    "\n",
    "- As a general rule, all data members are nonpublic (e.g. `_balance`)\n",
    "- Accessors (getters) used to get data (e.g. `get_balance(self)`)\n",
    "- Update methods (setters) used to set data (e.g. `charge(self,amount)`)\n",
    "\n",
    "**Error Checking**\n",
    "\n",
    "- consider use cases for class and errors that might occur\n",
    "    - use `try`/`except` along with `raise` to make class more robust\n",
    "    \n",
    "**Testing the Class**\n",
    "\n",
    "- **method coverage** - test checks ***all*** methods at least once\n",
    "- **statement coverage** - test checks *all statements* ***within*** *all methods* execute as intended"
   ]
  },
  {
   "cell_type": "markdown",
   "id": "56d866af-dbe7-421b-a4df-1a77cd39dc3d",
   "metadata": {},
   "source": [
    "### Operator overloading and special methods\n",
    "\n",
    "**special methods**\n",
    "\n",
    "- built-in methods sandwiched with double-underscores (aka \"dunder\" methods)\n",
    "- e.g. `__add__`\n",
    "\n",
    "![](./notebookimg/special-method-list.jpg)\n",
    "\n",
    "**operator overloading**\n",
    "\n",
    "- `+` operator adds for some types, but concatenates for others\n",
    "- operator is undefined by default for a new class\n",
    "- author can define through **operator overloading** with a dunder method\n",
    "    - e.g. `__add__` to explicitly define addition: `a.__add__(b)`\n",
    "    - so `a + b` is represented by `a.__add__(b)`\n",
    "- checks if left-hand side of operator is a type that handles the operator\n",
    "    - if LHS doesn't handle, it checks right side and tries right to left\n",
    "    - e.g. `'test' * 3` checks LHS and if it doesn't support, then checks RHS\n",
    "        - LHS check: `'test'.__mul__(3)`\n",
    "        - RHS check: `3.__rmul__('test')`\n",
    "\n",
    "**non-operator overloading**\n",
    "\n",
    "- `str(foo)` represented by `foo.__str__()` that returns appropriate string representation\n",
    "- `__len__` is routinely defined to return size of data structure\n",
    "\n",
    "**Implied methods**\n",
    "\n",
    "- `__bool__` evaluates to `True` for objects other than `None` if not overloaded\n",
    "- `__iter__` implied if `__len__` and `__getitem__` defined\n",
    "    - once iterator defined, `__contains__` provided by default\n",
    "- In 1.3, `is` identifies same object, `==` identifies *equivalent* values\n",
    "    - *equivalent* depends on `__eq__`\n",
    "    - if `__eq__` not defined, instance is equivalent to self and no others (i.e. `is` same as `==`)\n",
    "- "
   ]
  },
  {
   "cell_type": "markdown",
   "id": "eb4d277e-022f-40d7-8952-37d5495f1422",
   "metadata": {},
   "source": [
    "### Example: multidim vector class\n",
    "\n",
    "- **polymophism** - means \"having many forms\"\n",
    "    - same function name, but different signatures being used for different types\n",
    "    - `len(\"test\")` and `len([1,2,3])` use same function on different types\n",
    "\n",
    "![](./notebookimg/Vector-class-example.jpg)"
   ]
  },
  {
   "cell_type": "markdown",
   "id": "38d29674-e690-4d73-a460-df4292b19286",
   "metadata": {},
   "source": [
    "### Iterators\n",
    "\n",
    "- **Iterators** support `__next__` that returns next element of collection.\n",
    "    - Raises `StopIteration` exception at end\n",
    "    - Rare to use directly\n",
    "- **Generator** automatically produces iterator of yielded values\n",
    "    - also helps provide automatic implementation for classes t hat define `__len__` and `__getitem__`\n",
    "    \n",
    "![](./notebookimg/SequenceIterator.jpg)"
   ]
  },
  {
   "cell_type": "markdown",
   "id": "8aa524d0-bb6c-43c9-b3d7-c57d75861bc4",
   "metadata": {},
   "source": [
    "### Range Class Example\n",
    "\n",
    "- uses \"lazy evaluation\" to represent a range, but not store data\n",
    "    - has `__len__` and `__getitem__` defined, so automatically inherits support for iteration\n",
    "\n",
    "![](./notebookimg/Range.jpg)"
   ]
  },
  {
   "cell_type": "markdown",
   "id": "b7ba4b1c",
   "metadata": {},
   "source": [
    "<a id=\"2.4\"></a>\n",
    "## 2.4 Inheritance\n",
    "\n",
    "<a href=\"#toc\">Table of Contents</a>"
   ]
  },
  {
   "cell_type": "markdown",
   "id": "09d00744-1fc7-4d32-9ab4-ec0bd37154cd",
   "metadata": {},
   "source": [
    "- **Software hierarchy** - similar abstract definitions grouped together in a level-by-level manner\n",
    "    - Lower levels will be ***subsets*** (low-level $\\subset$ high-level)\n",
    "    - Higher levels will be ***supersets*** (high-level $\\supset$ low-level)\n",
    "    - Correspondense between levels is an ***\"is a\" relationship***\n",
    "        - e.g. (hierarchy low->high) woman -> human -> mammal\n",
    "        - A **woman** *is a* **human** *is a* **mammal**\n",
    "- **Inheritance** - Lower-levels inherit the properties from higher levels in hierarchy\n",
    "    - Existing class described as: **base class, parent class,** or **superclass**\n",
    "    - Newly defined class described as: **subclass** or **child class**\n",
    "- Subclasses differentiate themselves by\n",
    "    - ***specializing*** an existing behavior that ***overrides*** a method, and/or\n",
    "    - ***extending*** the superclass by providing new behaviors (methods)"
   ]
  },
  {
   "cell_type": "markdown",
   "id": "4d822c63-5ecc-4e07-80b7-8335bb89adec",
   "metadata": {},
   "source": [
    "    \n",
    "- **Python Exception hierarchy:**\n",
    "\n",
    "![](./notebookimg/Exceptions.jpg)"
   ]
  },
  {
   "cell_type": "markdown",
   "id": "24132e18-c3f4-4946-bfc0-a7c6408e7cb6",
   "metadata": {},
   "source": [
    "### Extending CreditCard Class\n",
    "\n",
    "![](./notebookimg/PredatoryCreditCard-class-diagram.jpg)\n",
    "![](./notebookimg/PredatoryCreditCard.jpg)\n",
    "\n",
    "- `super().__init__(customer, bank, acnt, limit)`\n",
    "    - Line 1 - superclass defined: `class PredatoryCreditCard(CreditCard)`\n",
    "    - Line 15 - superclass methods included: `super()` calls `CreditCard`'s `__init__` method"
   ]
  },
  {
   "cell_type": "markdown",
   "id": "e9125bdf-d76d-49cb-a3a0-2b60620db60a",
   "metadata": {},
   "source": [
    "#### Protected Members\n",
    "\n",
    "- **Protected Members** are members that have access to secret fields (e.g. `_field`) of a class\n",
    "- `PredatoryCreditCard` can access `self._balance` because it is a declared subclass and therefore a protected member\n",
    "    - Python doesn't support formal access control, but\n",
    "    - Single underscore `_field` akin to \"protected\"\n",
    "    - Double underscore `__field` akin to \"private\""
   ]
  },
  {
   "cell_type": "markdown",
   "id": "6ab20059-e37a-4944-abb3-d4c665d13613",
   "metadata": {},
   "source": [
    "### Abstract Base Classes\n",
    "\n",
    "- **Abstract base class (ABC)** := class with sole purpose of serving as base for inheritance\n",
    "    - ABC cannot be instantiated directly (basically a blank template to group similar classes)\n",
    "    - may guarantee one or more **abstract methods**\n",
    "    - `abc` module provides support for defining formal ABC\n",
    "    - `collections` module provides ABCs that assist in defining custom data structures that share common interface with Python's built-in data\n",
    "- **Concrete class** := class that can be instantiated\n",
    "- **Template method pattern** - ABC provides concrete behaviors that rely on calls to other abstract behaviors\n",
    "    - once subclass provides definitions for missing abstract behavior, inherited concrete behaviors are well defined\n",
    "    \n",
    "![](./notebookimg/ABC-Sequence.jpg)"
   ]
  },
  {
   "cell_type": "markdown",
   "id": "f1f8c58f-6ca8-41bf-9ea5-7dbdc22e20d3",
   "metadata": {},
   "source": [
    "### Hierarchy of numeric progressions\n",
    "\n",
    "- **arithmetic progression** - `next = last + k` where `k` is a fixed value (i.e. add constant to last to get next)\n",
    "- **geometric progression** - `next = last * k` where `k` is a fixed value (i.e. multiply constant to last to get next)\n",
    "- **fibionacci progression** = `n = (n-1) + (n-2)` (i.e. add last 2 to get next)\n",
    "\n",
    "![](./notebookimg/ProgressionTree.jpg)\n",
    "\n",
    "- `Progression` implements ***iterator*** from Python, which uses `__next__` and `__iter__` methods"
   ]
  },
  {
   "cell_type": "code",
   "execution_count": 1,
   "id": "bd263b56-eae2-4a55-89b6-37e621987e35",
   "metadata": {},
   "outputs": [],
   "source": [
    "# Progression class\n",
    "class Progression:\n",
    "    \"\"\"Iterator producing generic progression.\n",
    "    \n",
    "    Default iterator produces whole numbers 0, 1, 2, ...\n",
    "    \"\"\"\n",
    "    \n",
    "    def __init__(self, start=0):\n",
    "        \"\"\"Initialize current to the first value of the progression\"\"\"\n",
    "        self._current = start\n",
    "        \n",
    "    def _advance(self):\n",
    "        \"\"\"Update self._current to a new value\n",
    "        \n",
    "        This should be overridden by subclass to customize progression\n",
    "        \n",
    "        By convention, if current is set to None, this designates\n",
    "        the end of a finite progression\n",
    "        \"\"\"\n",
    "        self._current += 1\n",
    "        \n",
    "    def __next__(self):\n",
    "        \"\"\"Return the next element, or esle raise StopIteration error\"\"\"\n",
    "        if self._current is None:    # convention for end progression\n",
    "            raise StopIteration()\n",
    "        else:\n",
    "            answer = self._current   # record current val to return\n",
    "            self._advance()          # advance to prepare for next\n",
    "            return answer\n",
    "        \n",
    "    def __iter__(self):\n",
    "        \"\"\"By convention, an iterator must return itself as an iterator\"\"\"\n",
    "        return self\n",
    "    \n",
    "    def print_progression(self, n):\n",
    "        \"\"\"Print next n values of the progression\"\"\"\n",
    "        print(' '.join(str(next(self)) for j in range(n)))        "
   ]
  },
  {
   "cell_type": "code",
   "execution_count": 2,
   "id": "d06ee466-90c5-472c-af9f-ee72e677a470",
   "metadata": {},
   "outputs": [],
   "source": [
    "# Arithmetic Progression class\n",
    "class ArithmeticProgression(Progression): # inherit from Progression\n",
    "    \"\"\"Iterator producing an arithmetic progression\"\"\"\n",
    "    \n",
    "    def __init__(self, increment=1, start=0):\n",
    "        \"\"\"Create a new arithmetic progression\n",
    "        \n",
    "        increment: the fixed constant to add to each term (default 1)\n",
    "        start:     the first term of progression (default 0)\n",
    "        \"\"\"\n",
    "        super().__init__(start)   # initialize base class\n",
    "        self._increment = increment\n",
    "        \n",
    "    def _advance(self):   # override inherited\n",
    "        \"\"\"Update current value by adding fixed increment\"\"\"\n",
    "        self._current += self._increment"
   ]
  },
  {
   "cell_type": "code",
   "execution_count": 3,
   "id": "f7cc7c06-5f6a-4fc1-9a20-7cebb3ee3bca",
   "metadata": {},
   "outputs": [],
   "source": [
    "# Geometric Progression class\n",
    "class GeometricProgression(Progression):   # inherit from Progression\n",
    "    \"\"\"Iterator producing a geometric progression\"\"\"\n",
    "    \n",
    "    def __init__(self, base=2, start=1):\n",
    "        \"\"\"Create a new geometric progression\n",
    "        \n",
    "        base:   the fixed constant multiplied by each term (default 2)\n",
    "        start:  the first term of the progression (default 1)\n",
    "        \"\"\"\n",
    "        \n",
    "        super().__init__(start)\n",
    "        self._base = base\n",
    "        \n",
    "    def _advance(self):   # override inherited version\n",
    "        self._current *= self._base"
   ]
  },
  {
   "cell_type": "code",
   "execution_count": 4,
   "id": "973a3d35-5c83-496d-a9b2-06b312c296b3",
   "metadata": {},
   "outputs": [],
   "source": [
    "# Fibionacci Progression class\n",
    "class FibonacciProgression(Progression):\n",
    "    \"\"\"Iterator producing a generalized Fibonacci progression\"\"\"\n",
    "    \n",
    "    def __init__(self, first=0, second=1):\n",
    "        \"\"\"Create new fibonacci progression\n",
    "        \n",
    "        first:   first term of progression (default 0)\n",
    "        second:  second term of progression (default 1)\n",
    "        \"\"\"\n",
    "        super().__init__(first)     # start progression at first\n",
    "        self._prev = second - first # fictitious value preceding first\n",
    "        \n",
    "    def _advance(self):\n",
    "        \"\"\"Update current value by taking sum of previous two\"\"\"\n",
    "        self._prev, self._current = self._current, self._prev + self._current"
   ]
  },
  {
   "cell_type": "code",
   "execution_count": 5,
   "id": "63b2a7f2-dfe4-4b58-b2b5-2d5d7a019bed",
   "metadata": {},
   "outputs": [
    {
     "name": "stdout",
     "output_type": "stream",
     "text": [
      "default progression:\n",
      "0 1 2 3 4 5 6 7 8 9\n",
      "arithmetic Progression, increment 5:\n",
      "0 5 10 15 20 25 30 35 40 45\n",
      "arithmetic, inc 5, start 2:\n",
      "2 7 12 17 22 27 32 37 42 47\n",
      "geometric, default base\n",
      "1 2 4 8 16 32 64 128 256 512\n",
      "geometric, base 3:\n",
      "1 3 9 27 81 243 729 2187 6561 19683\n",
      "fib, default start:\n",
      "0 1 1 2 3 5 8 13 21 34\n",
      "fib, start 4 and 6:\n",
      "4 6 10 16 26 42 68 110 178 288\n"
     ]
    }
   ],
   "source": [
    "# testing progressions\n",
    "\n",
    "if __name__ == '__main__':\n",
    "    print('default progression:')\n",
    "    Progression().print_progression(10)\n",
    "    \n",
    "    print('arithmetic Progression, increment 5:')\n",
    "    ArithmeticProgression(5).print_progression(10)\n",
    "    \n",
    "    print('arithmetic, inc 5, start 2:')\n",
    "    ArithmeticProgression(5,2).print_progression(10)\n",
    "    \n",
    "    print('geometric, default base')\n",
    "    GeometricProgression().print_progression(10)\n",
    "    \n",
    "    print('geometric, base 3:')\n",
    "    GeometricProgression(3).print_progression(10)\n",
    "    \n",
    "    print('fib, default start:')\n",
    "    FibonacciProgression().print_progression(10)\n",
    "    \n",
    "    print('fib, start 4 and 6:')\n",
    "    FibonacciProgression(4,6).print_progression(10)"
   ]
  },
  {
   "cell_type": "markdown",
   "id": "8d2f449a",
   "metadata": {},
   "source": [
    "<a id=\"2.5\"></a>\n",
    "## 2.5 Namespaces and Object-Orientation\n",
    "\n",
    "<a href=\"#toc\">Table of Contents</a>"
   ]
  },
  {
   "cell_type": "markdown",
   "id": "e0cbd13d-5382-42c1-8091-6bd859c03404",
   "metadata": {},
   "source": [
    "- **Namespace** = Abstraction that manages all identifiers defined in a particular scope\n",
    "    - maps each name to its associated value"
   ]
  },
  {
   "cell_type": "markdown",
   "id": "4c0cbbf3-bc3c-4c06-9740-a88160ce546c",
   "metadata": {},
   "source": [
    "### Instance and Class Namespaces\n",
    "\n",
    "- **Instance Namespace** - manages attributes specific to an individual object\n",
    "    - e.g. `CreditCard` instances have distinct balance, limit, account number\n",
    "- **Class Namespace** - manages members that are *shared* by all instances of a class\n",
    "    - members that are shared without reference to a particular instance\n",
    "    - e.g. `make_payment` method not stored individually by an instance, but stored in namespace of class `CreditCard`\n",
    "- Generally, instance namespaces seem to store instance fields, while class namespaces seem to be methods\n",
    "    - I suppose when a subclass calls `super()`, then it inherits the superclass namespace?"
   ]
  },
  {
   "cell_type": "markdown",
   "id": "90e48204-f9b7-4ccc-98de-9bd1e19c27a0",
   "metadata": {},
   "source": [
    "#### class-level data member\n",
    "\n",
    "- data that should be in the class namespace and shared with all members\n",
    "    - typically a constant and defined with **CAPITAL LETTERS**\n",
    "\n",
    "EXAMPLE\n",
    "```\n",
    "class PredatoryCreditCard(CreditCard):\n",
    "    OVERLIMIT_FEE = 5 # this is a class-level member\n",
    "    \n",
    "    def charge(self, price):\n",
    "        success = super().charge(price)\n",
    "        if not success:\n",
    "            self._balance += PredatoryCreditCard.OVERLIMIT_FEE\n",
    "        return success\n",
    "```"
   ]
  },
  {
   "cell_type": "markdown",
   "id": "5fa84198-f4c3-413f-b6fa-70f590fb9391",
   "metadata": {},
   "source": [
    "#### Nested Classes\n",
    "\n",
    "EXAMPLE\n",
    "```\n",
    "class A: # the outer class\n",
    "    class B: # the nested class\n",
    "        ...\n",
    "```\n",
    "\n",
    "- Not related to inheritence concept\n",
    "- Nesting `class B` within `class A`'s namespace makes it clear that `B` exists to support `A`\n",
    "- helps reduce name conflicts"
   ]
  },
  {
   "cell_type": "markdown",
   "id": "805d1217-a3f8-4834-821a-a024de079993",
   "metadata": {},
   "source": [
    "#### Dictionaries and `__slots__` declaration\n",
    "\n",
    "- Python uses instance of `dict` class to represent a namespace\n",
    "- Alternatively, use `__slots__` as a class-level defined member to assign names for instance variables\n",
    "    - This avoids using external dictionary\n",
    "- With inheritance, if class declares `__slots__`, ***subclass must also declare `__slots__`***\n",
    "\n",
    "EXAMPLE\n",
    "```\n",
    "class CreditCard:\n",
    "    __slots__ = '_customer', '_bank', '_account', '_balance', '_limit'\n",
    "```"
   ]
  },
  {
   "cell_type": "markdown",
   "id": "dfa2be09-344c-4064-8b9a-eeb98f413a56",
   "metadata": {},
   "source": [
    "### Name resolution and dynamic dispatch\n",
    "\n",
    "Python process for name resolution\n",
    "\n",
    "1. The instance namespace is searched; if the desired name is found, its associated value is used.\n",
    "2. Otherwise the class namespace, for the class to which the instance belongs, is searched; if the name is found, its associated value is used.\n",
    "3. If the name was not found in the immediate class namespace, the search continues upward through the inheritance hierarchy, checking the class namespace for each ancestor (commonly by checking the superclass class, then its superclass class, and so on). The first time the name is found, its associate value is used.\n",
    "4. If the name has still not been found, an `AttributeError` is raised."
   ]
  },
  {
   "cell_type": "markdown",
   "id": "e643c6aa-e36b-42d8-b57d-c0f100e1980b",
   "metadata": {},
   "source": [
    "### Name resolution and dynamic dispatch\n",
    "\n",
    "Python process for name resolution. Resolution ***stops at step where name is found.***\n",
    "\n",
    "1. Seach **instance namespace**; if found, use associated value\n",
    "2. Search instance's **class namespace**; if found, use associated value\n",
    "3. Search each **ancestor class namespace** up through inheritance hierarchy; if found, use associated value\n",
    "4. Raise `AttributeError` if hierarchy exhausted and note found.\n",
    "\n",
    "- **Dynamic dispatch (dynamic binding)**\n",
    "    - Python makes *run-time* decision on implementation of function based on type of object upon which it was invoked"
   ]
  },
  {
   "cell_type": "markdown",
   "id": "d6c0638e",
   "metadata": {},
   "source": [
    "<a id=\"2.6\"></a>\n",
    "## 2.6 Shallow and Deep Copying\n",
    "\n",
    "<a href=\"#toc\">Table of Contents</a>"
   ]
  },
  {
   "cell_type": "markdown",
   "id": "e3f1de62-cbde-40fc-8566-0bc7cc0a6675",
   "metadata": {},
   "source": [
    "- **shallow copy** - new list initialized with precisely same content as original\n",
    "    - creates a new object, but ***references*** original object\n",
    "    - e.g. `pallette = list(warmtones)`\n",
    "    \n",
    "![](./notebookimg/shallowcopy.jpg)\n",
    "\n",
    "- **deep copy** - new copy that references its own *copies* of objects referenced by original object\n",
    "\n",
    "![](./notebookimg/deepcopy.jpg)"
   ]
  },
  {
   "cell_type": "markdown",
   "id": "86de9391-80ab-48d7-a178-3e4066e4af71",
   "metadata": {},
   "source": [
    "#### `copy` module\n",
    "\n",
    "- `copy.copy` - creates shallow copy\n",
    "- `copy.deepcopy` - creates deep copy"
   ]
  },
  {
   "cell_type": "code",
   "execution_count": 89,
   "id": "9c7560c0-3ff6-4bd8-9f7d-100d173a2949",
   "metadata": {},
   "outputs": [
    {
     "name": "stdout",
     "output_type": "stream",
     "text": [
      "[[1, 2, 3, 4, 9], [1, 2, 3, 4, 9]] [[1, 2, 3, 4, 9], [1, 2, 3, 4, 9]]\n",
      "[[1, 2, 3, 4, 9], [1, 2, 3, 4, 9]] [[1, 2, 3, 4], [1, 2, 3, 4]]\n"
     ]
    }
   ],
   "source": [
    "import copy\n",
    "\n",
    "sublist1 = [1,2,3,4]\n",
    "sublist2 = [5,6,7,8]\n",
    "l = [sublist1,sublist1]\n",
    "lshallow = copy.copy(l)\n",
    "ldeep = copy.deepcopy(l)\n",
    "l[1].append(9) # append sublist 2 inside l\n",
    "print(l,lshallow) # lshallow changes due to referencing\n",
    "print(l,ldeep) # ldeep unaffected due to deep copy"
   ]
  },
  {
   "cell_type": "markdown",
   "id": "3ea15209",
   "metadata": {},
   "source": [
    "<a id=\"2.7\"></a>\n",
    "## 2.7 Exercises\n",
    "\n",
    "<a href=\"#toc\">Table of Contents</a>"
   ]
  },
  {
   "cell_type": "markdown",
   "id": "dba3b1c0-2665-4083-a811-a2847529f463",
   "metadata": {},
   "source": [
    "### R2.1\n",
    "\n",
    "Give three examples of life-critical software applications.\n",
    "\n",
    "1. Nuclear plant control system\n",
    "2. Radiology software\n",
    "3. Transmission control system"
   ]
  },
  {
   "cell_type": "markdown",
   "id": "7a8717ea-cd50-4308-a1bc-c224bc91a2d2",
   "metadata": {},
   "source": [
    "### R2.2\n",
    "\n",
    "Give an example of a software application in which adaptability can mean the difference between a prolonged lifetime of sales and bankruptcy.\n",
    "\n",
    "- Financial management systems\n",
    "- Cloud server management"
   ]
  },
  {
   "cell_type": "markdown",
   "id": "aa818eef-d1f9-4c01-a7cb-afed4e6bd34f",
   "metadata": {},
   "source": [
    "### R2.4\n",
    "\n",
    "- Write a Python class, `Flower`, that\n",
    "    - has three instance variables:\n",
    "        - `str` - name of flower,\n",
    "        - `int` - number petals\n",
    "        - `float` - price\n",
    "- **constraints**\n",
    "    - include a constructor method that initializes each variable to an appropriate value, and\n",
    "    - includes  methods for setting/retrieving the value of each type"
   ]
  },
  {
   "cell_type": "code",
   "execution_count": 12,
   "id": "e433f2ac-eb09-47b1-8d79-3be6320785d4",
   "metadata": {},
   "outputs": [
    {
     "name": "stdout",
     "output_type": "stream",
     "text": [
      "3\n",
      "-3\n",
      "-4.25\n",
      "Petals should be a number\n",
      "Price should be a number\n"
     ]
    }
   ],
   "source": [
    "class Flower:\n",
    "    __slots__ = '_name', '_petals', '_price'\n",
    "    \n",
    "    def __init__(self, name = 'unknown', petals = 0, price = 0.00):\n",
    "        self._name = name\n",
    "        self._petals = petals\n",
    "        self._price = price\n",
    "        \n",
    "    def set_name(self,name):\n",
    "        self._name = str(name)\n",
    "        \n",
    "    def get_name(self):\n",
    "        return self._name\n",
    "    \n",
    "    def set_petals(self,petals):\n",
    "        try:\n",
    "            self._petals = int(petals)\n",
    "        except (TypeError, ValueError):\n",
    "            print('Petals should be a number')\n",
    "        \n",
    "        \n",
    "    def get_petals(self):\n",
    "        return self._petals\n",
    "    \n",
    "    def set_price(self,price):\n",
    "        try:\n",
    "            self._price = round(float(price),2)\n",
    "        except (TypeError, ValueError):\n",
    "            print('Price should be a number')\n",
    "    \n",
    "    def get_price(self):\n",
    "        return self._price\n",
    "    \n",
    "f = Flower('lily',4,3.25)\n",
    "f.set_name(3) # name test\n",
    "print(f.get_name())\n",
    "f.set_petals(-3) # petal test\n",
    "print(f.get_petals())\n",
    "f.set_price(-4.249240123)\n",
    "print(f.get_price())\n",
    "\n",
    "# error tests\n",
    "petalstest = f.set_petals('err')\n",
    "pricetest = f.set_price('err')"
   ]
  },
  {
   "cell_type": "markdown",
   "id": "ebf1dc68-fff6-43bb-9df1-f2fd6f31fcad",
   "metadata": {},
   "source": [
    "### R2.5\n",
    "\n",
    "- Use techniques from 1.7 to revise `charge` and `make_payment` of the `CreditCard` class to ensure that the caller sends a number as a parameter"
   ]
  },
  {
   "cell_type": "code",
   "execution_count": 19,
   "id": "f0b69b37-32cf-44bd-b51c-7f3a169663f8",
   "metadata": {},
   "outputs": [
    {
     "name": "stdout",
     "output_type": "stream",
     "text": [
      "John Doe\n",
      "Evil Bank\n",
      "1000\n",
      "0\n",
      "True\n",
      "50\n",
      "False\n",
      "50\n",
      "0\n",
      "Charge must be a number\n",
      "False\n",
      "amount must be a number\n"
     ]
    }
   ],
   "source": [
    "# example class\n",
    "class CreditCard:\n",
    "    \"\"\"A consumer credit card\"\"\"\n",
    "    \n",
    "    def __init__(self, customer, bank, acnt, limit):\n",
    "        \"\"\"Create a new credit card instance\n",
    "        \n",
    "        Initial balance zero\n",
    "        \n",
    "        customer: the name of customer\n",
    "        bank:     the name of the bank\n",
    "        accnt:    the account identifier\n",
    "        limit:    credit limit (measured in USD)\n",
    "        \"\"\"\n",
    "        \n",
    "        self._customer = customer\n",
    "        self._bank = bank\n",
    "        self._account = acnt\n",
    "        self._limit = limit\n",
    "        self._balance = 0\n",
    "        \n",
    "    def get_customer(self):\n",
    "        \"\"\"Return name of customer\"\"\"\n",
    "        return self._customer\n",
    "    \n",
    "    def get_bank(self):\n",
    "        \"\"\"Return bank's name\"\"\"\n",
    "        return self._bank\n",
    "    \n",
    "    def get_account(self):\n",
    "        \"\"\"Return card number (stored as string)\"\"\"\n",
    "        return self._account\n",
    "    \n",
    "    def get_limit(self):\n",
    "        \"\"\"Return credit limit\"\"\"\n",
    "        return self._limit\n",
    "    \n",
    "    def get_balance(self):\n",
    "        \"\"\"Return current balance\"\"\"\n",
    "        return self._balance\n",
    "    \n",
    "    def charge(self, price):\n",
    "        \"\"\"Charge given price to the card, assuming sufficient credit limit\n",
    "        \n",
    "        Return True if charge processed; False if charge denied\"\"\"\n",
    "        \n",
    "        try:\n",
    "            if price + self._balance > self._limit:   # charge exeeds limit\n",
    "                return False                          # deny charge\n",
    "            else:\n",
    "                self._balance += price\n",
    "                return True\n",
    "        except TypeError:\n",
    "            print('Charge must be a number')\n",
    "            return False\n",
    "        \n",
    "    def make_payment(self,amount):\n",
    "        \"\"\"Process customer payment that reduces balance\"\"\"\n",
    "        try:\n",
    "            self._balance -= amount\n",
    "        except TypeError:\n",
    "            print('amount must be a number')\n",
    "        \n",
    "# Example instance of class CreditCard\n",
    "cc = CreditCard('John Doe', 'Evil Bank', '0123456789', 1000)\n",
    "print(cc.get_customer())\n",
    "print(cc.get_bank())\n",
    "print(cc.get_limit())\n",
    "print(cc.get_balance())\n",
    "print(cc.charge(50))\n",
    "print(cc.get_balance())\n",
    "print(cc.charge(10e6))\n",
    "print(cc.get_balance())\n",
    "cc.make_payment(50)\n",
    "print(cc.get_balance())\n",
    "\n",
    "# error test\n",
    "print(cc.charge('err'))\n",
    "cc.make_payment('err')"
   ]
  },
  {
   "cell_type": "markdown",
   "id": "ca4e16ac-98c5-4acd-9ebd-39fd22c459e5",
   "metadata": {},
   "source": [
    "### R2.6\n",
    "\n",
    "Revise `CreditCard` so that passing `amount < 0` to `make_payment` will raise `ValueError`\n",
    "\n",
    "Additional tutorials on exception handling in Python: https://www.tutorialspoint.com/python/python_exceptions.htm"
   ]
  },
  {
   "cell_type": "code",
   "execution_count": 26,
   "id": "9d632b73-6074-4bd1-a001-be80d0dedbb3",
   "metadata": {},
   "outputs": [
    {
     "name": "stdout",
     "output_type": "stream",
     "text": [
      "John Doe\n",
      "Evil Bank\n",
      "1000\n",
      "0\n",
      "True\n",
      "50\n",
      "False\n",
      "50\n",
      "0\n",
      "Charge must be a number\n",
      "False\n",
      "TypeError: amount must be a number\n",
      "ValueError: amount must be > 0\n"
     ]
    }
   ],
   "source": [
    "# example class\n",
    "class CreditCard:\n",
    "    \"\"\"A consumer credit card\"\"\"\n",
    "    \n",
    "    def __init__(self, customer, bank, acnt, limit):\n",
    "        \"\"\"Create a new credit card instance\n",
    "        \n",
    "        Initial balance zero\n",
    "        \n",
    "        customer: the name of customer\n",
    "        bank:     the name of the bank\n",
    "        accnt:    the account identifier\n",
    "        limit:    credit limit (measured in USD)\n",
    "        \"\"\"\n",
    "        \n",
    "        self._customer = customer\n",
    "        self._bank = bank\n",
    "        self._account = acnt\n",
    "        self._limit = limit\n",
    "        self._balance = 0\n",
    "        \n",
    "    def get_customer(self):\n",
    "        \"\"\"Return name of customer\"\"\"\n",
    "        return self._customer\n",
    "    \n",
    "    def get_bank(self):\n",
    "        \"\"\"Return bank's name\"\"\"\n",
    "        return self._bank\n",
    "    \n",
    "    def get_account(self):\n",
    "        \"\"\"Return card number (stored as string)\"\"\"\n",
    "        return self._account\n",
    "    \n",
    "    def get_limit(self):\n",
    "        \"\"\"Return credit limit\"\"\"\n",
    "        return self._limit\n",
    "    \n",
    "    def get_balance(self):\n",
    "        \"\"\"Return current balance\"\"\"\n",
    "        return self._balance\n",
    "    \n",
    "    def charge(self, price):\n",
    "        \"\"\"Charge given price to the card, assuming sufficient credit limit\n",
    "        \n",
    "        Return True if charge processed; False if charge denied\"\"\"\n",
    "        \n",
    "        try:\n",
    "            if price + self._balance > self._limit:   # charge exeeds limit\n",
    "                return False                          # deny charge\n",
    "            else:\n",
    "                self._balance += price\n",
    "                return True\n",
    "        except TypeError:\n",
    "            print('Charge must be a number')\n",
    "            return False\n",
    "        \n",
    "    def make_payment(self,amount):\n",
    "        \"\"\"Process customer payment that reduces balance\"\"\"\n",
    "        try:\n",
    "            if amount < 0:\n",
    "                raise ValueError('ValueError: amount must be > 0')\n",
    "            self._balance -= amount\n",
    "        except TypeError:\n",
    "            print('TypeError: amount must be a number')\n",
    "        except ValueError as VE:\n",
    "            print(VE)\n",
    "        \n",
    "# Example instance of class CreditCard\n",
    "cc = CreditCard('John Doe', 'Evil Bank', '0123456789', 1000)\n",
    "print(cc.get_customer())\n",
    "print(cc.get_bank())\n",
    "print(cc.get_limit())\n",
    "print(cc.get_balance())\n",
    "print(cc.charge(50))\n",
    "print(cc.get_balance())\n",
    "print(cc.charge(10e6))\n",
    "print(cc.get_balance())\n",
    "cc.make_payment(50)\n",
    "print(cc.get_balance())\n",
    "\n",
    "# error test\n",
    "print(cc.charge('err'))\n",
    "cc.make_payment('err')\n",
    "cc.make_payment(-1)"
   ]
  },
  {
   "cell_type": "markdown",
   "id": "834e62d2-84aa-4c23-9ad2-9181e32e7ab6",
   "metadata": {},
   "source": [
    "### R2.9\n",
    "\n",
    "- Implement the `__sub__` method for the `Vector` class of 2.3.3 such that `u-v` returns a new vector instance representing the difference between 2 vectors."
   ]
  },
  {
   "cell_type": "code",
   "execution_count": 9,
   "id": "34f980ab-3546-4e07-b0b0-a13761704730",
   "metadata": {},
   "outputs": [
    {
     "name": "stdout",
     "output_type": "stream",
     "text": [
      "<0, 1, 2> <1, 2, 3>\n",
      "<1, 3, 5>\n",
      "<-1, -1, -1>\n"
     ]
    }
   ],
   "source": [
    "class Vector:\n",
    "    \"\"\"Represent a vector in n-dim space\"\"\"\n",
    "    \n",
    "    def __init__(self, d):\n",
    "        \"\"\"Create d-dim vector of zeros\"\"\"\n",
    "        self._coords = [0]*d\n",
    "    \n",
    "    def __len__(self):\n",
    "        \"\"\"Return the dim of vector\"\"\"\n",
    "        return len(self._coords)\n",
    "    \n",
    "    def __getitem__(self,j):\n",
    "        \"\"\"Return jth coordinate of vector\"\"\"\n",
    "        return self._coords[j]\n",
    "        \n",
    "    def __setitem__(self, j, val):\n",
    "        \"\"\"Set jth coord of vector to given val\"\"\"\n",
    "        self._coords[j] = val\n",
    "        \n",
    "    def __add__(self,other):\n",
    "        \"\"\"Return sum of 2 vectors\"\"\"\n",
    "        if len(self) != len(other): # relies on __len__\n",
    "            raise ValueError('dim must agree')\n",
    "        result = Vector(len(self))\n",
    "        for j in range(len(self)):\n",
    "            result[j] = self[j] + other[j]\n",
    "        return result\n",
    "    \n",
    "    def __sub__(self,other):\n",
    "        \"\"\"Return difference of 2 vectors\"\"\"\n",
    "        if len(self) != len(other): # relies on __len__\n",
    "            raise ValueError('dim must agree')\n",
    "        result = Vector(len(self))\n",
    "        for j in range(len(self)):\n",
    "            result[j] = self[j] - other[j]\n",
    "        return result\n",
    "    \n",
    "    def __eq__(self, other):\n",
    "        \"\"\"Return True if  vector has same coord as other\"\"\"\n",
    "        return self._coords == other._coords\n",
    "    \n",
    "    def __ne__(self, other):\n",
    "        \"\"\"Return True if vector differs from other\"\"\"\n",
    "        return not self == other # rely on existing __eq__\n",
    "    \n",
    "    def __str__(self):\n",
    "        \"\"\"Produce string representation of vector\"\"\"\n",
    "        return '<' + str(self._coords)[1:-1]+'>' # adapt list representation\n",
    "\n",
    "n = 3\n",
    "u = Vector(n)\n",
    "v = Vector(n)\n",
    "for i in range(n): u[i] = i; v[i] = i + 1\n",
    "print(str(u),str(v))\n",
    "print(u+v)\n",
    "print(u-v)"
   ]
  },
  {
   "cell_type": "markdown",
   "id": "a6a7c82d-96b8-4dc0-b086-9fa6fd91c41b",
   "metadata": {},
   "source": [
    "### R2.10\n",
    "\n",
    "Implement `__neg__` for `Vector` class such that `-v` returns a new vector instance whose coordinates are all negated values of respective coord in `v`."
   ]
  },
  {
   "cell_type": "code",
   "execution_count": 11,
   "id": "36d9c24b-ca17-4d4f-bb05-5a8f8352ad53",
   "metadata": {},
   "outputs": [
    {
     "name": "stdout",
     "output_type": "stream",
     "text": [
      "<0, 1, 2> <1, 2, 3>\n",
      "<1, 3, 5>\n",
      "<-1, -1, -1>\n",
      "<0, 1, 2> <0, -1, -2>\n"
     ]
    }
   ],
   "source": [
    "class Vector:\n",
    "    \"\"\"Represent a vector in n-dim space\"\"\"\n",
    "    \n",
    "    def __init__(self, d):\n",
    "        \"\"\"Create d-dim vector of zeros\"\"\"\n",
    "        self._coords = [0]*d\n",
    "    \n",
    "    def __len__(self):\n",
    "        \"\"\"Return the dim of vector\"\"\"\n",
    "        return len(self._coords)\n",
    "    \n",
    "    def __getitem__(self,j):\n",
    "        \"\"\"Return jth coordinate of vector\"\"\"\n",
    "        return self._coords[j]\n",
    "        \n",
    "    def __setitem__(self, j, val):\n",
    "        \"\"\"Set jth coord of vector to given val\"\"\"\n",
    "        self._coords[j] = val\n",
    "        \n",
    "    def __add__(self,other):\n",
    "        \"\"\"Return sum of 2 vectors\"\"\"\n",
    "        if len(self) != len(other): # relies on __len__\n",
    "            raise ValueError('dim must agree')\n",
    "        result = Vector(len(self))\n",
    "        for j in range(len(self)):\n",
    "            result[j] = self[j] + other[j]\n",
    "        return result\n",
    "    \n",
    "    def __sub__(self,other):\n",
    "        \"\"\"Return difference of 2 vectors\"\"\"\n",
    "        if len(self) != len(other): # relies on __len__\n",
    "            raise ValueError('dim must agree')\n",
    "        result = Vector(len(self))\n",
    "        for j in range(len(self)):\n",
    "            result[j] = self[j] - other[j]\n",
    "        return result\n",
    "    \n",
    "    def __neg__(self):\n",
    "        \"\"\"Return negated coordinates of vector\"\"\"\n",
    "        result = Vector(len(self))\n",
    "        for j in range(len(self)):\n",
    "            result[j] = -self[j]\n",
    "        return result\n",
    "    \n",
    "    def __eq__(self, other):\n",
    "        \"\"\"Return True if  vector has same coord as other\"\"\"\n",
    "        return self._coords == other._coords\n",
    "    \n",
    "    def __ne__(self, other):\n",
    "        \"\"\"Return True if vector differs from other\"\"\"\n",
    "        return not self == other # rely on existing __eq__\n",
    "    \n",
    "    def __str__(self):\n",
    "        \"\"\"Produce string representation of vector\"\"\"\n",
    "        return '<' + str(self._coords)[1:-1]+'>' # adapt list representation\n",
    "\n",
    "n = 3\n",
    "u = Vector(n)\n",
    "v = Vector(n)\n",
    "for i in range(n): u[i] = i; v[i] = i + 1\n",
    "print(str(u),str(v))\n",
    "print(u+v)\n",
    "print(u-v)\n",
    "print(u,-u)"
   ]
  },
  {
   "cell_type": "markdown",
   "id": "3ce28b7d-9c3d-4f87-8616-927d27cef411",
   "metadata": {},
   "source": [
    "### R2.11\n",
    "\n",
    "In Section 2.3.3, we note that our `Vector` class supports a syntax such as `v = u + [5, 3, 10, -2, 1]`, in which the sum of a vector and list returns a new vector. However, the syntax `v = [5, 3, 10, -2, 1] + u` is illegal. Explain how the `Vector` class definition can be revised so that this syntax generates a new vector.\n",
    "\n",
    "Answer:\n",
    "\n",
    "use `__radd__`?"
   ]
  },
  {
   "cell_type": "code",
   "execution_count": 15,
   "id": "85e82c84-9287-4af4-b829-0e6bb8144a0c",
   "metadata": {},
   "outputs": [
    {
     "name": "stdout",
     "output_type": "stream",
     "text": [
      "<0, 1, 2> <1, 2, 3>\n",
      "<1, 3, 5>\n",
      "<-1, -1, -1>\n",
      "<0, 1, 2> <0, -1, -2>\n",
      "<2, 5, 8>\n",
      "<1, 4, 7>\n",
      "<0, -3, -6>\n"
     ]
    }
   ],
   "source": [
    "class Vector:\n",
    "    \"\"\"Represent a vector in n-dim space\"\"\"\n",
    "    \n",
    "    def __init__(self, d):\n",
    "        \"\"\"Create d-dim vector of zeros\"\"\"\n",
    "        self._coords = [0]*d\n",
    "    \n",
    "    def __len__(self):\n",
    "        \"\"\"Return the dim of vector\"\"\"\n",
    "        return len(self._coords)\n",
    "    \n",
    "    def __getitem__(self,j):\n",
    "        \"\"\"Return jth coordinate of vector\"\"\"\n",
    "        return self._coords[j]\n",
    "        \n",
    "    def __setitem__(self, j, val):\n",
    "        \"\"\"Set jth coord of vector to given val\"\"\"\n",
    "        self._coords[j] = val\n",
    "        \n",
    "    def __add__(self,other):\n",
    "        \"\"\"Return sum of 2 vectors (self on left)\"\"\"\n",
    "        if len(self) != len(other): # relies on __len__\n",
    "            raise ValueError('dim must agree')\n",
    "        result = Vector(len(self))\n",
    "        for j in range(len(self)):\n",
    "            result[j] = self[j] + other[j]\n",
    "        return result\n",
    "    \n",
    "    def __radd__(self,other):\n",
    "        \"\"\"Return sum of 2 vectors (self on right)\"\"\"\n",
    "        if len(self) != len(other): # relies on __len__\n",
    "            raise ValueError('dim must agree')\n",
    "        result = Vector(len(self))\n",
    "        for j in range(len(self)):\n",
    "            result[j] = other[j] + self[j]\n",
    "        return result\n",
    "    \n",
    "    def __sub__(self,other):\n",
    "        \"\"\"Return difference of 2 vectors (self on left)\"\"\"\n",
    "        if len(self) != len(other): # relies on __len__\n",
    "            raise ValueError('dim must agree')\n",
    "        result = Vector(len(self))\n",
    "        for j in range(len(self)):\n",
    "            result[j] = self[j] - other[j]\n",
    "        return result\n",
    "    \n",
    "    def __rsub__(self,other):\n",
    "        \"\"\"Return difference of 2 vectors (self on right)\"\"\"\n",
    "        if len(self) != len(other): # relies on __len__\n",
    "            raise ValueError('dim must agree')\n",
    "        result = Vector(len(self))\n",
    "        for j in range(len(self)):\n",
    "            result[j] = other[j] - self[j]\n",
    "        return result\n",
    "    \n",
    "    def __neg__(self):\n",
    "        \"\"\"Return negated coordinates of vector\"\"\"\n",
    "        result = Vector(len(self))\n",
    "        for j in range(len(self)):\n",
    "            result[j] = -self[j]\n",
    "        return result\n",
    "    \n",
    "    def __eq__(self, other):\n",
    "        \"\"\"Return True if  vector has same coord as other\"\"\"\n",
    "        return self._coords == other._coords\n",
    "    \n",
    "    def __ne__(self, other):\n",
    "        \"\"\"Return True if vector differs from other\"\"\"\n",
    "        return not self == other # rely on existing __eq__\n",
    "    \n",
    "    def __str__(self):\n",
    "        \"\"\"Produce string representation of vector\"\"\"\n",
    "        return '<' + str(self._coords)[1:-1]+'>' # adapt list representation\n",
    "\n",
    "n = 3\n",
    "u = Vector(n)\n",
    "v = Vector(n)\n",
    "for i in range(n): u[i] = i; v[i] = i + 1\n",
    "print(str(u),str(v))\n",
    "print(u+v)\n",
    "print(u-v)\n",
    "print(u,-u)\n",
    "x = u + [1,2,3]\n",
    "x = [1,2,3] + x\n",
    "print(x)\n",
    "x = x - [1,1,1]\n",
    "print(x)\n",
    "x = [1,1,1] - x\n",
    "print(x)"
   ]
  },
  {
   "cell_type": "markdown",
   "id": "93cd0d7d-915b-4c13-98d7-906ceb28a0e1",
   "metadata": {},
   "source": [
    "### R2.12,R2.13\n",
    "\n",
    "Implement `__mul__` and `__rmul__` for `Vector` class such that `v * 3` returns new vector scaled by `3`"
   ]
  },
  {
   "cell_type": "code",
   "execution_count": 47,
   "id": "e310c812-b223-4526-acab-b291ae590e55",
   "metadata": {},
   "outputs": [
    {
     "name": "stdout",
     "output_type": "stream",
     "text": [
      "<0, 1, 2> <1, 2, 3>\n",
      "<0, 3, 6>\n",
      "<-0.0, -7.5, -15.0>\n",
      "scalar is: <class 'str'>. must be a number\n"
     ]
    }
   ],
   "source": [
    "class Vector:\n",
    "    \"\"\"Represent a vector in n-dim space\"\"\"\n",
    "    \n",
    "    def __init__(self, d):\n",
    "        \"\"\"Create d-dim vector of zeros\"\"\"\n",
    "        self._coords = [0]*d\n",
    "    \n",
    "    def __len__(self):\n",
    "        \"\"\"Return the dim of vector\"\"\"\n",
    "        return len(self._coords)\n",
    "    \n",
    "    def __getitem__(self,j):\n",
    "        \"\"\"Return jth coordinate of vector\"\"\"\n",
    "        return self._coords[j]\n",
    "        \n",
    "    def __setitem__(self, j, val):\n",
    "        \"\"\"Set jth coord of vector to given val\"\"\"\n",
    "        self._coords[j] = val\n",
    "        \n",
    "    def __add__(self,other):\n",
    "        \"\"\"Return sum of 2 vectors (self on left)\"\"\"\n",
    "        if len(self) != len(other): # relies on __len__\n",
    "            raise ValueError('dim must agree')\n",
    "        result = Vector(len(self))\n",
    "        for j in range(len(self)):\n",
    "            result[j] = self[j] + other[j]\n",
    "        return result\n",
    "    \n",
    "    def __radd__(self,other):\n",
    "        \"\"\"Return sum of 2 vectors (self on right)\"\"\"\n",
    "        if len(self) != len(other): # relies on __len__\n",
    "            raise ValueError('dim must agree')\n",
    "        result = Vector(len(self))\n",
    "        for j in range(len(self)):\n",
    "            result[j] = other[j] + self[j]\n",
    "        return result\n",
    "    \n",
    "    def __sub__(self,other):\n",
    "        \"\"\"Return difference of 2 vectors (self on left)\"\"\"\n",
    "        if len(self) != len(other): # relies on __len__\n",
    "            raise ValueError('dim must agree')\n",
    "        result = Vector(len(self))\n",
    "        for j in range(len(self)):\n",
    "            result[j] = self[j] - other[j]\n",
    "        return result\n",
    "    \n",
    "    def __rsub__(self,other):\n",
    "        \"\"\"Return difference of 2 vectors (self on right)\"\"\"\n",
    "        if len(self) != len(other): # relies on __len__\n",
    "            raise ValueError('dim must agree')\n",
    "        result = Vector(len(self))\n",
    "        for j in range(len(self)):\n",
    "            result[j] = other[j] - self[j]\n",
    "        return result\n",
    "    \n",
    "    def __mul__(self, other):\n",
    "        \"\"\"Return vector with coord scaled by k\"\"\"\n",
    "        if type(other) != int and type(other) != float:\n",
    "            othertype = str(type(other))\n",
    "            raise TypeError('scalar is: %s. must be a number' % othertype)\n",
    "        result = Vector(len(self))\n",
    "        for j in range(len(self)):\n",
    "            result[j] = other*self[j]\n",
    "        return result\n",
    "    \n",
    "    def __rmul__(self, other):\n",
    "        \"\"\"Return vector with coord scaled by k\"\"\"\n",
    "        if type(other) != int and type(other) != float:\n",
    "            othertype = str(type(other))\n",
    "            raise TypeError('scalar is: %s. must be a number' % othertype)\n",
    "        result = Vector(len(self))\n",
    "        for j in range(len(self)):\n",
    "            result[j] = self[j]*other\n",
    "        return result\n",
    "    \n",
    "    def __neg__(self):\n",
    "        \"\"\"Return negated coordinates of vector\"\"\"\n",
    "        result = Vector(len(self))\n",
    "        for j in range(len(self)):\n",
    "            result[j] = -self[j]\n",
    "        return result\n",
    "    \n",
    "    def __eq__(self, other):\n",
    "        \"\"\"Return True if  vector has same coord as other\"\"\"\n",
    "        return self._coords == other._coords\n",
    "    \n",
    "    def __ne__(self, other):\n",
    "        \"\"\"Return True if vector differs from other\"\"\"\n",
    "        return not self == other # rely on existing __eq__\n",
    "    \n",
    "    def __str__(self):\n",
    "        \"\"\"Produce string representation of vector\"\"\"\n",
    "        return '<' + str(self._coords)[1:-1]+'>' # adapt list representation\n",
    "\n",
    "n = 3\n",
    "u = Vector(n)\n",
    "v = Vector(n)\n",
    "for i in range(n): u[i] = i; v[i] = i + 1\n",
    "print(str(u),str(v))\n",
    "x = u * 3\n",
    "print(x)\n",
    "x = -2.5 * x\n",
    "print(x)\n",
    "try:\n",
    "    x = u * 'hello'\n",
    "except TypeError as TE:\n",
    "    print(TE)"
   ]
  },
  {
   "cell_type": "markdown",
   "id": "a727470e-32a5-4a7f-abfc-816d945e7a89",
   "metadata": {},
   "source": [
    "### R2.14\n",
    "\n",
    "implement `__mul__` in `Vector` class such that `u * v` returns dot product of vectors"
   ]
  },
  {
   "cell_type": "code",
   "execution_count": 49,
   "id": "cc61d293-1f2b-4c8b-9686-b272ba24c6d0",
   "metadata": {},
   "outputs": [
    {
     "name": "stdout",
     "output_type": "stream",
     "text": [
      "<0, 1, 2> <1, 2, 3>\n",
      "6\n",
      "-6\n"
     ]
    }
   ],
   "source": [
    "class Vector:\n",
    "    \"\"\"Represent a vector in n-dim space\"\"\"\n",
    "    \n",
    "    def __init__(self, d):\n",
    "        \"\"\"Create d-dim vector of zeros\"\"\"\n",
    "        self._coords = [0]*d\n",
    "    \n",
    "    def __len__(self):\n",
    "        \"\"\"Return the dim of vector\"\"\"\n",
    "        return len(self._coords)\n",
    "    \n",
    "    def __getitem__(self,j):\n",
    "        \"\"\"Return jth coordinate of vector\"\"\"\n",
    "        return self._coords[j]\n",
    "        \n",
    "    def __setitem__(self, j, val):\n",
    "        \"\"\"Set jth coord of vector to given val\"\"\"\n",
    "        self._coords[j] = val\n",
    "        \n",
    "    def __add__(self,other):\n",
    "        \"\"\"Return sum of 2 vectors (self on left)\"\"\"\n",
    "        if len(self) != len(other): # relies on __len__\n",
    "            raise ValueError('dim must agree')\n",
    "        result = Vector(len(self))\n",
    "        for j in range(len(self)):\n",
    "            result[j] = self[j] + other[j]\n",
    "        return result\n",
    "    \n",
    "    def __radd__(self,other):\n",
    "        \"\"\"Return sum of 2 vectors (self on right)\"\"\"\n",
    "        if len(self) != len(other): # relies on __len__\n",
    "            raise ValueError('dim must agree')\n",
    "        result = Vector(len(self))\n",
    "        for j in range(len(self)):\n",
    "            result[j] = other[j] + self[j]\n",
    "        return result\n",
    "    \n",
    "    def __sub__(self,other):\n",
    "        \"\"\"Return difference of 2 vectors (self on left)\"\"\"\n",
    "        if len(self) != len(other): # relies on __len__\n",
    "            raise ValueError('dim must agree')\n",
    "        result = Vector(len(self))\n",
    "        for j in range(len(self)):\n",
    "            result[j] = self[j] - other[j]\n",
    "        return result\n",
    "    \n",
    "    def __rsub__(self,other):\n",
    "        \"\"\"Return difference of 2 vectors (self on right)\"\"\"\n",
    "        if len(self) != len(other): # relies on __len__\n",
    "            raise ValueError('dim must agree')\n",
    "        result = Vector(len(self))\n",
    "        for j in range(len(self)):\n",
    "            result[j] = other[j] - self[j]\n",
    "        return result\n",
    "    \n",
    "    def __mul__(self, other):\n",
    "        \"\"\"Return dot product of 2 vectors\"\"\"\n",
    "        if len(self) != len(other): # relies on __len__\n",
    "            raise ValueError('dim must agree')\n",
    "        result = 0\n",
    "        for j in range(len(self)):\n",
    "            result += self[j] * other[j]\n",
    "        return result\n",
    "    \n",
    "    def __rmul__(self, other):\n",
    "        \"\"\"Return dot product of 2 vectors\"\"\"\n",
    "        if len(self) != len(other): # relies on __len__\n",
    "            raise ValueError('dim must agree')\n",
    "        result = 0\n",
    "        for j in range(len(self)):\n",
    "            result += other[j] * self[j]\n",
    "        return result\n",
    "    \n",
    "    def __neg__(self):\n",
    "        \"\"\"Return negated coordinates of vector\"\"\"\n",
    "        result = Vector(len(self))\n",
    "        for j in range(len(self)):\n",
    "            result[j] = -self[j]\n",
    "        return result\n",
    "    \n",
    "    def __eq__(self, other):\n",
    "        \"\"\"Return True if  vector has same coord as other\"\"\"\n",
    "        return self._coords == other._coords\n",
    "    \n",
    "    def __ne__(self, other):\n",
    "        \"\"\"Return True if vector differs from other\"\"\"\n",
    "        return not self == other # rely on existing __eq__\n",
    "    \n",
    "    def __str__(self):\n",
    "        \"\"\"Produce string representation of vector\"\"\"\n",
    "        return '<' + str(self._coords)[1:-1]+'>' # adapt list representation\n",
    "\n",
    "n = 3\n",
    "u = Vector(n)\n",
    "v = Vector(n)\n",
    "for i in range(n): u[i] = i; v[i] = i + 1\n",
    "print(str(u),str(v))\n",
    "x = u * [2,2,2]\n",
    "print(x)\n",
    "x = [-2,-2,-2] * u\n",
    "print(x)"
   ]
  },
  {
   "cell_type": "markdown",
   "id": "2ebca600-96d9-471c-a119-37ae66d13849",
   "metadata": {},
   "source": [
    "### R2.15\n",
    "\n",
    "Change `__init__` of `Vector` class such that it can take a single integer for dimension, or an iterable to directly instantiate a vector."
   ]
  },
  {
   "cell_type": "code",
   "execution_count": 60,
   "id": "6d78d1cf-7bde-467d-95c3-91090aa122d4",
   "metadata": {},
   "outputs": [
    {
     "name": "stdout",
     "output_type": "stream",
     "text": [
      "<0, 0, 0> <1, 2, 3, 'hello'>\n"
     ]
    }
   ],
   "source": [
    "class Vector:\n",
    "    \"\"\"Represent a vector in n-dim space\"\"\"\n",
    "    \n",
    "    def __init__(self, d):\n",
    "        \"\"\"Create d-dim vector of zeros\"\"\"\n",
    "        if type(d) == int:\n",
    "            self._coords = [0]*d\n",
    "        else:\n",
    "            self._coords = d\n",
    "    \n",
    "    def __len__(self):\n",
    "        \"\"\"Return the dim of vector\"\"\"\n",
    "        return len(self._coords)\n",
    "    \n",
    "    def __getitem__(self,j):\n",
    "        \"\"\"Return jth coordinate of vector\"\"\"\n",
    "        return self._coords[j]\n",
    "        \n",
    "    def __setitem__(self, j, val):\n",
    "        \"\"\"Set jth coord of vector to given val\"\"\"\n",
    "        self._coords[j] = val\n",
    "        \n",
    "    def __add__(self,other):\n",
    "        \"\"\"Return sum of 2 vectors (self on left)\"\"\"\n",
    "        if len(self) != len(other): # relies on __len__\n",
    "            raise ValueError('dim must agree')\n",
    "        result = Vector(len(self))\n",
    "        for j in range(len(self)):\n",
    "            result[j] = self[j] + other[j]\n",
    "        return result\n",
    "    \n",
    "    def __radd__(self,other):\n",
    "        \"\"\"Return sum of 2 vectors (self on right)\"\"\"\n",
    "        if len(self) != len(other): # relies on __len__\n",
    "            raise ValueError('dim must agree')\n",
    "        result = Vector(len(self))\n",
    "        for j in range(len(self)):\n",
    "            result[j] = other[j] + self[j]\n",
    "        return result\n",
    "    \n",
    "    def __sub__(self,other):\n",
    "        \"\"\"Return difference of 2 vectors (self on left)\"\"\"\n",
    "        if len(self) != len(other): # relies on __len__\n",
    "            raise ValueError('dim must agree')\n",
    "        result = Vector(len(self))\n",
    "        for j in range(len(self)):\n",
    "            result[j] = self[j] - other[j]\n",
    "        return result\n",
    "    \n",
    "    def __rsub__(self,other):\n",
    "        \"\"\"Return difference of 2 vectors (self on right)\"\"\"\n",
    "        if len(self) != len(other): # relies on __len__\n",
    "            raise ValueError('dim must agree')\n",
    "        result = Vector(len(self))\n",
    "        for j in range(len(self)):\n",
    "            result[j] = other[j] - self[j]\n",
    "        return result\n",
    "    \n",
    "    def __mul__(self, other):\n",
    "        \"\"\"Return dot product of 2 vectors\"\"\"\n",
    "        if len(self) != len(other): # relies on __len__\n",
    "            raise ValueError('dim must agree')\n",
    "        result = 0\n",
    "        for j in range(len(self)):\n",
    "            result += self[j] * other[j]\n",
    "        return result\n",
    "    \n",
    "    def __rmul__(self, other):\n",
    "        \"\"\"Return dot product of 2 vectors\"\"\"\n",
    "        if len(self) != len(other): # relies on __len__\n",
    "            raise ValueError('dim must agree')\n",
    "        result = 0\n",
    "        for j in range(len(self)):\n",
    "            result += other[j] * self[j]\n",
    "        return result\n",
    "    \n",
    "    def __neg__(self):\n",
    "        \"\"\"Return negated coordinates of vector\"\"\"\n",
    "        result = Vector(len(self))\n",
    "        for j in range(len(self)):\n",
    "            result[j] = -self[j]\n",
    "        return result\n",
    "    \n",
    "    def __eq__(self, other):\n",
    "        \"\"\"Return True if  vector has same coord as other\"\"\"\n",
    "        return self._coords == other._coords\n",
    "    \n",
    "    def __ne__(self, other):\n",
    "        \"\"\"Return True if vector differs from other\"\"\"\n",
    "        return not self == other # rely on existing __eq__\n",
    "    \n",
    "    def __str__(self):\n",
    "        \"\"\"Produce string representation of vector\"\"\"\n",
    "        return '<' + str(self._coords)[1:-1]+'>' # adapt list representation\n",
    "\n",
    "n = 3\n",
    "u = Vector(n)\n",
    "v = Vector([1,2,3,'hello'])\n",
    "print(u,v) # not robust, but the question didn't ask for more"
   ]
  },
  {
   "cell_type": "markdown",
   "id": "ed5cd4e8-1889-4f46-887d-58a2840fb3cb",
   "metadata": {},
   "source": [
    "### R2.16\n",
    "\n",
    "Our Range class, from Section 2.3.5, relies on the formula\n",
    "\n",
    "`max(0, (stop − start + step − 1) // step)`\n",
    "\n",
    "to compute the number of elements in the range. It is not immediately evident why this formula provides the correct calculation, even if assuming a positive step size. Justify this formula, in your own words.\n",
    "\n",
    "**Answer**\n",
    "\n",
    "- If user puts in `stop < start`, this could result in a negative length, so `max(0, ...)` ensures `len >= 0`"
   ]
  },
  {
   "cell_type": "markdown",
   "id": "7f163a0c-e8a3-4889-9351-ef5ef53d164f",
   "metadata": {},
   "source": [
    "### R2.18\n",
    "\n",
    "Find the 8th value of a fibonacci progression starting with `2` and `2`"
   ]
  },
  {
   "cell_type": "code",
   "execution_count": 10,
   "id": "c7d122b8-7be3-470c-a433-c44b9317f89c",
   "metadata": {},
   "outputs": [
    {
     "name": "stdout",
     "output_type": "stream",
     "text": [
      "fib, start 4 and 6:\n",
      "2 2 4 6 10 16 26 42\n",
      "42\n"
     ]
    }
   ],
   "source": [
    "# Progression class\n",
    "class Progression:\n",
    "    \"\"\"Iterator producing generic progression.\n",
    "    \n",
    "    Default iterator produces whole numbers 0, 1, 2, ...\n",
    "    \"\"\"\n",
    "    \n",
    "    def __init__(self, start=0):\n",
    "        \"\"\"Initialize current to the first value of the progression\"\"\"\n",
    "        self._current = start\n",
    "        \n",
    "    def _advance(self):\n",
    "        \"\"\"Update self._current to a new value\n",
    "        \n",
    "        This should be overridden by subclass to customize progression\n",
    "        \n",
    "        By convention, if current is set to None, this designates\n",
    "        the end of a finite progression\n",
    "        \"\"\"\n",
    "        self._current += 1\n",
    "        \n",
    "    def __next__(self):\n",
    "        \"\"\"Return the next element, or else raise StopIteration error\"\"\"\n",
    "        if self._current is None:    # convention for end progression\n",
    "            raise StopIteration()\n",
    "        else:\n",
    "            answer = self._current   # record current val to return\n",
    "            self._advance()          # advance to prepare for next\n",
    "            return answer\n",
    "        \n",
    "    def __iter__(self):\n",
    "        \"\"\"By convention, an iterator must return itself as an iterator\"\"\"\n",
    "        return self\n",
    "    \n",
    "    def print_progression(self, n):\n",
    "        \"\"\"Print next n values of the progression\"\"\"\n",
    "        print(' '.join(str(next(self)) for j in range(n)))        \n",
    "\n",
    "# Fibionacci Progression class iterator\n",
    "class FibonacciProgression(Progression):\n",
    "    \"\"\"Iterator producing a generalized Fibonacci progression\"\"\"\n",
    "    \n",
    "    def __init__(self, first=0, second=1):\n",
    "        \"\"\"Create new fibonacci progression\n",
    "        \n",
    "        first:     first term of progression (default 0)\n",
    "        second:    second term of progression (default 1)\n",
    "        max_steps: max progression steps to take (default 0)\n",
    "        \"\"\"\n",
    "        super().__init__(first)     # start progression at first\n",
    "        self._prev = second - first # fictitious value preceding first\n",
    "        self._first = first\n",
    "        self._second = second\n",
    "        \n",
    "    def _advance(self):\n",
    "        \"\"\"Update current value by taking sum of previous two\"\"\"\n",
    "        self._prev, self._current = self._current, self._prev + self._current\n",
    "\n",
    "        \n",
    "# Fibonacci generator class\n",
    "# Probably the wrong way to do this, but\n",
    "# Textbook says generators should have __len__ and __getitem__ defined\n",
    "class FibonacciGenerator(FibonacciProgression):\n",
    "    \"\"\"Generator for generating numbers from a fibonacci sequence\"\"\"\n",
    "    \n",
    "    def __init__(self, first=0, second=1, target_iter=2):\n",
    "        \"\"\"Create new Fibonacci generator\n",
    "        \n",
    "        first:       first term of progression (default 0)\n",
    "        second:      second term of progression (default 1)\n",
    "        target_iter: target iteration (default 2)\n",
    "        \"\"\"\n",
    "        \n",
    "        super().__init__(first,second)\n",
    "        self._target_iter = target_iter\n",
    "        self._length = max(0,target_iter)\n",
    "        \n",
    "    def __len__(self):\n",
    "        \"\"\"Return entries in range\"\"\"\n",
    "        return self._length\n",
    "    \n",
    "    def __getitem__(self,k):\n",
    "        \"\"\"Return entry at index k (using standard interpretation of negative)\"\"\"\n",
    "        if k < 0:\n",
    "            k += len(self)\n",
    "        \n",
    "        if not 0 <= k <= self._length:\n",
    "            raise IndexError('index out of range')\n",
    "        \n",
    "        # 0-based index\n",
    "        # first 2 indeces are part of initialization\n",
    "        for j in range(k-1): next(self)\n",
    "        \n",
    "        item = next(self)\n",
    "        self._current = self._first # reset iterable\n",
    "        self._prev = self._second - self._first # reset iterable\n",
    "        return item\n",
    "        \n",
    "# testing progressions\n",
    "\n",
    "if __name__ == '__main__':\n",
    "    print('fib, start 4 and 6:')\n",
    "    FibonacciProgression(2,2).print_progression(8)\n",
    "    fibgen = FibonacciGenerator(2,2,8)\n",
    "    print(fibgen[8])"
   ]
  },
  {
   "cell_type": "markdown",
   "id": "b0f1727d-8909-4303-a057-7399fe35509c",
   "metadata": {},
   "source": [
    "### R2.19\n",
    "\n",
    "When using the ArithmeticProgression class of Section 2.4.2\n",
    "with an increment of 128 and a start of 0, how many calls to\n",
    "next can we make before we reach an integer of $2^{63}$ or larger?\n",
    "\n",
    "Answer:\n",
    "\n",
    "${0, 128, 256, ... }$\n",
    "\n",
    "$ 0 / 128 = 0 $\n",
    "\n",
    "$ 128 / 1 = 1 $\n",
    "\n",
    "$ 256 / 128 = 2 $\n",
    "\n",
    "$ target / step = n $\n",
    "\n",
    "$ \\therefore $\n",
    "\n",
    "$ 2^{63} / 128 = 72057594037927936 $"
   ]
  },
  {
   "cell_type": "code",
   "execution_count": 33,
   "id": "cf0e63b3-84ac-4be5-ae33-1bd06def0850",
   "metadata": {},
   "outputs": [
    {
     "name": "stdout",
     "output_type": "stream",
     "text": [
      "72057594037927936\n"
     ]
    }
   ],
   "source": [
    "print(int(2**63/128))"
   ]
  },
  {
   "cell_type": "markdown",
   "id": "21b6b7f2-c31b-44a3-aead-219b141eb9a9",
   "metadata": {},
   "source": [
    "### R2.20\n",
    "\n",
    "What are some potential efficiency disadvantages of having\n",
    "very deep inheritance trees, that is, a large set of classes, A, B, C,\n",
    "and so on, such that B extends A, C extends B, D extends C, etc.?\n",
    "\n",
    "Answer:\n",
    "\n",
    "- With each layer there is additional complexity and potential for bugs\n",
    "- Each layer requires more testing\n",
    "    - Whether top-down or bottom-up, each layer is tested before moving on to the next\n",
    "- As the tree gets more complex, it will be harder for the developer to understand, remember, and debug"
   ]
  },
  {
   "cell_type": "markdown",
   "id": "eca1994d",
   "metadata": {},
   "source": [
    "<a id=\"3\"></a>\n",
    "# 3 Algorithm Analysis\n",
    "\n",
    "<a href=\"#toc\">Table of Contents</a>"
   ]
  },
  {
   "cell_type": "markdown",
   "id": "e8ee7a1f-d756-423a-987e-1d6a34c583d7",
   "metadata": {},
   "source": [
    "- ***data structures vs algorithms***\n",
    "\n",
    "| Type | Explanation |\n",
    "| --- | --- |\n",
    "| **data structure** | systematic way of organizing and accessing data |\n",
    "| **algorithm** | step-by-step procedure to perform some task in specified amount of time |"
   ]
  },
  {
   "cell_type": "markdown",
   "id": "cb5a699b",
   "metadata": {},
   "source": [
    "<a id=\"3.1\"></a>\n",
    "## 3.1 Experimental Studies\n",
    "\n",
    "<a href=\"#toc\">Table of Contents</a>"
   ]
  },
  {
   "cell_type": "markdown",
   "id": "0154ced0-8355-4aa3-b864-efee19c62b79",
   "metadata": {},
   "source": [
    "### Basic `time` module\n",
    "\n",
    "**Docstring for `time.time`**\n",
    "```\n",
    "Docstring:\n",
    "Time execution of a Python statement or expression.\n",
    "\n",
    "The CPU and wall clock times are printed, and the value of the\n",
    "expression (if any) is returned.  Note that under Win32, system time\n",
    "is always reported as 0, since it can not be measured.\n",
    "\n",
    "This function can be used both as a line and cell magic:\n",
    "\n",
    "- In line mode you can time a single-line statement (though multiple\n",
    "  ones can be chained with using semicolons).\n",
    "\n",
    "- In cell mode, you can time the cell body (a directly\n",
    "  following statement raises an error).\n",
    "\n",
    "This function provides very basic timing functionality.  Use the timeit\n",
    "magic for more control over the measurement.\n",
    "\n",
    ".. versionchanged:: 7.3\n",
    "    User variables are no longer expanded,\n",
    "    the magic line is always left unmodified.\n",
    "\n",
    "Examples\n",
    "--------\n",
    "::\n",
    "\n",
    "  In [1]: %time 2**128\n",
    "  CPU times: user 0.00 s, sys: 0.00 s, total: 0.00 s\n",
    "  Wall time: 0.00\n",
    "  Out[1]: 340282366920938463463374607431768211456L\n",
    "\n",
    "  In [2]: n = 1000000\n",
    "\n",
    "  In [3]: %time sum(range(n))\n",
    "  CPU times: user 1.20 s, sys: 0.05 s, total: 1.25 s\n",
    "  Wall time: 1.37\n",
    "  Out[3]: 499999500000L\n",
    "\n",
    "  In [4]: %time print 'hello world'\n",
    "  hello world\n",
    "  CPU times: user 0.00 s, sys: 0.00 s, total: 0.00 s\n",
    "  Wall time: 0.00\n",
    "\n",
    ".. note::\n",
    "    The time needed by Python to compile the given expression will be\n",
    "    reported if it is more than 0.1s.\n",
    "\n",
    "    In the example below, the actual exponentiation is done by Python\n",
    "    at compilation time, so while the expression can take a noticeable\n",
    "    amount of time to compute, that time is purely due to the\n",
    "    compilation::\n",
    "\n",
    "        In [5]: %time 3**9999;\n",
    "        CPU times: user 0.00 s, sys: 0.00 s, total: 0.00 s\n",
    "        Wall time: 0.00 s\n",
    "\n",
    "        In [6]: %time 3**999999;\n",
    "        CPU times: user 0.00 s, sys: 0.00 s, total: 0.00 s\n",
    "        Wall time: 0.00 s\n",
    "        Compiler : 0.78 s\n",
    "```"
   ]
  },
  {
   "cell_type": "code",
   "execution_count": 40,
   "id": "08a905e5-35f3-4523-affe-41c6ca0b5032",
   "metadata": {},
   "outputs": [
    {
     "name": "stdout",
     "output_type": "stream",
     "text": [
      "1048576\n",
      "0.08102917671203613\n"
     ]
    }
   ],
   "source": [
    "# start and end timing with time module\n",
    "from time import time\n",
    "\n",
    "start_time = time() # record start time\n",
    "\n",
    "# run algorithm\n",
    "count = 0\n",
    "for i in range(2**20): count += 1\n",
    "print(count)\n",
    "\n",
    "end_time = time() # record end time\n",
    "\n",
    "print(end_time - start_time) # print elapsed time"
   ]
  },
  {
   "cell_type": "code",
   "execution_count": 41,
   "id": "2f267c4f-4c75-43b1-932a-b516569dbfd1",
   "metadata": {},
   "outputs": [
    {
     "name": "stdout",
     "output_type": "stream",
     "text": [
      "CPU times: total: 78.1 ms\n",
      "Wall time: 78.8 ms\n",
      "1048576\n"
     ]
    }
   ],
   "source": [
    "# Using time magic function\n",
    "from time import time\n",
    "count = 0\n",
    "%time for i in range(2**20): count += 1\n",
    "print(count)"
   ]
  },
  {
   "cell_type": "markdown",
   "id": "bd41eb47-c31a-49b6-b110-319e597e3e85",
   "metadata": {},
   "source": [
    "- `time` method uses a \"wall clock\" that based on **CPU** clock\n",
    "    - other running processes will affect\n",
    "- `clock` method from `time` module outputs number of CPU cycles instead of time\n",
    "- for identical repeated tests, the variance may be too high depending on needs\n",
    "- `timeit` module is more advanced module to help with automated repetitive testing"
   ]
  },
  {
   "cell_type": "markdown",
   "id": "cf91ead2-2d24-4797-925f-17406a7aa336",
   "metadata": {},
   "source": [
    "### `timeit` module\n",
    "\n",
    "- https://docs.python.org/3/library/timeit.html"
   ]
  },
  {
   "cell_type": "code",
   "execution_count": 47,
   "id": "5dc9b0a7-92df-4b4b-ac72-34b7984c27b2",
   "metadata": {},
   "outputs": [
    {
     "name": "stdout",
     "output_type": "stream",
     "text": [
      "1048576\n",
      "1048576\n",
      "1048576\n",
      "1048576\n",
      "1048576\n",
      "1048576\n",
      "1048576\n",
      "1048576\n",
      "1048576\n",
      "1048576\n",
      "1048576\n",
      "1048576\n",
      "1048576\n",
      "1048576\n",
      "1048576\n",
      "1048576\n",
      "1048576\n",
      "1048576\n",
      "1048576\n",
      "1048576\n",
      "1048576\n",
      "1048576\n",
      "1048576\n",
      "1048576\n",
      "1048576\n",
      "1048576\n",
      "1048576\n",
      "1048576\n",
      "1048576\n",
      "1048576\n",
      "1048576\n",
      "1048576\n",
      "1048576\n",
      "1048576\n",
      "1048576\n",
      "1048576\n",
      "1048576\n",
      "1048576\n",
      "1048576\n",
      "1048576\n",
      "1048576\n",
      "1048576\n",
      "1048576\n",
      "1048576\n",
      "1048576\n",
      "1048576\n",
      "1048576\n",
      "1048576\n",
      "1048576\n",
      "1048576\n",
      "1048576\n",
      "1048576\n",
      "1048576\n",
      "1048576\n",
      "1048576\n",
      "1048576\n",
      "1048576\n",
      "1048576\n",
      "1048576\n",
      "1048576\n",
      "1048576\n",
      "1048576\n",
      "1048576\n",
      "1048576\n",
      "1048576\n",
      "1048576\n",
      "1048576\n",
      "1048576\n",
      "1048576\n",
      "1048576\n",
      "1048576\n",
      "1048576\n",
      "1048576\n",
      "1048576\n",
      "1048576\n",
      "1048576\n",
      "1048576\n",
      "1048576\n",
      "1048576\n",
      "1048576\n",
      "1048576\n",
      "45.2 ms ± 1.14 ms per loop (mean ± std. dev. of 7 runs, 10 loops each)\n"
     ]
    }
   ],
   "source": [
    "from timeit import timeit\n",
    "\n",
    "def algo(n):\n",
    "    count = 0\n",
    "    for i in range(n): count += 1\n",
    "    return count\n",
    "%timeit print(algo(2**20))"
   ]
  },
  {
   "cell_type": "markdown",
   "id": "f5e14d29-3600-41eb-b521-c4d92d80079b",
   "metadata": {},
   "source": [
    "### Challenges of Experimental Analysis\n",
    "\n",
    "- **3 Major Limitations of Experimental Studies of Algorithmic Runtime:***\n",
    "    1. When comparing runtime of 2 different algorithms, different software/hardware environments can introduce significant error.\n",
    "    2. Experiments can only be run on a ***limited set of test inputs***.\n",
    "    3. Algorithm must be fully implemented to execute it and study runtime."
   ]
  },
  {
   "cell_type": "markdown",
   "id": "8d1f0b82-05b5-4b59-9ba0-ca4fe23aeafb",
   "metadata": {},
   "source": [
    "### Moving beyond experimental analysis\n",
    "\n",
    "Develop approach to analyzing efficiency of algos that:\n",
    "\n",
    "1. Allow us to evaluate realtive efficiency independent of HW/SW environment.\n",
    "2. Study high-level description of algorithm without need for implementation.\n",
    "3. Take all possible inputs into account.\n",
    "\n",
    "**Counting Primitive Operations**\n",
    "\n",
    "Types of primitive operations\n",
    "\n",
    "- Assign identifier to object (e.g. `a = 1`)\n",
    "- Determine object associated with identifier (e.g. `type(a)`)\n",
    "- Perform arithmetic operation (e.g. `a = 1 + 2`)\n",
    "- compare two numbers (e.g. `a == b`)\n",
    "- access single element from `list` by index (e.g. `list[index]`)\n",
    "- call a function; including operations inside function (e.g. `myfun()`)\n",
    "- return from a function (e.g. `return answer`)\n",
    "\n",
    "**Measure operation as a function of input size `n`**\n",
    "\n",
    "- `f(n)` can be used to represent a function of input size `n`\n",
    "\n",
    "**Focusing on worst-case input**\n",
    "\n",
    "- average-case analysis requires statistical distributions and probability analysis\n",
    "- **worst case** analysis used unless otherwise specified\n",
    "- designing for worst case can lead to stronger algorithmic efficiency"
   ]
  },
  {
   "cell_type": "markdown",
   "id": "ad801f6d",
   "metadata": {},
   "source": [
    "<a id=\"3.2\"></a>\n",
    "## 3.2 The 7 Functions Used in This Book\n",
    "\n",
    "<a href=\"#toc\">Table of Contents</a>"
   ]
  },
  {
   "cell_type": "markdown",
   "id": "7dbdb98c-d4b3-46c0-b9a9-be4aa7d4503e",
   "metadata": {},
   "source": [
    "- functions using algorithms other than the main 7 will be marked with `*`\n",
    "- Appendix B contains list of math facts for analysis of ds/algos"
   ]
  },
  {
   "cell_type": "markdown",
   "id": "2ef3f437-e5fb-4c77-ab5b-973d27abf72f",
   "metadata": {},
   "source": [
    "### Function 1: Constant Function\n",
    "\n",
    "- **Constant function:** $ f(n) = c $\n",
    "    - for given input size $n$, output will be a constant size $c$ such as $c=5$, $c=27$, etc."
   ]
  },
  {
   "cell_type": "markdown",
   "id": "335e1db2-804d-4d8a-87cc-1bf9af48cb4f",
   "metadata": {},
   "source": [
    "### Function 2: Logarithm Function\n",
    "\n",
    "- **Logarithm function:** $ f(n) = \\log_b(n) $ for some constant $ b > 1 $\n",
    "    - $ x = \\log_b(n) $ iff $ b^x = n $\n",
    "    - $ \\log_b(1) = 0 $\n",
    "    - It's common for $ \\log_2(n) $ to be written as $ \\log(n) $ due to binary operations\n",
    "- **ceiling** is number of times we can divide $ n $ by $ b $ for input $ n $\n",
    "    - ceiling $ \\log_3 (27) $ is $ 3 $:  $((27/3)/3)/3 = 1$ (divide 3 times)\n",
    "    - ceiling $ \\log_2 (12) $ is $ 4 $:  $(((12/2)/2)/2)/2 = 0.75 \\leq 1$ (divide 4 times)\n",
    "- Definition of **ceiling** and **floor** functions\n",
    "    - **ceiling:** $ \\lceil x \\rceil $ = largest integer $ \\leq x $\n",
    "    - **floor:** $ \\lfloor x \\rfloor $ = smallest integer $ \\geq x $"
   ]
  },
  {
   "cell_type": "markdown",
   "id": "79ba6142-a6d6-4bca-bd36-8f75ee739953",
   "metadata": {},
   "source": [
    "### Function 3: Linear Function\n",
    "\n",
    "- **Linear function:** $ f(n) = n $"
   ]
  },
  {
   "cell_type": "markdown",
   "id": "78d82170-426a-4e1e-9e9a-8a332ecff2c3",
   "metadata": {},
   "source": [
    "### Function 4: N-log-N (log-linear) function\n",
    "\n",
    "- **Log-linear function:** $ f(n) = n \\cdot \\log_b (n) $"
   ]
  },
  {
   "cell_type": "markdown",
   "id": "c21c886c-169f-4694-889a-74425fd51630",
   "metadata": {},
   "source": [
    "### Function 5: Quadratic function\n",
    "\n",
    "- **Quadratic function:**  $ f(n) = n^2 $\n",
    "    - nested loops are an example of quadratic time complexity"
   ]
  },
  {
   "cell_type": "markdown",
   "id": "3e588d11-4700-44ce-ab5f-164df0c7afd7",
   "metadata": {},
   "source": [
    "### Function 6: Cubic function and higher polynomials\n",
    "\n",
    "- **Cubic function:** $ f(n) = n^3 $\n",
    "- **Polynomial:** $ f(n) = a_0 + a_1 n + a_2 n^2 + ... + a_d n^d $"
   ]
  },
  {
   "cell_type": "markdown",
   "id": "096ebc81-bf6a-474c-8eac-dedc04273bd3",
   "metadata": {},
   "source": [
    "### Function 7: Exponential Function\n",
    "\n",
    "- **Exponential function:** $ f(n) = b^n $"
   ]
  },
  {
   "cell_type": "markdown",
   "id": "0c5f0ca9-f1b5-454d-9ba6-2f5ad9331fdc",
   "metadata": {},
   "source": [
    "### Function comparison"
   ]
  },
  {
   "cell_type": "code",
   "execution_count": 7,
   "id": "16c41085-df0f-44bd-8f78-61523b70b340",
   "metadata": {},
   "outputs": [
    {
     "data": {
      "image/png": "[encoded data removed]",
      "text/plain": [
       "<Figure size 720x504 with 1 Axes>"
      ]
     },
     "metadata": {
      "needs_background": "light"
     },
     "output_type": "display_data"
    }
   ],
   "source": [
    "import matplotlib.pyplot as plt\n",
    "import numpy as np\n",
    "%matplotlib inline\n",
    "\n",
    "x = np.arange(0.5,3.5,0.1)\n",
    "linear=r'$O(n) - linear$'\n",
    "y1 = np.ones(len(x))\n",
    "constant=r'$O(1) - constant$'\n",
    "y2 = (0.5*x)**2\n",
    "quadratic=r'$O(n^2) - quadratic$'\n",
    "yl = np.log(x) + 1\n",
    "logarithmic=r'$O(log n) - logarithmic$'\n",
    "y2n = 2**x\n",
    "exponential=r'$O(2^n) - exponential$'\n",
    "yll = x*np.log(x) + 0.5\n",
    "loglin = r'$O(n \\log n) - log-linear$'\n",
    "y3 = (0.5*x)**3\n",
    "cubic = r'$O(n^3) - cubic$'\n",
    "plt.figure(figsize=(10,7))\n",
    "plt.title(r\"Time Complexity $O(n)$\",fontsize=18)\n",
    "plt.plot(x,y1,label=constant);\n",
    "plt.plot(x,x,label=linear);\n",
    "plt.plot(x,y2,label=quadratic);\n",
    "plt.plot(x,yl,label=logarithmic);\n",
    "plt.plot(x,y2n,label=exponential);\n",
    "plt.plot(x,yll,label=loglin);\n",
    "plt.plot(x,y3,label=cubic);\n",
    "plt.xlabel(\"Data size\", fontsize=16)\n",
    "plt.ylabel(\"Runtime\",fontsize=16)\n",
    "plt.legend(fontsize=14);"
   ]
  },
  {
   "cell_type": "code",
   "execution_count": 20,
   "id": "98f04ce9-f13a-47d3-91fe-4e0aa345cfc8",
   "metadata": {},
   "outputs": [
    {
     "data": {
      "image/png": "[encoded data removed]",
      "text/plain": [
       "<Figure size 720x504 with 1 Axes>"
      ]
     },
     "metadata": {
      "needs_background": "light"
     },
     "output_type": "display_data"
    }
   ],
   "source": [
    "import matplotlib.pyplot as plt\n",
    "import numpy as np\n",
    "%matplotlib inline\n",
    "\n",
    "x = np.arange(0.5,20,0.5)\n",
    "best=r'Best case: $O(n)$'\n",
    "y2 = (0.5*x)**2\n",
    "worst=r'Worst Case: $O(n^2)$'\n",
    "yl = x*np.log(x) + 1\n",
    "avg=r'Average case: $O(n \\cdot \\log (n))$'\n",
    "plt.figure(figsize=(10,7))\n",
    "plt.title(r\"Time Complexity $O(n)$\",fontsize=18)\n",
    "plt.plot(x,x,label=best);\n",
    "plt.plot(x,yl,label=avg);\n",
    "plt.plot(x,y2,label=worst);\n",
    "plt.xlabel(\"Data size\", fontsize=16)\n",
    "plt.ylabel(\"Runtime\",fontsize=16)\n",
    "plt.legend(fontsize=14);"
   ]
  },
  {
   "cell_type": "markdown",
   "id": "4971a5b7",
   "metadata": {},
   "source": [
    "<a id=\"3.3\"></a>\n",
    "## 3.3 Asymptotic Analysis\n",
    "\n",
    "<a href=\"#toc\">Table of Contents</a>"
   ]
  },
  {
   "cell_type": "markdown",
   "id": "5148efe2-413d-4171-9d5d-3e468b994fab",
   "metadata": {},
   "source": [
    "- As $ n $ grows very large (asymptotically) for function $ f(n) $, then\n",
    "- We typically talk about how the functions is bounded\n",
    "- $ f(n) $ can be bounded above, below or both.\n",
    "- The bounds are referred to as\n",
    "    - **Big-O:** Bounded above ( worst case )\n",
    "    - **Big-Omega:** Bounded below ( best case )\n",
    "    - **Big-Theta:** Bounded above and below ( worst above, best below )"
   ]
  },
  {
   "cell_type": "markdown",
   "id": "4f84b020-d5c0-4ab5-8a8b-f566e4b50eff",
   "metadata": {},
   "source": [
    "### Big-O"
   ]
  },
  {
   "cell_type": "markdown",
   "id": "4d88c287-5b06-4a63-ada8-8c58d31fd282",
   "metadata": {},
   "source": [
    "- Let $ f(n) $ and $ g(n) $ be functions mapping positive integers to positive real numbers.\n",
    "- $ f(n) $ is $ O(g(n)) $ ***iff*** $ f(n) \\leq c \\cdot g(n) $ constant $ c > 0 $ and integer constant $ n_0 \\geq 1 $\n",
    "    - $ f(n) \\leq cg(n)$, for $ n \\geq n_0 $\n",
    "    - Also spoken: $ f(n) $ is **Big-Oh** of $ g(n) $\n",
    "    - For example: $ 8n + 5 $ is $ O(n) $\n",
    "        - i.e. $ f(n) = 8n + 5 \\geq g(n) = 9n $"
   ]
  },
  {
   "cell_type": "code",
   "execution_count": 49,
   "id": "ff834c3f-675d-4ba7-9c5b-fb11235dd4fa",
   "metadata": {},
   "outputs": [
    {
     "data": {
      "image/png": "[encoded data removed]",
      "text/plain": [
       "<Figure size 720x576 with 1 Axes>"
      ]
     },
     "metadata": {
      "needs_background": "light"
     },
     "output_type": "display_data"
    }
   ],
   "source": [
    "import numpy as np\n",
    "import matplotlib.pyplot as plt\n",
    "%matplotlib inline\n",
    "\n",
    "n = np.arange(0,10)\n",
    "f = 8*n + 5\n",
    "g = 9*n\n",
    "\n",
    "plt.figure(figsize=(10,8));\n",
    "plt.title(r'$ f(n) \\leq c \\cdot g(n)$', fontsize=16);\n",
    "plt.plot(n,f,label=r'$ f(n) = 8n + 5 $');\n",
    "plt.plot(n,g,label=r'$ c \\cdot g(n) = 9n $');\n",
    "plt.plot(5, 45, 'o', label=r'$ n_0 = (5, 45) $');\n",
    "plt.legend(fontsize=15);"
   ]
  },
  {
   "cell_type": "markdown",
   "id": "ee7c8a49-622d-4f24-91a0-9de21cdb514a",
   "metadata": {},
   "source": [
    "### Big-Omega"
   ]
  },
  {
   "cell_type": "markdown",
   "id": "7b4de72e-2652-4153-a2ce-b8aadc0e1940",
   "metadata": {},
   "source": [
    "- Let $ f(n) $ and $ g(n) $ be functions mapping positive integers to positive real numbers.\n",
    "- $ f(n) $ is $ \\Omega (g(n)) $ iff $ f(n) \\geq c \\cdot g(n) $ for constant $ c > 0 $ and integer constant $ n_0 \\geq 1 $\n",
    "    - $ f(n) \\geq cg(n)$, for $ n \\geq n_0 $\n",
    "    - Also spoken: $ f(n) $ is **Big-Omega** of $ g(n) $\n",
    "    - For example: $ 8n + 5 $ is $ \\Omega(n) $\n",
    "        - because $ f(n) = 8n + 5 \\leq g(n) = 7n $"
   ]
  },
  {
   "cell_type": "code",
   "execution_count": 50,
   "id": "4d855218-22ab-4ad1-9e24-4b4eb8c7754b",
   "metadata": {},
   "outputs": [
    {
     "data": {
      "image/png": "[encoded data removed]",
      "text/plain": [
       "<Figure size 720x576 with 1 Axes>"
      ]
     },
     "metadata": {
      "needs_background": "light"
     },
     "output_type": "display_data"
    }
   ],
   "source": [
    "import numpy as np\n",
    "import matplotlib.pyplot as plt\n",
    "%matplotlib inline\n",
    "\n",
    "n = np.arange(-10,10)\n",
    "f = 8*n + 5\n",
    "g = 7*n\n",
    "\n",
    "plt.figure(figsize=(10,8))\n",
    "plt.title(r'$ f(n) \\geq c \\cdot g(n)$', fontsize=16)\n",
    "plt.plot(n,f,label=r'$ f(n) = 8n + 5 $');\n",
    "plt.plot(n,g,label=r'$ g(n) = 7n $');\n",
    "plt.plot(-5, -35, 'o', label=r'$ n_0 = (-5, -35) $');\n",
    "plt.legend(fontsize=15);"
   ]
  },
  {
   "cell_type": "markdown",
   "id": "5d86af89-5be7-40e8-befb-245d62a683eb",
   "metadata": {},
   "source": [
    "### Big-Theta"
   ]
  },
  {
   "cell_type": "markdown",
   "id": "9ec830db-0d46-4355-8356-803578eef333",
   "metadata": {},
   "source": [
    "- Let $ f(n) $ and $ g(n) $ be functions mapping positive integers to positive real numbers.\n",
    "- $ f(n) $ is $ \\Theta (g(n)) $ iff $ c' \\cdot g(n) \\leq f(n) \\leq c'' \\cdot g(n) $ for constant $ c',c'' > 0 $ and integer constant $ n_0 \\geq 1 $\n",
    "    - Also spoken: $ f(n) $ is **Big-Theta** of $ g(n) $\n",
    "    - For example: $ 8n + 5 $ is $ \\Theta(n) $\n",
    "        - because\n",
    "        - $ c' g(n) \\leq f(n) \\leq c''g(n)$\n",
    "        - $ 7n \\leq 8n + 5 \\leq 9n $"
   ]
  },
  {
   "cell_type": "code",
   "execution_count": 57,
   "id": "cc470925-73da-4395-ae4a-60582057b374",
   "metadata": {},
   "outputs": [
    {
     "data": {
      "image/png": "[encoded data removed]",
      "text/plain": [
       "<Figure size 720x576 with 1 Axes>"
      ]
     },
     "metadata": {
      "needs_background": "light"
     },
     "output_type": "display_data"
    }
   ],
   "source": [
    "import numpy as np\n",
    "import matplotlib.pyplot as plt\n",
    "%matplotlib inline\n",
    "\n",
    "n = np.arange(0,30)\n",
    "f = 8*n + 5\n",
    "\n",
    "plt.figure(figsize=(10,8))\n",
    "plt.title(r\"$ c' \\cdot g(n) \\leq f(n) \\leq c'' \\cdot g(n)$\", fontsize=16)\n",
    "plt.plot(n,f,label=r'$ f(n) = 8n + 5 $');\n",
    "plt.plot(n,7*n,label=r\"$ c' g(n) = 7n $\");\n",
    "plt.plot(n,9*n,label=r\"$ c'' g(n) = 9n $\");\n",
    "plt.legend(fontsize=15);"
   ]
  },
  {
   "cell_type": "markdown",
   "id": "a2a82f45-b5dc-4b61-b6da-8a8bdbb9b6be",
   "metadata": {},
   "source": [
    "### Algorithmic runtime examples\n",
    "\n",
    "| Complexity | Name | Example | Usage Category |\n",
    "| --- | --- | --- | --- |\n",
    "| $O(1)$ | Constant | Acessing a specific element in array | Excellent |\n",
    "| $O(\\log(n))$ | Logarithmic | Find an element in a sorted array | Excellent |\n",
    "| $O(n)$ | Linear | Loop all through array elements linearly | Good |\n",
    "| $O(n\\cdot$$\\log(n))$ | Linearithmic | Comparison sort, FFT | Fair |\n",
    "| $O(n^2)$ | Quadratic | Looking at every index in the array twice | Bad |\n",
    "| $O(2^n)$ | Exponential | Double recursion in Fibonacci | Horrible |\n",
    "| $O(n!)$ | Factorial | Traveling Salesman | Horrible |"
   ]
  },
  {
   "cell_type": "markdown",
   "id": "6e1a99f3-56fa-4123-8647-8fdbf2020331",
   "metadata": {},
   "source": [
    "![](./notebookimg/bigocomplexity.jpg)"
   ]
  },
  {
   "cell_type": "markdown",
   "id": "f33c27f1-9646-42e8-885a-e4f84fc54546",
   "metadata": {},
   "source": [
    "### How to measure codes with Big O"
   ]
  },
  {
   "cell_type": "markdown",
   "id": "ca88eb9a-c9ae-483d-8bc5-72edd3498b3b",
   "metadata": {},
   "source": [
    "| Rule # | Description | Complexity |\n",
    "| --- | --- | --- |\n",
    "| 1 | Any assignment statments and if statements that are executed once regardless of size of problem | $O(1)$ |\n",
    "| 2 | A single `for` loop from 0 to n (no internal loops) | $O(n)$ |\n",
    "| 3 | Nested loops of same type | $O(n*n*...*n)$ for each nested loop |\n",
    "| 4 | Loop where controlling parameter divided in 2 each step | $O(\\log (n))$ |\n",
    "| 5 | Add each separate statement, simplify by dropping constants and non-dominant terms | |"
   ]
  },
  {
   "cell_type": "markdown",
   "id": "954ad03f-6eb6-4e8a-9b62-c4dc30fdc29d",
   "metadata": {},
   "source": [
    "**Measuring code example**\n",
    "\n",
    "```\n",
    "def findbignum(samleArray):\n",
    "    bignum = sampleArray[0]\n",
    "    for i in range(1,len(sampleArray)):\n",
    "        if sampleArray[i] > bignum:\n",
    "            bignum = sampleArray[i]\n",
    "    print(bignum)\n",
    "```\n",
    "\n",
    "- `def findbignum(samleArray):`\n",
    "    -  $ O(1)\\rightarrow  $ `bignum = sampleArray[0]`\n",
    "    -  $ O(n)\\rightarrow  $ `for i in range(1,len(sampleArray)):`\n",
    "        -  $ O(1)\\rightarrow  $ `if sampleArray[i] > bignum:`\n",
    "            -  $ O(1)\\rightarrow  $ `bignum = sampleArray[i]`\n",
    "    -  $ O(1)\\rightarrow  $ `print(bignum)`\n",
    "<br>\n",
    "<br>\n",
    "- Sum up and simplify with Rule 5:\n",
    "\n",
    "- $ \\require{cancel} O(1 + (n + \\cancel{(1 + 1)}) + 1) $\n",
    "- $ \\require{cancel} O(1 + (n + \\cancel{1}) + 1) $\n",
    "- $ \\require{cancel} O(\\cancel{1} + n + \\cancel{1}) $\n",
    "- $ O(n) $"
   ]
  },
  {
   "cell_type": "markdown",
   "id": "a6a5072a-6c74-4741-95fd-4da99a68c186",
   "metadata": {},
   "source": [
    "### How to measure recursive algorithms"
   ]
  },
  {
   "cell_type": "markdown",
   "id": "6941b6c0-5fc2-44ae-a003-fc89ade26322",
   "metadata": {},
   "source": [
    "**Recursive max number example**\n",
    "\n",
    "```\n",
    "def findmax(a: list, n: int) -> int:\n",
    "    if n == 1:\n",
    "        return a[0]\n",
    "    return max(a[n], findmax(a,n-1))\n",
    "```\n",
    "\n",
    "-  $ M(n) \\rightarrow $  `def findmax(a: list, n: int) -> int:`\n",
    "    -  $ O(1) \\rightarrow $  `if n == 1:`\n",
    "        -  $O(1) \\rightarrow $  `return a[0]`\n",
    "    -  $ M(n-1) \\rightarrow $  `return max(a[n], findmax(a,n-1))`\\\n",
    "<br>\n",
    "<br>\n",
    "-  $ M(n) = O(1) + M(n-1) $\n",
    "-  $ M(1) = O(1) $\n",
    "-  $ M(n-1) = O(1) + M((n-1)-1) $\n",
    "-  $ M(n-2) = O(1) + M((n-2)-1) $\n",
    "-  ...\n",
    "-  Somehow simplifies to $ O(n) $\n",
    "\n",
    "- Can't understand explanation in video exactly\n",
    "    - Something about a [\"Master Theorem\"](https://bostjan-cigan.medium.com/understanding-time-complexity-of-recursive-algorithms-13b3efa3a322)?"
   ]
  },
  {
   "cell_type": "markdown",
   "id": "cc9101d8-f976-4a37-ac80-35b2804154bd",
   "metadata": {},
   "source": [
    "**Multiple Calls**\n",
    "\n",
    "- With multiple calls, complexity is:\n",
    "    -  $ O(2^{n+1} - 1) \\rightarrow O(2^n) $\n",
    "- More generally this is\n",
    "    -  $ O(branches^{depth}) $"
   ]
  },
  {
   "cell_type": "markdown",
   "id": "65e18605",
   "metadata": {},
   "source": [
    "<a id=\"3.4\"></a>\n",
    "## 3.4 Simple Justification Techniques\n",
    "\n",
    "<a href=\"#toc\">Table of Contents</a>"
   ]
  },
  {
   "cell_type": "markdown",
   "id": "9b780ab5-e66e-47af-9544-266c5aca9cc0",
   "metadata": {},
   "source": [
    "### Examples and Counter examples\n",
    "\n",
    "- **Example Justification:** For claims that $ \\exists \\ x \\in S $ has property $ P $\n",
    "    - Only need to find an example that satisfies claim\n",
    "- **Counterexample Justification:** For claims that $ x $ has property $ P $, $ \\forall \\ x \\in S $ with property $ P $\n",
    "    - Only need to find one example where $ x $ doesn't have property $ P $"
   ]
  },
  {
   "cell_type": "markdown",
   "id": "849d0e1f-ccd3-43f4-8491-e5f6fefa169a",
   "metadata": {},
   "source": [
    "### Contra attack\n",
    "\n",
    "- **Contrapositive:** in order to justify \"if `p == True` then `q == True`\"\n",
    "    - prove: \"if `p == False` then `q == False`\n",
    "    - DeMorgan's Law can be used for contrapositive justification\n",
    "        - $ (A \\cap B)' = A' \\cup B' $, or\n",
    "        - `~(AB) = ~A + ~B` (i.e. `not(A and B) = not(A) or not(B)`)\n",
    "- **Contradiction:**\n",
    "    - to prove statement `q == True`,\n",
    "    - state `q == False`, then\n",
    "    - find a contradiction, which proves `q == True`"
   ]
  },
  {
   "cell_type": "markdown",
   "id": "05214006-6df1-4287-90c0-c7ad5d01f13c",
   "metadata": {},
   "source": [
    "### Induction and Loop Invariants"
   ]
  },
  {
   "cell_type": "markdown",
   "id": "a3567cc5-9b82-40a0-bb68-cceef25efaf8",
   "metadata": {},
   "source": [
    "***Induction***\n",
    "\n",
    "Khan Academy - https://www.youtube.com/watch?v=wblW_M_HVQ8\n",
    "\n",
    "- $ S(n) $ = sum of all positive integers including $ n $\n",
    "    - e.g. $ S(3) $ = 1 + 2 + 3 = 6\n",
    "- Want to prove $ S(n) = \\frac{n(n+1)}{2} $ by induction\n",
    "\n",
    "Steps to prove by ***Induction***\n",
    "1. Base case\n",
    "    - Prove for $ 1 $\n",
    "2. Induction\n",
    "    - Assume if true for $ S(k) $, then also true for $ S(k+1) $\n",
    "    \n",
    "Proof\n",
    "1. $ S(1) = \\frac{1(1+1)}{2} = 1 \\rightarrow$ **True**\n",
    "2. Assume $ S(k) = \\frac{k(k+1)}{2} = 1 + 2 + 3 + ... + k $\n",
    "    - So,\n",
    "    - $ S(k+1) = \\frac{k(k+1)}{2} + (k+1) = 1 + 2 + 3 + ... + k + (k+1) $\n",
    "    - $ S(k+1) = \\frac{k(k+1)}{2} + \\frac{2(k+1)}{2} $\n",
    "    - $ S(k+1) = \\frac{(k+1)(k+2)}{2} $\n",
    "    - $ S(k+1) = \\frac{(k+1)((k+1)+1)}{2} $\n",
    "    - If we substitute $ n \\rightarrow k + 1 $, we get original formula:\n",
    "    - $ S(n) = \\frac{n(n+1)}{2} $"
   ]
  },
  {
   "cell_type": "markdown",
   "id": "8400329c-a5b1-4447-875a-567ea585b8dd",
   "metadata": {},
   "source": [
    "***Loop Invariants***\n",
    "\n",
    "To prove some statement $ L $ is correct, define $ L $ in terms of a series of smaller statements $ L_0, L_1, ..., L_k $\n",
    "\n",
    "Assume $ L $ goes through iterations: $ \\{ 1, 2, ..., j-1, j, j+1, ..., k-1, k $ \\} $\n",
    "\n",
    "Specifically, there are **3 main parts** for loop invariant proofs:\n",
    "1. ***Initial claim (Base Case)***\n",
    "    - $ L_0 $ is `True` *before* loop begins\n",
    "2. ***Loop***\n",
    "    - If $ L_{j-1} $ is `True` *before* iteration $ j $,\n",
    "    - then $ L_j $ also `True` *after* iteration $ j $\n",
    "3. ***Termination***\n",
    "    - The final statement $ L_k $, implies desired statement $ L $ to be `True`"
   ]
  },
  {
   "cell_type": "code",
   "execution_count": null,
   "id": "acbef480-10b0-4cd4-a458-6ecbc75a113c",
   "metadata": {},
   "outputs": [],
   "source": [
    "# loop invariant example\n",
    "\n",
    "def find_val(S, val):\n",
    "    \"\"\"Return index j such that S[j] == val, or -1 if no such element\"\"\"\n",
    "    \n",
    "    k = len(S)\n",
    "    for j in range(k):\n",
    "        if S[j] == val:\n",
    "            return j # match found at index j\n",
    "    return -1 # match not found"
   ]
  },
  {
   "cell_type": "markdown",
   "id": "b62ccf31-6253-455c-9080-dd03a0b05158",
   "metadata": {},
   "source": [
    "**Example proof**\n",
    "\n",
    "I guess we're saying that if the proof succeeds, then it's \"loop invariant\" and if not, then \"not loop invariant\"\n",
    "\n",
    "I'm not understanding the usefulness of this reasoning at this time...\n",
    "\n",
    "1. Initial claim\n",
    "    - $ L_0 $: `val` not in any elements of `S`\n",
    "    - This is `True` at $ L_0 $ because `S[0:0]` is empty\n",
    "2. Loop\n",
    "    - If `val` not in any element of $ S $ before $ j $,\n",
    "    - then `val` not in any element of $ S $ after iteration $ j $\n",
    "3. Termination"
   ]
  },
  {
   "cell_type": "markdown",
   "id": "0ee0dbd9",
   "metadata": {},
   "source": [
    "<a id=\"3.5\"></a>\n",
    "## 3.5 Exercises\n",
    "\n",
    "<a href=\"#toc\">Table of Contents</a>"
   ]
  },
  {
   "cell_type": "markdown",
   "id": "9732f1fb-c8bd-447f-9a5a-3450f4140787",
   "metadata": {},
   "source": [
    "### R3.1\n",
    "Graph the functions `8n, 4n log n, 2n , n ,` and `2` using a logarithmic scale for the x- and y-axes; that is, if the function value `f(n)` is `y`, plot this as a point with x-coordinate at log n and y-coordinate at log y."
   ]
  },
  {
   "cell_type": "markdown",
   "id": "b5c517ca",
   "metadata": {},
   "source": [
    "Note:\n",
    "- [Numpy Data types documentation](https://numpy.org/doc/stable/user/basics.types.html)\n",
    "- `numpy` has limitations on integers (32 bit or 64 bit)\n",
    "    - `OverflowError` raised for numbers too large for the `dtype`\n",
    "- for extended 128-bit precision use `longdouble`\n",
    "    - aka `float128`, `longfloat`"
   ]
  },
  {
   "cell_type": "code",
   "execution_count": 76,
   "id": "d0f23023",
   "metadata": {},
   "outputs": [
    {
     "name": "stdout",
     "output_type": "stream",
     "text": [
      "3.6893488147419103e+19\n",
      "OverflowError: int too big to convert\n"
     ]
    }
   ],
   "source": [
    "import numpy as np\n",
    "try:\n",
    "    print(np.longdouble(2**65))\n",
    "    print(np.int64(2**65))\n",
    "except OverflowError as oe:\n",
    "    print('OverflowError:',oe)"
   ]
  },
  {
   "cell_type": "code",
   "execution_count": 77,
   "id": "385ad61c",
   "metadata": {},
   "outputs": [
    {
     "data": {
      "image/png": "[encoded data removed]",
      "text/plain": [
       "<Figure size 720x576 with 1 Axes>"
      ]
     },
     "metadata": {
      "needs_background": "light"
     },
     "output_type": "display_data"
    }
   ],
   "source": [
    "import numpy as np\n",
    "import matplotlib.pyplot as plt\n",
    "%matplotlib inline\n",
    "\n",
    "n = np.arange(1,30,0.01,dtype='longdouble')\n",
    "funs = [8*n,\n",
    "        4*n*np.log10(n),\n",
    "        2*n**2,\n",
    "        n**3,\n",
    "        2**n]\n",
    "labels = ['8*n', '4*n*np.log10(n)', '2*n**2', 'n**3', '2**n']\n",
    "plt.figure(figsize=(10,8))\n",
    "for f,l in zip(funs,labels):\n",
    "    plt.loglog(n,f,label='%s' % l)\n",
    "plt.title('f(n) vs n',fontsize=16)\n",
    "plt.xlabel('n')\n",
    "plt.ylabel('f(n)')\n",
    "plt.legend(fontsize=14);"
   ]
  },
  {
   "cell_type": "markdown",
   "id": "b69f3c01",
   "metadata": {},
   "source": [
    "### R3.2\n",
    "\n",
    "The number of operations executed by algorithms A and B is $ 8n \\log n $ and $ 2n^2 $, respectively. Determine $ n $ such that A is better than B for $ n \\geq n_0 $.\n",
    "\n",
    "Answer:\n",
    "\n",
    "$ n > 0 $\n",
    "\n",
    "A is already better than B for all values $ n > 0 $"
   ]
  },
  {
   "cell_type": "code",
   "execution_count": 82,
   "id": "dbe139e6",
   "metadata": {},
   "outputs": [
    {
     "data": {
      "text/plain": [
       "<matplotlib.legend.Legend at 0x19307a71810>"
      ]
     },
     "execution_count": 82,
     "metadata": {},
     "output_type": "execute_result"
    },
    {
     "data": {
      "image/png": "[encoded data removed]",
      "text/plain": [
       "<Figure size 432x288 with 1 Axes>"
      ]
     },
     "metadata": {
      "needs_background": "light"
     },
     "output_type": "display_data"
    }
   ],
   "source": [
    "import numpy as np\n",
    "import matplotlib.pyplot as plt\n",
    "%matplotlib inline\n",
    "\n",
    "n = np.arange(1,2,0.1,dtype='longdouble')\n",
    "A = 8*n*np.log10(n)\n",
    "B = 2*n**2\n",
    "\n",
    "plt.plot(n,A,label='A')\n",
    "plt.plot(n,B,label='B')\n",
    "plt.legend()"
   ]
  },
  {
   "cell_type": "markdown",
   "id": "01cb30c8",
   "metadata": {},
   "source": [
    "### R3.3\n",
    "The number of operations executed by algorithms A and B is $ 40n^2 $ and $ 2n^2 $ , respectively. Determine n such that A is better than B for $ n \\geq n_0 $ .\n",
    "\n",
    "Answer:\n",
    "\n",
    "$$\n",
    "B \\geq A \\\\\n",
    "2n^3 \\geq 40n^2 \\\\\n",
    "n^3 \\geq 20n^2 \\\\\n",
    "3 \\log (n) \\geq \\log(20) + 2 \\log (n) \\\\\n",
    "\\log(n) \\geq \\log(20) \\\\\n",
    "10^{\\log(n)} \\geq 10^{\\log(20)} \\\\\n",
    "n \\geq 20\n",
    "$$"
   ]
  },
  {
   "cell_type": "markdown",
   "id": "793ba55d",
   "metadata": {},
   "source": [
    "### R3.4\n",
    "\n",
    "Give an example of a function that is plotted the same on a log-log scale is it is on a standard scale\n",
    "\n",
    "Answer:\n",
    "\n",
    "f(n) = n"
   ]
  },
  {
   "cell_type": "code",
   "execution_count": 86,
   "id": "78579563",
   "metadata": {},
   "outputs": [
    {
     "data": {
      "image/png": "[encoded data removed]",
      "text/plain": [
       "<Figure size 288x576 with 2 Axes>"
      ]
     },
     "metadata": {
      "needs_background": "light"
     },
     "output_type": "display_data"
    }
   ],
   "source": [
    "import numpy as np\n",
    "import matplotlib.pyplot as plt\n",
    "%matplotlib inline\n",
    "\n",
    "n = np.arange(10)\n",
    "fig, ax = plt.subplots(2,1,figsize=(4,8))\n",
    "ax[0].plot(n,n);\n",
    "ax[1].loglog(n,n);"
   ]
  },
  {
   "cell_type": "markdown",
   "id": "a24998b7",
   "metadata": {},
   "source": [
    "### R3.5\n",
    "\n",
    "Explain why the plot of the function n is a straight line with slope c on a log-log scale.\n",
    "\n",
    "Answer:\n",
    "\n",
    "It's not. It's a straight line for a ***semi-log plot***.\n",
    "\n",
    "$$\n",
    "\\log{10}\n",
    "$$"
   ]
  },
  {
   "cell_type": "code",
   "execution_count": 8,
   "id": "cf64abc8",
   "metadata": {},
   "outputs": [
    {
     "data": {
      "image/png": "[encoded data removed]",
      "text/plain": [
       "<Figure size 576x576 with 3 Axes>"
      ]
     },
     "metadata": {
      "needs_background": "light"
     },
     "output_type": "display_data"
    }
   ],
   "source": [
    "import numpy as np\n",
    "import matplotlib.pyplot as plt\n",
    "%matplotlib inline\n",
    "\n",
    "n = np.arange(1,10**6,dtype='longdouble')\n",
    "f = np.log10(n**2)\n",
    "fig, ax = plt.subplots(3,1,figsize=(8,8))\n",
    "fig.tight_layout(h_pad=2);\n",
    "ax[0].plot(n,f);\n",
    "ax[0].set_title('linear plot');\n",
    "ax[1].plot(n,f);\n",
    "ax[1].set_xscale('log');\n",
    "ax[1].set_title('semi-log plot')\n",
    "ax[2].loglog(n,f);\n",
    "ax[2].set_title('log-log plot');"
   ]
  },
  {
   "cell_type": "markdown",
   "id": "319ad568",
   "metadata": {},
   "source": [
    "### R3.6\n",
    "\n",
    "What is the sum of all even numbers from `0` to `2n`, for any positve integer `n`?\n",
    "\n",
    "Answer:\n",
    "\n",
    "Gaussian sum\n",
    "\n",
    "$$\n",
    "0 + 2(1) + 2(2) + ... + (2n-4) + (2n-2) + 2n \\\\\n",
    "0 + \\cancel{2} + \\cancel{4} + ... + 2n \\cancel{- 4} + 2n \\cancel{- 2} + 2n\n",
    "$$\n",
    "\n",
    "- There are $ n+1 $ terms from $ 0 \\rightarrow 2n $.\n",
    "- First half cancels out, so $ 2n $ is added $ \\frac{n+1}{2} $ times\n",
    "\n",
    "$$\n",
    "\\therefore \\\\\n",
    "Sum = \\sum_{i=0}^n 2x = \\frac{2n(n+1)}{2}\n",
    "$$\n"
   ]
  },
  {
   "cell_type": "code",
   "execution_count": 1,
   "id": "6484f905",
   "metadata": {},
   "outputs": [
    {
     "name": "stdout",
     "output_type": "stream",
     "text": [
      "n gsum sum\n",
      "0   0   0\n",
      "1   2   2\n",
      "2   6   6\n",
      "3   12   12\n",
      "4   20   20\n",
      "5   30   30\n",
      "6   42   42\n",
      "7   56   56\n",
      "8   72   72\n",
      "9   90   90\n"
     ]
    }
   ],
   "source": [
    "l = []\n",
    "gsum = lambda n: 2*n*(n+1)/2 # gaussian formula\n",
    "print('n gsum sum')\n",
    "for n in range(10):\n",
    "    l.append(2*n)\n",
    "    print(n,int(gsum(n)),sum(l),sep='   ')"
   ]
  },
  {
   "cell_type": "markdown",
   "id": "4caebe6f",
   "metadata": {},
   "source": [
    "### R3.7\n",
    "\n",
    "Show that the 2 statements are equivalent:\n",
    "\n",
    "1. The runtime of algorithm `A` is always $ O(f(n)) $\n",
    "2. In the worst case, the runtime of algorithm `A` is $ O(f(n)) $\n",
    "\n",
    "Answer:\n",
    "\n",
    "Worst case, function is just itself?"
   ]
  },
  {
   "cell_type": "markdown",
   "id": "c2c23176-2a71-4f88-bc60-67cbf649e1dc",
   "metadata": {},
   "source": [
    "### R3.8\n",
    "\n",
    "Order functions in terms of aysmptomatic growth:\n",
    "\n",
    "$ 4n\\log n + 2n, 2^{10}, 2^{\\log n}, 3n + 100 \\log n, 4n, 2^n, n^2 + 10n, n^3, n \\log n $\n",
    "\n",
    "Answer:\n",
    "\n",
    "From fast to slow\n",
    "\n",
    "$$\n",
    "2^{10} = O(1)\\\\\n",
    "4n = O(n) \\\\\n",
    "4n \\log n + 2n = O(n \\log n)\\\\\n",
    "3n + 100 \\log n = O(n \\log n)\\\\\n",
    "2^{\\log n} = 2^{\\frac{\\log_2{n}}{\\log_2{10}}} = 2^{\\log_2 n \\frac{1}{\\log_2{10}}} = n^{\\frac{1}{\\log_2 n}} = O(n^{\\frac{1}{\\log_2 n}})\\\\\n",
    "n^2 + 10 n = O(n^2)\\\\\n",
    "n^3 = O(n^3)\\\\\n",
    "2^n = O(2^n)\n",
    "$$\n"
   ]
  },
  {
   "cell_type": "markdown",
   "id": "e0272c34",
   "metadata": {},
   "source": [
    "### R3.9"
   ]
  },
  {
   "cell_type": "markdown",
   "id": "f43dec33",
   "metadata": {},
   "source": [
    "<a id=\"4\"></a>\n",
    "# 4 Recursion\n",
    "\n",
    "<a href=\"#toc\">Table of Contents</a>"
   ]
  },
  {
   "cell_type": "markdown",
   "id": "99201638",
   "metadata": {},
   "source": [
    "Four illustrative examples of recursion:\n",
    "\n",
    "1. **Factorial Function:** $ n! $\n",
    "2. **English Ruler:** recursive pattern with fractal structure\n",
    "3. **Binary Search:** common recursive search algorithm\n",
    "4. **Computer File System:** Directories nested in other directories can be recusrive"
   ]
  },
  {
   "cell_type": "markdown",
   "id": "5fb0f8b8",
   "metadata": {},
   "source": [
    "<a id=\"4.1\"></a>\n",
    "## 4.1 Illustrative Examples\n",
    "\n",
    "<a href=\"#toc\">Table of Contents</a>"
   ]
  },
  {
   "cell_type": "markdown",
   "id": "f8b0a5a8",
   "metadata": {},
   "source": [
    "### Factorial Function"
   ]
  },
  {
   "cell_type": "markdown",
   "id": "94b4b272",
   "metadata": {},
   "source": [
    "Example factorial\n",
    "\n",
    "$$\n",
    "4! = 4 * 3 * 2 * 1\\\\\n",
    "4! = 4 * 3!\n",
    "$$\n",
    "\n",
    "So generally,\n",
    "\n",
    "- $ n! = 1 $ ***if*** $ n = 0 $ (base case)\n",
    "- $ n! = n(n-1) $ ***if*** $ n \\geq 1 $ (flow)"
   ]
  },
  {
   "cell_type": "code",
   "execution_count": null,
   "id": "26ca144a",
   "metadata": {},
   "outputs": [
    {
     "name": "stdout",
     "output_type": "stream",
     "text": [
      "120\n",
      "120\n"
     ]
    }
   ],
   "source": [
    "# basic factorial recursion\n",
    "def fact(n):\n",
    "    if n == 0:      # base case\n",
    "        return 1\n",
    "    else:           # flow\n",
    "        return n * fact(n-1)\n",
    "\n",
    "print(fact(5)) # factorial through recursive function\n",
    "f = 1\n",
    "for n in range(1,6): f *= n # factorial trough loop\n",
    "print(f)"
   ]
  },
  {
   "cell_type": "markdown",
   "id": "c6d128d4",
   "metadata": {},
   "source": [
    "### English Ruler"
   ]
  },
  {
   "cell_type": "markdown",
   "id": "802c552b",
   "metadata": {},
   "source": [
    "- **Major Tick Length** - 1 inch increments\n",
    "- **Minor tick length** - incremental intervals (0.5in, 0.25in, etc.)\n",
    "- **fractal pattern** - shape that has self-recursive structure at various levels of magnification"
   ]
  },
  {
   "cell_type": "code",
   "execution_count": 16,
   "id": "067acc77",
   "metadata": {},
   "outputs": [
    {
     "name": "stdout",
     "output_type": "stream",
     "text": [
      "--- 0 in\n",
      "-\n",
      "--\n",
      "-\n",
      "--- 1 in\n",
      "---- 0 in\n",
      "-\n",
      "--\n",
      "-\n",
      "---\n",
      "-\n",
      "--\n",
      "-\n",
      "---- 1 in\n",
      "-\n",
      "--\n",
      "-\n",
      "---\n",
      "-\n",
      "--\n",
      "-\n",
      "---- 2 in\n"
     ]
    }
   ],
   "source": [
    "class EnglishRuler:\n",
    "    \"\"\"English Ruler with variable intervals between inch ticks\"\"\"\n",
    "\n",
    "    def __init__(self, num_inches = 1, major_length = 3):\n",
    "        \"\"\"Initialize ruler\n",
    "        \n",
    "        num_inches = Total length of ruler to print (inches)\n",
    "        major_length = Largest tick length (also number of subdivisions)\n",
    "        \"\"\"\n",
    "        self.num_inches = num_inches\n",
    "        self.major_length = major_length\n",
    "\n",
    "    def draw_line(self, tick_length, tick_label=''):\n",
    "        \"\"\"Draw one line with given tick length (followed by optional label).\"\"\"\n",
    "        line = '-' * tick_length\n",
    "        if tick_label:\n",
    "            line += ' ' + tick_label\n",
    "        print(line)\n",
    "\n",
    "    def draw_interval(self, center_length):\n",
    "        \"\"\"Draw tick interval based upon central tick length\"\"\"\n",
    "        if center_length > 0:                       # stop when length drops to 0\n",
    "            self.draw_interval(center_length - 1)   # recursively draw top ticks\n",
    "            self.draw_line(center_length)           # draw center tick\n",
    "            self.draw_interval(center_length - 1)   # recursively draw bottom ticks\n",
    "\n",
    "    def draw_ruler(self, num_inches = None, major_length = None):\n",
    "        \"\"\"Draw English ruler with given number of inches, major tick length\"\"\"\n",
    "        if not num_inches:                          # use given num_inches, else init value\n",
    "            num_inches = self.num_inches\n",
    "        if not major_length:                        # use given major_length, else init value\n",
    "            major_length = self.major_length\n",
    "        self.draw_line(major_length, '0 in')                    # draw inch 0 line\n",
    "        for j in range(1, 1 + num_inches):\n",
    "            self.draw_interval(major_length - 1)                # draw interior ticks for inch\n",
    "            self.draw_line(major_length, str(j) + ' in')        # draw inch j line and label\n",
    "\n",
    "test_ruler = EnglishRuler()\n",
    "test_ruler.draw_ruler()\n",
    "test_ruler.draw_ruler(num_inches=2,major_length=4)"
   ]
  },
  {
   "cell_type": "markdown",
   "id": "2d56406f",
   "metadata": {},
   "source": [
    "### Binary Search"
   ]
  },
  {
   "cell_type": "markdown",
   "id": "796eb637",
   "metadata": {},
   "source": [
    "- **Binary Search** - common algorithm for locating target value in ***sorted sequence*** of $ n $ elements\n",
    "- **Sequential Search** - Loop through entire dataset in $ O(n) $ time looking for target in ***unsorted sequence***\n",
    "- For ***sorted*** and ***indexable*** sequences, use \"high-low\" recursive approach\n",
    "- Given $ mid = \\lfloor (low+high)/2 \\rfloor $ (floor division aka integer division aka `//`)\n",
    "    - consider 3 cases:\n",
    "        1. `target = data[mid]` $ \\rightarrow $ found item\n",
    "        2. `target < data[mid]` $ \\rightarrow $ recursive search range: `low:mid - 1`\n",
    "        3. `target > data[mid]` $ \\rightarrow $ recursive search range: `mid + 1:high`"
   ]
  },
  {
   "cell_type": "code",
   "execution_count": 28,
   "id": "9b8a7ae5",
   "metadata": {},
   "outputs": [
    {
     "name": "stdout",
     "output_type": "stream",
     "text": [
      "[0, 3, 6, 9, 12, 15, 18, 21, 24, 27]\n",
      "18 in s?\n",
      "[18, 21, 24, 27]\n",
      "[18]\n",
      "True\n",
      "17 in s?\n",
      "[18, 21, 24, 27]\n",
      "[18]\n",
      "[]\n",
      "False\n"
     ]
    }
   ],
   "source": [
    "def bin_search(data, target, low, high):\n",
    "    \"\"\"Retrn True if target is found in indicated portion of a Python list\n",
    "    \n",
    "    The search only considers portion for data[low] to data[high] inclusive.\n",
    "    \"\"\"\n",
    "    if low > high:\n",
    "        return False                            # interval empty; no match\n",
    "    else:\n",
    "        mid = (low + high) // 2\n",
    "        if target == data[mid]:                 # match found\n",
    "            return True\n",
    "        elif target < data[mid]:\n",
    "            # recursive search left half\n",
    "            print(data[low:mid-1])\n",
    "            return bin_search(data,target,low,mid-1)\n",
    "        else:\n",
    "            # recursive search right half\n",
    "            print(data[mid+1:high])\n",
    "            return bin_search(data,target,mid+1,high)\n",
    "\n",
    "s = list(range(0,28,3))\n",
    "print(s)\n",
    "print('18 in s?')\n",
    "print(bin_search(s,18,0,len(s)))\n",
    "print('17 in s?')\n",
    "print(bin_search(s,17,0,len(s)))"
   ]
  },
  {
   "cell_type": "markdown",
   "id": "d88bd3b4",
   "metadata": {},
   "source": [
    "### File Systems"
   ]
  },
  {
   "cell_type": "markdown",
   "id": "f76f9592",
   "metadata": {},
   "source": [
    "Pseudo-code for disk usage of a computer file system\n",
    "\n",
    "```\n",
    "Algorithm DiskUsage(path):\n",
    "    Input: A string designating a path to a file-system entry\n",
    "    Output: The cumulative disk space used by that entry and any nested entries\n",
    "    total = size(path)                      # immediate disk space used by entry\n",
    "    if path represents a directory then\n",
    "        for each child entry stored within directory path do\n",
    "            total = total + DiskUsage(child)        # recursive call\n",
    "    return total\n",
    "```"
   ]
  },
  {
   "cell_type": "markdown",
   "id": "f266eb33",
   "metadata": {},
   "source": [
    "Python `os` module: https://docs.python.org/3/library/os.html\n",
    "\n",
    "- `os.path.getsize(path)`\n",
    "- `os.path.isdir(path)`\n",
    "- `os.listdir(path)`\n",
    "- `os.path.join(path,filename)`"
   ]
  },
  {
   "cell_type": "code",
   "execution_count": 33,
   "id": "abe707c9",
   "metadata": {},
   "outputs": [
    {
     "name": "stdout",
     "output_type": "stream",
     "text": [
      "6778052\n"
     ]
    }
   ],
   "source": [
    "# Python implementation\n",
    "\n",
    "import os\n",
    "\n",
    "def disk_usage(path):\n",
    "    \"\"\"Return the number of bytes used by a file/directory and any descendants\"\"\"\n",
    "    total = os.path.getsize(path)                           # account for direct usage\n",
    "    if os.path.isdir(path):                                 # if this is a directory\n",
    "        for filename in os.listdir(path):         # then for each child\n",
    "            childpath = os.path.join(path,filename)         # compose full path to child\n",
    "            total += disk_usage(childpath)                  # add child's usage to total\n",
    "    \n",
    "    # print('{0:<7}'.format(total),path)                      # descriptive output (optional)\n",
    "    return total\n",
    "\n",
    "print(disk_usage(os.getcwd()))"
   ]
  },
  {
   "cell_type": "markdown",
   "id": "5b61d525",
   "metadata": {},
   "source": [
    "<a id=\"4.2\"></a>\n",
    "## 4.2 Analyzing Recursive Algorithms\n",
    "\n",
    "<a href=\"#toc\">Table of Contents</a>"
   ]
  },
  {
   "cell_type": "markdown",
   "id": "5ef15a9a",
   "metadata": {},
   "source": [
    "- **Factorial Example**\n",
    "    - *activates* $ n + 1 $ times $ \\rightarrow $ time complexity = $ n + 1 = O(n) $\n",
    "- **English Ruler Example**\n",
    "    - a call `c` to `draw_interval` results in $ 2^c - 1 $ lines of output\n",
    "    - Not sure if this directly translates to big-oh\n",
    "- **Binary Search Example**\n",
    "    - Each recursive call divides array: $ \\{ n/2, n/4, ..., n/2^r \\} $ where $ r $ is integer representing the recursive call count\n",
    "    - max calls represented by $ \\frac{n}{2^r} < 1 $\n",
    "    - rearranged, $ r = \\lfloor \\log n \\rfloor + 1 $\n",
    "    - So time complexity = $ O(\\log n) $\n",
    "- **File System Example**\n",
    "    - worst case $ O(n^2) $ if ***all*** directories contain $ n $ entries(weak upper bound)\n",
    "    - $ O(n) $ because all directories cannot contain $ n $ entries"
   ]
  },
  {
   "cell_type": "markdown",
   "id": "472cf392",
   "metadata": {},
   "source": [
    "<a id=\"4.3\"></a>\n",
    "## 4.3 Recursion Run Amok\n",
    "\n",
    "<a href=\"#toc\">Table of Contents</a>"
   ]
  },
  {
   "cell_type": "markdown",
   "id": "df0df9c6",
   "metadata": {},
   "source": [
    "- Python interpreter raises different exceptions for a very large recursion depth\n",
    "- Exceptions depend on code:\n",
    "\n",
    "https://docs.python.org/3/library/exceptions.html\n",
    "\n",
    "https://docs.python.org/3/library/exceptions.html#exception-hierarchy\n",
    "\n",
    "\n",
    "- `exception RuntimeError` $ \\leftarrow $ general exception\n",
    "    - Raised when an error is detected that doesn’t fall in any of the other categories. The associated value is a string indicating what precisely went wrong.\n",
    "\n",
    "- `exception RecursionError` $ \\leftarrow $ exceed `recursionlimit`\n",
    "    - This exception is derived from RuntimeError. It is raised when the interpreter detects that the maximum recursion depth (see sys.getrecursionlimit()) is exceeded.\n",
    "    \n",
    "    - New in version 3.5: Previously, a plain RuntimeError was raised.\n",
    "\n",
    "- `exception MemoryError` $ \\leftarrow $ recursion calls use all available memory (more likely with custom `recursionlimit`)\n",
    "    - Raised when an operation runs out of memory but the situation may still be rescued (by deleting some objects). The associated value is a string indicating what kind of (internal) operation ran out of memory. Note that because of the underlying memory management architecture (C’s malloc() function), the interpreter may not always be able to completely recover from this situation; it nevertheless raises an exception so that a stack traceback can be printed, in case a run-away program was the cause."
   ]
  },
  {
   "cell_type": "code",
   "execution_count": 1,
   "id": "621de7d4",
   "metadata": {},
   "outputs": [
    {
     "name": "stdout",
     "output_type": "stream",
     "text": [
      "3000\n"
     ]
    }
   ],
   "source": [
    "import sys\n",
    "\n",
    "print(sys.getrecursionlimit())"
   ]
  },
  {
   "cell_type": "markdown",
   "id": "c9a8fcb8",
   "metadata": {},
   "source": [
    "<a id=\"4.4\"></a>\n",
    "## 4.4 Further Examples of Recursion\n",
    "\n",
    "<a href=\"#toc\">Table of Contents</a>"
   ]
  },
  {
   "cell_type": "markdown",
   "id": "c9b4f9f7",
   "metadata": {},
   "source": [
    "<div align='center'>\n",
    "<b>Recursion types</b>\n",
    "<br>\n",
    "<br>\n",
    "\n",
    "| Type | Description |\n",
    "| --- | --- |\n",
    "| linear recursion | $ \\leq $ one recursive call |\n",
    "| binary recursion | 2 recursive calls |\n",
    "| multiple recursion | $ \\geq $ 3 recursive calls |\n",
    "</div>"
   ]
  },
  {
   "cell_type": "markdown",
   "id": "bea5275f",
   "metadata": {},
   "source": [
    "<a id=\"4.5\"></a>\n",
    "## 4.5 Designing Recursive Algorithms\n",
    "\n",
    "<a href=\"#toc\">Table of Contents</a>"
   ]
  },
  {
   "cell_type": "markdown",
   "id": "f3820c79",
   "metadata": {},
   "source": [
    "- 3 parts to recursive algorithm\n",
    "    1. ***Base Case***\n",
    "        - Criteria that ends recursive calls\n",
    "        - Algorithm requires *at least 1* base case\n",
    "        - *Does not* return recursive call\n",
    "    2. ***Recursion (flow)***\n",
    "        - Function makes recursive calls to subdivide problem until base case reached\n",
    "    3. ***Edge Cases and exceptions***\n",
    "        - Adjustments for robustness"
   ]
  },
  {
   "cell_type": "markdown",
   "id": "b7fb62bf",
   "metadata": {},
   "source": [
    "<a id=\"4.6\"></a>\n",
    "## 4.6 Eliminating Tail Recursion\n",
    "\n",
    "<a href=\"#toc\">Table of Contents</a>"
   ]
  },
  {
   "cell_type": "markdown",
   "id": "f88bf6c6",
   "metadata": {},
   "source": [
    "- ***Tail Recursion*** = recursive call is the very last operation in the algorithms context\n",
    "    - cannot be `return n * factorial(n-1)` because recursive call is multiplied after call\n",
    "    - tail recursion must be **linear recursion**\n",
    "- Recursion requires interpreter to keep track of recursive depth (requires memory)\n",
    "- Reduce memory use by changing recursive to iterative algorithm using a `while` loop"
   ]
  },
  {
   "cell_type": "code",
   "execution_count": 2,
   "id": "630ae8be",
   "metadata": {},
   "outputs": [
    {
     "name": "stdout",
     "output_type": "stream",
     "text": [
      "[0, 3, 6, 9, 12, 15, 18, 21, 24, 27]\n",
      "18 in s?\n",
      "[18, 21, 24, 27]\n",
      "[18]\n",
      "True\n",
      "17 in s?\n",
      "[18, 21, 24, 27]\n",
      "[18]\n",
      "[]\n",
      "False\n"
     ]
    }
   ],
   "source": [
    "# recursive example\n",
    "def bin_search(data, target, low, high):\n",
    "    \"\"\"Retrn True if target is found in indicated portion of a Python list\n",
    "    \n",
    "    The search only considers portion for data[low] to data[high] inclusive.\n",
    "    \"\"\"\n",
    "    if low > high:\n",
    "        return False                            # interval empty; no match\n",
    "    else:\n",
    "        mid = (low + high) // 2\n",
    "        if target == data[mid]:                 # match found\n",
    "            return True\n",
    "        elif target < data[mid]:\n",
    "            # recursive search left half\n",
    "            print(data[low:mid-1])\n",
    "            return bin_search(data,target,low,mid-1)\n",
    "        else:\n",
    "            # recursive search right half\n",
    "            print(data[mid+1:high])\n",
    "            return bin_search(data,target,mid+1,high)\n",
    "\n",
    "s = list(range(0,28,3))\n",
    "print(s)\n",
    "print('18 in s?')\n",
    "print(bin_search(s,18,0,len(s)))\n",
    "print('17 in s?')\n",
    "print(bin_search(s,17,0,len(s)))"
   ]
  },
  {
   "cell_type": "code",
   "execution_count": 3,
   "id": "8dd040dc",
   "metadata": {},
   "outputs": [
    {
     "name": "stdout",
     "output_type": "stream",
     "text": [
      "[0, 3, 6, 9, 12, 15, 18, 21, 24, 27]\n",
      "18 in s?\n",
      "[15, 18, 21, 24, 27]\n",
      "[15, 18]\n",
      "[18]\n",
      "True\n",
      "17 in s?\n",
      "[15, 18, 21, 24, 27]\n",
      "[15, 18]\n",
      "[18]\n",
      "[]\n",
      "False\n"
     ]
    }
   ],
   "source": [
    "# iterative example\n",
    "def bin_search_iter(data, target):\n",
    "    \"\"\"Return True if target found in list\"\"\"\n",
    "    low = 0\n",
    "    high = len(data) - 1\n",
    "    while low <= high:\n",
    "        mid = (low + high) // 2\n",
    "        if target == data[mid]:\n",
    "            return True\n",
    "        elif target < data[mid]:\n",
    "            high = mid - 1\n",
    "            print(data[low:high+1])\n",
    "        else:\n",
    "            low = mid + 1\n",
    "            print(data[low:high+1])\n",
    "    return False\n",
    "\n",
    "s = list(range(0,28,3))\n",
    "print(s)\n",
    "print('18 in s?')\n",
    "print(bin_search_iter(s,18))\n",
    "print('17 in s?')\n",
    "print(bin_search_iter(s,17))"
   ]
  },
  {
   "cell_type": "markdown",
   "id": "73c20d78",
   "metadata": {},
   "source": [
    "<a id=\"4.7\"></a>\n",
    "## 4.7 Exercises\n",
    "\n",
    "<a href=\"#toc\">Table of Contents</a>"
   ]
  },
  {
   "cell_type": "markdown",
   "id": "45f85609",
   "metadata": {},
   "source": [
    "### R4.1\n",
    "\n",
    "Describe a recursive algorithm for finding the maximum element in a sequence, S, of n elements. What is your running time and space usage?\n",
    "\n",
    "**Answer:**\n",
    "\n",
    "1. Flow\n",
    "    - floor divide array\n",
    "    - compare find max from subdivision\n",
    "2. Base Case\n",
    "    - length of subdivision is single element\n",
    "3. Handled Exceptions\n",
    "    - empty list given\n",
    "\n",
    "```\n",
    "def find_max(S: list):\n",
    "    if len(S) == 1:         # base case\n",
    "        return S[0]\n",
    "    elif len(S) == 0:       # empty list exception\n",
    "        return None\n",
    "    \n",
    "    # flow\n",
    "    lmax = find_max(S[:len(S)//2])\n",
    "    rmax = find_max(S[len(S)//2:])\n",
    "\n",
    "    if lmax > rmax:\n",
    "        return lmax\n",
    "    else:\n",
    "        return rmax\n",
    "```\n",
    "\n",
    "Similar to binary search\n",
    "- Depth of recursion = $ 1 + \\log_2 n $\n",
    "    - Space complexity: $ O(\\log n) $\n",
    "- function calls run in $ O(1) $ time, and requires $ 2n - 1 $ calls\n",
    "    - Time complexity: $ O(n) $"
   ]
  },
  {
   "cell_type": "code",
   "execution_count": 10,
   "id": "823103c5",
   "metadata": {},
   "outputs": [
    {
     "name": "stdout",
     "output_type": "stream",
     "text": [
      "11\n",
      "55\n",
      "None\n"
     ]
    }
   ],
   "source": [
    "def find_max(S: list):\n",
    "    if len(S) == 1:         # base case\n",
    "        return S[0]\n",
    "    elif len(S) == 0:       # empty list exception\n",
    "        return None\n",
    "    \n",
    "    # flow\n",
    "    lmax = find_max(S[:len(S)//2])\n",
    "    rmax = find_max(S[len(S)//2:])\n",
    "\n",
    "    if lmax > rmax:\n",
    "        return lmax\n",
    "    else:\n",
    "        return rmax\n",
    "\n",
    "S = list(range(12))\n",
    "print(find_max(S))\n",
    "S = [1,6,3,-3,1,3,55]\n",
    "print(find_max(S))\n",
    "S = []\n",
    "print(find_max(S))"
   ]
  },
  {
   "cell_type": "markdown",
   "id": "29e486ed",
   "metadata": {},
   "source": [
    "### C4.18\n",
    "\n",
    "Use recursion to write a Python function for determining if a string s has more vowels than consonants.\n",
    "\n",
    "Answer\n",
    "\n",
    "1. Flow\n",
    "    - subdivide string\n",
    "    - count left and right\n",
    "        - `bool` types can added with `int` type: `True = 1` and `False = 0`\n",
    "2. Base Case\n",
    "    - single character\n",
    "    - return `vowel = True` or `consonant = False`\n",
    "3. Handled Exceptions\n",
    "    - Empty string\n",
    "    - whitespaces in string\n",
    "    - case sensitivity"
   ]
  },
  {
   "cell_type": "markdown",
   "id": "4d59d38f",
   "metadata": {},
   "source": [
    "https://www.geeksforgeeks.org/program-count-vowels-string-iterative-recursive"
   ]
  },
  {
   "cell_type": "code",
   "execution_count": 17,
   "id": "3389773f",
   "metadata": {},
   "outputs": [
    {
     "name": "stdout",
     "output_type": "stream",
     "text": [
      "3\n"
     ]
    }
   ],
   "source": [
    "print(False + True + False + True + True)"
   ]
  },
  {
   "cell_type": "code",
   "execution_count": 38,
   "id": "c80e3349",
   "metadata": {},
   "outputs": [
    {
     "name": "stdout",
     "output_type": "stream",
     "text": [
      "(False, 1, 3)\n",
      "(True, 2, 1)\n",
      "(False, False, 0)\n"
     ]
    }
   ],
   "source": [
    "def more_vowels(s):\n",
    "    def count_vowels(s):\n",
    "        if len(s) == 1 and s[0].lower() in {'a','e','i','o','u'}:\n",
    "            return True         # vowel\n",
    "        elif len(s) <= 1:\n",
    "            return False        # consonant or empty\n",
    "        \n",
    "        left = count_vowels(s[:len(s)//2])\n",
    "        right = count_vowels(s[len(s)//2:])\n",
    "        return left + right\n",
    "\n",
    "    s = s.replace(' ','')       # remove whitespaces\n",
    "    v = count_vowels(s)\n",
    "    c = len(s) - v\n",
    "    if v > c: return True, v, c # more vowels\n",
    "    else: return False, v, c    # same or more consonants\n",
    "\n",
    "print(more_vowels('blah'))\n",
    "print(more_vowels('A b a  '))\n",
    "print(more_vowels(''))"
   ]
  },
  {
   "cell_type": "markdown",
   "id": "731c022f",
   "metadata": {},
   "source": [
    "<a id=\"5\"></a>\n",
    "# 5 Array-Based Sequences\n",
    "\n",
    "<a href=\"#toc\">Table of Contents</a>"
   ]
  },
  {
   "cell_type": "markdown",
   "id": "78d0cbb5",
   "metadata": {},
   "source": [
    "<a id=\"5.1\"></a>\n",
    "## 5.1 Python's Sequence Types\n",
    "\n",
    "<a href=\"#toc\">Table of Contents</a>"
   ]
  },
  {
   "cell_type": "markdown",
   "id": "6e3ad970",
   "metadata": {},
   "source": [
    "<a id=\"5.2\"></a>\n",
    "## 5.2 Low-Level Arrays\n",
    "\n",
    "<a href=\"#toc\">Table of Contents</a>"
   ]
  },
  {
   "cell_type": "markdown",
   "id": "30e42405",
   "metadata": {},
   "source": [
    "<a id=\"5.3\"></a>\n",
    "## 5.3 Dynamic Arrays and Amortization\n",
    "\n",
    "<a href=\"#toc\">Table of Contents</a>"
   ]
  },
  {
   "cell_type": "markdown",
   "id": "7534ee27",
   "metadata": {},
   "source": [
    "<a id=\"5.4\"></a>\n",
    "## 5.4 Efficiency of Python's Sequence Types\n",
    "\n",
    "<a href=\"#toc\">Table of Contents</a>"
   ]
  },
  {
   "cell_type": "markdown",
   "id": "0b24c6eb",
   "metadata": {},
   "source": [
    "<a id=\"5.5\"></a>\n",
    "## 5.5 Using Array-Based Sequences\n",
    "\n",
    "<a href=\"#toc\">Table of Contents</a>"
   ]
  },
  {
   "cell_type": "markdown",
   "id": "a33613c3",
   "metadata": {},
   "source": [
    "<a id=\"5.6\"></a>\n",
    "## 5.6 Multidimensional Data Sets\n",
    "\n",
    "<a href=\"#toc\">Table of Contents</a>"
   ]
  },
  {
   "cell_type": "markdown",
   "id": "16aa0bf3",
   "metadata": {},
   "source": [
    "<a id=\"5.7\"></a>\n",
    "## 5.7 Exercises\n",
    "\n",
    "<a href=\"#toc\">Table of Contents</a>"
   ]
  },
  {
   "cell_type": "markdown",
   "id": "15691bc2",
   "metadata": {},
   "source": [
    "<a id=\"6\"></a>\n",
    "# 6 Stacks, Queues, and Deques\n",
    "\n",
    "<a href=\"#toc\">Table of Contents</a>"
   ]
  },
  {
   "cell_type": "markdown",
   "id": "420cd8a2",
   "metadata": {},
   "source": [
    "<a id=\"6.1\"></a>\n",
    "## 6.1 Stacks\n",
    "\n",
    "<a href=\"#toc\">Table of Contents</a>"
   ]
  },
  {
   "cell_type": "markdown",
   "id": "56897e9d",
   "metadata": {},
   "source": [
    "<a id=\"6.2\"></a>\n",
    "## 6.2 Queues\n",
    "\n",
    "<a href=\"#toc\">Table of Contents</a>"
   ]
  },
  {
   "cell_type": "markdown",
   "id": "a40a592d",
   "metadata": {},
   "source": [
    "<a id=\"6.3\"></a>\n",
    "## 6.3 Double-Ended Queues\n",
    "\n",
    "<a href=\"#toc\">Table of Contents</a>"
   ]
  },
  {
   "cell_type": "markdown",
   "id": "0ad54fe2",
   "metadata": {},
   "source": [
    "<a id=\"6.4\"></a>\n",
    "## 6.4 Exercises\n",
    "\n",
    "<a href=\"#toc\">Table of Contents</a>"
   ]
  },
  {
   "cell_type": "markdown",
   "id": "ad3ee0f8",
   "metadata": {},
   "source": [
    "<a id=\"7\"></a>\n",
    "# 7 Linked Lists\n",
    "\n",
    "<a href=\"#toc\">Table of Contents</a>"
   ]
  },
  {
   "cell_type": "markdown",
   "id": "2ba7f50e",
   "metadata": {},
   "source": [
    "<a id=\"7.1\"></a>\n",
    "## 7.1 Singly Linked Lists\n",
    "\n",
    "<a href=\"#toc\">Table of Contents</a>"
   ]
  },
  {
   "cell_type": "markdown",
   "id": "1eaf960f",
   "metadata": {},
   "source": [
    "<a id=\"7.2\"></a>\n",
    "## 7.2 Circularly Linked Lists\n",
    "\n",
    "<a href=\"#toc\">Table of Contents</a>"
   ]
  },
  {
   "cell_type": "markdown",
   "id": "d435a36a",
   "metadata": {},
   "source": [
    "<a id=\"7.3\"></a>\n",
    "## 7.3 Doubly Linked Lists\n",
    "\n",
    "<a href=\"#toc\">Table of Contents</a>"
   ]
  },
  {
   "cell_type": "markdown",
   "id": "34a11529",
   "metadata": {},
   "source": [
    "<a id=\"7.4\"></a>\n",
    "## 7.4 The Positional List ADT\n",
    "\n",
    "<a href=\"#toc\">Table of Contents</a>"
   ]
  },
  {
   "cell_type": "markdown",
   "id": "6704c86a",
   "metadata": {},
   "source": [
    "<a id=\"7.5\"></a>\n",
    "## 7.5 Sorting a Positional List\n",
    "\n",
    "<a href=\"#toc\">Table of Contents</a>"
   ]
  },
  {
   "cell_type": "markdown",
   "id": "fabe56d8",
   "metadata": {},
   "source": [
    "<a id=\"7.6\"></a>\n",
    "## 7.6 Case Study: Maintaining Access Frequencies\n",
    "\n",
    "<a href=\"#toc\">Table of Contents</a>"
   ]
  },
  {
   "cell_type": "markdown",
   "id": "eb759c46",
   "metadata": {},
   "source": [
    "<a id=\"7.7\"></a>\n",
    "## 7.7 Exercises\n",
    "\n",
    "<a href=\"#toc\">Table of Contents</a>"
   ]
  },
  {
   "cell_type": "markdown",
   "id": "5170a847",
   "metadata": {},
   "source": [
    "<a id=\"8\"></a>\n",
    "# 8 Trees\n",
    "\n",
    "<a href=\"#toc\">Table of Contents</a>"
   ]
  },
  {
   "cell_type": "markdown",
   "id": "ec7aae02",
   "metadata": {},
   "source": [
    "<a id=\"8.1\"></a>\n",
    "## 8.1 General Trees\n",
    "\n",
    "<a href=\"#toc\">Table of Contents</a>"
   ]
  },
  {
   "cell_type": "markdown",
   "id": "8399b8d9",
   "metadata": {},
   "source": [
    "<a id=\"8.2\"></a>\n",
    "## 8.2 Binary Trees\n",
    "\n",
    "<a href=\"#toc\">Table of Contents</a>"
   ]
  },
  {
   "cell_type": "markdown",
   "id": "7f25c3b1",
   "metadata": {},
   "source": [
    "<a id=\"8.3\"></a>\n",
    "## 8.3 Implementing Trees\n",
    "\n",
    "<a href=\"#toc\">Table of Contents</a>"
   ]
  },
  {
   "cell_type": "markdown",
   "id": "3257bdf1",
   "metadata": {},
   "source": [
    "<a id=\"8.4\"></a>\n",
    "## 8.4 Tree Traversal Algorithms\n",
    "\n",
    "<a href=\"#toc\">Table of Contents</a>"
   ]
  },
  {
   "cell_type": "markdown",
   "id": "97d14a16",
   "metadata": {},
   "source": [
    "<a id=\"8.5\"></a>\n",
    "## 8.5 Case Study: An Expression Tree\n",
    "\n",
    "<a href=\"#toc\">Table of Contents</a>"
   ]
  },
  {
   "cell_type": "markdown",
   "id": "a3b58dc2",
   "metadata": {},
   "source": [
    "<a id=\"8.6\"></a>\n",
    "## 8.6 Exercises\n",
    "\n",
    "<a href=\"#toc\">Table of Contents</a>"
   ]
  },
  {
   "cell_type": "markdown",
   "id": "ea9ca2ca",
   "metadata": {},
   "source": [
    "<a id=\"9\"></a>\n",
    "# 9 Priority Queues\n",
    "\n",
    "<a href=\"#toc\">Table of Contents</a>"
   ]
  },
  {
   "cell_type": "markdown",
   "id": "5b228a9a",
   "metadata": {},
   "source": [
    "<a id=\"9.1\"></a>\n",
    "## 9.1 The Priority Queue Abstract Data Type\n",
    "\n",
    "<a href=\"#toc\">Table of Contents</a>"
   ]
  },
  {
   "cell_type": "markdown",
   "id": "07fd7297",
   "metadata": {},
   "source": [
    "<a id=\"9.2\"></a>\n",
    "## 9.2 Implementing a Priority Queue\n",
    "\n",
    "<a href=\"#toc\">Table of Contents</a>"
   ]
  },
  {
   "cell_type": "markdown",
   "id": "a41325b2",
   "metadata": {},
   "source": [
    "<a id=\"9.3\"></a>\n",
    "## 9.3 Heaps\n",
    "\n",
    "<a href=\"#toc\">Table of Contents</a>"
   ]
  },
  {
   "cell_type": "markdown",
   "id": "0a8ec5fc",
   "metadata": {},
   "source": [
    "<a id=\"9.4\"></a>\n",
    "## 9.4 Sorting with a Priority Queue\n",
    "\n",
    "<a href=\"#toc\">Table of Contents</a>"
   ]
  },
  {
   "cell_type": "markdown",
   "id": "3471d044",
   "metadata": {},
   "source": [
    "<a id=\"9.5\"></a>\n",
    "## 9.5 Adaptable Priority Queues\n",
    "\n",
    "<a href=\"#toc\">Table of Contents</a>"
   ]
  },
  {
   "cell_type": "markdown",
   "id": "870c8775",
   "metadata": {},
   "source": [
    "<a id=\"9.6\"></a>\n",
    "## 9.6 Exercises\n",
    "\n",
    "<a href=\"#toc\">Table of Contents</a>"
   ]
  },
  {
   "cell_type": "markdown",
   "id": "632d624b",
   "metadata": {},
   "source": [
    "<a id=\"10\"></a>\n",
    "# 10 Maps, Hash Tables, and Skip Lists\n",
    "\n",
    "<a href=\"#toc\">Table of Contents</a>"
   ]
  },
  {
   "cell_type": "markdown",
   "id": "f998ac99",
   "metadata": {},
   "source": [
    "<a id=\"10.1\"></a>\n",
    "## 10.1 Maps and Dictionaries\n",
    "\n",
    "<a href=\"#toc\">Table of Contents</a>"
   ]
  },
  {
   "cell_type": "markdown",
   "id": "85f4bb96",
   "metadata": {},
   "source": [
    "<a id=\"10.2\"></a>\n",
    "## 10.2 Hash Tables\n",
    "\n",
    "<a href=\"#toc\">Table of Contents</a>"
   ]
  },
  {
   "cell_type": "markdown",
   "id": "115d233c",
   "metadata": {},
   "source": [
    "<a id=\"10.3\"></a>\n",
    "## 10.3 Sorted Maps\n",
    "\n",
    "<a href=\"#toc\">Table of Contents</a>"
   ]
  },
  {
   "cell_type": "markdown",
   "id": "43eebbae",
   "metadata": {},
   "source": [
    "<a id=\"10.4\"></a>\n",
    "## 10.4 Skip Lists\n",
    "\n",
    "<a href=\"#toc\">Table of Contents</a>"
   ]
  },
  {
   "cell_type": "markdown",
   "id": "0eac6807",
   "metadata": {},
   "source": [
    "<a id=\"10.5\"></a>\n",
    "## 10.5 Sets, Multisets, and Multimaps\n",
    "\n",
    "<a href=\"#toc\">Table of Contents</a>"
   ]
  },
  {
   "cell_type": "markdown",
   "id": "dc47762c",
   "metadata": {},
   "source": [
    "<a id=\"10.6\"></a>\n",
    "## 10.6 Exercises\n",
    "\n",
    "<a href=\"#toc\">Table of Contents</a>"
   ]
  },
  {
   "cell_type": "markdown",
   "id": "55cd0042",
   "metadata": {},
   "source": [
    "<a id=\"11\"></a>\n",
    "# 11 Search Trees\n",
    "\n",
    "<a href=\"#toc\">Table of Contents</a>"
   ]
  },
  {
   "cell_type": "markdown",
   "id": "95d549d6",
   "metadata": {},
   "source": [
    "<a id=\"11.1\"></a>\n",
    "## 11.1 Binary Search Trees\n",
    "\n",
    "<a href=\"#toc\">Table of Contents</a>"
   ]
  },
  {
   "cell_type": "markdown",
   "id": "063569a2",
   "metadata": {},
   "source": [
    "<a id=\"11.2\"></a>\n",
    "## 11.2 AVL Trees\n",
    "\n",
    "<a href=\"#toc\">Table of Contents</a>"
   ]
  },
  {
   "cell_type": "markdown",
   "id": "203bcf4c",
   "metadata": {},
   "source": [
    "<a id=\"11.3\"></a>\n",
    "## 11.3 Splay Trees\n",
    "\n",
    "<a href=\"#toc\">Table of Contents</a>"
   ]
  },
  {
   "cell_type": "markdown",
   "id": "10fd6191",
   "metadata": {},
   "source": [
    "<a id=\"11.4\"></a>\n",
    "## 11.4 (2,4) Trees\n",
    "\n",
    "<a href=\"#toc\">Table of Contents</a>"
   ]
  },
  {
   "cell_type": "markdown",
   "id": "1c9baded",
   "metadata": {},
   "source": [
    "<a id=\"11.5\"></a>\n",
    "## 11.5 Red-Black Trees\n",
    "\n",
    "<a href=\"#toc\">Table of Contents</a>"
   ]
  },
  {
   "cell_type": "markdown",
   "id": "1c792e32",
   "metadata": {},
   "source": [
    "<a id=\"11.6\"></a>\n",
    "## 11.6 Exercises\n",
    "\n",
    "<a href=\"#toc\">Table of Contents</a>"
   ]
  },
  {
   "cell_type": "markdown",
   "id": "1d0004e2",
   "metadata": {},
   "source": [
    "<a id=\"12\"></a>\n",
    "# 12 Sorting and Selection\n",
    "\n",
    "<a href=\"#toc\">Table of Contents</a>"
   ]
  },
  {
   "cell_type": "markdown",
   "id": "97e70717",
   "metadata": {},
   "source": [
    "<a id=\"12.1\"></a>\n",
    "## 12.1 Why Study Sorting Algorithms?\n",
    "\n",
    "<a href=\"#toc\">Table of Contents</a>"
   ]
  },
  {
   "cell_type": "markdown",
   "id": "e683817e",
   "metadata": {},
   "source": [
    "<a id=\"12.2\"></a>\n",
    "## 12.2 Merge Sort\n",
    "\n",
    "<a href=\"#toc\">Table of Contents</a>"
   ]
  },
  {
   "cell_type": "markdown",
   "id": "6555fba5",
   "metadata": {},
   "source": [
    "<a id=\"12.3\"></a>\n",
    "## 12.3 Quick Sort\n",
    "\n",
    "<a href=\"#toc\">Table of Contents</a>"
   ]
  },
  {
   "cell_type": "markdown",
   "id": "d68f6e89",
   "metadata": {},
   "source": [
    "<a id=\"12.4\"></a>\n",
    "## 12.4 Studying Sorting through an Algorithmic Lens\n",
    "\n",
    "<a href=\"#toc\">Table of Contents</a>"
   ]
  },
  {
   "cell_type": "markdown",
   "id": "208d8c84",
   "metadata": {},
   "source": [
    "<a id=\"12.5\"></a>\n",
    "## 12.5 Comparing Sorting Algorithms\n",
    "\n",
    "<a href=\"#toc\">Table of Contents</a>"
   ]
  },
  {
   "cell_type": "markdown",
   "id": "50e9aa21",
   "metadata": {},
   "source": [
    "<a id=\"12.6\"></a>\n",
    "## 12.6 Python's Built-In Sorting Functions\n",
    "\n",
    "<a href=\"#toc\">Table of Contents</a>"
   ]
  },
  {
   "cell_type": "markdown",
   "id": "fcb41733",
   "metadata": {},
   "source": [
    "<a id=\"12.7\"></a>\n",
    "## 12.7 Selection\n",
    "\n",
    "<a href=\"#toc\">Table of Contents</a>"
   ]
  },
  {
   "cell_type": "markdown",
   "id": "a795fc6d",
   "metadata": {},
   "source": [
    "<a id=\"12.8\"></a>\n",
    "## 12.8 Exercises\n",
    "\n",
    "<a href=\"#toc\">Table of Contents</a>"
   ]
  },
  {
   "cell_type": "markdown",
   "id": "7981b7e8",
   "metadata": {},
   "source": [
    "<a id=\"13\"></a>\n",
    "# 13 Text Processing\n",
    "\n",
    "<a href=\"#toc\">Table of Contents</a>"
   ]
  },
  {
   "cell_type": "markdown",
   "id": "3497a29e",
   "metadata": {},
   "source": [
    "<a id=\"13.1\"></a>\n",
    "## 13.1 Abundance of Digitized Text\n",
    "\n",
    "<a href=\"#toc\">Table of Contents</a>"
   ]
  },
  {
   "cell_type": "markdown",
   "id": "466d7817",
   "metadata": {},
   "source": [
    "<a id=\"13.2\"></a>\n",
    "## 13.2 Pattern-Matching Algorithms\n",
    "\n",
    "<a href=\"#toc\">Table of Contents</a>"
   ]
  },
  {
   "cell_type": "markdown",
   "id": "53ee7808",
   "metadata": {},
   "source": [
    "<a id=\"13.3\"></a>\n",
    "## 13.3 Dynamic Programming\n",
    "\n",
    "<a href=\"#toc\">Table of Contents</a>"
   ]
  },
  {
   "cell_type": "markdown",
   "id": "5d06a4e5",
   "metadata": {},
   "source": [
    "<a id=\"13.4\"></a>\n",
    "## 13.4 Text Compression and the Greedy Method\n",
    "\n",
    "<a href=\"#toc\">Table of Contents</a>"
   ]
  },
  {
   "cell_type": "markdown",
   "id": "27603412",
   "metadata": {},
   "source": [
    "<a id=\"13.5\"></a>\n",
    "## 13.5 Tries\n",
    "\n",
    "<a href=\"#toc\">Table of Contents</a>"
   ]
  },
  {
   "cell_type": "markdown",
   "id": "5ffb729b",
   "metadata": {},
   "source": [
    "<a id=\"13.6\"></a>\n",
    "## 13.6 Exercises\n",
    "\n",
    "<a href=\"#toc\">Table of Contents</a>"
   ]
  },
  {
   "cell_type": "markdown",
   "id": "be7ec6a8",
   "metadata": {},
   "source": [
    "<a id=\"14\"></a>\n",
    "# 14 Graph Algorithms\n",
    "\n",
    "<a href=\"#toc\">Table of Contents</a>"
   ]
  },
  {
   "cell_type": "markdown",
   "id": "a370ae6a",
   "metadata": {},
   "source": [
    "<a id=\"14.1\"></a>\n",
    "## 14.1 Graphs\n",
    "\n",
    "<a href=\"#toc\">Table of Contents</a>"
   ]
  },
  {
   "cell_type": "markdown",
   "id": "f9c1415d",
   "metadata": {},
   "source": [
    "<a id=\"14.2\"></a>\n",
    "## 14.2 Data Structures for Graphs\n",
    "\n",
    "<a href=\"#toc\">Table of Contents</a>"
   ]
  },
  {
   "cell_type": "markdown",
   "id": "16479dec",
   "metadata": {},
   "source": [
    "<a id=\"14.3\"></a>\n",
    "## 14.3 Graph Traversals\n",
    "\n",
    "<a href=\"#toc\">Table of Contents</a>"
   ]
  },
  {
   "cell_type": "markdown",
   "id": "d5f1ed09",
   "metadata": {},
   "source": [
    "<a id=\"14.4\"></a>\n",
    "## 14.4 Transitive Closure\n",
    "\n",
    "<a href=\"#toc\">Table of Contents</a>"
   ]
  },
  {
   "cell_type": "markdown",
   "id": "fa272df7",
   "metadata": {},
   "source": [
    "<a id=\"14.5\"></a>\n",
    "## 14.5 Directed Acyclic Graphs\n",
    "\n",
    "<a href=\"#toc\">Table of Contents</a>"
   ]
  },
  {
   "cell_type": "markdown",
   "id": "8aa12b4f",
   "metadata": {},
   "source": [
    "<a id=\"14.6\"></a>\n",
    "## 14.6 Shortest Paths\n",
    "\n",
    "<a href=\"#toc\">Table of Contents</a>"
   ]
  },
  {
   "cell_type": "markdown",
   "id": "2dfe40f0",
   "metadata": {},
   "source": [
    "<a id=\"14.7\"></a>\n",
    "## 14.7 Minimum Spanning Trees\n",
    "\n",
    "<a href=\"#toc\">Table of Contents</a>"
   ]
  },
  {
   "cell_type": "markdown",
   "id": "d60c56c0",
   "metadata": {},
   "source": [
    "<a id=\"14.8\"></a>\n",
    "## 14.8 Exercises\n",
    "\n",
    "<a href=\"#toc\">Table of Contents</a>"
   ]
  },
  {
   "cell_type": "markdown",
   "id": "63a9f14a",
   "metadata": {},
   "source": [
    "<a id=\"15\"></a>\n",
    "# 15 Memory Management and B-Trees\n",
    "\n",
    "<a href=\"#toc\">Table of Contents</a>"
   ]
  },
  {
   "cell_type": "markdown",
   "id": "5b7f97fa",
   "metadata": {},
   "source": [
    "<a id=\"15.1\"></a>\n",
    "## 15.1 Memory Management\n",
    "\n",
    "<a href=\"#toc\">Table of Contents</a>"
   ]
  },
  {
   "cell_type": "markdown",
   "id": "f431c1d5",
   "metadata": {},
   "source": [
    "<a id=\"15.2\"></a>\n",
    "## 15.2 Memory Hierachies and Caching\n",
    "\n",
    "<a href=\"#toc\">Table of Contents</a>"
   ]
  },
  {
   "cell_type": "markdown",
   "id": "5faaf0b3",
   "metadata": {},
   "source": [
    "<a id=\"15.3\"></a>\n",
    "## 15.3 External Searching and B-Trees\n",
    "\n",
    "<a href=\"#toc\">Table of Contents</a>"
   ]
  },
  {
   "cell_type": "markdown",
   "id": "3c096f11",
   "metadata": {},
   "source": [
    "<a id=\"15.4\"></a>\n",
    "## 15.4 External-Memory Sorting\n",
    "\n",
    "<a href=\"#toc\">Table of Contents</a>"
   ]
  },
  {
   "cell_type": "markdown",
   "id": "7b1df9c0",
   "metadata": {},
   "source": [
    "<a id=\"15.5\"></a>\n",
    "## 15.5 Exercises\n",
    "\n",
    "<a href=\"#toc\">Table of Contents</a>"
   ]
  }
 ],
 "metadata": {
  "interpreter": {
   "hash": "e97064513f0d268e2f073204e543b8077386c7433ee9f7232070081c2302a999"
  },
  "kernelspec": {
   "display_name": "Python 3.10.4 64-bit",
   "language": "python",
   "name": "python3"
  },
  "language_info": {
   "codemirror_mode": {
    "name": "ipython",
    "version": 3
   },
   "file_extension": ".py",
   "mimetype": "text/x-python",
   "name": "python",
   "nbconvert_exporter": "python",
   "pygments_lexer": "ipython3",
   "version": "3.10.4"
  },
  "toc-autonumbering": false,
  "toc-showtags": false
 },
 "nbformat": 4,
 "nbformat_minor": 5
}
