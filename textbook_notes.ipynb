{
 "cells": [
  {
   "cell_type": "markdown",
   "id": "f4cabed6-723c-4f1f-93ae-13bfcf4826d0",
   "metadata": {},
   "source": [
    "<a id=\"top\"></a>\n",
    "# Data Structures and Algorithms in Python\n",
    "\n",
    "by Goodrich, Tamassia, Goldwasser\n",
    "\n",
    "[Buy it on Amazon](https://www.amazon.com/Structures-Algorithms-Python-Michael-Goodrich-ebook/dp/B00CTZ290I) or elsewhere."
   ]
  },
  {
   "cell_type": "markdown",
   "id": "286cb6b8-41ff-4bd1-8747-4b253ff7192f",
   "metadata": {},
   "source": [
    "<a id=\"toc\"></a>\n",
    "# Table of Contents"
   ]
  },
  {
   "cell_type": "markdown",
   "id": "2ebe71f3",
   "metadata": {},
   "source": [
    "<ol>\n",
    "    <li type=1>\n",
    "        <a href=\"#1\">Python Primer</a>\n",
    "        <ol>\n",
    "            <li type=1>\n",
    "                <a href=\"#1.1\">Python Overview</a> &check;\n",
    "            </li>\n",
    "            <li type=1>\n",
    "                <a href=\"#1.2\">Object in Python</a> &check;\n",
    "            </li>\n",
    "            <li type=1>\n",
    "                <a href=\"#1.3\">Expressions, Operators, and Precedence</a> &check;\n",
    "            </li>\n",
    "            <li type=1>\n",
    "                <a href=\"#1.4\">Control Flow</a> &check;\n",
    "            </li>\n",
    "            <li type=1>\n",
    "                <a href=\"#1.5\">Functions</a> &check;\n",
    "            </li>\n",
    "            <li type=1>\n",
    "                <a href=\"#1.6\">Simple I/O</a> &check;\n",
    "            </li>\n",
    "            <li type=1>\n",
    "                <a href=\"#1.7\">Exception Handling</a> &check;\n",
    "            </li>\n",
    "            <li type=1>\n",
    "                <a href=\"#1.8\">Iterators and Generators</a> &check;\n",
    "            </li>\n",
    "            <li type=1>\n",
    "                <a href=\"#1.9\">Additional Python Conveniences</a> &check;\n",
    "            </li>\n",
    "            <li type=1>\n",
    "                <a href=\"#1.10\">Scopes and Namespaces</a> &check;\n",
    "            </li>\n",
    "            <li type=1>\n",
    "                <a href=\"#1.11\">Modules and the Import Statement</a> &check;\n",
    "            </li>\n",
    "            <li type=1>\n",
    "                <a href=\"#1.12\">Exercises</a>\n",
    "            </li>\n",
    "        </ol>\n",
    "    </li>\n",
    "    <li type=1>\n",
    "        <a href=\"#2\">Object-Oriented Programming</a>\n",
    "        <ol>\n",
    "            <li type=1>\n",
    "                <a href=\"#2.1\">Goals, Principles, and Patterns</a>\n",
    "            </li>\n",
    "            <li type=1>\n",
    "                <a href=\"#2.2\">Software Development</a>\n",
    "            </li>\n",
    "            <li type=1>\n",
    "                <a href=\"#2.3\">Class Definitions</a>\n",
    "            </li>\n",
    "            <li type=1>\n",
    "                <a href=\"#2.4\">Inheritance</a>\n",
    "            </li>\n",
    "            <li type=1>\n",
    "                <a href=\"#2.5\">Namespaces and Object-Orientation</a>\n",
    "            </li>\n",
    "            <li type=1>\n",
    "                <a href=\"#2.6\">Shallow and Deep Copying</a>\n",
    "            </li>\n",
    "            <li type=1>\n",
    "                <a href=\"#2.7\">Exercises</a>\n",
    "            </li>\n",
    "        </ol>\n",
    "    </li>\n",
    "    <li type=1>\n",
    "        <a href=\"#3\">Algorithm Analysis</a>\n",
    "        <ol>\n",
    "            <li type=1>\n",
    "                <a href=\"#3.1\">Experimental Studies</a>\n",
    "            </li>\n",
    "            <li type=1>\n",
    "                <a href=\"#3.2\">The 7 Functions Used in This Book</a>\n",
    "            </li>\n",
    "            <li type=1>\n",
    "                <a href=\"#3.3\">Asymptotic Analysis</a>\n",
    "            </li>\n",
    "            <li type=1>\n",
    "                <a href=\"#3.4\">Simple Justification Techniques</a>\n",
    "            </li>\n",
    "            <li type=1>\n",
    "                <a href=\"#3.5\">Exercises</a>\n",
    "            </li>\n",
    "        </ol>\n",
    "    </li>\n",
    "    <li type=1>\n",
    "        <a href=\"#4\">Recursion</a>\n",
    "        <ol>\n",
    "            <li type=1>\n",
    "                <a href=\"#4.1\">Illustrative Examples</a>\n",
    "            </li>\n",
    "            <li type=1>\n",
    "                <a href=\"#4.2\">Analyzing Recursive Algorithms</a>\n",
    "            </li>\n",
    "            <li type=1>\n",
    "                <a href=\"#4.3\">Recursion Run Amok</a>\n",
    "            </li>\n",
    "            <li type=1>\n",
    "                <a href=\"#4.4\">Further Examples of Recursion</a>\n",
    "            </li>\n",
    "            <li type=1>\n",
    "                <a href=\"#4.5\">Designing Recursive Algorithms</a>\n",
    "            </li>\n",
    "            <li type=1>\n",
    "                <a href=\"#4.6\">Eliminating Tail Recursion</a>\n",
    "            </li>\n",
    "            <li type=1>\n",
    "                <a href=\"#4.7\">Exercises</a>\n",
    "            </li>\n",
    "        </ol>\n",
    "    </li>\n",
    "    <li type=1>\n",
    "        <a href=\"#5\">Array-Based Sequences</a>\n",
    "        <ol>\n",
    "            <li type=1>\n",
    "                <a href=\"#5.1\">Python's Sequence Types</a>\n",
    "            </li>\n",
    "            <li type=1>\n",
    "                <a href=\"#5.2\">Low-Level Arrays</a>\n",
    "            </li>\n",
    "            <li type=1>\n",
    "                <a href=\"#5.3\">Dynamic Arrays and Amortization</a>\n",
    "            </li>\n",
    "            <li type=1>\n",
    "                <a href=\"#5.4\">Efficiency of Python's Sequence Types</a>\n",
    "            </li>\n",
    "            <li type=1>\n",
    "                <a href=\"#5.5\">Using Array-Based Sequences</a>\n",
    "            </li>\n",
    "            <li type=1>\n",
    "                <a href=\"#5.6\">Multidimensional Data Sets</a>\n",
    "            </li>\n",
    "            <li type=1>\n",
    "                <a href=\"#5.7\">Exercises</a>\n",
    "            </li>\n",
    "        </ol>\n",
    "    </li>\n",
    "    <li type=1>\n",
    "        <a href=\"#6\">Stacks, Queues, and Deques</a>\n",
    "        <ol>\n",
    "            <li type=1>\n",
    "                <a href=\"#6.1\">Stacks</a>\n",
    "            </li>\n",
    "            <li type=1>\n",
    "                <a href=\"#6.2\">Queues</a>\n",
    "            </li>\n",
    "            <li type=1>\n",
    "                <a href=\"#6.3\">Double-Ended Queues</a>\n",
    "            </li>\n",
    "            <li type=1>\n",
    "                <a href=\"#6.4\">Exercises</a>\n",
    "            </li>\n",
    "        </ol>\n",
    "    </li>\n",
    "    <li type=1>\n",
    "        <a href=\"#7\">Linked Lists</a>\n",
    "        <ol>\n",
    "            <li type=1>\n",
    "                <a href=\"#7.1\">Singly Linked Lists</a>\n",
    "            </li>\n",
    "            <li type=1>\n",
    "                <a href=\"#7.2\">Circularly Linked Lists</a>\n",
    "            </li>\n",
    "            <li type=1>\n",
    "                <a href=\"#7.3\">Doubly Linked Lists</a>\n",
    "            </li>\n",
    "            <li type=1>\n",
    "                <a href=\"#7.4\">The Positional List ADT</a>\n",
    "            </li>\n",
    "            <li type=1>\n",
    "                <a href=\"#7.5\">Sorting a Positional List</a>\n",
    "            </li>\n",
    "            <li type=1>\n",
    "                <a href=\"#7.6\">Case Study: Maintaining Access Frequencies</a>\n",
    "            </li>\n",
    "            <li type=1>\n",
    "                <a href=\"#7.7\">Exercises</a>\n",
    "            </li>\n",
    "        </ol>\n",
    "    </li>\n",
    "    <li type=1>\n",
    "        <a href=\"#8\">Trees</a>\n",
    "        <ol>\n",
    "            <li type=1>\n",
    "                <a href=\"#8.1\">General Trees</a>\n",
    "            </li>\n",
    "            <li type=1>\n",
    "                <a href=\"#8.2\">Binary Trees</a>\n",
    "            </li>\n",
    "            <li type=1>\n",
    "                <a href=\"#8.3\">Implementing Trees</a>\n",
    "            </li>\n",
    "            <li type=1>\n",
    "                <a href=\"#8.4\">Tree Traversal Algorithms</a>\n",
    "            </li>\n",
    "            <li type=1>\n",
    "                <a href=\"#8.5\">Case Study: An Expression Tree</a>\n",
    "            </li>\n",
    "            <li type=1>\n",
    "                <a href=\"#8.6\">Exercises</a>\n",
    "            </li>\n",
    "        </ol>\n",
    "    </li>\n",
    "    <li type=1>\n",
    "        <a href=\"#9\">Priority Queues</a>\n",
    "        <ol>\n",
    "            <li type=1>\n",
    "                <a href=\"#9.1\">The Priority Queue Abstract Data Type</a>\n",
    "            </li>\n",
    "            <li type=1>\n",
    "                <a href=\"#9.2\">Implementing a Priority Queue</a>\n",
    "            </li>\n",
    "            <li type=1>\n",
    "                <a href=\"#9.3\">Heaps</a>\n",
    "            </li>\n",
    "            <li type=1>\n",
    "                <a href=\"#9.4\">Sorting with a Priority Queue</a>\n",
    "            </li>\n",
    "            <li type=1>\n",
    "                <a href=\"#9.5\">Adaptable Priority Queues</a>\n",
    "            </li>\n",
    "            <li type=1>\n",
    "                <a href=\"#9.6\">Exercises</a>\n",
    "            </li>\n",
    "        </ol>\n",
    "    </li>\n",
    "    <li type=1>\n",
    "        <a href=\"#10\">Maps, Hash Tables, and Skip Lists</a>\n",
    "        <ol>\n",
    "            <li type=1>\n",
    "                <a href=\"#10.1\">Maps and Dictionaries</a>\n",
    "            </li>\n",
    "            <li type=1>\n",
    "                <a href=\"#10.2\">Hash Tables</a>\n",
    "            </li>\n",
    "            <li type=1>\n",
    "                <a href=\"#10.3\">Sorted Maps</a>\n",
    "            </li>\n",
    "            <li type=1>\n",
    "                <a href=\"#10.4\">Skip Lists</a>\n",
    "            </li>\n",
    "            <li type=1>\n",
    "                <a href=\"#10.5\">Sets, Multisets, and Multimaps</a>\n",
    "            </li>\n",
    "            <li type=1>\n",
    "                <a href=\"#10.6\">Exercises</a>\n",
    "            </li>\n",
    "        </ol>\n",
    "    </li>\n",
    "    <li type=1>\n",
    "        <a href=\"#11\">Search Trees</a>\n",
    "        <ol>\n",
    "            <li type=1>\n",
    "                <a href=\"#11.1\">Binary Search Trees</a>\n",
    "            </li>\n",
    "            <li type=1>\n",
    "                <a href=\"#11.2\">AVL Trees</a>\n",
    "            </li>\n",
    "            <li type=1>\n",
    "                <a href=\"#11.3\">Splay Trees</a>\n",
    "            </li>\n",
    "            <li type=1>\n",
    "                <a href=\"#11.4\">(2,4) Trees</a>\n",
    "            </li>\n",
    "            <li type=1>\n",
    "                <a href=\"#11.5\">Red-Black Trees</a>\n",
    "            </li>\n",
    "            <li type=1>\n",
    "                <a href=\"#11.6\">Exercises</a>\n",
    "            </li>\n",
    "        </ol>\n",
    "    </li>\n",
    "    <li type=1>\n",
    "        <a href=\"#12\">Sorting and Selection</a>\n",
    "        <ol>\n",
    "            <li type=1>\n",
    "                <a href=\"#12.1\">Why Study Sorting Algorithms?</a>\n",
    "            </li>\n",
    "            <li type=1>\n",
    "                <a href=\"#12.2\">Merge Sort</a>\n",
    "            </li>\n",
    "            <li type=1>\n",
    "                <a href=\"#12.3\">Quick Sort</a>\n",
    "            </li>\n",
    "            <li type=1>\n",
    "                <a href=\"#12.4\">Studying Sorting through an Algorithmic Lens</a>\n",
    "            </li>\n",
    "            <li type=1>\n",
    "                <a href=\"#12.5\">Comparing Sorting Algorithms</a>\n",
    "            </li>\n",
    "            <li type=1>\n",
    "                <a href=\"#12.6\">Python's Built-In Sorting Functions</a>\n",
    "            </li>\n",
    "            <li type=1>\n",
    "                <a href=\"#12.7\">Selection</a>\n",
    "            </li>\n",
    "            <li type=1>\n",
    "                <a href=\"#12.8\">Exercises</a>\n",
    "            </li>\n",
    "        </ol>\n",
    "    </li>\n",
    "    <li type=1>\n",
    "        <a href=\"#13\">Text Processing</a>\n",
    "        <ol>\n",
    "            <li type=1>\n",
    "                <a href=\"#13.1\">Abundance of Digitized Text</a>\n",
    "            </li>\n",
    "            <li type=1>\n",
    "                <a href=\"#13.2\">Pattern-Matching Algorithms</a>\n",
    "            </li>\n",
    "            <li type=1>\n",
    "                <a href=\"#13.3\">Dynamic Programming</a>\n",
    "            </li>\n",
    "            <li type=1>\n",
    "                <a href=\"#13.4\">Text Compression and the Greedy Method</a>\n",
    "            </li>\n",
    "            <li type=1>\n",
    "                <a href=\"#13.5\">Tries</a>\n",
    "            </li>\n",
    "            <li type=1>\n",
    "                <a href=\"#13.6\">Exercises</a>\n",
    "            </li>\n",
    "        </ol>\n",
    "    </li>\n",
    "    <li type=1>\n",
    "        <a href=\"#14\">Graph Algorithms</a>\n",
    "        <ol>\n",
    "            <li type=1>\n",
    "                <a href=\"#14.1\">Graphs</a>\n",
    "            </li>\n",
    "            <li type=1>\n",
    "                <a href=\"#14.2\">Data Structures for Graphs</a>\n",
    "            </li>\n",
    "            <li type=1>\n",
    "                <a href=\"#14.3\">Graph Traversals</a>\n",
    "            </li>\n",
    "            <li type=1>\n",
    "                <a href=\"#14.4\">Transitive Closure</a>\n",
    "            </li>\n",
    "            <li type=1>\n",
    "                <a href=\"#14.5\">Directed Acyclic Graphs</a>\n",
    "            </li>\n",
    "            <li type=1>\n",
    "                <a href=\"#14.6\">Shortest Paths</a>\n",
    "            </li>\n",
    "            <li type=1>\n",
    "                <a href=\"#14.7\">Minimum Spanning Trees</a>\n",
    "            </li>\n",
    "            <li type=1>\n",
    "                <a href=\"#14.8\">Exercises</a>\n",
    "            </li>\n",
    "        </ol>\n",
    "    </li>\n",
    "    <li type=1>\n",
    "        <a href=\"#15\">Memory Management and B-Trees</a>\n",
    "        <ol>\n",
    "            <li type=1>\n",
    "                <a href=\"#15.1\">Memory Management</a>\n",
    "            </li>\n",
    "            <li type=1>\n",
    "                <a href=\"#15.2\">Memory Hierachies and Caching</a>\n",
    "            </li>\n",
    "            <li type=1>\n",
    "                <a href=\"#15.3\">External Searching and B-Trees</a>\n",
    "            </li>\n",
    "            <li type=1>\n",
    "                <a href=\"#15.4\">External-Memory Sorting</a>\n",
    "            </li>\n",
    "            <li type=1>\n",
    "                <a href=\"#15.5\">Exercises</a>\n",
    "            </li>\n",
    "        </ol>\n",
    "    </li>\n",
    "</ol>"
   ]
  },
  {
   "cell_type": "markdown",
   "id": "aaa2f54c",
   "metadata": {},
   "source": [
    "<a id=\"1\"></a>\n",
    "# 1 Python Primer\n",
    "\n",
    "<a href=\"#toc\">Table of Contents</a>"
   ]
  },
  {
   "cell_type": "markdown",
   "id": "fe7b4137",
   "metadata": {},
   "source": [
    "<a id=\"1.1\"></a>\n",
    "## 1.1 Python Overview\n",
    "\n",
    "<a href=\"#toc\">Table of Contents</a>"
   ]
  },
  {
   "cell_type": "markdown",
   "id": "3931573c",
   "metadata": {},
   "source": [
    "- python is ***interpreter***\n",
    "    - converts language to machine code line by line (uses less memory, but slower)\n",
    "- C++, Java are use ***compilers***\n",
    "    - compiles whole program first, then executes\n",
    "    - more memory, faster\n",
    "- interactive mode\n",
    "    - in command line `python -i example.py`\n",
    "- Python download includes IDE `IDLE`"
   ]
  },
  {
   "cell_type": "markdown",
   "id": "3f72fd54",
   "metadata": {},
   "source": [
    "- conclude commands on another line with `\\`\n",
    "    - or if open deliminter such as `{` not yet closed"
   ]
  },
  {
   "cell_type": "code",
   "execution_count": 4,
   "id": "24bd4a2d",
   "metadata": {},
   "outputs": [
    {
     "name": "stdout",
     "output_type": "stream",
     "text": [
      "hello\n",
      "{1, 2, 3, 4}\n"
     ]
    }
   ],
   "source": [
    "print\\\n",
    "    ('hello')\n",
    "set1 = {1,2,\n",
    "        3,4}\n",
    "print(\n",
    "    set1\n",
    ")"
   ]
  },
  {
   "cell_type": "markdown",
   "id": "320d1e37",
   "metadata": {},
   "source": [
    "<a id=\"1.2\"></a>\n",
    "## 1.2 Object in Python\n",
    "\n",
    "<a href=\"#toc\">Table of Contents</a>"
   ]
  },
  {
   "cell_type": "markdown",
   "id": "5e73b0c8",
   "metadata": {},
   "source": [
    "- ***assignment statements*** use syntax:\n",
    "    - `identifier = object`\n",
    "    - ***identifier*** aka ***name***\n",
    "    "
   ]
  },
  {
   "cell_type": "markdown",
   "id": "27e9610d",
   "metadata": {},
   "source": [
    "- ***identifiers***\n",
    "    - case-sensitive\n",
    "    - **cannot**\n",
    "        1. start with number\n",
    "        2. contain `-`\n",
    "        3. use reserved words"
   ]
  },
  {
   "cell_type": "code",
   "execution_count": 9,
   "id": "58b47d83",
   "metadata": {},
   "outputs": [],
   "source": [
    "# 1test = 3 #  invalid case 1\n",
    "# test-1 = 3 # invalid case 2\n",
    "# except = 3 # invalid case 3"
   ]
  },
  {
   "cell_type": "markdown",
   "id": "3a57e519",
   "metadata": {},
   "source": [
    "- ***alias***\n",
    "    - assigning another ***identifier*** to same object\n",
    "    - reassigning is also a form of aliasing\n",
    "        - right-hand side is evaluated before assignment"
   ]
  },
  {
   "cell_type": "code",
   "execution_count": 11,
   "id": "2c7ab37e",
   "metadata": {},
   "outputs": [
    {
     "name": "stdout",
     "output_type": "stream",
     "text": [
      "0x163b6df5540 {1, 2, 3, 4}\n",
      "0x163b6df5540 {1, 2, 3, 4}\n",
      "0x163b6df5540 set()\n",
      "0x163b6df5540 set()\n",
      "0x163b6df5ee0 {1}\n",
      "0x163b6df5540 set()\n"
     ]
    }
   ],
   "source": [
    "a = {1,2,3,4}\n",
    "b = a\n",
    "print(hex(id(a)),a) # memory id, value\n",
    "print(hex(id(b)),b)\n",
    "b.clear() # clears object\n",
    "# method returning a copy would reassign memory obj\n",
    "print(hex(id(a)),a)\n",
    "print(hex(id(b)),b)\n",
    "a = {1}\n",
    "print(hex(id(a)),a)\n",
    "print(hex(id(b)),b)\n"
   ]
  },
  {
   "cell_type": "markdown",
   "id": "4a2eae80",
   "metadata": {},
   "source": [
    "- ***instantiation*** = creating new instance of a class\n",
    "    - Instantiating will invoke the ***constructor***"
   ]
  },
  {
   "cell_type": "code",
   "execution_count": 18,
   "id": "3c4aa519",
   "metadata": {},
   "outputs": [
    {
     "name": "stdout",
     "output_type": "stream",
     "text": [
      "('hi',)\n",
      "newword\n",
      "okay\n"
     ]
    }
   ],
   "source": [
    "# MyClass is the class name\n",
    "class MyClass:\n",
    "\n",
    "    def __init__(self, *word):\n",
    "        self.word = word\n",
    "\n",
    "    def setword(self,word):\n",
    "        self.word = word\n",
    "\n",
    "    def printword(self):\n",
    "        print(self.word)\n",
    "\n",
    "# MyClass() is an empty constructor\n",
    "# Myclass(word) is a constructor req parameters\n",
    "m1 = MyClass('hi')\n",
    "m1.printword()\n",
    "m1.setword('newword')\n",
    "m1.printword()\n",
    "m2 = MyClass()\n",
    "m2.setword('okay')\n",
    "m2.printword()"
   ]
  },
  {
   "cell_type": "markdown",
   "id": "99005055",
   "metadata": {},
   "source": [
    "- ***literal*** instances are created from ***built-in*** classes\n",
    "    - `temp = 98.6` is a literal an instance of `float` class\n",
    "- methods defined with `def` and called with `()`\n",
    "    - `def myfun():`\n",
    "    - `myfun()`\n",
    "    - methods within a class called on instance with `.`\n",
    "        - `MyClass.printword()`\n",
    "    - left of dot is object on which function(method) operates\n",
    "- **Two Types of Methods**\n",
    "    - ***Accessor*** - returns information about state of object, but **doesn't change object state**\n",
    "        - example: `str.strip()` *returns* a copy\n",
    "    - ***Mutator (aka update method)*** - These methods ***will change object state***\n",
    "        - example: `set.clear()` clears object set"
   ]
  },
  {
   "cell_type": "code",
   "execution_count": 20,
   "id": "7f8f1487",
   "metadata": {},
   "outputs": [
    {
     "name": "stdout",
     "output_type": "stream",
     "text": [
      "hi |     hi    \n",
      "{1, 2}\n",
      "set()\n"
     ]
    }
   ],
   "source": [
    "str1 = '    hi    '\n",
    "print(str1.strip(),'|',str1)\n",
    "set1 = {1,2}\n",
    "print(set1)\n",
    "set1.clear()\n",
    "print(set1)"
   ]
  },
  {
   "cell_type": "markdown",
   "id": "393fa5b9",
   "metadata": {},
   "source": [
    "- ***immutable class*** - instance of class ***cannot be changed***\n",
    "\n",
    "| Class | Description | Immutable? |\n",
    "| --- | --- | --- |\n",
    "| `bool` | Boolean val | y |\n",
    "| `int` | integer | y |\n",
    "| ` float` | floating-point num | y |\n",
    "| `list` | mutable sequence of obj | n |\n",
    "| `tuple` | immutable sequence of obj | y |\n",
    "| `str` | char string | y |\n",
    "| `set` | unordered set of distinct objects | n |\n",
    "| `frozenset` | immutable form of set | y |\n",
    "| `dict` | associative mapping  | n |"
   ]
  },
  {
   "cell_type": "markdown",
   "id": "3a58f4c0",
   "metadata": {},
   "source": [
    "- `int` class\n",
    "    - python chooses internal representation of integer\n",
    "    - `int` has no memory limit\n",
    "    - Java, C++ have various representations `int`, `long`, `short`\n",
    "- binary, octal, and hexadecimal can be represented using prefix:\n",
    "    - `0b` = binary\n",
    "    - `0o` = octal\n",
    "    - `0x` = hexadecimal\n",
    "- `int()` constructor casts int or returns `ValueError`"
   ]
  },
  {
   "cell_type": "code",
   "execution_count": 26,
   "id": "614fa415",
   "metadata": {},
   "outputs": [
    {
     "name": "stdout",
     "output_type": "stream",
     "text": [
      "<class 'int'> 13\n",
      "<class 'int'> 243\n",
      "<class 'int'> 465\n",
      "92\n",
      "ValueError\n"
     ]
    }
   ],
   "source": [
    "intlist = [0b1101, 0xF3, 0o721]\n",
    "for i in intlist:\n",
    "    print(type(i),i)\n",
    "print(int('92'))\n",
    "try:\n",
    "    print(int('test'))\n",
    "except ValueError:\n",
    "    print('ValueError')"
   ]
  },
  {
   "cell_type": "markdown",
   "id": "2dea4804",
   "metadata": {},
   "source": [
    "- `float` class\n",
    "    - similar to `double` in Java or C++\n",
    "    - use `e` to represent $10^n$\n",
    "- similary cast or get `ValueError` with `float()`"
   ]
  },
  {
   "cell_type": "code",
   "execution_count": 27,
   "id": "4ca8e71a",
   "metadata": {},
   "outputs": [
    {
     "name": "stdout",
     "output_type": "stream",
     "text": [
      "300.0\n"
     ]
    }
   ],
   "source": [
    "a = 3e2 # 3*10^2\n",
    "print(a)"
   ]
  },
  {
   "cell_type": "markdown",
   "id": "30ea8184",
   "metadata": {},
   "source": [
    "- [String formatting with modulo operators](https://realpython.com/python-modulo-string-formatting/)\n",
    "- [String format with built-in `format` method](https://www.w3schools.com/python/python_strings_format.asp)"
   ]
  },
  {
   "cell_type": "code",
   "execution_count": 5,
   "id": "f8feea98",
   "metadata": {},
   "outputs": [
    {
     "name": "stdout",
     "output_type": "stream",
     "text": [
      "My name is Snoop Dogg.\n",
      "I'm 1e+10 year's old.\n",
      "I have 99 problems...\n",
      "You know the rest\n",
      "\n",
      "My name is Snoop Dogg.\n",
      "I'm 10000000000 year's old.\n",
      "I have 99 problems...\n",
      "You know the rest\n",
      "\n",
      "My name is Snoop Dogg.\n",
      "I'm 10000000000 year's old.\n",
      "I have 99 problems...\n",
      "You know the rest\n"
     ]
    }
   ],
   "source": [
    "name = 'Snoop Dogg'\n",
    "age = 10000000000\n",
    "prob = 99\n",
    "str1 = '''My name is %s.\n",
    "I'm %g year's old.\n",
    "I have %i problems...\n",
    "You know the rest''' %(name, age, prob)\n",
    "\n",
    "str2 = '''My name is {n}.\n",
    "I'm {a} year's old.\n",
    "I have {p} problems...\n",
    "You know the rest'''\n",
    "\n",
    "str3 = '''My name is {2}.\n",
    "I'm {1} year's old.\n",
    "I have {0} problems...\n",
    "You know the rest'''\n",
    "print(str1)\n",
    "print()\n",
    "print(str2.format(n=name,a=age,p=prob))\n",
    "print()\n",
    "print(str3.format(prob,age,name))"
   ]
  },
  {
   "cell_type": "code",
   "execution_count": 28,
   "id": "ad834b98",
   "metadata": {},
   "outputs": [
    {
     "name": "stdout",
     "output_type": "stream",
     "text": [
      "a <class 'str'>\n"
     ]
    }
   ],
   "source": [
    "l1 = list('abcd')\n",
    "print(l1[0],type(l1[0]))"
   ]
  },
  {
   "cell_type": "markdown",
   "id": "521d50ae",
   "metadata": {},
   "source": [
    "- common `str` escape characters\n",
    "    - `\\n` - new line\n",
    "    - `\\t` - tab\n",
    "    - unicode characters such as `\\u20AC`\n",
    "        - `u` =  unicode\n",
    "        - `20AC` = unicode identifier\n",
    "- `str` literals can be enclosed with `\"\"\"`, `'''`, or prefixed with `r` for raw string"
   ]
  },
  {
   "cell_type": "code",
   "execution_count": 37,
   "id": "49c94d9f",
   "metadata": {},
   "outputs": [
    {
     "name": "stdout",
     "output_type": "stream",
     "text": [
      "€\n",
      "type whatever\n",
      "on as many lines as you want\n",
      "who cares\n",
      "C:\\dir1\\dir2\\etc doesn't need escapes for each \\ \n"
     ]
    }
   ],
   "source": [
    "print('\\u20AC')\n",
    "literalstr = '''type whatever\n",
    "on as many lines as you want\n",
    "who cares'''\n",
    "print(literalstr)\n",
    "rawstr = r\"C:\\dir1\\dir2\\etc doesn't need escapes for each \\ \"\n",
    "print(rawstr)"
   ]
  },
  {
   "cell_type": "markdown",
   "id": "daf51f18",
   "metadata": {},
   "source": [
    "- ***sets*** are unique, unordered versions of lists\n",
    "    - optimized for searching for unique values\n",
    "    - `{}` encloses a set\n",
    "        - empty `{}` instantiates a `dict` class"
   ]
  },
  {
   "cell_type": "code",
   "execution_count": 41,
   "id": "96256940",
   "metadata": {},
   "outputs": [
    {
     "name": "stdout",
     "output_type": "stream",
     "text": [
      "<class 'set'>\n",
      "{'c', 'g', 'e', 'a', ' ', 't', 'n', 'i', 'q', 'h', 'r', 's', 'u'}\n",
      "13 30\n"
     ]
    }
   ],
   "source": [
    "set1 = {1,2,'test'} # holds multiple data types\n",
    "print(type(set1))\n",
    "str1 = 'get unique char in this string'\n",
    "set2 = set(str1)\n",
    "print(set2)\n",
    "print(len(set2),len(str1))"
   ]
  },
  {
   "cell_type": "markdown",
   "id": "035f0b33",
   "metadata": {},
   "source": [
    "- `dict` maps unique keys to values\n",
    "    - `{key:value, key2:value2}`"
   ]
  },
  {
   "cell_type": "code",
   "execution_count": 48,
   "id": "4e3cc9d7",
   "metadata": {},
   "outputs": [
    {
     "name": "stdout",
     "output_type": "stream",
     "text": [
      "{0: 'a', 1: 'b'}\n",
      "a\n",
      "None\n",
      "different default\n"
     ]
    }
   ],
   "source": [
    "d1 = {0:'a',1:'b'}\n",
    "print(d1)\n",
    "print(d1[0])\n",
    "print(d1.get(3))\n",
    "print(d1.get(3,'different default'))"
   ]
  },
  {
   "cell_type": "markdown",
   "id": "138a3c05",
   "metadata": {},
   "source": [
    "<a id=\"1.3\"></a>\n",
    "## 1.3 Expressions, Operators, and Precedence\n",
    "\n",
    "<a href=\"#toc\">Table of Contents</a>"
   ]
  },
  {
   "cell_type": "markdown",
   "id": "bf5e22b8",
   "metadata": {},
   "source": [
    "- ***expressions*** - combo values and operators\n",
    "    - ***compound expression*** example: `a + b * c`\n",
    "- ***operators*** - symbols & keywords\n",
    "    - `+`, `*`, etc.\n",
    "- ***logical operators*** - `not`, `and`, `or`\n",
    "    - *short-circuit* -> don't eval second if first `False`\n",
    "    - ex: `10 < 3 or 5 > 2` exits at `10 < 3`\n",
    "- ***equality operators***\n",
    "    - `is` - same **identity** (same obj type, val)\n",
    "    - `is not` - *not* same **identity**\n",
    "    - `==` - equivalent\n",
    "    - `!=` - not equivalent"
   ]
  },
  {
   "cell_type": "code",
   "execution_count": 51,
   "id": "7a8d291f",
   "metadata": {},
   "outputs": [
    {
     "name": "stdout",
     "output_type": "stream",
     "text": [
      "a is b False\n",
      "a == b True\n"
     ]
    }
   ],
   "source": [
    "a = 3\n",
    "b = 3.0\n",
    "print('a is b',a is b)\n",
    "print('a == b',a==b)"
   ]
  },
  {
   "cell_type": "markdown",
   "id": "17358ab1",
   "metadata": {},
   "source": [
    "- ***comparison operators*** - `<`, `>`, `<=`,`>=`"
   ]
  },
  {
   "cell_type": "markdown",
   "id": "c39a835f",
   "metadata": {},
   "source": [
    "- ***arithmetic operators***\n",
    "    - `+`,`-`,`*`,`/` - add,sub,mult,div\n",
    "    - `//` - integer division (returns quotient)\n",
    "    - `%` - modulo (return remainder)\n",
    "    - `**` - power"
   ]
  },
  {
   "cell_type": "code",
   "execution_count": 54,
   "id": "c01aa29a",
   "metadata": {},
   "outputs": [
    {
     "name": "stdout",
     "output_type": "stream",
     "text": [
      "34 1\n",
      "137\n"
     ]
    }
   ],
   "source": [
    "val = 137\n",
    "divisor = 4\n",
    "quotient = val // divisor\n",
    "remainder = val % divisor\n",
    "print(quotient,remainder)\n",
    "print(quotient * divisor + remainder)"
   ]
  },
  {
   "cell_type": "markdown",
   "id": "216acd92",
   "metadata": {},
   "source": [
    "- ***bitwise operators*** - similar to SystemVerilog\n",
    "    - [Python.org explanation](https://wiki.python.org/moin/BitwiseOperators)\n",
    "    - `~ x` - complement\n",
    "        - python switched to infinite number of bits\n",
    "        - `-2` would be `inf...1111111111110`\n",
    "        - so for `x`, `~x` is just `-(x + 1)`\n",
    "        - ex: `0b011` = `3` so `~0b011` = `-(3+1)` = `-4` = `-0b100`\n",
    "    - `x & y` - `x` and `y`\n",
    "    - `x | y` - `x` or `y`\n",
    "    - `x ^ y` - `x` xor `y`\n",
    "    - `x << y` - shift `x` left `y` places (fill zeros)\n",
    "        - equivalent to `x*2**y`\n",
    "    - `x >> y` - shift `x` right `y` places (i.e. drop `y`-LSB)\n",
    "        - equivalent to `x//2**y`"
   ]
  },
  {
   "cell_type": "code",
   "execution_count": 97,
   "id": "277466b9",
   "metadata": {},
   "outputs": [
    {
     "name": "stdout",
     "output_type": "stream",
     "text": [
      "0b11\n",
      "-0b100\n"
     ]
    }
   ],
   "source": [
    "# compliment\n",
    "n1 = 0b011\n",
    "print(bin(n1))\n",
    "print(bin(~n1)) # returns 2's compliment\n",
    "# 2's compliment is -(n+1)"
   ]
  },
  {
   "cell_type": "code",
   "execution_count": 82,
   "id": "a6fad592",
   "metadata": {},
   "outputs": [
    {
     "name": "stdout",
     "output_type": "stream",
     "text": [
      "0b1001\n",
      "0b1101\n",
      "0b1001\n"
     ]
    }
   ],
   "source": [
    "# and\n",
    "n1 = 0b01001\n",
    "n2 = 0b01101\n",
    "print(bin(n1))\n",
    "print(bin(n2))\n",
    "print(bin(n1&n2))"
   ]
  },
  {
   "cell_type": "code",
   "execution_count": 83,
   "id": "ccedc7e6",
   "metadata": {},
   "outputs": [
    {
     "name": "stdout",
     "output_type": "stream",
     "text": [
      "0b1001\n",
      "0b1101\n",
      "0b1101\n"
     ]
    }
   ],
   "source": [
    "# or\n",
    "n1 = 0b01001\n",
    "n2 = 0b01101\n",
    "print(bin(n1))\n",
    "print(bin(n2))\n",
    "print(bin(n1|n2))\n"
   ]
  },
  {
   "cell_type": "code",
   "execution_count": 84,
   "id": "c896abc0",
   "metadata": {},
   "outputs": [
    {
     "name": "stdout",
     "output_type": "stream",
     "text": [
      "0b1001\n",
      "0b1101\n",
      "0b100\n"
     ]
    }
   ],
   "source": [
    "# xor\n",
    "n1 = 0b01001\n",
    "n2 = 0b01101\n",
    "print(bin(n1))\n",
    "print(bin(n2))\n",
    "print(bin(n1^n2)) # eval to 0b0100, truncates to 0b100"
   ]
  },
  {
   "cell_type": "code",
   "execution_count": 101,
   "id": "0b17d471",
   "metadata": {},
   "outputs": [
    {
     "name": "stdout",
     "output_type": "stream",
     "text": [
      "9\n",
      "0b1001\n",
      "0b100100\n",
      "True\n"
     ]
    }
   ],
   "source": [
    "# shift left, fill zeros\n",
    "x = 0b01001\n",
    "y = 2\n",
    "print(x)\n",
    "print(bin(x))\n",
    "print(bin(x<<y)) # shift 2 places to left, fill zeros\n",
    "print(x*2**y == x<<y)"
   ]
  },
  {
   "cell_type": "code",
   "execution_count": 108,
   "id": "0cdb1e5b",
   "metadata": {},
   "outputs": [
    {
     "name": "stdout",
     "output_type": "stream",
     "text": [
      "345\n",
      "0b101011001\n",
      "0b1010110\n",
      "True\n"
     ]
    }
   ],
   "source": [
    "# shift x right by y places (drop right-most y bits)\n",
    "x = 0b101011001\n",
    "y = 2\n",
    "print(x)\n",
    "print(bin(x))\n",
    "print(bin(x>>2))\n",
    "print(x//2**y == x>>2)"
   ]
  },
  {
   "cell_type": "markdown",
   "id": "7ca176e9",
   "metadata": {},
   "source": [
    "- ***sequence operators***\n",
    "    - supported by `str`,`list`,`tuple`\n",
    "    \n",
    "| operator | description |\n",
    "| --- | --- |\n",
    "| `s[j]` | element at index `j` |\n",
    "| `s[start:stop]` | slice including indices `[start,stop)` |\n",
    "| `s[start:stop:step]` | slice including indices `start, start + step, start + 2 * step, . . .,` up to but not equalling `stop` |\n",
    "| `s + t` | concatenation of sequences |\n",
    "| `k * s` | shorthand for `s + s + s + . . . (k times)` |\n",
    "| `val in s` | containment check |\n",
    "| `val not in s` | non-containment check |"
   ]
  },
  {
   "cell_type": "code",
   "execution_count": 119,
   "id": "23c233c7",
   "metadata": {},
   "outputs": [
    {
     "name": "stdout",
     "output_type": "stream",
     "text": [
      "c\n",
      "heck\n",
      "ybab gnirts siht tuo kcehc\n",
      "check out this string baby concat with this one\n",
      "check out this string baby!\n",
      "check out this string baby!\n",
      "check out this string baby!\n",
      "\n",
      "'baby' in s1? True\n",
      "'your mom' not in s1? True\n"
     ]
    }
   ],
   "source": [
    "s1 = 'check out this string baby'\n",
    "print(s1[0])\n",
    "print(s1[1:5])\n",
    "print(s1[::-1]) # print entire string, step of 1 in rev\n",
    "print(s1+' concat with this one')\n",
    "print((s1+'!\\n')*3) # print three times, three lines\n",
    "print(\"'baby' in s1?\", 'baby' in s1)\n",
    "print(\"'your mom' not in s1?\", 'your mom' not in s1)"
   ]
  },
  {
   "cell_type": "markdown",
   "id": "4c742790",
   "metadata": {},
   "source": [
    "- ***lexographic order*** and operators for strings\n",
    "    - strings can be compared\n",
    "    - ordered is in lexographic order\n",
    "        - `a=0`, `b=1`, etc.\n",
    "    - lower case > upper case"
   ]
  },
  {
   "cell_type": "code",
   "execution_count": 125,
   "id": "c2227351",
   "metadata": {},
   "outputs": [
    {
     "name": "stdout",
     "output_type": "stream",
     "text": [
      "a > z False\n",
      "a > Z True\n"
     ]
    }
   ],
   "source": [
    "a = 'a'\n",
    "z = 'z'\n",
    "Z = 'Z'\n",
    "print('a > z', a > z)\n",
    "print('a > Z', a > Z)"
   ]
  },
  {
   "cell_type": "markdown",
   "id": "7b4cf9ee",
   "metadata": {},
   "source": [
    "- ***operators for `set` and `dict`***\n",
    "\n",
    "| operator | description |\n",
    "| --- | --- |\n",
    "| `key in s` | containment check |\n",
    "| `key not in s` | non-containment check |\n",
    "| `s1 == s2` | `s1` is equivalent to `s2` |\n",
    "| `s1 != s2` | `s1` is not equivalent to `s2` |\n",
    "| `s1 <= s2` | `s1` is subset of `s2` |\n",
    "| `s1 < s2` | `s1` is proper subset of `s2` |\n",
    "| `s1 >= s2` | `s1` is superset of `s2` |\n",
    "| `s1 > s2` | `s1` is proper superset of `s2` |\n",
    "| `s1 \\| s2` | the union of `s1` and `s2` |\n",
    "| `s1 & s2` | the intersection of `s1` and `s2` |\n",
    "| `s1 − s2` | the set of elements in `s1` but not `s2` |\n",
    "| `s1 ^ s2` | the set of elements in precisely one of `s1` or `s2` |"
   ]
  },
  {
   "cell_type": "code",
   "execution_count": 126,
   "id": "04760224",
   "metadata": {},
   "outputs": [
    {
     "name": "stdout",
     "output_type": "stream",
     "text": [
      "True\n"
     ]
    }
   ],
   "source": [
    "# containment check\n",
    "s1 = {1,2,3,4}\n",
    "s2 = {1,2,3,4,5,6,7,8}\n",
    "print(3 in s1)"
   ]
  },
  {
   "cell_type": "code",
   "execution_count": 127,
   "id": "1ae946c9",
   "metadata": {},
   "outputs": [
    {
     "name": "stdout",
     "output_type": "stream",
     "text": [
      "False\n"
     ]
    }
   ],
   "source": [
    "# non-containment check\n",
    "s1 = {1,2,3,4}\n",
    "s2 = {1,2,3,4,5,6,7,8}\n",
    "print(3 not in s1)"
   ]
  },
  {
   "cell_type": "code",
   "execution_count": 128,
   "id": "df001478",
   "metadata": {},
   "outputs": [
    {
     "name": "stdout",
     "output_type": "stream",
     "text": [
      "False\n"
     ]
    }
   ],
   "source": [
    "# equivalent\n",
    "s1 = {1,2,3,4}\n",
    "s2 = {1,2,3,4,5,6,7,8}\n",
    "print(s1 == s2)"
   ]
  },
  {
   "cell_type": "code",
   "execution_count": 129,
   "id": "8331b4c7",
   "metadata": {},
   "outputs": [
    {
     "name": "stdout",
     "output_type": "stream",
     "text": [
      "True\n"
     ]
    }
   ],
   "source": [
    "# not equivalent\n",
    "s1 = {1,2,3,4}\n",
    "s2 = {1,2,3,4,5,6,7,8}\n",
    "print(s1 != s2)"
   ]
  },
  {
   "cell_type": "code",
   "execution_count": 130,
   "id": "2065cc4e",
   "metadata": {},
   "outputs": [
    {
     "name": "stdout",
     "output_type": "stream",
     "text": [
      "True\n"
     ]
    }
   ],
   "source": [
    "# subset\n",
    "s1 = {1,2,3,4}\n",
    "s2 = {1,2,3,4,5,6,7,8}\n",
    "print(s1 <= s2)"
   ]
  },
  {
   "cell_type": "code",
   "execution_count": 131,
   "id": "6de01176",
   "metadata": {},
   "outputs": [
    {
     "name": "stdout",
     "output_type": "stream",
     "text": [
      "True\n"
     ]
    }
   ],
   "source": [
    "# proper subset\n",
    "s1 = {1,2,3,4}\n",
    "s2 = {1,2,3,4,5,6,7,8}\n",
    "print(s1 < s2)"
   ]
  },
  {
   "cell_type": "code",
   "execution_count": 132,
   "id": "2b5ddde6",
   "metadata": {},
   "outputs": [
    {
     "name": "stdout",
     "output_type": "stream",
     "text": [
      "False\n"
     ]
    }
   ],
   "source": [
    "# superset\n",
    "s1 = {1,2,3,4}\n",
    "s2 = {1,2,3,4,5,6,7,8}\n",
    "print(s1 >= s2)"
   ]
  },
  {
   "cell_type": "code",
   "execution_count": 133,
   "id": "60939726",
   "metadata": {},
   "outputs": [
    {
     "name": "stdout",
     "output_type": "stream",
     "text": [
      "False\n"
     ]
    }
   ],
   "source": [
    "# proper superset\n",
    "s1 = {1,2,3,4}\n",
    "s2 = {1,2,3,4,5,6,7,8}\n",
    "print(s1 > s2)"
   ]
  },
  {
   "cell_type": "code",
   "execution_count": 134,
   "id": "ddf85434",
   "metadata": {},
   "outputs": [
    {
     "name": "stdout",
     "output_type": "stream",
     "text": [
      "{1, 2, 3, 4, 5, 6, 7, 8}\n"
     ]
    }
   ],
   "source": [
    "# union\n",
    "s1 = {1,2,3,4}\n",
    "s2 = {1,2,3,4,5,6,7,8}\n",
    "print(s1 | s2)"
   ]
  },
  {
   "cell_type": "code",
   "execution_count": 135,
   "id": "e7ba9080",
   "metadata": {},
   "outputs": [
    {
     "name": "stdout",
     "output_type": "stream",
     "text": [
      "{1, 2, 3, 4}\n"
     ]
    }
   ],
   "source": [
    "# intersection\n",
    "s1 = {1,2,3,4}\n",
    "s2 = {1,2,3,4,5,6,7,8}\n",
    "print(s1 & s2)"
   ]
  },
  {
   "cell_type": "code",
   "execution_count": 140,
   "id": "ba4213d9",
   "metadata": {},
   "outputs": [
    {
     "name": "stdout",
     "output_type": "stream",
     "text": [
      "{8, 5, 6, 7}\n"
     ]
    }
   ],
   "source": [
    "# set of elements in s2, not s1\n",
    "s1 = {1,2,3,4,395934}\n",
    "s2 = {1,2,3,4,5,6,7,8}\n",
    "print(s2 - s1)"
   ]
  },
  {
   "cell_type": "code",
   "execution_count": 139,
   "id": "f91ac35b",
   "metadata": {},
   "outputs": [
    {
     "name": "stdout",
     "output_type": "stream",
     "text": [
      "{5, 6, 7, 8, 395934}\n"
     ]
    }
   ],
   "source": [
    "# set of elements precisely in only one set\n",
    "s1 = {1,2,3,4,395934}\n",
    "s2 = {1,2,3,4,5,6,7,8}\n",
    "print(s1 ^ s2)"
   ]
  },
  {
   "cell_type": "markdown",
   "id": "5fbcbf71",
   "metadata": {},
   "source": [
    "- ***operators for `dict` class***\n",
    "\n",
    "| operator | description |\n",
    "| --- | --- |\n",
    "| `d[key]` | `value` associated with given `key` |\n",
    "| `d[key] = value` | set (or reset) the `value` associated with given key |\n",
    "| `del d[key]` | remove `key` and its associated `value` from dictionary |\n",
    "| `key in d` | containment check |\n",
    "| `key not in d` | non-containment check |\n",
    "| `d1 == d2` | `d1` is equivalent to `d2` |\n",
    "| `d1 != d2` | `d1` is not equivalent to `d2` |"
   ]
  },
  {
   "cell_type": "code",
   "execution_count": 1,
   "id": "0d7cc6f1",
   "metadata": {},
   "outputs": [
    {
     "name": "stdout",
     "output_type": "stream",
     "text": [
      "a\n",
      "A\n",
      "{1: 'b', 2: 'c'}\n"
     ]
    }
   ],
   "source": [
    "# basic addition/del of dict key:value pairs\n",
    "d1 = {0:'a',1:'b',2:'c'}\n",
    "print(d1[0])\n",
    "d1[0] = 'A'\n",
    "print(d1[0])\n",
    "del d1[0]\n",
    "print(d1)"
   ]
  },
  {
   "cell_type": "code",
   "execution_count": 2,
   "id": "7cd442fa",
   "metadata": {},
   "outputs": [
    {
     "name": "stdout",
     "output_type": "stream",
     "text": [
      "False\n",
      "True\n"
     ]
    }
   ],
   "source": [
    "# (non)containment checks\n",
    "d1 = {0:'a',1:'b',2:'c'}\n",
    "print(9 in d1) # checks all keys for 9\n",
    "print(9 not in d1)"
   ]
  },
  {
   "cell_type": "code",
   "execution_count": 3,
   "id": "03d9290f",
   "metadata": {},
   "outputs": [
    {
     "name": "stdout",
     "output_type": "stream",
     "text": [
      "False\n",
      "True\n"
     ]
    }
   ],
   "source": [
    "d1 = {0:'a',1:'b',2:'c'}\n",
    "d2 = {0:'A',1:'B',2:'C'}\n",
    "print(d1 == d2) # False, not same key:value pairs\n",
    "print(d1 != d2) # True"
   ]
  },
  {
   "cell_type": "markdown",
   "id": "b11d0768",
   "metadata": {},
   "source": [
    "- ***Extended Assignment Operators***\n",
    "    - `+=`, `-=`, `*=`,`/=`,`//=`\n",
    "    - For ***immutable*** objects (e.g. int, str, etc.)\n",
    "        - since object immutable,\n",
    "        - `identifier += value` same as\n",
    "        - `identifier = identifier + value`\n",
    "    - For ***mutable*** list\n",
    "        - `identifier += value` mutates *original object*\n",
    "        - `identifier = identifier + value` *reassigns* to new object\n",
    "        - `dict` and `set` do not support `+=` operand"
   ]
  },
  {
   "cell_type": "code",
   "execution_count": 27,
   "id": "0eb96178",
   "metadata": {},
   "outputs": [
    {
     "name": "stdout",
     "output_type": "stream",
     "text": [
      "[1, 2, 3]\n",
      "[1, 2, 3]\n",
      "True\n",
      "[1, 2, 3, 4, 5, 6]\n",
      "[1, 2, 3, 4, 5, 6]\n",
      "True\n",
      "[1, 2, 3, 4, 5, 6]\n",
      "[1, 2, 3, 4, 5, 6, 7, 8, 9]\n",
      "False\n"
     ]
    }
   ],
   "source": [
    "d1 = [1,2,3]\n",
    "d2 = d1\n",
    "print(d1)\n",
    "print(d2)\n",
    "print(id(d1)==id(d2))\n",
    "d2 += [4,5,6] # mutates original object\n",
    "print(d1)\n",
    "print(d2)\n",
    "print(id(d1)==id(d2))\n",
    "d2 = d2 + [7,8,9] # reassigns d2 to new object\n",
    "print(d1)\n",
    "print(d2)\n",
    "print(id(d1)==id(d2))"
   ]
  },
  {
   "cell_type": "markdown",
   "id": "15f47ce4",
   "metadata": {},
   "source": [
    "- ***chained assignment***\n",
    "    - `x = y = 0`\n",
    "- ***chained comparison***\n",
    "    - `1 <= x + y <= 3` evaluates as\n",
    "    - `(1 <= x + y) and (x + y <= 3)`"
   ]
  },
  {
   "cell_type": "code",
   "execution_count": 29,
   "id": "8999c6b9",
   "metadata": {},
   "outputs": [
    {
     "name": "stdout",
     "output_type": "stream",
     "text": [
      "2 2\n",
      "False\n"
     ]
    }
   ],
   "source": [
    "x = y = 2\n",
    "print(x,y)\n",
    "print(1 <= x + y <= 3)"
   ]
  },
  {
   "cell_type": "markdown",
   "id": "d7ba3f1f",
   "metadata": {},
   "source": [
    "<a id=\"1.4\"></a>\n",
    "## 1.4 Control Flow\n",
    "\n",
    "<a href=\"#toc\">Table of Contents</a>"
   ]
  },
  {
   "cell_type": "markdown",
   "id": "8cf23441",
   "metadata": {},
   "source": [
    "- ***block code***\n",
    "    - python uses indentation to designate hierarch of code blocks\n",
    "    - statements with colons can be on one line if desired"
   ]
  },
  {
   "cell_type": "code",
   "execution_count": 30,
   "id": "fa98b2be",
   "metadata": {},
   "outputs": [
    {
     "name": "stdout",
     "output_type": "stream",
     "text": [
      "x > 2\n",
      "x > 2\n"
     ]
    }
   ],
   "source": [
    "x = 3\n",
    "if x > 2: print('x > 2')\n",
    "\n",
    "if x > 2:\n",
    "    print('x > 2')"
   ]
  },
  {
   "cell_type": "markdown",
   "id": "18fa0703",
   "metadata": {},
   "source": [
    "- ***conditional execution***\n",
    "    - hierarchy with indentation\n",
    "    - uses `if`,`elif`,`else` combinations\n",
    "    - can use **flowcharts** to traverse conditional execution"
   ]
  },
  {
   "cell_type": "markdown",
   "id": "be5f56f4",
   "metadata": {},
   "source": [
    "- ***loops***\n",
    "    - `while` loops indefinititely until given condition evaluates `False`\n",
    "    - `for` repeats for all given instances of given `iterable`\n",
    "        - use `range(len(data))` to loop over indices of `data`\n",
    "- ***exit statements***\n",
    "    - `break` - terminates `while` and `for` loops\n",
    "    - `continue` - skips remaining statements in current iteration and goes to next iteration"
   ]
  },
  {
   "cell_type": "code",
   "execution_count": 37,
   "id": "c7f0dc3d",
   "metadata": {},
   "outputs": [
    {
     "name": "stdout",
     "output_type": "stream",
     "text": [
      "1\n",
      "2\n",
      "3\n",
      "5\n"
     ]
    }
   ],
   "source": [
    "l1 = [1,2,3]\n",
    "for i in l1:\n",
    "    if i == 4:\n",
    "        continue\n",
    "    print(i)\n",
    "    if i == 3:\n",
    "        l1 += [4,5,6]\n",
    "    elif i == 5:\n",
    "        break\n",
    "    # before end of list, mutates iterable\n",
    "    # which allows loop to extend\n",
    "    "
   ]
  },
  {
   "cell_type": "markdown",
   "id": "662fca6f",
   "metadata": {},
   "source": [
    "<a id=\"1.5\"></a>\n",
    "## 1.5 Functions\n",
    "\n",
    "<a href=\"#toc\">Table of Contents</a>"
   ]
  },
  {
   "cell_type": "markdown",
   "id": "a0684c6d",
   "metadata": {},
   "source": [
    "- ***\"function\" vs. \"method\"***\n",
    "    - **function** = stateless function invoked without context of class or instance\n",
    "        - ex `showexample(data)`\n",
    "    - **method** = member function of a specified object\n",
    "        - ex `ex.showexample(data)`"
   ]
  },
  {
   "cell_type": "code",
   "execution_count": null,
   "id": "e2433cac",
   "metadata": {},
   "outputs": [
    {
     "name": "stdout",
     "output_type": "stream",
     "text": [
      "example\n"
     ]
    }
   ],
   "source": [
    "def showexample(data):\n",
    "    return data\n",
    "\n",
    "data = 'example'\n",
    "print(showexample(data)) # stateless \"function\""
   ]
  },
  {
   "cell_type": "code",
   "execution_count": null,
   "id": "7b0f52da",
   "metadata": {},
   "outputs": [
    {
     "name": "stdout",
     "output_type": "stream",
     "text": [
      "example\n"
     ]
    }
   ],
   "source": [
    "class example:\n",
    "    def __init__(self,data):\n",
    "        self.data = data\n",
    "    def showexample(self):\n",
    "        return self.data\n",
    "\n",
    "data = 'example'\n",
    "ex = example(data)\n",
    "print(ex.showexample()) # invoking a class \"method\""
   ]
  },
  {
   "cell_type": "markdown",
   "id": "0c8e5fe9",
   "metadata": {},
   "source": [
    "- ***function structure***\n",
    "```\n",
    "def function_name(param1, param2): # \"function signature\" line\n",
    "    # body of function is subsequent indented lines\n",
    "    # like this one\n",
    "    # and this one\n",
    "# not part of body\n",
    "```\n",
    "- parameters don't have to be designated, but can be\n",
    "    - `def fun(param1):` expects `param1` when called, but can be any type\n",
    "    - `def fun(param11:list)` expects `param1` and indicates it should be list, but ***still accepts any type***\n",
    "        - use `isinstance()` keyword with `raise TypeError` to enforce type\n",
    "        - [`isinstance()` tutorial](https://www.w3schools.com/python/ref_func_isinstance.asp)\n",
    "        - [`raise` tutorial](https://www.w3schools.com/python/ref_keyword_raise.asp)\n",
    "- `return` is used to return a value back from the caller\n",
    "    - function will ***cease execution*** after `return` statement executed\n",
    "    - if `return` never executed, function returns `None` to caller"
   ]
  },
  {
   "cell_type": "code",
   "execution_count": null,
   "id": "a1779526",
   "metadata": {},
   "outputs": [
    {
     "name": "stdout",
     "output_type": "stream",
     "text": [
      "a\n"
     ]
    }
   ],
   "source": [
    "def fun(param1):\n",
    "    print(param1)\n",
    "\n",
    "a = 'a'\n",
    "\n",
    "fun(a)"
   ]
  },
  {
   "cell_type": "code",
   "execution_count": null,
   "id": "110e0139",
   "metadata": {},
   "outputs": [
    {
     "name": "stdout",
     "output_type": "stream",
     "text": [
      "abcde\n"
     ]
    }
   ],
   "source": [
    "def fun(param1:int) -> int:\n",
    "    return(param1)\n",
    "\n",
    "a = 'abcde'\n",
    "\n",
    "print(fun(a))"
   ]
  },
  {
   "cell_type": "code",
   "execution_count": null,
   "id": "4b5b51dc",
   "metadata": {},
   "outputs": [
    {
     "name": "stdout",
     "output_type": "stream",
     "text": [
      "1\n",
      "TypeError\n"
     ]
    }
   ],
   "source": [
    "def fun(param1:int) -> int:\n",
    "    if not isinstance(param1,int):\n",
    "        raise TypeError\n",
    "    return(param1)\n",
    "\n",
    "a = 'abcde'\n",
    "\n",
    "try:\n",
    "    print(fun(1))\n",
    "    print(fun(a)) # raises error here\n",
    "except TypeError:\n",
    "    print('TypeError')"
   ]
  },
  {
   "cell_type": "markdown",
   "id": "fffba971",
   "metadata": {},
   "source": [
    "- ***information passing***\n",
    "    - **formal parameters** - identifiers used to describe the *expected* parameters\n",
    "    - **actual parameters** - objects sent by the caller\n",
    "- actual assignments to formal parameters can assign an ***alias for same object***\n",
    "    - this means function can update original object"
   ]
  },
  {
   "cell_type": "code",
   "execution_count": null,
   "id": "17011bb7",
   "metadata": {},
   "outputs": [
    {
     "name": "stdout",
     "output_type": "stream",
     "text": [
      "0x21e6fbdd4c0\n",
      "0x21e6fbdd4c0\n",
      "[1, 2, 3, 4, 5, 6]\n"
     ]
    }
   ],
   "source": [
    "l1 = [1,2,3]\n",
    "print(hex(id(l1)))\n",
    "def growlist(a): # a is the actual parameter passed in\n",
    "    data = a\n",
    "    data += [4,5,6]\n",
    "\n",
    "growlist(l1)\n",
    "print(hex(id(l1)))\n",
    "print(l1)"
   ]
  },
  {
   "cell_type": "markdown",
   "id": "73a74f19",
   "metadata": {},
   "source": [
    "- ***polymorphism*** - functions can support *more than one* calling signature\n",
    "    - default parameters are preassigned in the function signature\n",
    "        - `def fun(param1, param2 = 2)`\n",
    "    - cannot follow default parameter with unassigned parameter\n",
    "        - X `def fun(param1, param2 = 2, param3)`"
   ]
  },
  {
   "cell_type": "markdown",
   "id": "af7f31ef",
   "metadata": {},
   "source": [
    "- ***keyword parameters***\n",
    "    - ***positional arguments*** - calling parameters in order given in function signature\n",
    "        - `def fun(a=1,b=2,c=3):` with call `fun(5)` means `a=5`, `b=2` and `c=3`\n",
    "    - ***keyword arguments*** - calling parameters specifically in the function call\n",
    "        - `def fun(a=1,b=2,c=3):` with call `fun(c=5)` means `a=1`, `b=2` and `c=5`\n",
    "    "
   ]
  },
  {
   "cell_type": "markdown",
   "id": "89a0851b",
   "metadata": {},
   "source": [
    "- ***built-in functions***\n",
    "\n",
    "[Python Built-in Functions Doc](https://docs.python.org/3/library/functions.html)"
   ]
  },
  {
   "cell_type": "markdown",
   "id": "cb965394",
   "metadata": {},
   "source": [
    "<a id=\"1.6\"></a>\n",
    "## 1.6 Simple I/O\n",
    "\n",
    "<a href=\"#toc\">Table of Contents</a>"
   ]
  },
  {
   "cell_type": "markdown",
   "id": "58fef81a",
   "metadata": {},
   "source": [
    "- ***print function***\n",
    "    - `sep` - keyword to customize separating string contents\n",
    "    - `end` - keyword to replace default `\\n` character\n",
    "    - default output is `stdout`\n",
    "        - `file` - keyword to direct output to file stream instead of `stdout`"
   ]
  },
  {
   "cell_type": "code",
   "execution_count": 11,
   "id": "dca94b01",
   "metadata": {},
   "outputs": [
    {
     "name": "stdout",
     "output_type": "stream",
     "text": [
      "hi | world | and | whateverthe end"
     ]
    }
   ],
   "source": [
    "print('hi','world','and','whatever', sep=' | ', end='the end')"
   ]
  },
  {
   "cell_type": "markdown",
   "id": "75dc33d9",
   "metadata": {},
   "source": [
    "- ***input()***\n",
    "    - `input()` is built-in function to get user information from `stdin`\n",
    "    - can give a prompt as parameter (prompt written to `stdout` w/o `\\n`)\n",
    "    - returns a string\n",
    "\n",
    "```\n",
    "(__prompt: object = ..., /) -> str\n",
    "Read a string from standard input. The trailing newline is stripped.\n",
    "\n",
    "The prompt string, if given, is printed to standard output without a trailing newline before reading input.\n",
    "\n",
    "If the user hits EOF (*nix: Ctrl-D, Windows: Ctrl-Z+Return), raise EOFError. On *nix systems, readline is used if available.\n",
    "```"
   ]
  },
  {
   "cell_type": "markdown",
   "id": "0f6141df",
   "metadata": {},
   "source": [
    "- ***files***\n",
    "    - `open()` - built-in function for opening files\n",
    "    - https://docs.python.org/3/library/functions.html#open\n",
    "    - raises `OSError` if can't be opened\n",
    "- default option for opening is read mode `r`\n",
    "- write to file by opening with `w`\n",
    "    - ex: `f = open(filepath, 'w')`\n",
    "    - `f.write('write this. go 2 new line\\n')`\n",
    "- to open *and* update use `r+` (overwrites lines)\n",
    "- to append, use `a`"
   ]
  },
  {
   "cell_type": "code",
   "execution_count": 44,
   "id": "b3d0c9e5",
   "metadata": {},
   "outputs": [
    {
     "name": "stdout",
     "output_type": "stream",
     "text": [
      "line1\n",
      "line2\n",
      "line3\n",
      "\n",
      "line1\n",
      "line2\n",
      "line3\n",
      "test line\n",
      "\n"
     ]
    }
   ],
   "source": [
    "filepath = './example.txt'\n",
    "f = open(filepath)\n",
    "print(f.read())\n",
    "f = open(filepath, 'a')\n",
    "f.write('test line\\n')\n",
    "f = open(filepath)\n",
    "print(f.read())"
   ]
  },
  {
   "cell_type": "markdown",
   "id": "a1bb9213",
   "metadata": {},
   "source": [
    "<a id=\"1.7\"></a>\n",
    "## 1.7 Exception Handling\n",
    "\n",
    "<a href=\"#toc\">Table of Contents</a>"
   ]
  },
  {
   "cell_type": "markdown",
   "id": "56450863",
   "metadata": {},
   "source": [
    "**Raising an Exception**\n",
    "\n",
    "- ***Exceptions***\n",
    "    - https://docs.python.org/3/library/exceptions.html\n",
    "    - `Exception` class is base class for most errors\n",
    "- for error condition\n",
    "    - python will `raise` exception (i.e. throw error)\n",
    "    - `raise` keyword can be used to manually raise error\n",
    "- `if not isinstance()` and `raise` are useful for errors when defining functions\n",
    "\n",
    "```\n",
    "def sum(values):\n",
    "    if not isinstance(values, collections.Iterable):\n",
    "        raise TypeError(‘parameter must be an iterable type’)\n",
    "    total = 0\n",
    "    for v in values:\n",
    "        if not isinstance(v, (int, float)):\n",
    "            raise TypeError(‘elements must be numeric’)\n",
    "        total = total+ v\n",
    "    return total\n",
    "```"
   ]
  },
  {
   "cell_type": "markdown",
   "id": "0641ec1d",
   "metadata": {},
   "source": [
    "- for python 3.9+, use `collections.abc.Iterable` instead"
   ]
  },
  {
   "cell_type": "code",
   "execution_count": 48,
   "id": "a1db7917",
   "metadata": {},
   "outputs": [
    {
     "name": "stdout",
     "output_type": "stream",
     "text": [
      "3\n",
      "parameter must be an iterable type\n"
     ]
    }
   ],
   "source": [
    "import collections\n",
    "def customsum(values):\n",
    "    if not isinstance(values, collections.abc.Iterable):\n",
    "        raise TypeError('parameter must be an iterable type')\n",
    "    total = 0\n",
    "    for v in values:\n",
    "        if not isinstance(v, (int, float)):\n",
    "            raise TypeError('elements must be numeric')\n",
    "        total = total+ v\n",
    "    return total\n",
    "\n",
    "try:\n",
    "    print(customsum([1,2]))\n",
    "    customsum(False) # not an iterable\n",
    "except TypeError:\n",
    "    print('parameter must be an iterable type')"
   ]
  },
  {
   "cell_type": "markdown",
   "id": "58424f25",
   "metadata": {},
   "source": [
    "- ***try/except*** (like Java try/catch)"
   ]
  },
  {
   "cell_type": "code",
   "execution_count": 50,
   "id": "c9cef49e",
   "metadata": {},
   "outputs": [
    {
     "name": "stdout",
     "output_type": "stream",
     "text": [
      "Unable to open the file due to following error\n",
      " [Errno 2] No such file or directory: 'doesnotexist. txt'\n"
     ]
    }
   ],
   "source": [
    "try:\n",
    "    fp = open('doesnotexist. txt')\n",
    "except IOError as e:\n",
    "    print('Unable to open the file due to following error\\n', e)"
   ]
  },
  {
   "cell_type": "markdown",
   "id": "0e73ba09-7de1-4659-ac9d-dc884845aed3",
   "metadata": {},
   "source": [
    "**Catching an exception**\n",
    "\n",
    "- \"look before you leap\" philosophy\n",
    "    - use `if`/`else` to try and avoid raising exceptions in first place\n",
    "- \"it's easier to ask for forgiveness than get permission\"\n",
    "    - can't safeguard against every possible case\n",
    "    - use `try`-`except` to guard against unknown inputs\n",
    "- `pass` keyword - catch exception, then do nothing, but allows program to continue executing statements\n",
    "\n",
    "```\n",
    "except (ValueError, EOFError):\n",
    "    pass\n",
    "```"
   ]
  },
  {
   "cell_type": "markdown",
   "id": "2a6b32f7",
   "metadata": {},
   "source": [
    "<a id=\"1.8\"></a>\n",
    "## 1.8 Iterators and Generators\n",
    "\n",
    "<a href=\"#toc\">Table of Contents</a>"
   ]
  },
  {
   "cell_type": "markdown",
   "id": "864c6a65-5c3d-483a-b134-bfec157d6d01",
   "metadata": {},
   "source": [
    "### **Iterators**\n",
    "\n",
    "https://docs.python.org/3/glossary.html#term-iterable"
   ]
  },
  {
   "cell_type": "markdown",
   "id": "3bb67cfa-213e-44a6-8a82-d4f8120bd51d",
   "metadata": {},
   "source": [
    "- Container types such as `list`,`tuple`,`set` inherit `object` class"
   ]
  },
  {
   "cell_type": "code",
   "execution_count": 12,
   "id": "d1310e8e-1895-45d8-bfd0-6a6aeef4ae6d",
   "metadata": {},
   "outputs": [
    {
     "name": "stdout",
     "output_type": "stream",
     "text": [
      "(<class 'object'>,)\n"
     ]
    }
   ],
   "source": [
    "print(list.__bases__)"
   ]
  },
  {
   "cell_type": "code",
   "execution_count": 22,
   "id": "d459d740-b6da-469e-836c-abfc2ea3bf98",
   "metadata": {},
   "outputs": [
    {
     "name": "stdout",
     "output_type": "stream",
     "text": [
      "1\n",
      "2\n",
      "3\n",
      "4\n",
      "StopIteration\n"
     ]
    }
   ],
   "source": [
    "list1 = [1,2,3,4]\n",
    "i = iter(list1) # iter() is a required method iterable\n",
    "try:\n",
    "    while True:\n",
    "        print(next(i)) # iterator obj has next() method\n",
    "except StopIteration:\n",
    "    print('StopIteration') # iter obj throws StopIteration at end"
   ]
  },
  {
   "cell_type": "markdown",
   "id": "e37c6546-fee5-4dc5-838a-8038f23aaa98",
   "metadata": {},
   "source": [
    "- **iterator** - `obj` that manages iteration through a series of values  \n",
    "    - has built-in function `next()` that can be called until `StopIteration` exception\n",
    "    - can call `obj`'s `__next__()` method or pass to built-in function `next()`\n",
    "    - required to have an `__iter__()` method that returns  iterator object itself"
   ]
  },
  {
   "cell_type": "markdown",
   "id": "c07b9e08-6b8d-437e-998d-ec977333a7ec",
   "metadata": {},
   "source": [
    "- **iterable** - `obj` that produces an *iterator* via syntax `iter(obj)`\n",
    "    - `list`, `str`, `tuple`, `str`, `dict` are all ***iterable classes***\n",
    "    - can be used in `for` loop and with `zip()` and `map()`"
   ]
  },
  {
   "cell_type": "markdown",
   "id": "2339214a-96b1-4c95-bfb4-a58386771fc3",
   "metadata": {},
   "source": [
    "- ***iterator vs iterable***\n",
    "\n",
    ">```\n",
    "list1 = [1,2,3,4]\n",
    "i = iter(list1)\n",
    ">```\n",
    "\n",
    "- `i` is the *iterator*, but doesn't need to be explicitly declared\n",
    "    - when using a `for` loop with an *iterable*, the *iterator* is automatically created\n",
    "- `list1` is the iterable"
   ]
  },
  {
   "cell_type": "markdown",
   "id": "c52f9a64-b3df-472b-a7db-5d6c8cca8bf3",
   "metadata": {},
   "source": [
    "### **Generators**"
   ]
  },
  {
   "cell_type": "code",
   "execution_count": 25,
   "id": "9072ca6e-e58f-4ebc-82c3-67a1afa03fe9",
   "metadata": {},
   "outputs": [
    {
     "name": "stdout",
     "output_type": "stream",
     "text": [
      "1\n",
      "2\n",
      "4\n",
      "5\n",
      "10\n",
      "20\n",
      "25\n",
      "50\n",
      "100\n"
     ]
    }
   ],
   "source": [
    "def factors(n): # generator that computes factors\n",
    "    for k in range(1,n+1):\n",
    "        if n % k == 0: # divides evenly, thus k is a factor\n",
    "            yield k # yield this factor as next result\n",
    "            \n",
    "for factor in factors(100):\n",
    "    print(factor)"
   ]
  },
  {
   "cell_type": "markdown",
   "id": "aaaeb9e2-9fd0-4a56-b60a-6437e8c1f1c9",
   "metadata": {},
   "source": [
    "- **generator** - executes with `yield` statement\n",
    "    - used in place of `return` for a `def` to indicate creation of a *generator*\n",
    "    - illegal to use both `return` and `yield`\n",
    "    - for each iteration in a loop, Python executes procedure until `yield` indicates next value\n",
    "    - Generator procedure temporarily interrupted ntil another value is requested\n",
    "- Difference between generator and traditional function\n",
    "    - Generator uses *\"lazy evaluation\"*\n",
    "    - Results of generator only computed if requested\n",
    "    - Entire series of iterable doesn't need to reside in memory\n",
    "    - Generator can produce infinite series of values"
   ]
  },
  {
   "cell_type": "markdown",
   "id": "f338c26a",
   "metadata": {},
   "source": [
    "<a id=\"1.9\"></a>\n",
    "## 1.9 Additional Python Conveniences\n",
    "\n",
    "<a href=\"#toc\">Table of Contents</a>"
   ]
  },
  {
   "cell_type": "markdown",
   "id": "72f3d102-54af-4332-8905-c94e578e01cc",
   "metadata": {},
   "source": [
    "### Conditional Expressions"
   ]
  },
  {
   "cell_type": "markdown",
   "id": "b010abab-e1d7-4784-bff9-7561da2255cd",
   "metadata": {},
   "source": [
    "- ***conditional expression*** syntax\n",
    "    - `expr1 if condition else expr2`\n",
    "    - equivalent to Java syntax `condition? expr1 : expr2`"
   ]
  },
  {
   "cell_type": "code",
   "execution_count": 27,
   "id": "6f7ca4e4-7b5c-43ee-b171-fa14ac5797c9",
   "metadata": {},
   "outputs": [
    {
     "name": "stdout",
     "output_type": "stream",
     "text": [
      "2\n",
      "1\n",
      "0\n",
      "1\n",
      "2\n"
     ]
    }
   ],
   "source": [
    "def abs_test(n):\n",
    "    if n >= 0:\n",
    "        param = n\n",
    "    else:\n",
    "        param = -n\n",
    "    return param\n",
    "\n",
    "for i in range(-2,3):\n",
    "    print(abs_test(i))"
   ]
  },
  {
   "cell_type": "code",
   "execution_count": 29,
   "id": "3aa57e9d-8900-4bf9-b601-6109d2bc6834",
   "metadata": {},
   "outputs": [
    {
     "name": "stdout",
     "output_type": "stream",
     "text": [
      "2\n",
      "1\n",
      "0\n",
      "1\n",
      "2\n"
     ]
    }
   ],
   "source": [
    "def abs_test(n):\n",
    "    param = n if n >= 0 else -n # only one line\n",
    "    return param\n",
    "\n",
    "for i in range(-2,3):\n",
    "    print(abs_test(i))"
   ]
  },
  {
   "cell_type": "code",
   "execution_count": 34,
   "id": "b7dea237-2c1d-4ad3-bd5c-ecaf51c13fef",
   "metadata": {},
   "outputs": [
    {
     "name": "stdout",
     "output_type": "stream",
     "text": [
      "2\n",
      "1\n",
      "0\n",
      "1\n",
      "2\n"
     ]
    }
   ],
   "source": [
    "for i in range(-2,3):\n",
    "    print(i if i >= 0 else -i) # can put directly as param in call"
   ]
  },
  {
   "cell_type": "markdown",
   "id": "025524d1-5d60-4f96-ab04-240041c0e6ba",
   "metadata": {},
   "source": [
    "### Comprehension Syntax"
   ]
  },
  {
   "cell_type": "markdown",
   "id": "fb69cfce-051a-46be-b2ec-500ec4bb5ec9",
   "metadata": {},
   "source": [
    "- ***comprehension syntax***\n",
    "    - **list comprehension** - `expression for val in iterable if condition`"
   ]
  },
  {
   "cell_type": "code",
   "execution_count": 35,
   "id": "cdec16cf-23f0-4be5-8bc0-88f25451030a",
   "metadata": {},
   "outputs": [
    {
     "name": "stdout",
     "output_type": "stream",
     "text": [
      "[1, 2, 4, 5, 10]\n"
     ]
    }
   ],
   "source": [
    "factors = [k for k in range(1,20) if 20 % k == 0] # factors of 20\n",
    "print(factors)"
   ]
  },
  {
   "cell_type": "markdown",
   "id": "1745a2d6-d865-424b-b950-76c5c22c6e2c",
   "metadata": {},
   "source": [
    "| Syntax | Comprehension Type |\n",
    "| --- | --- |\n",
    "| `[ k*k for k in range(l, n+1) ]` | list comprehension `[]` |\n",
    "| `{ k*k for k in range(l, n+1) }` | set comprehension `{}` |\n",
    "| `( k*k for k in range(l, n+1) )` | generator comprehension `()` |\n",
    "| `{ k : k*k for k in range(l, n+1) }` | dictionary comprehension `{:}` |"
   ]
  },
  {
   "cell_type": "code",
   "execution_count": 37,
   "id": "784d48aa-56be-4ec2-8185-6f8c63b98b1e",
   "metadata": {},
   "outputs": [
    {
     "name": "stdout",
     "output_type": "stream",
     "text": [
      "{0: 0, 2: 4, 4: 16}\n"
     ]
    }
   ],
   "source": [
    "# store dict of even root/square pairs\n",
    "mydic = { k : k*k for k in range(0,6) if k % 2 == 0 }\n",
    "print(mydic)"
   ]
  },
  {
   "cell_type": "markdown",
   "id": "88624267-fd9b-4374-bea6-506356cbc8c6",
   "metadata": {},
   "source": [
    "### Packing and Unpacking Sequences"
   ]
  },
  {
   "cell_type": "markdown",
   "id": "cf047333-7720-4563-a698-5a1404fa7e5a",
   "metadata": {},
   "source": [
    "- ***automatic tuple assignment***\n",
    "    - when given series of comma-separated expressions\n",
    "        - `data = 2,4,6,8`\n",
    "- behavior called ***\"automatic packing\"***\n",
    "- common use case is for `return` multiple vals in function\n",
    "- can ***unpack*** by writing comma-separated identifiers\n",
    "    - when unpacking, number of declared variables must match `len(tuple)`"
   ]
  },
  {
   "cell_type": "code",
   "execution_count": 41,
   "id": "74589f27-5eba-43b6-8a94-c41ca0173a61",
   "metadata": {},
   "outputs": [
    {
     "name": "stdout",
     "output_type": "stream",
     "text": [
      "(1, 2, 3) <class 'tuple'>\n",
      "1 2 3\n"
     ]
    }
   ],
   "source": [
    "def autotest():\n",
    "    return 1,2,3\n",
    "\n",
    "packed = autotest()\n",
    "print(packed,type(packed))\n",
    "\n",
    "# unpacked\n",
    "a,b,c = autotest()\n",
    "print(a,b,c)"
   ]
  },
  {
   "cell_type": "code",
   "execution_count": 42,
   "id": "63d938a8-7bce-4647-a953-3178afc6156a",
   "metadata": {},
   "outputs": [
    {
     "name": "stdout",
     "output_type": "stream",
     "text": [
      "1 2\n",
      "3 4\n"
     ]
    }
   ],
   "source": [
    "# unpacking works in a loop as well\n",
    "for x,y in [(1,2), (3,4)]:\n",
    "    print(x,y)"
   ]
  },
  {
   "cell_type": "code",
   "execution_count": 47,
   "id": "98597e45-ff21-4d5e-9991-7596ec3970cd",
   "metadata": {},
   "outputs": [
    {
     "name": "stdout",
     "output_type": "stream",
     "text": [
      "dict_items([(0, 0), (1, 1), (2, 4), (3, 9)])\n",
      "0^2 = 0\n",
      "1^2 = 1\n",
      "2^2 = 4\n",
      "3^2 = 9\n"
     ]
    }
   ],
   "source": [
    "mydic = { n: n**2 for n in range(0,4)}\n",
    "print(mydic.items()) # returns list of tuple key,value pairs\n",
    "for key,val in mydic.items():\n",
    "    print('%i^2 = %i' % (key,val))"
   ]
  },
  {
   "cell_type": "markdown",
   "id": "3967342f-5882-4be2-a890-9c8daee5f4b0",
   "metadata": {},
   "source": [
    "- ***simultaneous assignments***\n",
    "    - instead of pack/unpack, assign multiple at once\n",
    "    - `x,y,z = 1,2,3`"
   ]
  },
  {
   "cell_type": "code",
   "execution_count": 50,
   "id": "3056f3f0-52b0-4142-b97b-537872c5bf51",
   "metadata": {},
   "outputs": [
    {
     "name": "stdout",
     "output_type": "stream",
     "text": [
      "3\n",
      "1\n",
      "2\n"
     ]
    }
   ],
   "source": [
    "x,y,z = 1,2,3\n",
    "x,y,z = z,x,y # RHS eval first, then assigned LHS\n",
    "print(x)\n",
    "print(y)\n",
    "print(z)"
   ]
  },
  {
   "cell_type": "markdown",
   "id": "9f42a243",
   "metadata": {},
   "source": [
    "<a id=\"1.10\"></a>\n",
    "## 1.10 Scopes and Namespaces\n",
    "\n",
    "<a href=\"#toc\">Table of Contents</a>"
   ]
  },
  {
   "cell_type": "markdown",
   "id": "6582f0b1-bc81-47a8-9ee1-9264b5649bfa",
   "metadata": {},
   "source": [
    "- ***name resolution***\n",
    "    - `NameError` thrown if trying to use a variable that's not assigned yet\n",
    "- ***scope***\n",
    "    - Top-level assignments are in `global` scope\n",
    "    - assignments inside a function are `local` scope\n",
    "    - use `global` keyword to assign to top-level from inside function\n",
    "    - each distinct level of scope is called a ***namespace***\n",
    "- ***first-class objects***\n",
    "    - instances of a type that can be:\n",
    "        - assigned to an identifier,\n",
    "        - passed as a parameter,\n",
    "        - or returned by a function\n",
    "    - ex: `int`, `list` or other data type\n",
    "    - can be aliased"
   ]
  },
  {
   "cell_type": "code",
   "execution_count": 53,
   "id": "5e1a6893-03ce-4314-b954-c9d899b8e08a",
   "metadata": {},
   "outputs": [
    {
     "name": "stdout",
     "output_type": "stream",
     "text": [
      "NameError\n"
     ]
    }
   ],
   "source": [
    "try:\n",
    "    print(undefinedval)\n",
    "except NameError:\n",
    "    print('NameError')"
   ]
  },
  {
   "cell_type": "code",
   "execution_count": 52,
   "id": "3cfc8c24-8816-4c06-81fb-de7e554c916c",
   "metadata": {},
   "outputs": [
    {
     "name": "stdout",
     "output_type": "stream",
     "text": [
      "hello\n"
     ]
    }
   ],
   "source": [
    "scream = print # assign name ‘scream’ to the function denoted as print\n",
    "scream(\"hello\") # call that function"
   ]
  },
  {
   "cell_type": "markdown",
   "id": "00429241",
   "metadata": {},
   "source": [
    "<a id=\"1.11\"></a>\n",
    "## 1.11 Modules and the Import Statement\n",
    "\n",
    "<a href=\"#toc\">Table of Contents</a>"
   ]
  },
  {
   "cell_type": "markdown",
   "id": "3a20ff9e-51fb-4b11-9ea7-a61ddf1de535",
   "metadata": {},
   "source": [
    "- ***importing***\n",
    "    - `from math import *` imports ***all*** methods in `math` module\n",
    "    - use this sparingly because it overrides any functions with same name\n",
    "- ***Creating a module***\n",
    "    - use `if __name__ == '__main__':` for methods you don't want executed when importing\n",
    "        - if you create a module `mymod.py` with this statement,\n",
    "            - `python3 mymod.py` will execute all these statements\n",
    "        - if you import using `import mymod` in another module,\n",
    "            - will ***not*** execute statements in this block\n",
    "    - similar to `public static void main(string[] args) {` in Java"
   ]
  },
  {
   "cell_type": "code",
   "execution_count": 55,
   "id": "7ad11a9f-edf9-4da9-84eb-52799a6a3745",
   "metadata": {},
   "outputs": [
    {
     "name": "stdout",
     "output_type": "stream",
     "text": [
      "this works only because it's not imported\n"
     ]
    }
   ],
   "source": [
    "if __name__ == '__main__':\n",
    "    print(\"this works only because it's not imported\")"
   ]
  },
  {
   "cell_type": "markdown",
   "id": "07308920-11bb-4bf0-83df-532cce48a7bf",
   "metadata": {},
   "source": [
    "- ***existing modules inherently available in python***\n",
    "\n",
    "![](./notebookimg/existing-modules.jpg)"
   ]
  },
  {
   "cell_type": "markdown",
   "id": "436d343e",
   "metadata": {},
   "source": [
    "<a id=\"1.12\"></a>\n",
    "## 1.12 Exercises\n",
    "\n",
    "<a href=\"#toc\">Table of Contents</a>"
   ]
  },
  {
   "cell_type": "markdown",
   "id": "f478d02f-97e7-455d-9b39-a2b6e8ca0643",
   "metadata": {},
   "source": [
    "### R1.1\n",
    "\n",
    "- Write a short Python function, `is_multiple(n, m)`, that takes two integer values and\n",
    "    - returns `True` if `n` is a multiple of `m`,\n",
    "    - that is, `n = mi` for some integer `i`,\n",
    "    - and `False` otherwise"
   ]
  },
  {
   "cell_type": "code",
   "execution_count": 79,
   "id": "4a82c865-1f93-424f-988c-3a38dc9b4cc1",
   "metadata": {},
   "outputs": [
    {
     "name": "stdout",
     "output_type": "stream",
     "text": [
      "is_multiple(-2,-2)? True\n",
      "is_multiple(-2,-1)? True\n",
      "is_multiple(-2,0)? False\n",
      "is_multiple(-2,1)? True\n",
      "is_multiple(-2,2)? True\n",
      "is_multiple(-1,-2)? False\n",
      "is_multiple(-1,-1)? True\n",
      "is_multiple(-1,0)? False\n",
      "is_multiple(-1,1)? True\n",
      "is_multiple(-1,2)? False\n",
      "is_multiple(0,-2)? False\n",
      "is_multiple(0,-1)? False\n",
      "is_multiple(0,0)? True\n",
      "is_multiple(0,1)? False\n",
      "is_multiple(0,2)? False\n",
      "is_multiple(1,-2)? False\n",
      "is_multiple(1,-1)? True\n",
      "is_multiple(1,0)? False\n",
      "is_multiple(1,1)? True\n",
      "is_multiple(1,2)? False\n",
      "is_multiple(2,-2)? True\n",
      "is_multiple(2,-1)? True\n",
      "is_multiple(2,0)? False\n",
      "is_multiple(2,1)? True\n",
      "is_multiple(2,2)? True\n"
     ]
    }
   ],
   "source": [
    "def is_multiple(n,m):\n",
    "    n,m = abs(n),abs(m)\n",
    "    if m > n:\n",
    "        return False\n",
    "    elif m == n or m == 1:\n",
    "        return True\n",
    "    \n",
    "    check = False\n",
    "    for i in range(n):\n",
    "        if m*i == n:\n",
    "            check = True\n",
    "    return check\n",
    "\n",
    "for i in range(-2,3):\n",
    "    for j in range(-2,3):\n",
    "        print('is_multiple(%i,%i)?' %(i,j), is_multiple(i,j))"
   ]
  },
  {
   "cell_type": "markdown",
   "id": "33fc2cf4-6911-431b-bb79-56831f02d174",
   "metadata": {},
   "source": [
    "### R1.2\n",
    "\n",
    "- Write a short Python function, `is_even(k)`, that\n",
    "    - takes an `int` value and \n",
    "    - returns `True` if `k` is even, and \n",
    "    - `False` otherwise.\n",
    "    \n",
    "- **constraints**\n",
    "    - your function cannot use the multiplication, modulo, or division operators."
   ]
  },
  {
   "cell_type": "code",
   "execution_count": 97,
   "id": "9c5a8d62-7373-43fb-b48d-ebac7a635381",
   "metadata": {},
   "outputs": [
    {
     "name": "stdout",
     "output_type": "stream",
     "text": [
      "0 True\n",
      "1 False\n",
      "2 True\n",
      "3 False\n",
      "4 True\n",
      "5 False\n"
     ]
    }
   ],
   "source": [
    "def is_even( k: int ) -> bool:\n",
    "    lsb = int(bin(k)[len(bin(k)) - 1])\n",
    "    return False if lsb != 0 else True\n",
    "\n",
    "for i in range(6):\n",
    "    print(i,is_even(i))"
   ]
  },
  {
   "cell_type": "markdown",
   "id": "800d69e3-a618-4a03-b59a-9fd7fdcfcea8",
   "metadata": {},
   "source": [
    "### R1.3\n",
    "\n",
    "- Write a short Python function, `minmax(data)`,\n",
    "    - that takes a sequence of one or more numbers, and \n",
    "    - returns the smallest and largest numbers, in the form of a tuple of length two.\n",
    "- **constraints**\n",
    "    - Do not use the built-in functions min or max in implementing your solution"
   ]
  },
  {
   "cell_type": "code",
   "execution_count": 115,
   "id": "ff4b30e3-e14a-4812-b883-0c0097122456",
   "metadata": {},
   "outputs": [
    {
     "name": "stdout",
     "output_type": "stream",
     "text": [
      "(-2, 99)\n",
      "(-2, 99)\n",
      "(-2, 99)\n",
      "(-2, 99)\n"
     ]
    }
   ],
   "source": [
    "def minmax(data):\n",
    "    if len(data) == 0:\n",
    "        return (None,None)\n",
    "    elif len(data) == 1:\n",
    "        return (data[0],data[0])\n",
    "    # using built-in sorted method\n",
    "    sdata = list(data)\n",
    "    sdata.sort()\n",
    "    return sdata[0],sdata[len(sdata)-1]\n",
    "\n",
    "print(minmax([52,2,1,-2,5,99]))\n",
    "print(minmax((52,2,1,-2,5,99)))\n",
    "print(minmax({52:0,2:0,1:0,-2:0,5:0,99:0}))\n",
    "print(minmax({52,2,1,-2,5,99}))"
   ]
  },
  {
   "cell_type": "code",
   "execution_count": 117,
   "id": "cccb01cc-088e-4866-8748-0049348f9762",
   "metadata": {},
   "outputs": [
    {
     "name": "stdout",
     "output_type": "stream",
     "text": [
      "(-2, 99)\n"
     ]
    }
   ],
   "source": [
    "def minmax(data):\n",
    "    if len(data) == 0:\n",
    "        return (None,None)\n",
    "    elif len(data) == 1:\n",
    "        return (data[0],data[0])\n",
    "    mindata = data[0]\n",
    "    maxdata = data[0]\n",
    "    for i in data:\n",
    "        mindata = i if i < mindata else mindata\n",
    "        maxdata = i if i > mindata else maxdata\n",
    "    return mindata, maxdata\n",
    "\n",
    "print(minmax([52,2,1,-2,5,99]))"
   ]
  },
  {
   "cell_type": "markdown",
   "id": "d2bed2d0",
   "metadata": {},
   "source": [
    "<a id=\"2\"></a>\n",
    "# 2 Object-Oriented Programming\n",
    "\n",
    "<a href=\"#toc\">Table of Contents</a>"
   ]
  },
  {
   "cell_type": "markdown",
   "id": "b80e9533",
   "metadata": {},
   "source": [
    "<a id=\"2.1\"></a>\n",
    "## 2.1 Goals, Principles, and Patterns\n",
    "\n",
    "<a href=\"#toc\">Table of Contents</a>"
   ]
  },
  {
   "cell_type": "markdown",
   "id": "da7f0806",
   "metadata": {},
   "source": [
    "<a id=\"2.2\"></a>\n",
    "## 2.2 Software Development\n",
    "\n",
    "<a href=\"#toc\">Table of Contents</a>"
   ]
  },
  {
   "cell_type": "markdown",
   "id": "dae665df",
   "metadata": {},
   "source": [
    "<a id=\"2.3\"></a>\n",
    "## 2.3 Class Definitions\n",
    "\n",
    "<a href=\"#toc\">Table of Contents</a>"
   ]
  },
  {
   "cell_type": "markdown",
   "id": "b7ba4b1c",
   "metadata": {},
   "source": [
    "<a id=\"2.4\"></a>\n",
    "## 2.4 Inheritance\n",
    "\n",
    "<a href=\"#toc\">Table of Contents</a>"
   ]
  },
  {
   "cell_type": "markdown",
   "id": "8d2f449a",
   "metadata": {},
   "source": [
    "<a id=\"2.5\"></a>\n",
    "## 2.5 Namespaces and Object-Orientation\n",
    "\n",
    "<a href=\"#toc\">Table of Contents</a>"
   ]
  },
  {
   "cell_type": "markdown",
   "id": "d6c0638e",
   "metadata": {},
   "source": [
    "<a id=\"2.6\"></a>\n",
    "## 2.6 Shallow and Deep Copying\n",
    "\n",
    "<a href=\"#toc\">Table of Contents</a>"
   ]
  },
  {
   "cell_type": "markdown",
   "id": "3ea15209",
   "metadata": {},
   "source": [
    "<a id=\"2.7\"></a>\n",
    "## 2.7 Exercises\n",
    "\n",
    "<a href=\"#toc\">Table of Contents</a>"
   ]
  },
  {
   "cell_type": "markdown",
   "id": "eca1994d",
   "metadata": {},
   "source": [
    "<a id=\"3\"></a>\n",
    "# 3 Algorithm Analysis\n",
    "\n",
    "<a href=\"#toc\">Table of Contents</a>"
   ]
  },
  {
   "cell_type": "markdown",
   "id": "cb5a699b",
   "metadata": {},
   "source": [
    "<a id=\"3.1\"></a>\n",
    "## 3.1 Experimental Studies\n",
    "\n",
    "<a href=\"#toc\">Table of Contents</a>"
   ]
  },
  {
   "cell_type": "markdown",
   "id": "ad801f6d",
   "metadata": {},
   "source": [
    "<a id=\"3.2\"></a>\n",
    "## 3.2 The 7 Functions Used in This Book\n",
    "\n",
    "<a href=\"#toc\">Table of Contents</a>"
   ]
  },
  {
   "cell_type": "markdown",
   "id": "4971a5b7",
   "metadata": {},
   "source": [
    "<a id=\"3.3\"></a>\n",
    "## 3.3 Asymptotic Analysis\n",
    "\n",
    "<a href=\"#toc\">Table of Contents</a>"
   ]
  },
  {
   "cell_type": "markdown",
   "id": "65e18605",
   "metadata": {},
   "source": [
    "<a id=\"3.4\"></a>\n",
    "## 3.4 Simple Justification Techniques\n",
    "\n",
    "<a href=\"#toc\">Table of Contents</a>"
   ]
  },
  {
   "cell_type": "markdown",
   "id": "0ee0dbd9",
   "metadata": {},
   "source": [
    "<a id=\"3.5\"></a>\n",
    "## 3.5 Exercises\n",
    "\n",
    "<a href=\"#toc\">Table of Contents</a>"
   ]
  },
  {
   "cell_type": "markdown",
   "id": "f43dec33",
   "metadata": {},
   "source": [
    "<a id=\"4\"></a>\n",
    "# 4 Recursion\n",
    "\n",
    "<a href=\"#toc\">Table of Contents</a>"
   ]
  },
  {
   "cell_type": "markdown",
   "id": "5fb0f8b8",
   "metadata": {},
   "source": [
    "<a id=\"4.1\"></a>\n",
    "## 4.1 Illustrative Examples\n",
    "\n",
    "<a href=\"#toc\">Table of Contents</a>"
   ]
  },
  {
   "cell_type": "markdown",
   "id": "5b61d525",
   "metadata": {},
   "source": [
    "<a id=\"4.2\"></a>\n",
    "## 4.2 Analyzing Recursive Algorithms\n",
    "\n",
    "<a href=\"#toc\">Table of Contents</a>"
   ]
  },
  {
   "cell_type": "markdown",
   "id": "472cf392",
   "metadata": {},
   "source": [
    "<a id=\"4.3\"></a>\n",
    "## 4.3 Recursion Run Amok\n",
    "\n",
    "<a href=\"#toc\">Table of Contents</a>"
   ]
  },
  {
   "cell_type": "markdown",
   "id": "c9a8fcb8",
   "metadata": {},
   "source": [
    "<a id=\"4.4\"></a>\n",
    "## 4.4 Further Examples of Recursion\n",
    "\n",
    "<a href=\"#toc\">Table of Contents</a>"
   ]
  },
  {
   "cell_type": "markdown",
   "id": "bea5275f",
   "metadata": {},
   "source": [
    "<a id=\"4.5\"></a>\n",
    "## 4.5 Designing Recursive Algorithms\n",
    "\n",
    "<a href=\"#toc\">Table of Contents</a>"
   ]
  },
  {
   "cell_type": "markdown",
   "id": "b7fb62bf",
   "metadata": {},
   "source": [
    "<a id=\"4.6\"></a>\n",
    "## 4.6 Eliminating Tail Recursion\n",
    "\n",
    "<a href=\"#toc\">Table of Contents</a>"
   ]
  },
  {
   "cell_type": "markdown",
   "id": "73c20d78",
   "metadata": {},
   "source": [
    "<a id=\"4.7\"></a>\n",
    "## 4.7 Exercises\n",
    "\n",
    "<a href=\"#toc\">Table of Contents</a>"
   ]
  },
  {
   "cell_type": "markdown",
   "id": "731c022f",
   "metadata": {},
   "source": [
    "<a id=\"5\"></a>\n",
    "# 5 Array-Based Sequences\n",
    "\n",
    "<a href=\"#toc\">Table of Contents</a>"
   ]
  },
  {
   "cell_type": "markdown",
   "id": "78d0cbb5",
   "metadata": {},
   "source": [
    "<a id=\"5.1\"></a>\n",
    "## 5.1 Python's Sequence Types\n",
    "\n",
    "<a href=\"#toc\">Table of Contents</a>"
   ]
  },
  {
   "cell_type": "markdown",
   "id": "6e3ad970",
   "metadata": {},
   "source": [
    "<a id=\"5.2\"></a>\n",
    "## 5.2 Low-Level Arrays\n",
    "\n",
    "<a href=\"#toc\">Table of Contents</a>"
   ]
  },
  {
   "cell_type": "markdown",
   "id": "30e42405",
   "metadata": {},
   "source": [
    "<a id=\"5.3\"></a>\n",
    "## 5.3 Dynamic Arrays and Amortization\n",
    "\n",
    "<a href=\"#toc\">Table of Contents</a>"
   ]
  },
  {
   "cell_type": "markdown",
   "id": "7534ee27",
   "metadata": {},
   "source": [
    "<a id=\"5.4\"></a>\n",
    "## 5.4 Efficiency of Python's Sequence Types\n",
    "\n",
    "<a href=\"#toc\">Table of Contents</a>"
   ]
  },
  {
   "cell_type": "markdown",
   "id": "0b24c6eb",
   "metadata": {},
   "source": [
    "<a id=\"5.5\"></a>\n",
    "## 5.5 Using Array-Based Sequences\n",
    "\n",
    "<a href=\"#toc\">Table of Contents</a>"
   ]
  },
  {
   "cell_type": "markdown",
   "id": "a33613c3",
   "metadata": {},
   "source": [
    "<a id=\"5.6\"></a>\n",
    "## 5.6 Multidimensional Data Sets\n",
    "\n",
    "<a href=\"#toc\">Table of Contents</a>"
   ]
  },
  {
   "cell_type": "markdown",
   "id": "16aa0bf3",
   "metadata": {},
   "source": [
    "<a id=\"5.7\"></a>\n",
    "## 5.7 Exercises\n",
    "\n",
    "<a href=\"#toc\">Table of Contents</a>"
   ]
  },
  {
   "cell_type": "markdown",
   "id": "15691bc2",
   "metadata": {},
   "source": [
    "<a id=\"6\"></a>\n",
    "# 6 Stacks, Queues, and Deques\n",
    "\n",
    "<a href=\"#toc\">Table of Contents</a>"
   ]
  },
  {
   "cell_type": "markdown",
   "id": "420cd8a2",
   "metadata": {},
   "source": [
    "<a id=\"6.1\"></a>\n",
    "## 6.1 Stacks\n",
    "\n",
    "<a href=\"#toc\">Table of Contents</a>"
   ]
  },
  {
   "cell_type": "markdown",
   "id": "56897e9d",
   "metadata": {},
   "source": [
    "<a id=\"6.2\"></a>\n",
    "## 6.2 Queues\n",
    "\n",
    "<a href=\"#toc\">Table of Contents</a>"
   ]
  },
  {
   "cell_type": "markdown",
   "id": "a40a592d",
   "metadata": {},
   "source": [
    "<a id=\"6.3\"></a>\n",
    "## 6.3 Double-Ended Queues\n",
    "\n",
    "<a href=\"#toc\">Table of Contents</a>"
   ]
  },
  {
   "cell_type": "markdown",
   "id": "0ad54fe2",
   "metadata": {},
   "source": [
    "<a id=\"6.4\"></a>\n",
    "## 6.4 Exercises\n",
    "\n",
    "<a href=\"#toc\">Table of Contents</a>"
   ]
  },
  {
   "cell_type": "markdown",
   "id": "ad3ee0f8",
   "metadata": {},
   "source": [
    "<a id=\"7\"></a>\n",
    "# 7 Linked Lists\n",
    "\n",
    "<a href=\"#toc\">Table of Contents</a>"
   ]
  },
  {
   "cell_type": "markdown",
   "id": "2ba7f50e",
   "metadata": {},
   "source": [
    "<a id=\"7.1\"></a>\n",
    "## 7.1 Singly Linked Lists\n",
    "\n",
    "<a href=\"#toc\">Table of Contents</a>"
   ]
  },
  {
   "cell_type": "markdown",
   "id": "1eaf960f",
   "metadata": {},
   "source": [
    "<a id=\"7.2\"></a>\n",
    "## 7.2 Circularly Linked Lists\n",
    "\n",
    "<a href=\"#toc\">Table of Contents</a>"
   ]
  },
  {
   "cell_type": "markdown",
   "id": "d435a36a",
   "metadata": {},
   "source": [
    "<a id=\"7.3\"></a>\n",
    "## 7.3 Doubly Linked Lists\n",
    "\n",
    "<a href=\"#toc\">Table of Contents</a>"
   ]
  },
  {
   "cell_type": "markdown",
   "id": "34a11529",
   "metadata": {},
   "source": [
    "<a id=\"7.4\"></a>\n",
    "## 7.4 The Positional List ADT\n",
    "\n",
    "<a href=\"#toc\">Table of Contents</a>"
   ]
  },
  {
   "cell_type": "markdown",
   "id": "6704c86a",
   "metadata": {},
   "source": [
    "<a id=\"7.5\"></a>\n",
    "## 7.5 Sorting a Positional List\n",
    "\n",
    "<a href=\"#toc\">Table of Contents</a>"
   ]
  },
  {
   "cell_type": "markdown",
   "id": "fabe56d8",
   "metadata": {},
   "source": [
    "<a id=\"7.6\"></a>\n",
    "## 7.6 Case Study: Maintaining Access Frequencies\n",
    "\n",
    "<a href=\"#toc\">Table of Contents</a>"
   ]
  },
  {
   "cell_type": "markdown",
   "id": "eb759c46",
   "metadata": {},
   "source": [
    "<a id=\"7.7\"></a>\n",
    "## 7.7 Exercises\n",
    "\n",
    "<a href=\"#toc\">Table of Contents</a>"
   ]
  },
  {
   "cell_type": "markdown",
   "id": "5170a847",
   "metadata": {},
   "source": [
    "<a id=\"8\"></a>\n",
    "# 8 Trees\n",
    "\n",
    "<a href=\"#toc\">Table of Contents</a>"
   ]
  },
  {
   "cell_type": "markdown",
   "id": "ec7aae02",
   "metadata": {},
   "source": [
    "<a id=\"8.1\"></a>\n",
    "## 8.1 General Trees\n",
    "\n",
    "<a href=\"#toc\">Table of Contents</a>"
   ]
  },
  {
   "cell_type": "markdown",
   "id": "8399b8d9",
   "metadata": {},
   "source": [
    "<a id=\"8.2\"></a>\n",
    "## 8.2 Binary Trees\n",
    "\n",
    "<a href=\"#toc\">Table of Contents</a>"
   ]
  },
  {
   "cell_type": "markdown",
   "id": "7f25c3b1",
   "metadata": {},
   "source": [
    "<a id=\"8.3\"></a>\n",
    "## 8.3 Implementing Trees\n",
    "\n",
    "<a href=\"#toc\">Table of Contents</a>"
   ]
  },
  {
   "cell_type": "markdown",
   "id": "3257bdf1",
   "metadata": {},
   "source": [
    "<a id=\"8.4\"></a>\n",
    "## 8.4 Tree Traversal Algorithms\n",
    "\n",
    "<a href=\"#toc\">Table of Contents</a>"
   ]
  },
  {
   "cell_type": "markdown",
   "id": "97d14a16",
   "metadata": {},
   "source": [
    "<a id=\"8.5\"></a>\n",
    "## 8.5 Case Study: An Expression Tree\n",
    "\n",
    "<a href=\"#toc\">Table of Contents</a>"
   ]
  },
  {
   "cell_type": "markdown",
   "id": "a3b58dc2",
   "metadata": {},
   "source": [
    "<a id=\"8.6\"></a>\n",
    "## 8.6 Exercises\n",
    "\n",
    "<a href=\"#toc\">Table of Contents</a>"
   ]
  },
  {
   "cell_type": "markdown",
   "id": "ea9ca2ca",
   "metadata": {},
   "source": [
    "<a id=\"9\"></a>\n",
    "# 9 Priority Queues\n",
    "\n",
    "<a href=\"#toc\">Table of Contents</a>"
   ]
  },
  {
   "cell_type": "markdown",
   "id": "5b228a9a",
   "metadata": {},
   "source": [
    "<a id=\"9.1\"></a>\n",
    "## 9.1 The Priority Queue Abstract Data Type\n",
    "\n",
    "<a href=\"#toc\">Table of Contents</a>"
   ]
  },
  {
   "cell_type": "markdown",
   "id": "07fd7297",
   "metadata": {},
   "source": [
    "<a id=\"9.2\"></a>\n",
    "## 9.2 Implementing a Priority Queue\n",
    "\n",
    "<a href=\"#toc\">Table of Contents</a>"
   ]
  },
  {
   "cell_type": "markdown",
   "id": "a41325b2",
   "metadata": {},
   "source": [
    "<a id=\"9.3\"></a>\n",
    "## 9.3 Heaps\n",
    "\n",
    "<a href=\"#toc\">Table of Contents</a>"
   ]
  },
  {
   "cell_type": "markdown",
   "id": "0a8ec5fc",
   "metadata": {},
   "source": [
    "<a id=\"9.4\"></a>\n",
    "## 9.4 Sorting with a Priority Queue\n",
    "\n",
    "<a href=\"#toc\">Table of Contents</a>"
   ]
  },
  {
   "cell_type": "markdown",
   "id": "3471d044",
   "metadata": {},
   "source": [
    "<a id=\"9.5\"></a>\n",
    "## 9.5 Adaptable Priority Queues\n",
    "\n",
    "<a href=\"#toc\">Table of Contents</a>"
   ]
  },
  {
   "cell_type": "markdown",
   "id": "870c8775",
   "metadata": {},
   "source": [
    "<a id=\"9.6\"></a>\n",
    "## 9.6 Exercises\n",
    "\n",
    "<a href=\"#toc\">Table of Contents</a>"
   ]
  },
  {
   "cell_type": "markdown",
   "id": "632d624b",
   "metadata": {},
   "source": [
    "<a id=\"10\"></a>\n",
    "# 10 Maps, Hash Tables, and Skip Lists\n",
    "\n",
    "<a href=\"#toc\">Table of Contents</a>"
   ]
  },
  {
   "cell_type": "markdown",
   "id": "f998ac99",
   "metadata": {},
   "source": [
    "<a id=\"10.1\"></a>\n",
    "## 10.1 Maps and Dictionaries\n",
    "\n",
    "<a href=\"#toc\">Table of Contents</a>"
   ]
  },
  {
   "cell_type": "markdown",
   "id": "85f4bb96",
   "metadata": {},
   "source": [
    "<a id=\"10.2\"></a>\n",
    "## 10.2 Hash Tables\n",
    "\n",
    "<a href=\"#toc\">Table of Contents</a>"
   ]
  },
  {
   "cell_type": "markdown",
   "id": "115d233c",
   "metadata": {},
   "source": [
    "<a id=\"10.3\"></a>\n",
    "## 10.3 Sorted Maps\n",
    "\n",
    "<a href=\"#toc\">Table of Contents</a>"
   ]
  },
  {
   "cell_type": "markdown",
   "id": "43eebbae",
   "metadata": {},
   "source": [
    "<a id=\"10.4\"></a>\n",
    "## 10.4 Skip Lists\n",
    "\n",
    "<a href=\"#toc\">Table of Contents</a>"
   ]
  },
  {
   "cell_type": "markdown",
   "id": "0eac6807",
   "metadata": {},
   "source": [
    "<a id=\"10.5\"></a>\n",
    "## 10.5 Sets, Multisets, and Multimaps\n",
    "\n",
    "<a href=\"#toc\">Table of Contents</a>"
   ]
  },
  {
   "cell_type": "markdown",
   "id": "dc47762c",
   "metadata": {},
   "source": [
    "<a id=\"10.6\"></a>\n",
    "## 10.6 Exercises\n",
    "\n",
    "<a href=\"#toc\">Table of Contents</a>"
   ]
  },
  {
   "cell_type": "markdown",
   "id": "55cd0042",
   "metadata": {},
   "source": [
    "<a id=\"11\"></a>\n",
    "# 11 Search Trees\n",
    "\n",
    "<a href=\"#toc\">Table of Contents</a>"
   ]
  },
  {
   "cell_type": "markdown",
   "id": "95d549d6",
   "metadata": {},
   "source": [
    "<a id=\"11.1\"></a>\n",
    "## 11.1 Binary Search Trees\n",
    "\n",
    "<a href=\"#toc\">Table of Contents</a>"
   ]
  },
  {
   "cell_type": "markdown",
   "id": "063569a2",
   "metadata": {},
   "source": [
    "<a id=\"11.2\"></a>\n",
    "## 11.2 AVL Trees\n",
    "\n",
    "<a href=\"#toc\">Table of Contents</a>"
   ]
  },
  {
   "cell_type": "markdown",
   "id": "203bcf4c",
   "metadata": {},
   "source": [
    "<a id=\"11.3\"></a>\n",
    "## 11.3 Splay Trees\n",
    "\n",
    "<a href=\"#toc\">Table of Contents</a>"
   ]
  },
  {
   "cell_type": "markdown",
   "id": "10fd6191",
   "metadata": {},
   "source": [
    "<a id=\"11.4\"></a>\n",
    "## 11.4 (2,4) Trees\n",
    "\n",
    "<a href=\"#toc\">Table of Contents</a>"
   ]
  },
  {
   "cell_type": "markdown",
   "id": "1c9baded",
   "metadata": {},
   "source": [
    "<a id=\"11.5\"></a>\n",
    "## 11.5 Red-Black Trees\n",
    "\n",
    "<a href=\"#toc\">Table of Contents</a>"
   ]
  },
  {
   "cell_type": "markdown",
   "id": "1c792e32",
   "metadata": {},
   "source": [
    "<a id=\"11.6\"></a>\n",
    "## 11.6 Exercises\n",
    "\n",
    "<a href=\"#toc\">Table of Contents</a>"
   ]
  },
  {
   "cell_type": "markdown",
   "id": "1d0004e2",
   "metadata": {},
   "source": [
    "<a id=\"12\"></a>\n",
    "# 12 Sorting and Selection\n",
    "\n",
    "<a href=\"#toc\">Table of Contents</a>"
   ]
  },
  {
   "cell_type": "markdown",
   "id": "97e70717",
   "metadata": {},
   "source": [
    "<a id=\"12.1\"></a>\n",
    "## 12.1 Why Study Sorting Algorithms?\n",
    "\n",
    "<a href=\"#toc\">Table of Contents</a>"
   ]
  },
  {
   "cell_type": "markdown",
   "id": "e683817e",
   "metadata": {},
   "source": [
    "<a id=\"12.2\"></a>\n",
    "## 12.2 Merge Sort\n",
    "\n",
    "<a href=\"#toc\">Table of Contents</a>"
   ]
  },
  {
   "cell_type": "markdown",
   "id": "6555fba5",
   "metadata": {},
   "source": [
    "<a id=\"12.3\"></a>\n",
    "## 12.3 Quick Sort\n",
    "\n",
    "<a href=\"#toc\">Table of Contents</a>"
   ]
  },
  {
   "cell_type": "markdown",
   "id": "d68f6e89",
   "metadata": {},
   "source": [
    "<a id=\"12.4\"></a>\n",
    "## 12.4 Studying Sorting through an Algorithmic Lens\n",
    "\n",
    "<a href=\"#toc\">Table of Contents</a>"
   ]
  },
  {
   "cell_type": "markdown",
   "id": "208d8c84",
   "metadata": {},
   "source": [
    "<a id=\"12.5\"></a>\n",
    "## 12.5 Comparing Sorting Algorithms\n",
    "\n",
    "<a href=\"#toc\">Table of Contents</a>"
   ]
  },
  {
   "cell_type": "markdown",
   "id": "50e9aa21",
   "metadata": {},
   "source": [
    "<a id=\"12.6\"></a>\n",
    "## 12.6 Python's Built-In Sorting Functions\n",
    "\n",
    "<a href=\"#toc\">Table of Contents</a>"
   ]
  },
  {
   "cell_type": "markdown",
   "id": "fcb41733",
   "metadata": {},
   "source": [
    "<a id=\"12.7\"></a>\n",
    "## 12.7 Selection\n",
    "\n",
    "<a href=\"#toc\">Table of Contents</a>"
   ]
  },
  {
   "cell_type": "markdown",
   "id": "a795fc6d",
   "metadata": {},
   "source": [
    "<a id=\"12.8\"></a>\n",
    "## 12.8 Exercises\n",
    "\n",
    "<a href=\"#toc\">Table of Contents</a>"
   ]
  },
  {
   "cell_type": "markdown",
   "id": "7981b7e8",
   "metadata": {},
   "source": [
    "<a id=\"13\"></a>\n",
    "# 13 Text Processing\n",
    "\n",
    "<a href=\"#toc\">Table of Contents</a>"
   ]
  },
  {
   "cell_type": "markdown",
   "id": "3497a29e",
   "metadata": {},
   "source": [
    "<a id=\"13.1\"></a>\n",
    "## 13.1 Abundance of Digitized Text\n",
    "\n",
    "<a href=\"#toc\">Table of Contents</a>"
   ]
  },
  {
   "cell_type": "markdown",
   "id": "466d7817",
   "metadata": {},
   "source": [
    "<a id=\"13.2\"></a>\n",
    "## 13.2 Pattern-Matching Algorithms\n",
    "\n",
    "<a href=\"#toc\">Table of Contents</a>"
   ]
  },
  {
   "cell_type": "markdown",
   "id": "53ee7808",
   "metadata": {},
   "source": [
    "<a id=\"13.3\"></a>\n",
    "## 13.3 Dynamic Programming\n",
    "\n",
    "<a href=\"#toc\">Table of Contents</a>"
   ]
  },
  {
   "cell_type": "markdown",
   "id": "5d06a4e5",
   "metadata": {},
   "source": [
    "<a id=\"13.4\"></a>\n",
    "## 13.4 Text Compression and the Greedy Method\n",
    "\n",
    "<a href=\"#toc\">Table of Contents</a>"
   ]
  },
  {
   "cell_type": "markdown",
   "id": "27603412",
   "metadata": {},
   "source": [
    "<a id=\"13.5\"></a>\n",
    "## 13.5 Tries\n",
    "\n",
    "<a href=\"#toc\">Table of Contents</a>"
   ]
  },
  {
   "cell_type": "markdown",
   "id": "5ffb729b",
   "metadata": {},
   "source": [
    "<a id=\"13.6\"></a>\n",
    "## 13.6 Exercises\n",
    "\n",
    "<a href=\"#toc\">Table of Contents</a>"
   ]
  },
  {
   "cell_type": "markdown",
   "id": "be7ec6a8",
   "metadata": {},
   "source": [
    "<a id=\"14\"></a>\n",
    "# 14 Graph Algorithms\n",
    "\n",
    "<a href=\"#toc\">Table of Contents</a>"
   ]
  },
  {
   "cell_type": "markdown",
   "id": "a370ae6a",
   "metadata": {},
   "source": [
    "<a id=\"14.1\"></a>\n",
    "## 14.1 Graphs\n",
    "\n",
    "<a href=\"#toc\">Table of Contents</a>"
   ]
  },
  {
   "cell_type": "markdown",
   "id": "f9c1415d",
   "metadata": {},
   "source": [
    "<a id=\"14.2\"></a>\n",
    "## 14.2 Data Structures for Graphs\n",
    "\n",
    "<a href=\"#toc\">Table of Contents</a>"
   ]
  },
  {
   "cell_type": "markdown",
   "id": "16479dec",
   "metadata": {},
   "source": [
    "<a id=\"14.3\"></a>\n",
    "## 14.3 Graph Traversals\n",
    "\n",
    "<a href=\"#toc\">Table of Contents</a>"
   ]
  },
  {
   "cell_type": "markdown",
   "id": "d5f1ed09",
   "metadata": {},
   "source": [
    "<a id=\"14.4\"></a>\n",
    "## 14.4 Transitive Closure\n",
    "\n",
    "<a href=\"#toc\">Table of Contents</a>"
   ]
  },
  {
   "cell_type": "markdown",
   "id": "fa272df7",
   "metadata": {},
   "source": [
    "<a id=\"14.5\"></a>\n",
    "## 14.5 Directed Acyclic Graphs\n",
    "\n",
    "<a href=\"#toc\">Table of Contents</a>"
   ]
  },
  {
   "cell_type": "markdown",
   "id": "8aa12b4f",
   "metadata": {},
   "source": [
    "<a id=\"14.6\"></a>\n",
    "## 14.6 Shortest Paths\n",
    "\n",
    "<a href=\"#toc\">Table of Contents</a>"
   ]
  },
  {
   "cell_type": "markdown",
   "id": "2dfe40f0",
   "metadata": {},
   "source": [
    "<a id=\"14.7\"></a>\n",
    "## 14.7 Minimum Spanning Trees\n",
    "\n",
    "<a href=\"#toc\">Table of Contents</a>"
   ]
  },
  {
   "cell_type": "markdown",
   "id": "d60c56c0",
   "metadata": {},
   "source": [
    "<a id=\"14.8\"></a>\n",
    "## 14.8 Exercises\n",
    "\n",
    "<a href=\"#toc\">Table of Contents</a>"
   ]
  },
  {
   "cell_type": "markdown",
   "id": "63a9f14a",
   "metadata": {},
   "source": [
    "<a id=\"15\"></a>\n",
    "# 15 Memory Management and B-Trees\n",
    "\n",
    "<a href=\"#toc\">Table of Contents</a>"
   ]
  },
  {
   "cell_type": "markdown",
   "id": "5b7f97fa",
   "metadata": {},
   "source": [
    "<a id=\"15.1\"></a>\n",
    "## 15.1 Memory Management\n",
    "\n",
    "<a href=\"#toc\">Table of Contents</a>"
   ]
  },
  {
   "cell_type": "markdown",
   "id": "f431c1d5",
   "metadata": {},
   "source": [
    "<a id=\"15.2\"></a>\n",
    "## 15.2 Memory Hierachies and Caching\n",
    "\n",
    "<a href=\"#toc\">Table of Contents</a>"
   ]
  },
  {
   "cell_type": "markdown",
   "id": "5faaf0b3",
   "metadata": {},
   "source": [
    "<a id=\"15.3\"></a>\n",
    "## 15.3 External Searching and B-Trees\n",
    "\n",
    "<a href=\"#toc\">Table of Contents</a>"
   ]
  },
  {
   "cell_type": "markdown",
   "id": "3c096f11",
   "metadata": {},
   "source": [
    "<a id=\"15.4\"></a>\n",
    "## 15.4 External-Memory Sorting\n",
    "\n",
    "<a href=\"#toc\">Table of Contents</a>"
   ]
  },
  {
   "cell_type": "markdown",
   "id": "7b1df9c0",
   "metadata": {},
   "source": [
    "<a id=\"15.5\"></a>\n",
    "## 15.5 Exercises\n",
    "\n",
    "<a href=\"#toc\">Table of Contents</a>"
   ]
  }
 ],
 "metadata": {
  "interpreter": {
   "hash": "916dbcbb3f70747c44a77c7bcd40155683ae19c65e1c03b4aa3499c5328201f1"
  },
  "kernelspec": {
   "display_name": "Python 3 (ipykernel)",
   "language": "python",
   "name": "python3"
  },
  "language_info": {
   "codemirror_mode": {
    "name": "ipython",
    "version": 3
   },
   "file_extension": ".py",
   "mimetype": "text/x-python",
   "name": "python",
   "nbconvert_exporter": "python",
   "pygments_lexer": "ipython3",
   "version": "3.10.4"
  },
  "toc-autonumbering": false,
  "toc-showtags": false
 },
 "nbformat": 4,
 "nbformat_minor": 5
}
