{
 "cells": [
  {
   "cell_type": "markdown",
   "id": "f4cabed6-723c-4f1f-93ae-13bfcf4826d0",
   "metadata": {},
   "source": [
    "<a id=\"top\"></a>\n",
    "# Data Structures and Algorithms in Python\n",
    "\n",
    "by Goodrich, Tamassia, Goldwasser\n",
    "\n",
    "[Buy it on Amazon](https://www.amazon.com/Structures-Algorithms-Python-Michael-Goodrich-ebook/dp/B00CTZ290I) or elsewhere."
   ]
  },
  {
   "cell_type": "markdown",
   "id": "a47ca9df-f4e3-4d86-b75e-56afd3a6e5cd",
   "metadata": {},
   "source": [
    "---\n",
    "\n",
    "## Navigating\n",
    "\n",
    "- Chapters and sections are anchored using html `<a>` tags for internal notebook navigation\n",
    "- Use hyperlinks to navigate around the notebook, or\n",
    "- Expand the TOC on the sidebar and use it that way."
   ]
  },
  {
   "cell_type": "markdown",
   "id": "15cdb903-40a0-416f-89ee-76186a774d86",
   "metadata": {},
   "source": [
    "---\n",
    "\n",
    "## Checking off completed work:\n",
    "1. `double-click` or `Enter` in TOC cell\n",
    "2. Find completed chapter and enter `&check;`, which renders as &check;\n",
    "3. Run cell\n",
    "\n",
    "Feel free to reformat using the `- []`, `- [x]` style for checkboxes if you prefer\n",
    "\n",
    "---"
   ]
  },
  {
   "cell_type": "markdown",
   "id": "286cb6b8-41ff-4bd1-8747-4b253ff7192f",
   "metadata": {},
   "source": [
    "<a id=\"toc\"></a>\n",
    "# Table of Contents"
   ]
  },
  {
   "cell_type": "markdown",
   "id": "2ebe71f3",
   "metadata": {},
   "source": [
    "<ol>\n",
    "    <li type=1>\n",
    "        <a href=\"#1\">Python Primer</a>\n",
    "        <ol>\n",
    "            <li type=1>\n",
    "                <a href=\"#1.1\">Python Overview</a>\n",
    "            </li>\n",
    "            <li type=1>\n",
    "                <a href=\"#1.2\">Object in Python</a>\n",
    "            </li>\n",
    "            <li type=1>\n",
    "                <a href=\"#1.3\">Expressions, Operators, and Precedence</a>\n",
    "            </li>\n",
    "            <li type=1>\n",
    "                <a href=\"#1.4\">Control Flow</a>\n",
    "            </li>\n",
    "            <li type=1>\n",
    "                <a href=\"#1.5\">Functions</a>\n",
    "            </li>\n",
    "            <li type=1>\n",
    "                <a href=\"#1.6\">Simple I/O</a>\n",
    "            </li>\n",
    "            <li type=1>\n",
    "                <a href=\"#1.7\">Exception Handling</a>\n",
    "            </li>\n",
    "            <li type=1>\n",
    "                <a href=\"#1.8\">Iterators and Generators</a>\n",
    "            </li>\n",
    "            <li type=1>\n",
    "                <a href=\"#1.9\">Additional Python Conveniences</a>\n",
    "            </li>\n",
    "            <li type=1>\n",
    "                <a href=\"#1.10\">Scopes and Namespaces</a>\n",
    "            </li>\n",
    "            <li type=1>\n",
    "                <a href=\"#1.11\">Modules and the Import Statement</a>\n",
    "            </li>\n",
    "            <li type=1>\n",
    "                <a href=\"#1.12\">Exercises</a>\n",
    "            </li>\n",
    "        </ol>\n",
    "    </li>\n",
    "    <li type=1>\n",
    "        <a href=\"#2\">Object-Oriented Programming</a>\n",
    "        <ol>\n",
    "            <li type=1>\n",
    "                <a href=\"#2.1\">Goals, Principles, and Patterns</a>\n",
    "            </li>\n",
    "            <li type=1>\n",
    "                <a href=\"#2.2\">Software Development</a>\n",
    "            </li>\n",
    "            <li type=1>\n",
    "                <a href=\"#2.3\">Class Definitions</a>\n",
    "            </li>\n",
    "            <li type=1>\n",
    "                <a href=\"#2.4\">Inheritance</a>\n",
    "            </li>\n",
    "            <li type=1>\n",
    "                <a href=\"#2.5\">Namespaces and Object-Orientation</a>\n",
    "            </li>\n",
    "            <li type=1>\n",
    "                <a href=\"#2.6\">Shallow and Deep Copying</a>\n",
    "            </li>\n",
    "            <li type=1>\n",
    "                <a href=\"#2.7\">Exercises</a>\n",
    "            </li>\n",
    "        </ol>\n",
    "    </li>\n",
    "    <li type=1>\n",
    "        <a href=\"#3\">Algorithm Analysis</a>\n",
    "        <ol>\n",
    "            <li type=1>\n",
    "                <a href=\"#3.1\">Experimental Studies</a>\n",
    "            </li>\n",
    "            <li type=1>\n",
    "                <a href=\"#3.2\">The 7 Functions Used in This Book</a>\n",
    "            </li>\n",
    "            <li type=1>\n",
    "                <a href=\"#3.3\">Asymptotic Analysis</a>\n",
    "            </li>\n",
    "            <li type=1>\n",
    "                <a href=\"#3.4\">Simple Justification Techniques</a>\n",
    "            </li>\n",
    "            <li type=1>\n",
    "                <a href=\"#3.5\">Exercises</a>\n",
    "            </li>\n",
    "        </ol>\n",
    "    </li>\n",
    "    <li type=1>\n",
    "        <a href=\"#4\">Recursion</a>\n",
    "        <ol>\n",
    "            <li type=1>\n",
    "                <a href=\"#4.1\">Illustrative Examples</a>\n",
    "            </li>\n",
    "            <li type=1>\n",
    "                <a href=\"#4.2\">Analyzing Recursive Algorithms</a>\n",
    "            </li>\n",
    "            <li type=1>\n",
    "                <a href=\"#4.3\">Recursion Run Amok</a>\n",
    "            </li>\n",
    "            <li type=1>\n",
    "                <a href=\"#4.4\">Further Examples of Recursion</a>\n",
    "            </li>\n",
    "            <li type=1>\n",
    "                <a href=\"#4.5\">Designing Recursive Algorithms</a>\n",
    "            </li>\n",
    "            <li type=1>\n",
    "                <a href=\"#4.6\">Eliminating Tail Recursion</a>\n",
    "            </li>\n",
    "            <li type=1>\n",
    "                <a href=\"#4.7\">Exercises</a>\n",
    "            </li>\n",
    "        </ol>\n",
    "    </li>\n",
    "    <li type=1>\n",
    "        <a href=\"#5\">Array-Based Sequences</a>\n",
    "        <ol>\n",
    "            <li type=1>\n",
    "                <a href=\"#5.1\">Python's Sequence Types</a>\n",
    "            </li>\n",
    "            <li type=1>\n",
    "                <a href=\"#5.2\">Low-Level Arrays</a>\n",
    "            </li>\n",
    "            <li type=1>\n",
    "                <a href=\"#5.3\">Dynamic Arrays and Amortization</a>\n",
    "            </li>\n",
    "            <li type=1>\n",
    "                <a href=\"#5.4\">Efficiency of Python's Sequence Types</a>\n",
    "            </li>\n",
    "            <li type=1>\n",
    "                <a href=\"#5.5\">Using Array-Based Sequences</a>\n",
    "            </li>\n",
    "            <li type=1>\n",
    "                <a href=\"#5.6\">Multidimensional Data Sets</a>\n",
    "            </li>\n",
    "            <li type=1>\n",
    "                <a href=\"#5.7\">Exercises</a>\n",
    "            </li>\n",
    "        </ol>\n",
    "    </li>\n",
    "    <li type=1>\n",
    "        <a href=\"#6\">Stacks, Queues, and Deques</a>\n",
    "        <ol>\n",
    "            <li type=1>\n",
    "                <a href=\"#6.1\">Stacks</a>\n",
    "            </li>\n",
    "            <li type=1>\n",
    "                <a href=\"#6.2\">Queues</a>\n",
    "            </li>\n",
    "            <li type=1>\n",
    "                <a href=\"#6.3\">Double-Ended Queues</a>\n",
    "            </li>\n",
    "            <li type=1>\n",
    "                <a href=\"#6.4\">Exercises</a>\n",
    "            </li>\n",
    "        </ol>\n",
    "    </li>\n",
    "    <li type=1>\n",
    "        <a href=\"#7\">Linked Lists</a>\n",
    "        <ol>\n",
    "            <li type=1>\n",
    "                <a href=\"#7.1\">Singly Linked Lists</a>\n",
    "            </li>\n",
    "            <li type=1>\n",
    "                <a href=\"#7.2\">Circularly Linked Lists</a>\n",
    "            </li>\n",
    "            <li type=1>\n",
    "                <a href=\"#7.3\">Doubly Linked Lists</a>\n",
    "            </li>\n",
    "            <li type=1>\n",
    "                <a href=\"#7.4\">The Positional List ADT</a>\n",
    "            </li>\n",
    "            <li type=1>\n",
    "                <a href=\"#7.5\">Sorting a Positional List</a>\n",
    "            </li>\n",
    "            <li type=1>\n",
    "                <a href=\"#7.6\">Case Study: Maintaining Access Frequencies</a>\n",
    "            </li>\n",
    "            <li type=1>\n",
    "                <a href=\"#7.7\">Exercises</a>\n",
    "            </li>\n",
    "        </ol>\n",
    "    </li>\n",
    "    <li type=1>\n",
    "        <a href=\"#8\">Trees</a>\n",
    "        <ol>\n",
    "            <li type=1>\n",
    "                <a href=\"#8.1\">General Trees</a>\n",
    "            </li>\n",
    "            <li type=1>\n",
    "                <a href=\"#8.2\">Binary Trees</a>\n",
    "            </li>\n",
    "            <li type=1>\n",
    "                <a href=\"#8.3\">Implementing Trees</a>\n",
    "            </li>\n",
    "            <li type=1>\n",
    "                <a href=\"#8.4\">Tree Traversal Algorithms</a>\n",
    "            </li>\n",
    "            <li type=1>\n",
    "                <a href=\"#8.5\">Case Study: An Expression Tree</a>\n",
    "            </li>\n",
    "            <li type=1>\n",
    "                <a href=\"#8.6\">Exercises</a>\n",
    "            </li>\n",
    "        </ol>\n",
    "    </li>\n",
    "    <li type=1>\n",
    "        <a href=\"#9\">Priority Queues</a>\n",
    "        <ol>\n",
    "            <li type=1>\n",
    "                <a href=\"#9.1\">The Priority Queue Abstract Data Type</a>\n",
    "            </li>\n",
    "            <li type=1>\n",
    "                <a href=\"#9.2\">Implementing a Priority Queue</a>\n",
    "            </li>\n",
    "            <li type=1>\n",
    "                <a href=\"#9.3\">Heaps</a>\n",
    "            </li>\n",
    "            <li type=1>\n",
    "                <a href=\"#9.4\">Sorting with a Priority Queue</a>\n",
    "            </li>\n",
    "            <li type=1>\n",
    "                <a href=\"#9.5\">Adaptable Priority Queues</a>\n",
    "            </li>\n",
    "            <li type=1>\n",
    "                <a href=\"#9.6\">Exercises</a>\n",
    "            </li>\n",
    "        </ol>\n",
    "    </li>\n",
    "    <li type=1>\n",
    "        <a href=\"#10\">Maps, Hash Tables, and Skip Lists</a>\n",
    "        <ol>\n",
    "            <li type=1>\n",
    "                <a href=\"#10.1\">Maps and Dictionaries</a>\n",
    "            </li>\n",
    "            <li type=1>\n",
    "                <a href=\"#10.2\">Hash Tables</a>\n",
    "            </li>\n",
    "            <li type=1>\n",
    "                <a href=\"#10.3\">Sorted Maps</a>\n",
    "            </li>\n",
    "            <li type=1>\n",
    "                <a href=\"#10.4\">Skip Lists</a>\n",
    "            </li>\n",
    "            <li type=1>\n",
    "                <a href=\"#10.5\">Sets, Multisets, and Multimaps</a>\n",
    "            </li>\n",
    "            <li type=1>\n",
    "                <a href=\"#10.6\">Exercises</a>\n",
    "            </li>\n",
    "        </ol>\n",
    "    </li>\n",
    "    <li type=1>\n",
    "        <a href=\"#11\">Search Trees</a>\n",
    "        <ol>\n",
    "            <li type=1>\n",
    "                <a href=\"#11.1\">Binary Search Trees</a>\n",
    "            </li>\n",
    "            <li type=1>\n",
    "                <a href=\"#11.2\">AVL Trees</a>\n",
    "            </li>\n",
    "            <li type=1>\n",
    "                <a href=\"#11.3\">Splay Trees</a>\n",
    "            </li>\n",
    "            <li type=1>\n",
    "                <a href=\"#11.4\">(2,4) Trees</a>\n",
    "            </li>\n",
    "            <li type=1>\n",
    "                <a href=\"#11.5\">Red-Black Trees</a>\n",
    "            </li>\n",
    "            <li type=1>\n",
    "                <a href=\"#11.6\">Exercises</a>\n",
    "            </li>\n",
    "        </ol>\n",
    "    </li>\n",
    "    <li type=1>\n",
    "        <a href=\"#12\">Sorting and Selection</a>\n",
    "        <ol>\n",
    "            <li type=1>\n",
    "                <a href=\"#12.1\">Why Study Sorting Algorithms?</a>\n",
    "            </li>\n",
    "            <li type=1>\n",
    "                <a href=\"#12.2\">Merge Sort</a>\n",
    "            </li>\n",
    "            <li type=1>\n",
    "                <a href=\"#12.3\">Quick Sort</a>\n",
    "            </li>\n",
    "            <li type=1>\n",
    "                <a href=\"#12.4\">Studying Sorting through an Algorithmic Lens</a>\n",
    "            </li>\n",
    "            <li type=1>\n",
    "                <a href=\"#12.5\">Comparing Sorting Algorithms</a>\n",
    "            </li>\n",
    "            <li type=1>\n",
    "                <a href=\"#12.6\">Python's Built-In Sorting Functions</a>\n",
    "            </li>\n",
    "            <li type=1>\n",
    "                <a href=\"#12.7\">Selection</a>\n",
    "            </li>\n",
    "            <li type=1>\n",
    "                <a href=\"#12.8\">Exercises</a>\n",
    "            </li>\n",
    "        </ol>\n",
    "    </li>\n",
    "    <li type=1>\n",
    "        <a href=\"#13\">Text Processing</a>\n",
    "        <ol>\n",
    "            <li type=1>\n",
    "                <a href=\"#13.1\">Abundance of Digitized Text</a>\n",
    "            </li>\n",
    "            <li type=1>\n",
    "                <a href=\"#13.2\">Pattern-Matching Algorithms</a>\n",
    "            </li>\n",
    "            <li type=1>\n",
    "                <a href=\"#13.3\">Dynamic Programming</a>\n",
    "            </li>\n",
    "            <li type=1>\n",
    "                <a href=\"#13.4\">Text Compression and the Greedy Method</a>\n",
    "            </li>\n",
    "            <li type=1>\n",
    "                <a href=\"#13.5\">Tries</a>\n",
    "            </li>\n",
    "            <li type=1>\n",
    "                <a href=\"#13.6\">Exercises</a>\n",
    "            </li>\n",
    "        </ol>\n",
    "    </li>\n",
    "    <li type=1>\n",
    "        <a href=\"#14\">Graph Algorithms</a>\n",
    "        <ol>\n",
    "            <li type=1>\n",
    "                <a href=\"#14.1\">Graphs</a>\n",
    "            </li>\n",
    "            <li type=1>\n",
    "                <a href=\"#14.2\">Data Structures for Graphs</a>\n",
    "            </li>\n",
    "            <li type=1>\n",
    "                <a href=\"#14.3\">Graph Traversals</a>\n",
    "            </li>\n",
    "            <li type=1>\n",
    "                <a href=\"#14.4\">Transitive Closure</a>\n",
    "            </li>\n",
    "            <li type=1>\n",
    "                <a href=\"#14.5\">Directed Acyclic Graphs</a>\n",
    "            </li>\n",
    "            <li type=1>\n",
    "                <a href=\"#14.6\">Shortest Paths</a>\n",
    "            </li>\n",
    "            <li type=1>\n",
    "                <a href=\"#14.7\">Minimum Spanning Trees</a>\n",
    "            </li>\n",
    "            <li type=1>\n",
    "                <a href=\"#14.8\">Exercises</a>\n",
    "            </li>\n",
    "        </ol>\n",
    "    </li>\n",
    "    <li type=1>\n",
    "        <a href=\"#15\">Memory Management and B-Trees</a>\n",
    "        <ol>\n",
    "            <li type=1>\n",
    "                <a href=\"#15.1\">Memory Management</a>\n",
    "            </li>\n",
    "            <li type=1>\n",
    "                <a href=\"#15.2\">Memory Hierachies and Caching</a>\n",
    "            </li>\n",
    "            <li type=1>\n",
    "                <a href=\"#15.3\">External Searching and B-Trees</a>\n",
    "            </li>\n",
    "            <li type=1>\n",
    "                <a href=\"#15.4\">External-Memory Sorting</a>\n",
    "            </li>\n",
    "            <li type=1>\n",
    "                <a href=\"#15.5\">Exercises</a>\n",
    "            </li>\n",
    "        </ol>\n",
    "    </li>\n",
    "</ol>"
   ]
  },
  {
   "cell_type": "markdown",
   "id": "aaa2f54c",
   "metadata": {},
   "source": [
    "<a id=\"1\"></a>\n",
    "# 1 Python Primer\n",
    "\n",
    "<a href=\"#toc\">Table of Contents</a>"
   ]
  },
  {
   "cell_type": "markdown",
   "id": "fe7b4137",
   "metadata": {},
   "source": [
    "<a id=\"1.1\"></a>\n",
    "## 1.1 Python Overview\n",
    "\n",
    "<a href=\"#toc\">Table of Contents</a>"
   ]
  },
  {
   "cell_type": "markdown",
   "id": "320d1e37",
   "metadata": {},
   "source": [
    "<a id=\"1.2\"></a>\n",
    "## 1.2 Object in Python\n",
    "\n",
    "<a href=\"#toc\">Table of Contents</a>"
   ]
  },
  {
   "cell_type": "markdown",
   "id": "138a3c05",
   "metadata": {},
   "source": [
    "<a id=\"1.3\"></a>\n",
    "## 1.3 Expressions, Operators, and Precedence\n",
    "\n",
    "<a href=\"#toc\">Table of Contents</a>"
   ]
  },
  {
   "cell_type": "markdown",
   "id": "d7ba3f1f",
   "metadata": {},
   "source": [
    "<a id=\"1.4\"></a>\n",
    "## 1.4 Control Flow\n",
    "\n",
    "<a href=\"#toc\">Table of Contents</a>"
   ]
  },
  {
   "cell_type": "markdown",
   "id": "662fca6f",
   "metadata": {},
   "source": [
    "<a id=\"1.5\"></a>\n",
    "## 1.5 Functions\n",
    "\n",
    "<a href=\"#toc\">Table of Contents</a>"
   ]
  },
  {
   "cell_type": "markdown",
   "id": "cb965394",
   "metadata": {},
   "source": [
    "<a id=\"1.6\"></a>\n",
    "## 1.6 Simple I/O\n",
    "\n",
    "<a href=\"#toc\">Table of Contents</a>"
   ]
  },
  {
   "cell_type": "markdown",
   "id": "a1bb9213",
   "metadata": {},
   "source": [
    "<a id=\"1.7\"></a>\n",
    "## 1.7 Exception Handling\n",
    "\n",
    "<a href=\"#toc\">Table of Contents</a>"
   ]
  },
  {
   "cell_type": "markdown",
   "id": "2a6b32f7",
   "metadata": {},
   "source": [
    "<a id=\"1.8\"></a>\n",
    "## 1.8 Iterators and Generators\n",
    "\n",
    "<a href=\"#toc\">Table of Contents</a>"
   ]
  },
  {
   "cell_type": "markdown",
   "id": "f338c26a",
   "metadata": {},
   "source": [
    "<a id=\"1.9\"></a>\n",
    "## 1.9 Additional Python Conveniences\n",
    "\n",
    "<a href=\"#toc\">Table of Contents</a>"
   ]
  },
  {
   "cell_type": "markdown",
   "id": "9f42a243",
   "metadata": {},
   "source": [
    "<a id=\"1.10\"></a>\n",
    "## 1.10 Scopes and Namespaces\n",
    "\n",
    "<a href=\"#toc\">Table of Contents</a>"
   ]
  },
  {
   "cell_type": "markdown",
   "id": "00429241",
   "metadata": {},
   "source": [
    "<a id=\"1.11\"></a>\n",
    "## 1.11 Modules and the Import Statement\n",
    "\n",
    "<a href=\"#toc\">Table of Contents</a>"
   ]
  },
  {
   "cell_type": "markdown",
   "id": "436d343e",
   "metadata": {},
   "source": [
    "<a id=\"1.12\"></a>\n",
    "## 1.12 Exercises\n",
    "\n",
    "<a href=\"#toc\">Table of Contents</a>"
   ]
  },
  {
   "cell_type": "markdown",
   "id": "d2bed2d0",
   "metadata": {},
   "source": [
    "<a id=\"2\"></a>\n",
    "# 2 Object-Oriented Programming\n",
    "\n",
    "<a href=\"#toc\">Table of Contents</a>"
   ]
  },
  {
   "cell_type": "markdown",
   "id": "b80e9533",
   "metadata": {},
   "source": [
    "<a id=\"2.1\"></a>\n",
    "## 2.1 Goals, Principles, and Patterns\n",
    "\n",
    "<a href=\"#toc\">Table of Contents</a>"
   ]
  },
  {
   "cell_type": "markdown",
   "id": "da7f0806",
   "metadata": {},
   "source": [
    "<a id=\"2.2\"></a>\n",
    "## 2.2 Software Development\n",
    "\n",
    "<a href=\"#toc\">Table of Contents</a>"
   ]
  },
  {
   "cell_type": "markdown",
   "id": "dae665df",
   "metadata": {},
   "source": [
    "<a id=\"2.3\"></a>\n",
    "## 2.3 Class Definitions\n",
    "\n",
    "<a href=\"#toc\">Table of Contents</a>"
   ]
  },
  {
   "cell_type": "markdown",
   "id": "b7ba4b1c",
   "metadata": {},
   "source": [
    "<a id=\"2.4\"></a>\n",
    "## 2.4 Inheritance\n",
    "\n",
    "<a href=\"#toc\">Table of Contents</a>"
   ]
  },
  {
   "cell_type": "markdown",
   "id": "8d2f449a",
   "metadata": {},
   "source": [
    "<a id=\"2.5\"></a>\n",
    "## 2.5 Namespaces and Object-Orientation\n",
    "\n",
    "<a href=\"#toc\">Table of Contents</a>"
   ]
  },
  {
   "cell_type": "markdown",
   "id": "d6c0638e",
   "metadata": {},
   "source": [
    "<a id=\"2.6\"></a>\n",
    "## 2.6 Shallow and Deep Copying\n",
    "\n",
    "<a href=\"#toc\">Table of Contents</a>"
   ]
  },
  {
   "cell_type": "markdown",
   "id": "3ea15209",
   "metadata": {},
   "source": [
    "<a id=\"2.7\"></a>\n",
    "## 2.7 Exercises\n",
    "\n",
    "<a href=\"#toc\">Table of Contents</a>"
   ]
  },
  {
   "cell_type": "markdown",
   "id": "eca1994d",
   "metadata": {},
   "source": [
    "<a id=\"3\"></a>\n",
    "# 3 Algorithm Analysis\n",
    "\n",
    "<a href=\"#toc\">Table of Contents</a>"
   ]
  },
  {
   "cell_type": "markdown",
   "id": "cb5a699b",
   "metadata": {},
   "source": [
    "<a id=\"3.1\"></a>\n",
    "## 3.1 Experimental Studies\n",
    "\n",
    "<a href=\"#toc\">Table of Contents</a>"
   ]
  },
  {
   "cell_type": "markdown",
   "id": "ad801f6d",
   "metadata": {},
   "source": [
    "<a id=\"3.2\"></a>\n",
    "## 3.2 The 7 Functions Used in This Book\n",
    "\n",
    "<a href=\"#toc\">Table of Contents</a>"
   ]
  },
  {
   "cell_type": "markdown",
   "id": "4971a5b7",
   "metadata": {},
   "source": [
    "<a id=\"3.3\"></a>\n",
    "## 3.3 Asymptotic Analysis\n",
    "\n",
    "<a href=\"#toc\">Table of Contents</a>"
   ]
  },
  {
   "cell_type": "markdown",
   "id": "65e18605",
   "metadata": {},
   "source": [
    "<a id=\"3.4\"></a>\n",
    "## 3.4 Simple Justification Techniques\n",
    "\n",
    "<a href=\"#toc\">Table of Contents</a>"
   ]
  },
  {
   "cell_type": "markdown",
   "id": "0ee0dbd9",
   "metadata": {},
   "source": [
    "<a id=\"3.5\"></a>\n",
    "## 3.5 Exercises\n",
    "\n",
    "<a href=\"#toc\">Table of Contents</a>"
   ]
  },
  {
   "cell_type": "markdown",
   "id": "f43dec33",
   "metadata": {},
   "source": [
    "<a id=\"4\"></a>\n",
    "# 4 Recursion\n",
    "\n",
    "<a href=\"#toc\">Table of Contents</a>"
   ]
  },
  {
   "cell_type": "markdown",
   "id": "5fb0f8b8",
   "metadata": {},
   "source": [
    "<a id=\"4.1\"></a>\n",
    "## 4.1 Illustrative Examples\n",
    "\n",
    "<a href=\"#toc\">Table of Contents</a>"
   ]
  },
  {
   "cell_type": "markdown",
   "id": "5b61d525",
   "metadata": {},
   "source": [
    "<a id=\"4.2\"></a>\n",
    "## 4.2 Analyzing Recursive Algorithms\n",
    "\n",
    "<a href=\"#toc\">Table of Contents</a>"
   ]
  },
  {
   "cell_type": "markdown",
   "id": "472cf392",
   "metadata": {},
   "source": [
    "<a id=\"4.3\"></a>\n",
    "## 4.3 Recursion Run Amok\n",
    "\n",
    "<a href=\"#toc\">Table of Contents</a>"
   ]
  },
  {
   "cell_type": "markdown",
   "id": "c9a8fcb8",
   "metadata": {},
   "source": [
    "<a id=\"4.4\"></a>\n",
    "## 4.4 Further Examples of Recursion\n",
    "\n",
    "<a href=\"#toc\">Table of Contents</a>"
   ]
  },
  {
   "cell_type": "markdown",
   "id": "bea5275f",
   "metadata": {},
   "source": [
    "<a id=\"4.5\"></a>\n",
    "## 4.5 Designing Recursive Algorithms\n",
    "\n",
    "<a href=\"#toc\">Table of Contents</a>"
   ]
  },
  {
   "cell_type": "markdown",
   "id": "b7fb62bf",
   "metadata": {},
   "source": [
    "<a id=\"4.6\"></a>\n",
    "## 4.6 Eliminating Tail Recursion\n",
    "\n",
    "<a href=\"#toc\">Table of Contents</a>"
   ]
  },
  {
   "cell_type": "markdown",
   "id": "73c20d78",
   "metadata": {},
   "source": [
    "<a id=\"4.7\"></a>\n",
    "## 4.7 Exercises\n",
    "\n",
    "<a href=\"#toc\">Table of Contents</a>"
   ]
  },
  {
   "cell_type": "markdown",
   "id": "731c022f",
   "metadata": {},
   "source": [
    "<a id=\"5\"></a>\n",
    "# 5 Array-Based Sequences\n",
    "\n",
    "<a href=\"#toc\">Table of Contents</a>"
   ]
  },
  {
   "cell_type": "markdown",
   "id": "78d0cbb5",
   "metadata": {},
   "source": [
    "<a id=\"5.1\"></a>\n",
    "## 5.1 Python's Sequence Types\n",
    "\n",
    "<a href=\"#toc\">Table of Contents</a>"
   ]
  },
  {
   "cell_type": "markdown",
   "id": "6e3ad970",
   "metadata": {},
   "source": [
    "<a id=\"5.2\"></a>\n",
    "## 5.2 Low-Level Arrays\n",
    "\n",
    "<a href=\"#toc\">Table of Contents</a>"
   ]
  },
  {
   "cell_type": "markdown",
   "id": "30e42405",
   "metadata": {},
   "source": [
    "<a id=\"5.3\"></a>\n",
    "## 5.3 Dynamic Arrays and Amortization\n",
    "\n",
    "<a href=\"#toc\">Table of Contents</a>"
   ]
  },
  {
   "cell_type": "markdown",
   "id": "7534ee27",
   "metadata": {},
   "source": [
    "<a id=\"5.4\"></a>\n",
    "## 5.4 Efficiency of Python's Sequence Types\n",
    "\n",
    "<a href=\"#toc\">Table of Contents</a>"
   ]
  },
  {
   "cell_type": "markdown",
   "id": "0b24c6eb",
   "metadata": {},
   "source": [
    "<a id=\"5.5\"></a>\n",
    "## 5.5 Using Array-Based Sequences\n",
    "\n",
    "<a href=\"#toc\">Table of Contents</a>"
   ]
  },
  {
   "cell_type": "markdown",
   "id": "a33613c3",
   "metadata": {},
   "source": [
    "<a id=\"5.6\"></a>\n",
    "## 5.6 Multidimensional Data Sets\n",
    "\n",
    "<a href=\"#toc\">Table of Contents</a>"
   ]
  },
  {
   "cell_type": "markdown",
   "id": "16aa0bf3",
   "metadata": {},
   "source": [
    "<a id=\"5.7\"></a>\n",
    "## 5.7 Exercises\n",
    "\n",
    "<a href=\"#toc\">Table of Contents</a>"
   ]
  },
  {
   "cell_type": "markdown",
   "id": "15691bc2",
   "metadata": {},
   "source": [
    "<a id=\"6\"></a>\n",
    "# 6 Stacks, Queues, and Deques\n",
    "\n",
    "<a href=\"#toc\">Table of Contents</a>"
   ]
  },
  {
   "cell_type": "markdown",
   "id": "420cd8a2",
   "metadata": {},
   "source": [
    "<a id=\"6.1\"></a>\n",
    "## 6.1 Stacks\n",
    "\n",
    "<a href=\"#toc\">Table of Contents</a>"
   ]
  },
  {
   "cell_type": "markdown",
   "id": "56897e9d",
   "metadata": {},
   "source": [
    "<a id=\"6.2\"></a>\n",
    "## 6.2 Queues\n",
    "\n",
    "<a href=\"#toc\">Table of Contents</a>"
   ]
  },
  {
   "cell_type": "markdown",
   "id": "a40a592d",
   "metadata": {},
   "source": [
    "<a id=\"6.3\"></a>\n",
    "## 6.3 Double-Ended Queues\n",
    "\n",
    "<a href=\"#toc\">Table of Contents</a>"
   ]
  },
  {
   "cell_type": "markdown",
   "id": "0ad54fe2",
   "metadata": {},
   "source": [
    "<a id=\"6.4\"></a>\n",
    "## 6.4 Exercises\n",
    "\n",
    "<a href=\"#toc\">Table of Contents</a>"
   ]
  },
  {
   "cell_type": "markdown",
   "id": "ad3ee0f8",
   "metadata": {},
   "source": [
    "<a id=\"7\"></a>\n",
    "# 7 Linked Lists\n",
    "\n",
    "<a href=\"#toc\">Table of Contents</a>"
   ]
  },
  {
   "cell_type": "markdown",
   "id": "2ba7f50e",
   "metadata": {},
   "source": [
    "<a id=\"7.1\"></a>\n",
    "## 7.1 Singly Linked Lists\n",
    "\n",
    "<a href=\"#toc\">Table of Contents</a>"
   ]
  },
  {
   "cell_type": "markdown",
   "id": "1eaf960f",
   "metadata": {},
   "source": [
    "<a id=\"7.2\"></a>\n",
    "## 7.2 Circularly Linked Lists\n",
    "\n",
    "<a href=\"#toc\">Table of Contents</a>"
   ]
  },
  {
   "cell_type": "markdown",
   "id": "d435a36a",
   "metadata": {},
   "source": [
    "<a id=\"7.3\"></a>\n",
    "## 7.3 Doubly Linked Lists\n",
    "\n",
    "<a href=\"#toc\">Table of Contents</a>"
   ]
  },
  {
   "cell_type": "markdown",
   "id": "34a11529",
   "metadata": {},
   "source": [
    "<a id=\"7.4\"></a>\n",
    "## 7.4 The Positional List ADT\n",
    "\n",
    "<a href=\"#toc\">Table of Contents</a>"
   ]
  },
  {
   "cell_type": "markdown",
   "id": "6704c86a",
   "metadata": {},
   "source": [
    "<a id=\"7.5\"></a>\n",
    "## 7.5 Sorting a Positional List\n",
    "\n",
    "<a href=\"#toc\">Table of Contents</a>"
   ]
  },
  {
   "cell_type": "markdown",
   "id": "fabe56d8",
   "metadata": {},
   "source": [
    "<a id=\"7.6\"></a>\n",
    "## 7.6 Case Study: Maintaining Access Frequencies\n",
    "\n",
    "<a href=\"#toc\">Table of Contents</a>"
   ]
  },
  {
   "cell_type": "markdown",
   "id": "eb759c46",
   "metadata": {},
   "source": [
    "<a id=\"7.7\"></a>\n",
    "## 7.7 Exercises\n",
    "\n",
    "<a href=\"#toc\">Table of Contents</a>"
   ]
  },
  {
   "cell_type": "markdown",
   "id": "5170a847",
   "metadata": {},
   "source": [
    "<a id=\"8\"></a>\n",
    "# 8 Trees\n",
    "\n",
    "<a href=\"#toc\">Table of Contents</a>"
   ]
  },
  {
   "cell_type": "markdown",
   "id": "ec7aae02",
   "metadata": {},
   "source": [
    "<a id=\"8.1\"></a>\n",
    "## 8.1 General Trees\n",
    "\n",
    "<a href=\"#toc\">Table of Contents</a>"
   ]
  },
  {
   "cell_type": "markdown",
   "id": "8399b8d9",
   "metadata": {},
   "source": [
    "<a id=\"8.2\"></a>\n",
    "## 8.2 Binary Trees\n",
    "\n",
    "<a href=\"#toc\">Table of Contents</a>"
   ]
  },
  {
   "cell_type": "markdown",
   "id": "7f25c3b1",
   "metadata": {},
   "source": [
    "<a id=\"8.3\"></a>\n",
    "## 8.3 Implementing Trees\n",
    "\n",
    "<a href=\"#toc\">Table of Contents</a>"
   ]
  },
  {
   "cell_type": "markdown",
   "id": "3257bdf1",
   "metadata": {},
   "source": [
    "<a id=\"8.4\"></a>\n",
    "## 8.4 Tree Traversal Algorithms\n",
    "\n",
    "<a href=\"#toc\">Table of Contents</a>"
   ]
  },
  {
   "cell_type": "markdown",
   "id": "97d14a16",
   "metadata": {},
   "source": [
    "<a id=\"8.5\"></a>\n",
    "## 8.5 Case Study: An Expression Tree\n",
    "\n",
    "<a href=\"#toc\">Table of Contents</a>"
   ]
  },
  {
   "cell_type": "markdown",
   "id": "a3b58dc2",
   "metadata": {},
   "source": [
    "<a id=\"8.6\"></a>\n",
    "## 8.6 Exercises\n",
    "\n",
    "<a href=\"#toc\">Table of Contents</a>"
   ]
  },
  {
   "cell_type": "markdown",
   "id": "ea9ca2ca",
   "metadata": {},
   "source": [
    "<a id=\"9\"></a>\n",
    "# 9 Priority Queues\n",
    "\n",
    "<a href=\"#toc\">Table of Contents</a>"
   ]
  },
  {
   "cell_type": "markdown",
   "id": "5b228a9a",
   "metadata": {},
   "source": [
    "<a id=\"9.1\"></a>\n",
    "## 9.1 The Priority Queue Abstract Data Type\n",
    "\n",
    "<a href=\"#toc\">Table of Contents</a>"
   ]
  },
  {
   "cell_type": "markdown",
   "id": "07fd7297",
   "metadata": {},
   "source": [
    "<a id=\"9.2\"></a>\n",
    "## 9.2 Implementing a Priority Queue\n",
    "\n",
    "<a href=\"#toc\">Table of Contents</a>"
   ]
  },
  {
   "cell_type": "markdown",
   "id": "a41325b2",
   "metadata": {},
   "source": [
    "<a id=\"9.3\"></a>\n",
    "## 9.3 Heaps\n",
    "\n",
    "<a href=\"#toc\">Table of Contents</a>"
   ]
  },
  {
   "cell_type": "markdown",
   "id": "0a8ec5fc",
   "metadata": {},
   "source": [
    "<a id=\"9.4\"></a>\n",
    "## 9.4 Sorting with a Priority Queue\n",
    "\n",
    "<a href=\"#toc\">Table of Contents</a>"
   ]
  },
  {
   "cell_type": "markdown",
   "id": "3471d044",
   "metadata": {},
   "source": [
    "<a id=\"9.5\"></a>\n",
    "## 9.5 Adaptable Priority Queues\n",
    "\n",
    "<a href=\"#toc\">Table of Contents</a>"
   ]
  },
  {
   "cell_type": "markdown",
   "id": "870c8775",
   "metadata": {},
   "source": [
    "<a id=\"9.6\"></a>\n",
    "## 9.6 Exercises\n",
    "\n",
    "<a href=\"#toc\">Table of Contents</a>"
   ]
  },
  {
   "cell_type": "markdown",
   "id": "632d624b",
   "metadata": {},
   "source": [
    "<a id=\"10\"></a>\n",
    "# 10 Maps, Hash Tables, and Skip Lists\n",
    "\n",
    "<a href=\"#toc\">Table of Contents</a>"
   ]
  },
  {
   "cell_type": "markdown",
   "id": "f998ac99",
   "metadata": {},
   "source": [
    "<a id=\"10.1\"></a>\n",
    "## 10.1 Maps and Dictionaries\n",
    "\n",
    "<a href=\"#toc\">Table of Contents</a>"
   ]
  },
  {
   "cell_type": "markdown",
   "id": "85f4bb96",
   "metadata": {},
   "source": [
    "<a id=\"10.2\"></a>\n",
    "## 10.2 Hash Tables\n",
    "\n",
    "<a href=\"#toc\">Table of Contents</a>"
   ]
  },
  {
   "cell_type": "markdown",
   "id": "115d233c",
   "metadata": {},
   "source": [
    "<a id=\"10.3\"></a>\n",
    "## 10.3 Sorted Maps\n",
    "\n",
    "<a href=\"#toc\">Table of Contents</a>"
   ]
  },
  {
   "cell_type": "markdown",
   "id": "43eebbae",
   "metadata": {},
   "source": [
    "<a id=\"10.4\"></a>\n",
    "## 10.4 Skip Lists\n",
    "\n",
    "<a href=\"#toc\">Table of Contents</a>"
   ]
  },
  {
   "cell_type": "markdown",
   "id": "0eac6807",
   "metadata": {},
   "source": [
    "<a id=\"10.5\"></a>\n",
    "## 10.5 Sets, Multisets, and Multimaps\n",
    "\n",
    "<a href=\"#toc\">Table of Contents</a>"
   ]
  },
  {
   "cell_type": "markdown",
   "id": "dc47762c",
   "metadata": {},
   "source": [
    "<a id=\"10.6\"></a>\n",
    "## 10.6 Exercises\n",
    "\n",
    "<a href=\"#toc\">Table of Contents</a>"
   ]
  },
  {
   "cell_type": "markdown",
   "id": "55cd0042",
   "metadata": {},
   "source": [
    "<a id=\"11\"></a>\n",
    "# 11 Search Trees\n",
    "\n",
    "<a href=\"#toc\">Table of Contents</a>"
   ]
  },
  {
   "cell_type": "markdown",
   "id": "95d549d6",
   "metadata": {},
   "source": [
    "<a id=\"11.1\"></a>\n",
    "## 11.1 Binary Search Trees\n",
    "\n",
    "<a href=\"#toc\">Table of Contents</a>"
   ]
  },
  {
   "cell_type": "markdown",
   "id": "063569a2",
   "metadata": {},
   "source": [
    "<a id=\"11.2\"></a>\n",
    "## 11.2 AVL Trees\n",
    "\n",
    "<a href=\"#toc\">Table of Contents</a>"
   ]
  },
  {
   "cell_type": "markdown",
   "id": "203bcf4c",
   "metadata": {},
   "source": [
    "<a id=\"11.3\"></a>\n",
    "## 11.3 Splay Trees\n",
    "\n",
    "<a href=\"#toc\">Table of Contents</a>"
   ]
  },
  {
   "cell_type": "markdown",
   "id": "10fd6191",
   "metadata": {},
   "source": [
    "<a id=\"11.4\"></a>\n",
    "## 11.4 (2,4) Trees\n",
    "\n",
    "<a href=\"#toc\">Table of Contents</a>"
   ]
  },
  {
   "cell_type": "markdown",
   "id": "1c9baded",
   "metadata": {},
   "source": [
    "<a id=\"11.5\"></a>\n",
    "## 11.5 Red-Black Trees\n",
    "\n",
    "<a href=\"#toc\">Table of Contents</a>"
   ]
  },
  {
   "cell_type": "markdown",
   "id": "1c792e32",
   "metadata": {},
   "source": [
    "<a id=\"11.6\"></a>\n",
    "## 11.6 Exercises\n",
    "\n",
    "<a href=\"#toc\">Table of Contents</a>"
   ]
  },
  {
   "cell_type": "markdown",
   "id": "1d0004e2",
   "metadata": {},
   "source": [
    "<a id=\"12\"></a>\n",
    "# 12 Sorting and Selection\n",
    "\n",
    "<a href=\"#toc\">Table of Contents</a>"
   ]
  },
  {
   "cell_type": "markdown",
   "id": "97e70717",
   "metadata": {},
   "source": [
    "<a id=\"12.1\"></a>\n",
    "## 12.1 Why Study Sorting Algorithms?\n",
    "\n",
    "<a href=\"#toc\">Table of Contents</a>"
   ]
  },
  {
   "cell_type": "markdown",
   "id": "e683817e",
   "metadata": {},
   "source": [
    "<a id=\"12.2\"></a>\n",
    "## 12.2 Merge Sort\n",
    "\n",
    "<a href=\"#toc\">Table of Contents</a>"
   ]
  },
  {
   "cell_type": "markdown",
   "id": "6555fba5",
   "metadata": {},
   "source": [
    "<a id=\"12.3\"></a>\n",
    "## 12.3 Quick Sort\n",
    "\n",
    "<a href=\"#toc\">Table of Contents</a>"
   ]
  },
  {
   "cell_type": "markdown",
   "id": "d68f6e89",
   "metadata": {},
   "source": [
    "<a id=\"12.4\"></a>\n",
    "## 12.4 Studying Sorting through an Algorithmic Lens\n",
    "\n",
    "<a href=\"#toc\">Table of Contents</a>"
   ]
  },
  {
   "cell_type": "markdown",
   "id": "208d8c84",
   "metadata": {},
   "source": [
    "<a id=\"12.5\"></a>\n",
    "## 12.5 Comparing Sorting Algorithms\n",
    "\n",
    "<a href=\"#toc\">Table of Contents</a>"
   ]
  },
  {
   "cell_type": "markdown",
   "id": "50e9aa21",
   "metadata": {},
   "source": [
    "<a id=\"12.6\"></a>\n",
    "## 12.6 Python's Built-In Sorting Functions\n",
    "\n",
    "<a href=\"#toc\">Table of Contents</a>"
   ]
  },
  {
   "cell_type": "markdown",
   "id": "fcb41733",
   "metadata": {},
   "source": [
    "<a id=\"12.7\"></a>\n",
    "## 12.7 Selection\n",
    "\n",
    "<a href=\"#toc\">Table of Contents</a>"
   ]
  },
  {
   "cell_type": "markdown",
   "id": "a795fc6d",
   "metadata": {},
   "source": [
    "<a id=\"12.8\"></a>\n",
    "## 12.8 Exercises\n",
    "\n",
    "<a href=\"#toc\">Table of Contents</a>"
   ]
  },
  {
   "cell_type": "markdown",
   "id": "7981b7e8",
   "metadata": {},
   "source": [
    "<a id=\"13\"></a>\n",
    "# 13 Text Processing\n",
    "\n",
    "<a href=\"#toc\">Table of Contents</a>"
   ]
  },
  {
   "cell_type": "markdown",
   "id": "3497a29e",
   "metadata": {},
   "source": [
    "<a id=\"13.1\"></a>\n",
    "## 13.1 Abundance of Digitized Text\n",
    "\n",
    "<a href=\"#toc\">Table of Contents</a>"
   ]
  },
  {
   "cell_type": "markdown",
   "id": "466d7817",
   "metadata": {},
   "source": [
    "<a id=\"13.2\"></a>\n",
    "## 13.2 Pattern-Matching Algorithms\n",
    "\n",
    "<a href=\"#toc\">Table of Contents</a>"
   ]
  },
  {
   "cell_type": "markdown",
   "id": "53ee7808",
   "metadata": {},
   "source": [
    "<a id=\"13.3\"></a>\n",
    "## 13.3 Dynamic Programming\n",
    "\n",
    "<a href=\"#toc\">Table of Contents</a>"
   ]
  },
  {
   "cell_type": "markdown",
   "id": "5d06a4e5",
   "metadata": {},
   "source": [
    "<a id=\"13.4\"></a>\n",
    "## 13.4 Text Compression and the Greedy Method\n",
    "\n",
    "<a href=\"#toc\">Table of Contents</a>"
   ]
  },
  {
   "cell_type": "markdown",
   "id": "27603412",
   "metadata": {},
   "source": [
    "<a id=\"13.5\"></a>\n",
    "## 13.5 Tries\n",
    "\n",
    "<a href=\"#toc\">Table of Contents</a>"
   ]
  },
  {
   "cell_type": "markdown",
   "id": "5ffb729b",
   "metadata": {},
   "source": [
    "<a id=\"13.6\"></a>\n",
    "## 13.6 Exercises\n",
    "\n",
    "<a href=\"#toc\">Table of Contents</a>"
   ]
  },
  {
   "cell_type": "markdown",
   "id": "be7ec6a8",
   "metadata": {},
   "source": [
    "<a id=\"14\"></a>\n",
    "# 14 Graph Algorithms\n",
    "\n",
    "<a href=\"#toc\">Table of Contents</a>"
   ]
  },
  {
   "cell_type": "markdown",
   "id": "a370ae6a",
   "metadata": {},
   "source": [
    "<a id=\"14.1\"></a>\n",
    "## 14.1 Graphs\n",
    "\n",
    "<a href=\"#toc\">Table of Contents</a>"
   ]
  },
  {
   "cell_type": "markdown",
   "id": "f9c1415d",
   "metadata": {},
   "source": [
    "<a id=\"14.2\"></a>\n",
    "## 14.2 Data Structures for Graphs\n",
    "\n",
    "<a href=\"#toc\">Table of Contents</a>"
   ]
  },
  {
   "cell_type": "markdown",
   "id": "16479dec",
   "metadata": {},
   "source": [
    "<a id=\"14.3\"></a>\n",
    "## 14.3 Graph Traversals\n",
    "\n",
    "<a href=\"#toc\">Table of Contents</a>"
   ]
  },
  {
   "cell_type": "markdown",
   "id": "d5f1ed09",
   "metadata": {},
   "source": [
    "<a id=\"14.4\"></a>\n",
    "## 14.4 Transitive Closure\n",
    "\n",
    "<a href=\"#toc\">Table of Contents</a>"
   ]
  },
  {
   "cell_type": "markdown",
   "id": "fa272df7",
   "metadata": {},
   "source": [
    "<a id=\"14.5\"></a>\n",
    "## 14.5 Directed Acyclic Graphs\n",
    "\n",
    "<a href=\"#toc\">Table of Contents</a>"
   ]
  },
  {
   "cell_type": "markdown",
   "id": "8aa12b4f",
   "metadata": {},
   "source": [
    "<a id=\"14.6\"></a>\n",
    "## 14.6 Shortest Paths\n",
    "\n",
    "<a href=\"#toc\">Table of Contents</a>"
   ]
  },
  {
   "cell_type": "markdown",
   "id": "2dfe40f0",
   "metadata": {},
   "source": [
    "<a id=\"14.7\"></a>\n",
    "## 14.7 Minimum Spanning Trees\n",
    "\n",
    "<a href=\"#toc\">Table of Contents</a>"
   ]
  },
  {
   "cell_type": "markdown",
   "id": "d60c56c0",
   "metadata": {},
   "source": [
    "<a id=\"14.8\"></a>\n",
    "## 14.8 Exercises\n",
    "\n",
    "<a href=\"#toc\">Table of Contents</a>"
   ]
  },
  {
   "cell_type": "markdown",
   "id": "63a9f14a",
   "metadata": {},
   "source": [
    "<a id=\"15\"></a>\n",
    "\n",
    "# 15 Memory Management and B-Trees\n",
    "\n",
    "<a href=\"#toc\">Table of Contents</a>"
   ]
  },
  {
   "cell_type": "markdown",
   "id": "5b7f97fa",
   "metadata": {},
   "source": [
    "<a id=\"15.1\"></a>\n",
    "## 15.1 Memory Management\n",
    "\n",
    "<a href=\"#toc\">Table of Contents</a>"
   ]
  },
  {
   "cell_type": "markdown",
   "id": "f431c1d5",
   "metadata": {},
   "source": [
    "<a id=\"15.2\"></a>\n",
    "## 15.2 Memory Hierachies and Caching\n",
    "\n",
    "<a href=\"#toc\">Table of Contents</a>"
   ]
  },
  {
   "cell_type": "markdown",
   "id": "5faaf0b3",
   "metadata": {},
   "source": [
    "<a id=\"15.3\"></a>\n",
    "## 15.3 External Searching and B-Trees\n",
    "\n",
    "<a href=\"#toc\">Table of Contents</a>"
   ]
  },
  {
   "cell_type": "markdown",
   "id": "3c096f11",
   "metadata": {},
   "source": [
    "<a id=\"15.4\"></a>\n",
    "## 15.4 External-Memory Sorting\n",
    "\n",
    "<a href=\"#toc\">Table of Contents</a>"
   ]
  },
  {
   "cell_type": "markdown",
   "id": "7b1df9c0",
   "metadata": {},
   "source": [
    "<a id=\"15.5\"></a>\n",
    "## 15.5 Exercises\n",
    "\n",
    "<a href=\"#toc\">Table of Contents</a>"
   ]
  }
 ],
 "metadata": {
  "interpreter": {
   "hash": "916dbcbb3f70747c44a77c7bcd40155683ae19c65e1c03b4aa3499c5328201f1"
  },
  "kernelspec": {
   "display_name": "Python 3 (ipykernel)",
   "language": "python",
   "name": "python3"
  },
  "language_info": {
   "codemirror_mode": {
    "name": "ipython",
    "version": 3
   },
   "file_extension": ".py",
   "mimetype": "text/x-python",
   "name": "python",
   "nbconvert_exporter": "python",
   "pygments_lexer": "ipython3",
   "version": "3.10.4"
  }
 },
 "nbformat": 4,
 "nbformat_minor": 5
}
